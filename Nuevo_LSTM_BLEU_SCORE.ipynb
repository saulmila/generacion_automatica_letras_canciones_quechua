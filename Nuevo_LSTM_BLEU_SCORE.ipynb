{
  "nbformat": 4,
  "nbformat_minor": 0,
  "metadata": {
    "colab": {
      "provenance": []
    },
    "kernelspec": {
      "name": "python3",
      "display_name": "Python 3"
    },
    "language_info": {
      "name": "python"
    }
  },
  "cells": [
    {
      "cell_type": "code",
      "execution_count": null,
      "metadata": {
        "colab": {
          "base_uri": "https://localhost:8080/"
        },
        "id": "P7BNSU4l4uqO",
        "outputId": "e2fbcd4a-caf4-46af-944f-99d1b35f0152"
      },
      "outputs": [
        {
          "output_type": "stream",
          "name": "stdout",
          "text": [
            "Mounted at /content/drive\n"
          ]
        }
      ],
      "source": [
        "# primero vamos a conectar google drive(mi cuenta gmail) con colab\n",
        "\n",
        "# conexion de colab con google drive\n",
        "from google.colab import drive\n",
        "\n",
        "# montar el driver de accesso\n",
        "drive.mount('/content/drive')"
      ]
    },
    {
      "cell_type": "code",
      "source": [
        "# mostrar el contenido de mi carpeta data\n",
        "# para ud. !ls \"/content/drive/My Drive/data/\"\n",
        "\n",
        "# para : saul\n",
        "!ls \"/content/drive/My Drive/data/\""
      ],
      "metadata": {
        "colab": {
          "base_uri": "https://localhost:8080/"
        },
        "id": "DnU6rPxP5xXF",
        "outputId": "d8b88a89-33c9-442f-d863-0595f870ec0a"
      },
      "execution_count": null,
      "outputs": [
        {
          "output_type": "stream",
          "name": "stdout",
          "text": [
            " archivo.csv\t       LISTA_02_W.txt\n",
            " corpus_banda.txt      MusicLyrics_data\n",
            " data_collection.txt   new_dataset.txt\n",
            " data_q.txt\t      'Saul - Canciones Quechua1.gdoc'\n",
            " DataSet_quechua.txt  'Saul - Canciones Quechua.txt'\n",
            " example10.txt\t       vocabulario.txt\n",
            " example15.txt\t       vocabularyFrecuencia10.txt\n",
            " example1.txt\t       vocabularyFrecuencia15.txt\n",
            " example3.txt\t       vocabularyFrecuencia1.txt\n",
            " example5.txt\t       vocabularyFrecuencia3.txt\n",
            " example.txt\t       vocabularyFrecuencia5.txt\n",
            " LISTA_01_W.txt        vocabulary_txt.txt\n"
          ]
        }
      ]
    },
    {
      "cell_type": "code",
      "source": [
        "# verificar la direccion del archivo de acceso a la data\n",
        "# !ls \"/content/drive/My Drive/data/MusicLyrics_data/data_q.txt\"\n",
        "!ls \"/content/drive/My Drive/data/new_dataset.txt\""
      ],
      "metadata": {
        "colab": {
          "base_uri": "https://localhost:8080/"
        },
        "id": "6xKVIERu58PM",
        "outputId": "69b2411c-3be1-40e4-8906-00b8d264ed74"
      },
      "execution_count": null,
      "outputs": [
        {
          "output_type": "stream",
          "name": "stdout",
          "text": [
            "'/content/drive/My Drive/data/new_dataset.txt'\n"
          ]
        }
      ]
    },
    {
      "cell_type": "code",
      "source": [
        "import io\n",
        "\n",
        "corpus = \"/content/drive/My Drive/data/new_dataset.txt\"\n",
        "\n",
        "print(corpus)\n",
        "\n",
        "with io.open(corpus, encoding='utf-8') as f:\n",
        "  text = f.read().lower().replace('\\n', ' \\n ')\n",
        "\n",
        "print('Corpus length in characters:', len(text))"
      ],
      "metadata": {
        "colab": {
          "base_uri": "https://localhost:8080/"
        },
        "id": "eK3rMbf86Gm8",
        "outputId": "fe2bf9a4-61dd-4711-a38a-44ea6383ad10"
      },
      "execution_count": null,
      "outputs": [
        {
          "output_type": "stream",
          "name": "stdout",
          "text": [
            "/content/drive/My Drive/data/new_dataset.txt\n",
            "Corpus length in characters: 404354\n"
          ]
        }
      ]
    },
    {
      "cell_type": "code",
      "source": [
        "# recolectar palabras del conjunto de caracteres//tokenización\n",
        "text_in_words = [w for w in text.split(' ') if w.strip() != '' or w == '\\n']\n",
        "print('Corpus length in words:', len(text_in_words))\n",
        "print('palabras ejemplo:', text_in_words[:10])"
      ],
      "metadata": {
        "colab": {
          "base_uri": "https://localhost:8080/"
        },
        "id": "VIu-Ywc-6O20",
        "outputId": "8d291cbe-8f94-47fe-a16f-794919edca22"
      },
      "execution_count": null,
      "outputs": [
        {
          "output_type": "stream",
          "name": "stdout",
          "text": [
            "Corpus length in words: 50442\n",
            "palabras ejemplo: ['chaki', 'señor', 'diosman', '\\n', 'llapallanchis', 'yupaychasun', '\\n', 'señor', 'diosninchista', '\\n']\n"
          ]
        }
      ]
    },
    {
      "cell_type": "code",
      "source": [
        "# vamos a definir la frecuencia minima de palabras\n",
        "MIN_WORD_FREQUENCY = 3\n",
        "\n",
        "# Calculamos la frecuencia\n",
        "word_freq = {} # creamos lista de frecuencias # par (clave, valor)--> (diospa:4, chuya:1, simin:0...)\n",
        "\n",
        "for word in text_in_words:\n",
        "  word_freq[word] = word_freq.get(word, 0) + 1\n",
        "\n",
        "#print(word_freq)\n",
        "\n",
        "# conjunto de palabras ignoradas\n",
        "ignored_words = set() # A= {1,2,3,4,4,4,4}, b={} , union,intersection, -\n",
        "\n",
        "for k, v in word_freq.items():\n",
        "  if word_freq[k] < MIN_WORD_FREQUENCY:\n",
        "    ignored_words.add(k)\n",
        "\n",
        "words = set(text_in_words)\n",
        "print('Palabras unicas antes de ignonar:', len(words))\n",
        "print('Ignorar palabras con frecuencia <', MIN_WORD_FREQUENCY)\n",
        "words = sorted(set(words) - ignored_words) # diferencia conjuntos\n",
        "# words es VOCABULARY\n",
        "print('(vocabulary)palabras despues de ignorar:', len(words))"
      ],
      "metadata": {
        "colab": {
          "base_uri": "https://localhost:8080/"
        },
        "id": "dXhD4aF-6VuG",
        "outputId": "d4e75a85-7694-40e0-ac91-efa2fd9a3842"
      },
      "execution_count": null,
      "outputs": [
        {
          "output_type": "stream",
          "name": "stdout",
          "text": [
            "Palabras unicas antes de ignonar: 13188\n",
            "Ignorar palabras con frecuencia < 3\n",
            "(vocabulary)palabras despues de ignorar: 2261\n"
          ]
        }
      ]
    },
    {
      "cell_type": "code",
      "source": [
        "import codecs\n",
        "\n",
        "# guardar vocabulario de palabras sin repetir\n",
        "VOCABULARY = '/content/drive/My Drive/data/vocabulary_txt.txt'\n",
        "\n",
        "# funcion save vocabulary\n",
        "# funcion para guardar vocabulario\n",
        "def print_vocabulary(words_file_path, words_set):\n",
        "  words_file = codecs.open(words_file_path, 'w', encoding='utf8')\n",
        "  for w in words_set:\n",
        "    if w != \"\\n\":\n",
        "      words_file.write(w+\"\\n\")\n",
        "    else:\n",
        "      words_file.write(w)\n",
        "  words_file.close()\n",
        "\n",
        "# instance guardar vocabulary\n",
        "print_vocabulary(VOCABULARY, words)\n",
        "\n",
        "word_indices = dict((c, i) for i, c in enumerate(words)) #(jesusta,nispa, casun)--> (jesusta:13132,nispa:2456, casun:3)buscar por palabra\n",
        "indices_word = dict((i, c) for i, c in enumerate(words)) #(jesusta,nispa, casun)--> (1:jesusta,2:nispa, 3:casun)buscar por indice"
      ],
      "metadata": {
        "id": "tHTJlCR-6cHr"
      },
      "execution_count": null,
      "outputs": []
    },
    {
      "cell_type": "code",
      "source": [
        "word_pair_ordered = dict(sorted(word_freq.items(), key=lambda item: item[1],reverse=True))\n",
        "print(len(word_pair_ordered))\n",
        "print(word_pair_ordered)\n",
        "# print(list(word_pair_ordered)[13180:])"
      ],
      "metadata": {
        "colab": {
          "base_uri": "https://localhost:8080/"
        },
        "id": "p1-iHMC-6g6I",
        "outputId": "7facfb82-43d2-417b-abf8-0bfd17b4e8b0"
      },
      "execution_count": null,
      "outputs": [
        {
          "output_type": "stream",
          "name": "stdout",
          "text": [
            "13188\n",
            "{'\\n': 15195, 'kay': 445, 'señor': 327, 'tukuy': 326, 'diospa': 291, 'mana': 284, 'sumaq': 252, 'dios': 234, 'diosnillay': 176, 'wiñay': 170, 'hanaq': 168, 'pachapi': 167, 'diosta': 162, 'cristo': 136, 'manan': 135, 'kanki': 134, 'pacha': 130, 'runa': 129, 'diosniy': 126, 'hina': 124, 'yupaychasun': 122, 'chaymi': 122, 'ama': 112, 'kashan': 107, 'kawsay': 107, 'jesús': 101, \"p'unchay\": 100, \"ch'uya\": 100, 'hatun': 100, 'allin': 98, 'munakuq': 92, 'llapa': 89, 'wiñaypaq': 85, 'diosqa': 83, 'llapan': 80, 'ima': 75, 'cheqaq': 73, 'diosmi': 68, 'hucha': 68, 'kachun': 68, 'jesus': 66, 'ancha': 65, 'chay': 64, 'lliw': 63, 'jesucristo': 63, 'santo': 61, 'sapa': 60, 'huk': 60, 'aswan': 59, 'sonqo': 58, 'qan': 58, 'kunan': 58, 'waqay': 56, 'paymi': 56, 'taytallay': 55, 'gracias': 54, 'diosman': 51, 'hamuy': 51, 'nispa': 49, 'ñoqa': 49, 'diosninchista': 48, 'kaypi': 48, 'paywan': 47, 'kanqa': 47, 'pay': 46, 'jesusta': 46, 'mosoq': 46, 'iñiq': 46, 'jesuspa': 46, 'jesusmi': 45, 'millay': 45, 'chuya': 45, 'jesusqa': 44, 'kusisqa': 44, 'atiyniyoq': 44, 'huchapi': 44, 'paypi': 42, 'kawsayta': 42, 'kuska': 42, 'jesuslláy': 42, 'diosnilláy': 42, 'qanmi': 41, 'kawsaq': 41, 'jesusllay': 41, 'tayta': 40, 'kani': 40, 'jesusman': 40, 'pachata': 39, 'qanman': 39, 'payqa': 39, 'inti': 38, 'pipas': 38, 'huchallapi': 38, 'qespichiq': 38, 'adorasun': 38, 'pachaman': 37, 'khuyakuq': 36, 'llakiy': 36, 'manam': 36, 'tuta': 35, 'may': 35, 'kanchu': 35, 'gloria': 34, 'runata': 34, 'rayku': 33, 'cruzpi': 33, 'sumaqmi': 33, 'payta': 33, 'churin': 33, 'masiy': 32, 'wawqellay': 32, 'jesuswan': 32, 'taytay': 31, 'diosnillayku': 30, 'yupaychasaq': 30, 'qanta': 30, 'wañuy': 29, 'kusikuywan': 29, 'qhapaq': 29, 'runaq': 29, 'huchamanta': 29, 'punchaw': 29, 'hinan': 28, 'runakuna': 28, 'yanapaway': 28, 'qanpaq': 28, 'wawqe': 28, 'chanin': 27, 'llaqta': 27, 'iñiqkuna': 27, 'espíritu': 27, 'llapallan': 27, 'siminta': 27, 'churinta': 26, 'kawsaypi': 26, 'munakuywan': 26, 'yayallay': 26, 'munan': 26, 'criston': 26, 'qam': 26, 'qanwan': 25, 'diosninchis': 25, 'amapuni': 25, 'kusikuy': 25, 'yanapaykuway': 25, 'huchasapa': 25, 'masillay': 25, 'santa': 25, 'simin': 25, 'diospaq': 24, 'diosninchisqa': 24, 'ñoqaqa': 24, 'chayqa': 24, 'jesucriston': 24, 'kuyakuq': 24, 'runamasiy': 23, 'juicio': 23, 'kamaq': 23, 'diospi': 23, 'panillay': 23, 'diosnillayqa': 22, 'hamunanta': 22, 'jesusnillay': 22, 'pisi': 22, 'aleluya': 22, 'atiyninwan': 22, 'pachapiqa': 21, 'takisun': 21, 'sapan': 21, 'jesucristoq': 21, 'turay': 21, 'chaypi': 21, 'nitaq': 21, 'sinchi': 21, 'sumaqtan': 21, 'jesuspin': 21, 'rumi': 20, 'munani': 20, 'apu': 20, 'sonqowan': 20, 'maskhay': 20, 'kawsayman': 20, 'qespisqa': 20, 'payman': 20, 'kaspa': 20, 'señorlláy': 20, 'diosmanta': 19, 'yupaychasqa': 19, 'munasqay': 19, 'yawar': 19, 'usqhay': 19, 'llapanchis': 19, 'wiña-wiñaypaq': 19, 'sonqoyta': 18, 'yanapaykullaway': 18, 'sumaqta': 18, 'yupaychaspa': 18, 'paypa': 18, 'karqan': 18, '¿pitaq': 18, 'jesuspi': 18, 'il': 18, 'maypiña': 17, 'iñiqqa': 17, 'ichaqa': 17, 'qayllanpi': 17, 'diosllata': 17, 'yarqay': 17, 'ripusaq': 17, 'kawsan': 17, 'qelqan': 17, 'payllapunin': 17, 'haku': 17, 'qowayku': 17, 'espiritu': 17, 'kawsanaypaq': 17, 'cristowan': 17, 'kuyay': 17, 'evangeliota': 17, 'sonqoy': 17, 'sonqoypi': 16, 'llaqtapi': 16, 'wiñaypaqmi': 16, 'wawankuna': 16, 'yupaychallasun': 16, 'waqyasunki': 16, 'diosnillayta': 16, 'runaqa': 16, 'kanqachu': 16, 'runan': 16, 'hinaraq': 16, 'kanman': 16, 'cristopi': 16, 'jesusllaymi': 16, 'kusisqan': 16, 'kachkan': 16, 'wawqey': 16, 'alabasun': 15, 'yawarninwan': 15, \"hallp'a\": 15, 'cristoq': 15, 'ñan': 15, 'nina': 15, 'kama': 15, 'kawsayniyta': 15, 'nanay': 15, 'ñañay': 15, 'mayna': 15, 'diosnillanchista': 15, 'kawsasun': 15, 'señorllay': 15, 'kallpa': 15, 'yuraq': 15, 'usqhayta': 15, 'sonqoykita': 15, 'wañurqan': 15, 'kayman': 15, 'kusikuymi': 15, 'sonqoywan': 15, 'ñoqaq': 15, 'imaynaraq': 15, 'chiqap': 15, 'kanaypaq': 15, '-': 15, 'qespichiqniy': 15, 'llapallanchis': 14, 'llakisqa': 14, 'llaqtaman': 14, 'qanllata': 14, 'diosninchispa': 14, 'niwanchis': 14, 'hatunchasun': 14, 'qosunki': 14, 'sutinpi': 14, 'makinmanta': 14, 'dioswan': 14, \"k'anchay\": 14, 'diosnillaymi': 14, 'kaqta': 14, 'phuyu': 14, 'panay': 14, 'kusi': 14, 'payllan': 14, 'simillanta': 14, 'qespichiwan': 14, 'tiempo': 14, 'diosninchikta': 14, 'mundopi': 14, 'cielomanña': 14, 'risaq': 14, 'wiñay-wiñaypaq': 14, 'jesusníy': 14, 'killapas': 13, 'kaspapas': 13, 'diosniyta': 13, 'diosniypa': 13, 'yupaychanaypaq': 13, 'cruz': 13, 'hamunqa': 13, 'chayrayku': 13, 'askha': 13, 'yachachiway': 13, 'manchay': 13, \"t'aqallawasunman\": 13, 'kallpanchaykuway': 13, 'kamallarqan': 13, 'payllataña': 13, 'huchaymanta': 13, 'waqaypas': 13, 'mañakamuyki': 13, 'pusakullaway': 13, 'imapas': 13, 'kaq': 13, 'icha': 13, 'huchaykita': 13, 'ukhupi': 13, 'wakcha': 13, 'señorta': 13, 'qori': 13, 'espirituykiwan': 13, 'jesusnilláy': 13, 'takispa': 12, 'kawsasaq': 12, 'thak': 12, 'kayta': 12, 'qanlla': 12, 'tura': 12, 'killata': 12, 'siminqa': 12, 'takisaq': 12, 'wañurqanki': 12, 'yupaychaykiku': 12, 'willakushan': 12, 'evangelio': 12, 'wañuymanta': 12, 'qespikuy': 12, 'kananpaq': 12, 'cristota': 12, 'purisun': 12, 'kallanqa': 12, 'qanpas': 12, 'chayta': 12, 'qoway': 12, 'chiri': 12, 'servinaypaq': 12, 'kashaqtiy': 12, 'qoyki': 12, 'munakuy': 12, 'kashani': 12, 'kan': 12, 'mañana': 12, 'huchata': 12, 'wiñay-wiñay': 12, 'tarini': 12, 'ripusun': 12, 'señormi': 11, 'runakunata': 11, 'jesusniy': 11, 'llaki': 11, 'huchanchis': 11, 'diosniymi': 11, 'imaymana': 11, 'runakunan': 11, 'qampas': 11, 'killa': 11, 'kasun': 11, 'diosnillayman': 11, 'qanqa': 11, 'contra': 11, 'manaña': 11, 'jesustaqa': 11, 'kutimunqa': 11, 'pusaq': 11, 'cristoqa': 11, 'chinkasqa': 11, 'jesucristoman': 11, 'willanaypaq': 11, 'qanllan': 11, 'pusakuway': 11, 'hinaqa': 11, 'kaqpas': 11, 'kusikuyta': 11, 'yawarninta': 11, 'wawqelláy': 11, 'ñoqapaq': 11, 'kuyasqay': 11, 'qamllam': 11, 'jesusniypa': 11, 'ñuqa': 11, 'lliwman': 11, 'kuyakuywan': 11, 'almay': 11, \"t'ika\": 11, 'kasqanta': 11, 'jesusllan': 11, 'diosníy': 11, \"ch'uyan\": 11, 'yupaychanmi': 11, 'noqa': 10, 'llaqtan': 10, 'kashanki': 10, 'kawsaspa': 10, 'kanchis': 10, 'diosniyku': 10, 'wañullarqan': 10, 'jesusllayqa': 10, 'kamaqllata': 10, 'nispan': 10, 'kallachun': 10, 'cielopi': 10, 'espiritun': 10, 'señornillay': 10, 'llaqtapiqa': 10, 'angelkunawan': 10, 'kashaqtin': 10, 'qochapi': 10, 'hinallataq': 10, 'pachaqa': 10, 'infiernoman': 10, 'chaytan': 10, 'churillanta': 10, 'masiykuna': 10, 'yachayta': 10, 'yupaychamuykin': 10, 'kusisqalla': 10, 'purispa': 10, 'waqyashasunki': 10, 'qespicheq': 10, 'ñanqa': 10, 'sonqolla': 10, 'ari': 10, 'hamuni': 10, 'purinaypaq': 10, 'chaskiykuway': 10, 'cielo': 10, 'wayna': 10, 'weqe': 10, 'huchankumanta': 10, 'wasinpiqa': 10, 'kaqtan': 10, 'señorman': 10, 'kasaq': 10, 'pachapas': 9, 'imamantan': 9, 'manapunin': 9, 'qespichiqninchis': 9, 'kusisamiyoqmi': 9, 'kachamurqan': 9, 'ñanta': 9, 'diosninchisman': 9, 'patapi': 9, 'ñañallay': 9, 'runamasillay': 9, 'urpikunapas': 9, 'pampa': 9, 'diosnillanchismi': 9, 'chaypin': 9, 'khunan': 9, 'runaman': 9, 'ñawpaq': 9, 'aswanpas': 9, 'huchan': 9, 'kawsashani': 9, 'adorallasaqmi': 9, 'diosniytaqa': 9, 'kusikusun': 9, 'kawsayqa': 9, 'willakun': 9, 'sutillanta': 9, 'manapuni': 9, 'pachapin': 9, 'hinalla': 9, 'kallpanchaway': 9, 'purin': 9, 'kallpanchaykullaway': 9, 'sutillanpi': 9, 'kawsasunchis': 9, 'hatunchasaq': 9, 'alistakuy': 9, 'paqtataq': 9, 'yanapawasun': 9, 'hinata': 9, 'maypi': 9, 'atiyta': 9, 'yupaychamuyki': 9, 'waway': 9, 'iskay': 9, 'runakunaman': 9, 'huchaq': 9, 'ni': 9, 'kanaykipaq': 9, 'yupaychasqayki': 9, 'qanpin': 9, 'puriyta': 9, 'sonqollayta': 9, 'almayta': 9, 'kawsaytan': 9, 'supay': 9, 'graciastan': 9, 'cieloman': 9, 'imaynan': 9, 'qespichisqan': 9, 'amaña': 9, 'jesusniyqa': 9, 'atiynillanwan': 9, 'chakatasqa': 9, 'kamachin': 9, 'kuskalla': 9, 'man': 9, 'paniy': 9, 'hamukuy': 9, 'asuykuy': 9, 'salvo': 9, 'maskay': 9, 'wasinpi': 9, 'allinta': 9, 'qhawariy': 9, 'simiykita': 9, 'cristoman': 8, 'graciasta': 8, \"ch'askapas\": 8, 'munakusqay': 8, \"llamp'u\": 8, 'wasiman': 8, 'diosniywan': 8, 'sutinta': 8, 'sonqollaywan': 8, 'muyurispa': 8, 'kawsaymanta': 8, 'uyariy': 8, 'kamasqan': 8, 'llaqtaqa': 8, 'gloriaman': 8, 'orqokunata': 8, 'qespichiqta': 8, 'kamallarqanki': 8, 'kawsaytapas': 8, 'pampachawan': 8, 'yarqasqa': 8, 'kallpanchawan': 8, 'kawsarqani': 8, 'sonqollaytan': 8, 'servisaq': 8, 'yupaychamuykiku': 8, 'qespichiqninchisqa': 8, 'qhawarispaymi': 8, 'rikullaspaymi': 8, 'anka': 8, 'waqaylla': 8, 'kawsaynillaypi': 8, 'winay': 8, 'siminmanta': 8, 'puriq': 8, 'yana': 8, 'qomurqan': 8, 'imayna': 8, 'panallay': 8, 'munakuyniykimanta': 8, 'qowanki': 8, 'iñiypi': 8, 'qayllaykipi': 8, 'hamuqtin': 8, 'simillanmi': 8, 'kawsayniypi': 8, 'yaya': 8, 'qowanchis': 8, 'hamuqtinpas': 8, 'chunka': 8, 'qoni': 8, 'imaninkim': 8, 'rakillawanman': 8, 'runam': 8, 'chaytaqa': 8, 'willasun': 8, 'atiyniyuq': 8, 'allinqa': 8, 'llasaq': 8, 'kikin': 8, 'lliwta': 8, 'kunanqa': 8, 'qamqa': 8, 'nisqanta': 8, 'huchayta': 8, 'kusichiwan': 8, 'calvario': 8, 'señorpa': 8, 'qespichisqa': 8, 'nirqan:': 8, 'ñoqawan': 8, '\"hamuy': 8, 'kaypin': 8, 'ñoqatapas': 8, 'yawarnillanmi': 8, 'munakuywanmi': 7, 'makinpi': 7, 'hamuychis': 7, 'sapallanmi': 7, 'wasinman': 7, \"hunt'aq\": 7, 'yupaychamusqayki': 7, \"p'itarispa\": 7, 'atipaq': 7, 'israel': 7, 'munakusqan': 7, \"hayk'aqpas\": 7, 'iñiqmasillay': 7, 'puriy': 7, \"p'unchaypas\": 7, 'sinchita': 7, 'chayraq': 7, 'munakuyninwan': 7, 'cruspi': 7, 'kutimunqañan': 7, \"p'unchaypi\": 7, 'diosllanchista': 7, 'wiñaykama': 7, 'saminchasqa': 7, 'atiyniykiwan': 7, \"misk'i\": 7, 'purirqani': 7, 'huchallayta': 7, 'mañakuspa': 7, 'yupaychallasaqmi': 7, 'yayallayku': 7, 'allinmi': 7, \"sut'intan\": 7, 'orqopipas': 7, 'mama': 7, 'atiyniyoqmi': 7, 'diosmantan': 7, 'kamaqnin': 7, 'khuyakuywan': 7, 'llakiypi': 7, 'qoykullaway': 7, 'ripunaypaq': 7, 'jesusllata': 7, 'ruwarqan': 7, 'killatapas': 7, 'qespichiqniyta': 7, 'hamuwaqtinchis': 7, 'ripusunchis': 7, 'tiempollañan': 7, 'kutimunan': 7, 'wawankunata': 7, 'kutirikuy': 7, 'hinaqtinmi': 7, 'suyasun': 7, 'adoramuyki': 7, 'kawsanki': 7, 'yupaychani': 7, 'kaqtinpas': 7, 'purishanki': 7, 'waqyashan': 7, 'munasqa': 7, 'iñispan': 7, 'kaychu': 7, 'mañakuq': 7, 'yanapawayku': 7, 'sasa': 7, 'kaspan': 7, 'hinapuni': 7, 'ruwanaypaq': 7, 'ripunaykipaq': 7, 'munakuqmi': 7, 'jesusllawan': 7, 'qelqa': 7, 'kawsananpaq': 7, 'kuyakuqmi': 7, 'ruranaypaq': 7, 'runapa': 7, 'almallayqa': 7, 'yachanaypaq': 7, 'salvaqllay': 7, 'diosnillanchikta': 7, 'punchawmi': 7, 'kuyasqan': 7, 'jesusllanchik': 7, 'kanchaq': 7, 'wiña-wiñay': 7, 'kancho': 7, 'jesusmanta': 7, 'wiñaypaqña': 7, 'sipas': 7, 'munaq': 7, 'espiritum': 7, 'ñanninta': 7, 'chaywanpas': 7, 'jesucristopi': 7, 'runamasin': 7, 'willaspa': 7, 'espirituq': 7, 'kashanki?': 7, \"p'unchayqa\": 7, 'saqespa': 7, 'usqhayllata': 7, 'qayllaykuy': 7, 'jesuspunin': 7, 'kasqanpi': 7, 'kamaqlláy': 7, 'manchakuychu': 6, 'qanllapaqña': 6, 'sonqoywanmi': 6, 'sonqoyoq': 6, 'anchatapunin': 6, 'wañunanpaq': 6, 'iñispaqa': 6, 'samayta': 6, 'taytallayku': 6, 'kaman': 6, 'qonqaymanchu': 6, 'runakunaqa': 6, 'kawsanaykipaq': 6, 'sutin': 6, 'challwakunapas': 6, 'iñiqkunaqa': 6, 'cheqaqta': 6, 'qapaq': 6, 'llulla': 6, 'kananta': 6, 'qespikuyta': 6, 'diosnillaypa': 6, 'asuykamuy': 6, 'munakuyta': 6, 'munanchu': 6, 'wakin': 6, 'kinsa': 6, 'waqaychaykuway': 6, 'makinchista': 6, 'qokuq': 6, 'intita': 6, 'munay': 6, 'huchaykitan': 6, 'yupaychallasqaykin': 6, 'muchurqanki': 6, 'muchuywan': 6, 'sispamushanñan': 6, 'servikusun': 6, 'kusisqallan': 6, 'onqosqapas': 6, 'nanasqapas': 6, 'kawsakusaq': 6, 'espíritun': 6, 'señorninchis': 6, 'tutatapas': 6, 'noqanchiswanmi': 6, 'raykun': 6, 'qomuyki': 6, 'kawsamusaq': 6, 'chaypitaq': 6, 'wasita': 6, 'milagrota': 6, 'vino': 6, 'jesusninchis': 6, 'runakunaq': 6, \"ñak'arirqan\": 6, 'pilluta': 6, 'churaykurqanku': 6, 'muyuykuwan': 6, 'munasqanman': 6, 'paypaq': 6, 'wawaykikunata': 6, 'diosninchismi': 6, 'adoramuykin': 6, 'kutimuqtin': 6, 'qatikusun': 6, 'ñoqallay': 6, 'mundontin': 6, 'qoykullawayña': 6, 'wañuyman': 6, 'awqaq': 6, 'kaytapas': 6, 'diosniyqa': 6, 'sonqoykiwan': 6, 'manaraq': 6, 'chaskikuy': 6, 'pachaq': 6, 'usqhaylla': 6, 'rinki': 6, 'maytan': 6, 'nirqan': 6, 'munakuyninta': 6, 'huchawan': 6, 'atiyniykita': 6, 'simillaykiqa': 6, 'play': 6, 'qanllapunin': 6, 'kamariq': 6, 'wan': 6, 'anchatan': 6, \"sach'apas\": 6, 'kawsakuspa': 6, 'unu': 6, \"k'anchaypi\": 6, 'qanwanmi': 6, 'waqaychawan': 6, 'pitaq': 6, 'khuyakuqmi': 6, 'munasqanta': 6, 'kunanmi': 6, 'saqraq': 6, 'lamar': 6, 'yachaspa': 6, 'runataqa': 6, 'kaypiqa': 6, 'qhepaman': 6, 'pachamanta': 6, 'chayllapuni': 6, 'sonqullayta': 6, 'waqaychaykullaway': 6, 'pusakuwasun': 6, 'ninki': 6, 'kasunchik': 6, 'simillaykiwanmi': 6, 'cristopa': 6, 'purisaq': 6, 'alton': 6, 'sonqullayman': 6, 'huknin': 6, 'yupaychallasunchik': 6, 'qamtam': 6, 'espirituykita': 6, 'hamuchkan': 6, 'runarayku': 6, 'jesucristom': 6, 'cielomanta': 6, 'salvaqnillay': 6, 'haykam': 6, 'hamullanqa': 6, 'qamllapuni': 6, 'willasaq': 6, 'i': 6, 'hinam': 6, 'para': 6, 'yapaykuway': 6, 'wasipipas': 6, 'huktawan': 6, 'gloriapi': 6, 'jesucristoqa': 6, 'kawsakunaypaq': 6, 'huchanmanta': 6, 'huklla': 6, 'huktawanmi': 6, 'huchallaykita': 6, 'kawsachikuway': 6, 'kawsaypas': 6, 'qespikunanpaq': 6, 'paytaq': 6, 'kaqtin': 6, 'huchaykunata': 6, 'kunanpas': 6, 'kawsaymi': 6, '¿imataq': 6, 'muchuy': 6, 'manataq': 6, 'munakuspa': 6, 'munasqaykipaq': 6, 'huchayoq': 6, 'iñinin': 6, 'mosoqmanta': 6, 'qespichiqman': 6, 'ruwaq': 6, 'iskayaspa': 6, 'tiyakuq': 6, 'campo': 6, 'ñoqan': 6, 'jesusniywan': 6, 'amigoqa': 6, 'munakuyki': 6, 'kallpachakusun': 6, 'qespichisunki': 6, 'espiritunpa': 6, 'kasqanpin': 6, 'khuyaqlláy': 6, 'yuyariyku': 6, 'qanwanpuni': 6, 'suyana': 6, 'asuykusun': 5, 'sonqonchiswan': 5, 'yupaychaykin': 5, 'sonqoymanta': 5, 'diosninchiswan': 5, \"q'ochukuy\": 5, \"ñak'ariy\": 5, 'rikunqaku': 5, 'jesusninchista': 5, 'imaynataq': 5, 'ripunapaq': 5, 'turallay': 5, 'paykunan': 5, 'pachantin': 5, 'huchachasqa': 5, 'atipayta': 5, 'takipusun': 5, 'kallpanchawayku': 5, 'kasqan': 5, 'sutiyki': 5, 'haqay': 5, 'jesusllaman': 5, 'huchallaykitan': 5, 'pampachasunki': 5, 'adorallasun': 5, 'llaqtakuna': 5, 'pillapas': 5, 'qayllampi': 5, 'wañuspa': 5, 'yanqa': 5, 'yupaychasunchis': 5, 'kamachinkuna': 5, 'simiykin': 5, 'qellqayki': 5, 'chaymanmi': 5, 'uyarikuy': 5, 'yupaychayki': 5, \"t'anta\": 5, 'almaypaq': 5, \"ch'akisqa\": 5, 'qespichiqpa': 5, 'tutayaqpi': 5, 'munakuyninmanta': 5, \"k'amisqapas\": 5, 'intitapas': 5, 'qampa': 5, 'kamasqaykimanta': 5, 'sutillampi': 5, 'ñañaykuna': 5, 'jesusllanchista': 5, 'pampakunata': 5, 'hawa': 5, 'manañan': 5, 'pantay': 5, 'ñawsa': 5, 'llakipipas': 5, 'awqay': 5, 'llaqtakunapas': 5, 'llakiylla': 5, 'sonqollaypi': 5, 'días': 5, 'llapanchiswan': 5, 'qonqasunchu': 5, 'mañakamuykin': 5, 'kashaspanchis': 5, 'diosnillanchis': 5, 'qanpa': 5, 'qanllapuni': 5, 'alma': 5, 'cruzpin': 5, 'kasukuq': 5, 'kashanku': 5, 'simillaykimanta': 5, 'manchakuy': 5, 'yuyayman': 5, 'intipas': 5, 'angelkunaq': 5, 'kamarqanki': 5, 'munakuykin': 5, 'yuyarisun': 5, 'suyasunchis': 5, 'kawsakusun': 5, 'hiña': 5, 'señorqa': 5, 'siminpiqa': 5, 'huq': 5, 'puririsun': 5, 'yanapawan': 5, 'qayllanman': 5, 'qanllatapuni': 5, 'simillaykita': 5, 'kusikuytapas': 5, 'ninmi': 5, 'hamurqan': 5, 'huchallapin': 5, 'purinki': 5, 'kawsayniyoq': 5, 'wawan': 5, 'kunanpuni': 5, 'pakaway': 5, 'chaypas': 5, 'uyariq': 5, 'munayninman': 5, 'qantan': 5, 'chaskiykullaway': 5, 'hamuyku': 5, 'munayniyki': 5, 'kawsakuyta': 5, 'espirituyki': 5, 'apamullayki': 5, 'qollayki': 5, 'totally': 5, 'purisunchis': 5, 'payllaman': 5, 'llapanta': 5, 'tukuypas': 5, 'nillawaspan': 5, 'jesusnillayqa': 5, 'yachanin': 5, 'qespichikuq': 5, 'munaynin': 5, 'warmi': 5, 'pimantaq': 5, 'maymantaq': 5, 'qoykuway': 5, 'a': 5, 'kallani': 5, 'jesusniyman': 5, 'churillaykim': 5, 'salvaykullawanki': 5, 'almallayta': 5, 'purini': 5, 'yuyariy': 5, 'huchallapim': 5, 'salvaykusunkim': 5, 'kanda': 5, 'el': 5, 'mundo': 5, 'qatikuy': 5, 'rikchaq': 5, 'sonquywan': 5, 'diosninchikpa': 5, 'kuyakuqniy': 5, 'pampachaykullaway': 5, 'adoranaypaq': 5, 'hinataq': 5, 'pusaway': 5, 'willakuy': 5, 'qamta': 5, 'qamlla': 5, 'diosninchikqa': 5, 'señorpaq': 5, 'simillayki': 5, 'qoykiku': 5, 'imaynam': 5, 'salvakuq': 5, 'sonquykita': 5, 'señorninchik': 5, 'jesusllapi': 5, 'purichkanki': 5, 'pusawasun': 5, 'kamachikuq': 5, 'chayllam': 5, 'diosninchikman': 5, 'lliwmi': 5, 'hawka': 5, 'iñispa': 5, 'jesusnillayku': 5, 'iñiqkunata': 5, 'payllata': 5, 'qoqniytaqa': 5, 'qayasunki': 5, 'kanmi': 5, 'orqo': 5, \"p'unchaypiqa\": 5, 'kaqchu': 5, \"p'unchaymi\": 5, 'wawankunataqa:': 5, 'kutispa': 5, 'rikuspa': 5, 'hinatan': 5, '\"ama': 5, 'yanqan': 5, '¿maytan': 5, 'maypipas': 5, 'qelqaqa': 5, 'ñawpaqenpi': 5, 'sonqon': 5, 'rishanki': 5, 'suyakushayki': 5, 'kanmanchu': 5, 'purishani': 5, 'hamuqtinmi': 5, 'urpipas': 5, 'yupaychay': 5, 'yayaq': 5, 'qanpi': 5, 'yupaychanin': 5, 'perú': 5, 'kallpachawan': 5, 'sonqoypin': 5, 'haykuykamuy': 5, 'huchallaytan': 5, 'qespichiqnilláy': 5, 'yupaychayta': 5, 'qespichinanpaq': 5, 'qhaway': 5, 'kaqtinqa': 5, 'hoqariwasunmi': 5, 'willamusaq': 5, 'ñoqapas': 5, 'sonqollaymi': 5, 'aswan-aswan': 5, 'qespiqlláy': 5, 'yayalláy': 5, 'kamaqnilláy': 5, 'willarinaypaq': 5, 'sumaq-sumaq': 5, 'hamurqanki': 5, \"ñak'ariypas\": 5, \"rikch'aq\": 5, 'daniel': 5, 'munakuqniy': 5, 'yayáy': 5, 'qespichiqniyqa': 4, 'noqawan': 4, 'paña': 4, 'noqan': 4, \"k'anchanqachu\": 4, 'cielomantan': 4, 'khuyayta': 4, 'kallpaywanmi': 4, 'paykuna': 4, 'munakurqan': 4, 'wawamasillay': 4, 'kawsayniyqa': 4, 'qosun': 4, 'khuyakuyninwan': 4, 'chaninmi': 4, 'taytallaymi': 4, 'sutiyoq': 4, 'ñañallaykuna': 4, 'atiywan': 4, 'sayaspa': 4, 'taytanchisqa': 4, 'kananmanta': 4, 'rinaykipaq': 4, 'kamarillarqan': 4, 'urpikunata': 4, 'kamarisqanwan': 4, 'khiska': 4, 'wakintaq': 4, \"hallp'aman\": 4, 'soqta': 4, 'wakichisqa': 4, 'hatunchasunchis': 4, 'atiyninqa': 4, 'pampachayta': 4, 'qespichiqllay': 4, 'tukukuq': 4, 'kamaqnillay': 4, 'munanakuypi': 4, 'anchatapuni': 4, 'hallpa': 4, 'pachallapiqa': 4, 'llakiyllan': 4, 'chayamushan': 4, 'pampachanqa': 4, 'adorayki': 4, \"hich'asqaykin\": 4, 'qomullayki': 4, \"k'anchaykuwan\": 4, 'sutiykita': 4, 'sonqollaymanta': 4, 'parapas': 4, 'qorimanta': 4, 'tiyakushan': 4, 'kanqañachu': 4, 'turaywan': 4, 'ñañaywan': 4, 'jesusllayku': 4, 'tutapas': 4, 'kawsakusunchis': 4, 'simillanqa': 4, 'laqhayaq': 4, 'waqyashasunkin': 4, 'tarimuwasun': 4, 'munakuwasqanchismanta': 4, \"k'asapipas\": 4, 'kasqaykita': 4, 'yupaychallaykin': 4, 'dioswanqa': 4, 'uya': 4, 'chinkaripun': 4, 'purishanku': 4, 'sapaq': 4, 'ñampi': 4, 'maskhaypuni': 4, 'tarinallaykipaq': 4, 'servikusaq': 4, \"p'unchaypipas\": 4, 'yupaychallaki': 4, 'kawsaqpas': 4, 'aman': 4, 'nacionkunapas': 4, 'mamapas': 4, 'wawakunapas': 4, 'waqaypi': 4, 'hamullawaqtimpas': 4, 'muyullawaqtimpas': 4, 'atipanallaypaq': 4, 'buenos': 4, 'qowasqanchismanta': 4, 'kasuspa': 4, 'llakiyña': 4, 'takiywan': 4, \"p'unchaytapas\": 4, \"k'anchananpaq\": 4, 'saminchaykuwasun': 4, 'kallpanchiswan': 4, 'maskhasunchis': 4, 'rikumusaq': 4, 'qantapas': 4, 'diosninchismanta': 4, 'nanaykuna': 4, 'kasarakuy': 4, 'chakinchiswan': 4, 'muyu': 4, 'diosninchispaq': 4, 'chita': 4, 'yayallanchista': 4, 'yanapawasqanchismanta': 4, 'salvaqllayku': 4, 'clavokunan': 4, 'yayanchista': 4, 'iñiqkunan': 4, 'kawsayllapi': 4, 'hinallacha': 4, 'muchukusaq': 4, 'atipanaypaq': 4, 'wiñayllapaq': 4, 'munaqtinqa': 4, 'hinachu': 4, 'atiynikimanta': 4, 'yupaychanaykupaq': 4, 'chimpamuy': 4, 'rinqa': 4, 'qespichiwasqaykimanta': 4, 'waqyawanchis': 4, 'diosllataña': 4, 'hamullayña': 4, 'yupaychamullayki': 4, 'llakiypas': 4, 'ripunanchispaq': 4, 'suyakusun': 4, 'atinmanchu': 4, 'huqnintataq': 4, 'chinkay': 4, 'kawsaytaqa': 4, 'huchayki': 4, 'onqoymi': 4, 'adoraykin': 4, 'kutimuqtinqa': 4, 'kaqpi': 4, 'kawsaqqa': 4, 'willamusunchis': 4, \"sut'inchashan\": 4, 'llaqtata': 4, 'kawsachiwan': 4, 'puka': 4, 'nishawanchis': 4, 'khuyaq': 4, 'purinallaypaq': 4, 'ruwanallaypaq': 4, \"sayk'usqa\": 4, 'purillanki': 4, 'qespichisunkin': 4, 'jesustan': 4, 'kuyurinqa': 4, 'kaqlla': 4, 'cheqaqmanta': 4, 'taytanchista': 4, 'qayllamushan': 4, 'diosninta': 4, 'wawaykita': 4, 'maskamuyki': 4, 'yuyayta': 4, 'qelqaykimanta': 4, 'kaqtiy': 4, 'waqaychu': 4, 'oregon': 4, 'kasqanki': 4, 'khuyakuqnillay': 4, 'sumaqllaña': 4, 'puriqtiypas': 4, 'pusawayku': 4, 'khuyaqllay': 4, 'awqa': 4, 'kallpayoq': 4, 'qanllataña': 4, 'kashallanpunin': 4, 'sonqoykuta': 4, 'sutillaykita': 4, 'chayman': 4, 'wasi': 4, 'qanllatapunin': 4, 'suyakuy': 4, 'diosllanchisman': 4, 'imatan': 4, 'paq': 4, 'kusikuspa': 4, 'kallpallayta': 4, 'qoykullawan': 4, 'iñiqmasi': 4, 'chaytaq': 4, 'takiyta': 4, 'pachamanqa': 4, 'yarqaypas': 4, 'iñiqkunaq': 4, 'iskayaychu': 4, 'jesusniyta': 4, 'jesusnillaymi': 4, 'munakuyniykiqa': 4, 'llakikuychu': 4, 'ruwasqan': 4, 'chawpinpi': 4, \"hap'ipakuy\": 4, 'iñikullay': 4, 'pachamantan': 4, 'yupaychaykusun': 4, 'la': 4, 'pachallaman': 4, 'diosllan': 4, 'rillayman': 4, 'waqayllan': 4, 'llakikuy': 4, 'kanga': 4, 'lliwpas': 4, 'kallpanchakusun': 4, 'sonquytam': 4, 'diosa': 4, 'kachamurqa': 4, 'munasqayki': 4, 'wañurqa': 4, 'ñuqallaypa': 4, 'purillachkaptiymi': 4, 'salvacionta': 4, 'mi': 4, 'kusikuyraq': 4, 'qellqa': 4, 'niwan': 4, 'vencinaypaq': 4, 'vidaychun': 4, 'unam': 4, 'pueblo': 4, 'almallay': 4, 'qellqam': 4, 'manchakuywan': 4, 'chaynallataq': 4, 'achkaq': 4, 'ñanpi': 4, 'diosllay': 4, 'kawsakunankupaq': 4, 'qanmanta': 4, 'qamllatapuni': 4, 'qamtaq': 4, 'alto': 4, 'imañataq': 4, 'imam': 4, 'kutimuy': 4, 'qumuykiku': 4, 'qampuni': 4, 'rikchariy': 4, 'soldadonmi': 4, 'vencisunchik': 4, 'huchataqa': 4, 'kawsayninchik': 4, 'qanchis': 4, 'mundota': 4, 'wañullarqa': 4, 'diosnillanchikman': 4, 'yawarllaykiwan': 4, 'kusikuypi': 4, 'kutimuspanmi': 4, 'chayna': 4, 'tukunqa': 4, 'mayu': 4, 'qampaq': 4, 'punchawqa': 4, 'qayallasunki': 4, 'pampachasunkim': 4, 'qayachkasunki': 4, 'haykapas': 4, 'waqaychasunki': 4, 'kawsayniypim': 4, 'kachkaqtam': 4, 'llumpay': 4, 'sonqulla': 4, 'churinkuna': 4, 'kasqallaykiman': 4, 'persiguiwachkan': 4, 'kasusa': 4, 'yachaykachiway': 4, 'kasukunaypaq': 4, 'kaqkunata': 4, 'kuyakuyninwan': 4, 'kutimuspa': 4, 'hatariy': 4, 'kallanki': 4, 'ñawillayta': 4, 'iñiywan': 4, 'uyariykuy': 4, 'angel': 4, 'kawsani': 4, 'belén': 4, 'asuykamuni': 4, 'kutimullayña': 4, 'munayninta': 4, 'yanapasunki': 4, 'purinaykipaq': 4, 'qamllataña': 4, 'kaspaqa': 4, 'rimaq': 4, 'iñiy': 4, 'jesusniymi': 4, 'kamachisqan': 4, 'hinaptinmi': 4, 'kawsakuq': 4, 'unancharqanki': 4, 'paraisomanmi': 4, 'churaykurqanki': 4, 'uyariykullay': 4, 'kasqaykimanta': 4, 'uraykamurqanki': 4, 'purispam': 4, 'servikusqayki': 4, 'suyaychu': 4, 'nisun': 4, '¿imaynataq': 4, 'kawsashanku': 4, 'rinanta': 4, 'iñiqkunapaq': 4, 'ñoqanchis': 4, 'wawa': 4, 'kashaspa': 4, 'wakmanta': 4, 'apunchis': 4, 'imataq': 4, 'qatikusqayki': 4, \"sayk'uspalla\": 4, \"k'anchaq\": 4, 'hamuy!': 4, 'kamasqanmanta': 4, 'qespichikuqmi': 4, 'michiq': 4, \"llank'ayta\": 4, 'unuta': 4, 'hamuqtinqa': 4, 'qelqapin': 4, 'kusikun': 4, '¿pimantaq': 4, 'millay-millay': 4, 'atipasunchis': 4, 'laqha': 4, 'mayllinqa': 4, 'iñikuy': 4, 'higos': 4, \"sach'a\": 4, 'jesucristota': 4, 'huchaman': 4, \"p'unchay-p'unchay\": 4, 'kamarqan': 4, 'diosllapunin': 4, 'runakunatan': 4, 'sonqopuni': 4, 'tukukunqa': 4, 'coronata': 4, 'atin': 4, 'tiempoq': 4, 'siminmi': 4, 'suyunpi': 4, 'munakunin': 4, 'pusawanqa': 4, 'kusikuypas': 4, 'qespiqniypi': 4, \"ch'ulla\": 4, 'señorniyta': 4, 'ñoqaraykun': 4, \"hap'ipakusaq\": 4, '\"uyarillasqaykin\"': 4, 'llapanpaq': 4, 'qhepanta': 4, 'iñini': 4, 'premiawasunchis': 4, 'haqaypi': 4, 'qoykuwan': 4, 'munayniyoq': 4, 'sonqoyman': 4, 'huchasapata': 4, 'tiyasaq': 4, '¿ima': 4, \"llank'aq\": 4, 'willay': 4, 'sonqoykuwan': 4, 'wawqe-panallay': 4, \"hunt'aykuway\": 4, 'munakuwan': 4, 'kunanpacha': 4, 'waqaychaykuwan': 4, 'punku': 4, 'uyariway': 4, 'qespichiqninchisman': 4, 'tocaspa': 4, 'munakuynillanta': 4, 'simiykimanta': 4, 'willasunchis': 4, 'qespicheymi': 4, \"¿hayk'aqkaman\": 4, 'wasinpin': 4, 'qespichiqqa': 4, 'imán': 4, 'kusikushani': 4, 'yuyaychis': 4, 'pusaspa': 4, 'qespichiqlláy': 4, 'kawsarichiwayku': 4, 'nacerqan': 4, 'wañunaymanta': 4, 'wayllusqay': 4, 'cheqaqtapunin': 4, 'chimpay': 4, 'qespichiwarqanki': 4, 'awqata': 4, 'leonkunaq': 4, 'sonqoykupi': 4, \"llank'ananpi\": 4, 'tiyananchis': 4, 'llakikuyman': 3, 'maytaña': 3, 'tiyaykuspa': 3, 'vidallayta': 3, 'kusikuni': 3, 'kusisqallaña': 3, 'takisunchis': 3, 'takikunawan': 3, 'nillarqantaqmi': 3, 'qhepata': 3, 'qoyllor': 3, \"p'unchaypin\": 3, 'waqaykunqaku': 3, 'amaya': 3, 'chaskinqaku': 3, 'iñiqmi': 3, 'tarillanki': 3, 'ripukusaq': 3, 'samiyoq': 3, 'takiykunawan': 3, 'sumaqpunin': 3, 'sonqoyqa': 3, 'sutikita': 3, 'munakuynikimanta': 3, 'yayallayqa': 3, 'khuyakuywanmi': 3, 'pachamanmi': 3, 'hatunmi': 3, 'almaywanmi': 3, 'munakuwaspa': 3, 'rikuchirqan': 3, 'yayallanchisña': 3, 'sasachay': 3, 'hanaqpachapi': 3, 'alaballasun': 3, 'iñiqmasiy': 3, 'mayukunapas': 3, 'chaskinqa': 3, 'kasunchis': 3, 'señalkunaq': 3, 'ukhuman': 3, 'karupi': 3, 'purillarqani': 3, 'kaspay': 3, 'tukuyta': 3, 'munakuyqa': 3, 'iñiqta': 3, 'ruruq': 3, 'hamunayki': 3, 'simillaymi': 3, 'makinchiswan': 3, \"sach'akuna\": 3, 'orqokuna': 3, \"hunt'aykun\": 3, 'musphana': 3, \"t'ikraway\": 3, 'kamaqllay': 3, 'runapas': 3, 'munakuyniykin': 3, 'sasachakuyña': 3, 'onqoykunaña': 3, \"q'ochukuytapas\": 3, 'tiyanan': 3, 'onqoy': 3, 'taytanchis': 3, 'churiyki': 3, 'kawsayniy': 3, 'uno': 3, 'wañuchisqa': 3, 'ñanman': 3, 'sonqollantin': 3, 'qespiqllay': 3, 'kamasqaykin': 3, 'wayrapas': 3, 'khuyay': 3, 'alabamuykiku': 3, 'iñiqmasiykuna': 3, 'runamasiykuna': 3, 'kasukuspa': 3, \"hayk'a\": 3, 'diosnillanchismanta': 3, 'chinkaripunki': 3, 'hatunchaspa': 3, 'qawarispaymi': 3, 'hatunchasqaykin': 3, 'kusisamiyoq': 3, 'qayllanpiqa': 3, 'yupaychasqan': 3, 'runataq': 3, 'payllawanmi': 3, 'tutapipas': 3, 'kallpallay': 3, 'atiynillakiwan': 3, 'nacionkuna': 3, 'cheqninakuyllan': 3, 'sonqonmi': 3, 'onqoypas': 3, 'supayña': 3, 'onqoyña': 3, 'qespichiwasqanchismanta': 3, 'atiynikita': 3, 'yuyarikuway': 3, 'yupaychananchista': 3, 'yupaychallasunchis': 3, 'kawsakunanchispaq': 3, 'yupaychaykusunchis': 3, 'yayallaymi': 3, 'diosnillanchisman': 3, 'adorasaq': 3, 'nanaypi': 3, 'tiempoqa': 3, 'y': 3, 'yawraypin': 3, 'qespichiqpi': 3, 'tinkumusaq': 3, 'takimusaq': 3, 'chaypiqa': 3, 'qonqankichu': 3, 'diosnillanchisqa': 3, 'waqayña': 3, 'napaykamuykiku': 3, 'servikunaykipaq': 3, 'sumaqllataña': 3, 'watatawan': 3, 'saqenkichu': 3, 'canaan': 3, 'nisqa': 3, 'llaqtallapi': 3, 'chaypitaqmi': 3, 'ruwallarqan': 3, 'unumanta': 3, 'taytanchismi': 3, 'saminchay': 3, 'patapin': 3, 'kiska': 3, 'huchaykuta': 3, 'mayutapas': 3, \"ñak'arinqaku\": 3, 'onqoykunan': 3, 'hamullawan': 3, 'chayamushanñan': 3, 'kawsakamusaq': 3, 'wasillanpi': 3, 'waqaychaykuwasun': 3, 'kaqtinchispas': 3, 'espírituq': 3, 'nin': 3, 'wasiykipi': 3, 'yanapaykuwayku': 3, 'mayllamanmi': 3, 'purishaqtiymi': 3, 'nillarqan': 3, 'phuyo': 3, \"k'ancharishaqta\": 3, \"p'achantapas\": 3, 'chawpillanpi': 3, 'rikusun': 3, 'waqaykullanqaku': 3, 'kamarirqanki': 3, \"p'unchaytan\": 3, 'qayllaykusun': 3, 'chimpaykamullayku': 3, 'niykuwanki': 3, 'manchakuyman': 3, 'yupaychallasaq': 3, 'serviytaqa': 3, \"hunt'aqllapuni\": 3, 'kashasun': 3, 'sansaq': 3, \"rit'ita\": 3, 'qelqanpi': 3, 'niwashanchismi': 3, 'ripukullasun': 3, 'kuskan': 3, 'chayamuqtinqa': 3, 'suyunta': 3, 'ñawpaqtaqa': 3, 'kawsananchispaq': 3, 'tukukapuqllan': 3, 'hora': 3, 'ruwashaqtan': 3, 'qanri': 3, 'qokuqpas': 3, 'waqaychawasun': 3, 'kaqwan': 3, 'payllapi': 3, 'iñisun': 3, 'llakikuypi': 3, 'wawaykin': 3, 'willamunaypaq': 3, 'purishan': 3, 'chinkayman': 3, 'qespicheqta': 3, 'diosmin': 3, 'huchayoqkuna': 3, 'iniy': 3, 'qespinanpaq': 3, 'munasqan': 3, 'khuyasunki': 3, \"mawk'asqan\": 3, \"p'uchu\": 3, 'waqallanqa': 3, 'chinpay': 3, 'qantaq': 3, 'waqyashallasunki': 3, \"hunt'aspa\": 3, 'kawsakunaykipaq': 3, 'qaqatapas': 3, 'haykunqachu': 3, 'yayanchis': 3, 'kawsayniyoqmi': 3, 'ninqa': 3, 'imata': 3, 'qatikuyqa': 3, 'yanapakun': 3, 'kawsanankupaq': 3, 'yachachillaway': 3, 'kallpallaymi': 3, 'aycha': 3, 'qespiqniy': 3, 'wañuymantan': 3, 'kaymi': 3, 'huchallaykuna': 3, 'kawsarichiwan': 3, 'huchallaymanta': 3, 'kallpanchakuyta': 3, 'gloriallaykiman': 3, 'tutayaq': 3, 'ñannintan': 3, 'atiy': 3, 'simillaykiwan': 3, 'rimaspa': 3, 'katinas': 3, 'suyuyki': 3, 'hamuchun': 3, 'kashallani': 3, 'qatikusaq': 3, 'warmita': 3, 'kawsayninkupi': 3, 'hatunchanaypaq': 3, 'iman': 3, 'wawaykikunan': 3, \"p'unchaykunapi\": 3, 'prueba': 3, 'llakisqapas': 3, 'rikuspay': 3, 'yuyarikullayki': 3, 'kawsashaq': 3, 'imatataq': 3, 'nawpaq': 3, 'angelkunapas': 3, 'yupaychasunki': 3, 'yupaychana': 3, 'qespiyta': 3, 'tan': 3, 'haqhay': 3, 'qespichikuwanki': 3, \"k'aspi\": 3, 'kapuwanki': 3, 'cielopipas': 3, 'allapalli': 3, 'kamachiq': 3, 'kipi': 3, 'llanllarin': 3, 'hamullayku': 3, 'asuykusunchis': 3, 'iniq': 3, 'hamuynin': 3, 'payllawan': 3, 'kusikuyllawan': 3, 'qespichikuqta': 3, 'waqawaq': 3, 'supaymanta': 3, 'simillanwan': 3, 'khuyawanmi': 3, 'diosnillaypan': 3, 'kunanmanta': 3, 'yayallanchismi': 3, 'churinqa': 3, 'qayllaykamushan': 3, 'nisqanman': 3, 'tiyakuspa': 3, 'noqata': 3, 'wiñay-wiñaypaqmi': 3, 'purikusaq': 3, 'kashaqtiypas': 3, 'purillanqa': 3, 'qanllamantan': 3, \"t'aqawasun\": 3, 'chawpipi': 3, 'jesusninchispa': 3, \"rikch'ayniyoqta\": 3, 'wawgellay': 3, 'diosllaman': 3, 'panaykuna': 3, 'kallpanchakuy': 3, 'taytallanchis': 3, 'mikhuyta': 3, 'mikhunanpaq': 3, 'qolqepas': 3, 'munakuyninpi': 3, 'huñukuypi': 3, 'yuyaywan': 3, 'sonqoykipi': 3, 'kusisqam': 3, 'karqani': 3, 'mayllaykuway': 3, 'punchawlla': 3, 'qatinaypaq': 3, 'wasiy': 3, 'ñam': 3, 'amam': 3, 'cristom': 3, 'reypa': 3, 'sonqullaytam': 3, 'ñuqallayqa': 3, 'payllamanna': 3, 'poco': 3, 'almallaymi': 3, 'chayraykum': 3, 'hamullaptinga': 3, 'waqaykullanqa': 3, 'evangelista': 3, 'jesusllanchikqa': 3, 'taringa': 3, 'salvaqllaymanta': 3, 'manta': 3, 'chayaramuptin': 3, 'chayamuptinqa': 3, 'pasachkan': 3, 'chaskikuykuy': 3, 'chaskispaqa': 3, 'ay': 3, 'almallaypas': 3, 'paqarin': 3, 'kuyasqa': 3, 'kuyasqallay': 3, 'qellqallaykiwanmi': 3, 'niños': 3, 'takipusaq': 3, 'kallpanchallawan': 3, 'taytallanchikta': 3, 'graciasllata': 3, 'wawqekuna': 3, 'sunqu': 3, 'salvaykullawanchik': 3, 'libraykullawanchik': 3, 'salvaykullasunkim': 3, 'rurarqanki': 3, 'pacham': 3, 'glorian': 3, 'payllam': 3, 'kanankama': 3, 'watakama': 3, 'manañam': 3, 'mañakuyki': 3, 'willakuchkan': 3, 'chaypim': 3, 'wañuymanmi': 3, 'chaskiykusunkim': 3, 'kawsanapaq': 3, 'unanchallarqa': 3, 'ruruqta': 3, 'wasipi': 3, 'qellqapim': 3, 'makillanmanta': 3, 'taytanchikmi': 3, 'suyasunchik': 3, 'espiritupa': 3, 'yanapasqan': 3, 'kallpanchakullay': 3, 'nannimpi': 3, 'payllapim': 3, 'llapallanchikpa': 3, 'taytalláy': 3, 'kasuspam': 3, 'qayakamuyki': 3, 'allpa': 3, 'intillapas': 3, 'puyu': 3, 'kuyapayaykuway': 3, 'asuykamuykim': 3, 'yachayniyuq': 3, '|': 3, 'mananam': 3, 'iñinki': 3, 'yupaychanapaq': 3, 'chipaq': 3, 'kasqayta': 3, 'salvaqllanchik': 3, 'salvakuqnillay': 3, 'churillayki': 3, 'salvaqllanchikqa': 3, 'sonquyta': 3, 'salvasqakuna': 3, 'kawsaqkuna': 3, 'jesusllaywan': 3, 'salvaqninchik': 3, 'tarikuni': 3, 'reqsikuni': 3, 'wakinmi': 3, 'camino': 3, 'nanaypas': 3, 'masillaykuna': 3, 'alabanku': 3, 'kachkanki': 3, 'ñawillaymi': 3, 'sonquymi': 3, 'punim': 3, 'purichkaqtam': 3, 'tariwarqa': 3, 'kawsaytanam': 3, 'qamtapas': 3, 'hamuptin': 3, 'qellqasqa': 3, 'tres': 3, 'wawqellaykuna': 3, 'chaski': 3, 'tarinallaypaq': 3, 'qatisqayki': 3, 'kawsallasun': 3, 'payllataqmi': 3, 'ñannikipi': 3, 'tapukuykuy': 3, 'sonquykipi': 3, 'salvación': 3, 'chaylla': 3, 'salvokunam': 3, 'wanakuspanchik': 3, 'karqanki': 3, 'qespichiqniymi': 3, 'yayata': 3, 'paywanmi': 3, 'qamya': 3, 'simillayta': 3, 'simikita': 3, 'kawsaqta': 3, 'mundopim': 3, 'kusichiwayña': 3, 'sonqullaypi': 3, 'yachachiwan': 3, 'kamachi': 3, 'diosnillaytaqa': 3, 'llakiyllam': 3, 'salvaykuwan': 3, 'huchallaman': 3, 'serviq': 3, 'musuq': 3, 'hukmanyaychu': 3, 'chuyakunawan': 3, 'nirqa': 3, 'riy': 3, 'wawqe-paniy': 3, 'ki': 3, 'pesebrepi': 3, 'qaqa': 3, 'chinkasqata': 3, 'pillawanchus': 3, 'purisqaykita': 3, 'pusaqniy': 3, 'ñoqarayku': 3, 'kasqaykiman': 3, 'kallpanchay': 3, 'makillanwanmi': 3, 'sonqu': 3, 'llapallanchik': 3, 'ñoqallaypaq': 3, 'kasunallaypaq': 3, 'jesusnillayta': 3, 'juzgananpaq': 3, 'ripunqa': 3, 'llakikuypas': 3, 'jesusllanchikman': 3, 'kutirikuyña': 3, 'qonqay': 3, 'atiyninta': 3, 'rikuchin': 3, 'paykunata': 3, 'wañunaykita': 3, 'salvaykuwanchik': 3, 'pachapaq': 3, 'onquypas': 3, 'kusiy': 3, 'wañuypas': 3, 'kusikullanqa': 3, 'huchaytapas': 3, 'qespiy': 3, 'kawsakullasun': 3, 'yuyaynillayta': 3, 'judiokunam': 3, 'jesusnillanchikta': 3, 'ñantaqa': 3, 'tarisunchik': 3, 'qatikullasun': 3, 'cruzta': 3, 'risun': 3, 'malla': 3, 'diosninmanta': 3, 'kawsayninta': 3, 'espirituta': 3, 'kawsarichiway': 3, 'señorllayku': 3, 'waqaychaway': 3, 'qespichiwanchis': 3, \"ch'askakuna\": 3, 'phalaq': 3, 'kamaykurqanki': 3, 'yuyay': 3, 'yupaychasun!': 3, 'cheqnikuspa': 3, \"t'aqashan\": 3, 'ancho': 3, \"k'ikllu\": 3, 'munakuypi': 3, 'munanakuspa': 3, 'ñawpaqenpin': 3, 'rimarqan': 3, 'munakun': 3, 'kanapaq': 3, 'waqaychan': 3, 'wakchakunata': 3, 'kusichin': 3, 'san': 3, 'ñoqanchista': 3, 'familiantin': 3, \"ch'akiypi\": 3, 'onqosqa': 3, 'piman': 3, 'ichapas': 3, \"hayk'aq\": 3, 'chhayna': 3, 'kusikuymanta': 3, 'maman': 3, 'kaypiña': 3, '¿maypitaq': 3, 'tariyman': 3, 'qocha': 3, 'yupaycharqan': 3, 'jesucristowan': 3, 'taytallaman': 3, 'wiñaymanta': 3, 'ruwaspa': 3, 'willashan': 3, 'munashan': 3, 'wañuq': 3, 'saqrata': 3, '¡jesucristoman': 3, 'hatunchakuspa': 3, 'ñawpaqta': 3, 'viciopi': 3, '¿': 3, 'imaynaraqmi': 3, 'diosqa!': 3, 'animalpas': 3, \"huch'uy\": 3, 'kaypipas': 3, 'nishan:': 3, 'apasun': 3, 'kawsashan': 3, 'pisillañan': 3, \"q'omer\": 3, 'sonqollay': 3, 'huchay': 3, 'manañachu': 3, 'manchakunki': 3, 'kawsayniyki': 3, 'ninkin': 3, 'cielopin': 3, 'tiyasun': 3, 'pachantinman': 3, '\"diospa': 3, \"ñak'arispa\": 3, 'kawsarisqanta': 3, 'qhawan': 3, \"ch'akiymanta\": 3, 'runapaq': 3, 'saminchasunki': 3, 'adoraykiku': 3, 'pachapipas': 3, 'diosnillanchiswanña': 3, 'sonqonchispi': 3, 'qespichiyta': 3, 'chaskinanchispaq': 3, 'risaq?': 3, 'willamusun': 3, 'chiriyasqa': 3, \"q'ochukuywan\": 3, 'ñoqata': 3, 'qhawariykuy': 3, 'ñoqamanta': 3, 'kawsarqanku': 3, 'ruwayqa': 3, \"llank'asun\": 3, 'tukurqan': 3, 'chaskisun': 3, 'yupaychamunaypaq': 3, 'yupaychan': 3, 'tukuyman': 3, 'mayta': 3, 'ñoqanchispas': 3, 'takipuy': 3, \"ch'askakunapas\": 3, 'huqniyoq': 3, 'akllasqanta': 3, 'churiq': 3, 'kusikusunchis': 3, 'mañakuspalla': 3, 'kawsamuq': 3, 'sasachaypi': 3, 'an': 3, 'campopi': 3, 'takin': 3, 'atiyninmi': 3, 'iñiqmasilláy': 3, 'qanwanpunin': 3, 'huchaykunatan': 3, 'pampachan': 3, 'cristollan': 3, 'riyta': 3, 'waqyakuway\"': 3, 'takispan': 3, 'kashanmi': 3, 'maskhanki': 3, 'llapapaq': 3, 'kawsayniytan': 3, 'señorpi': 3, 'kusiytan': 3, 'chaskini': 3, 'simillaywan': 3, 'qoykullawanki': 3, 'kallpawan': 3, 'wayna-sipasta': 3, 'atiynin': 3, \"llank'asqanchis\": 3, 'haywarimuway': 3, 'waqaychaqniy': 3, 'diospuni': 3, 'taripay': 3, 'señorniypa': 3, 'qanpiqa': 3, 'munanakusun': 3, 'servikunaypaq': 3, 'llaqtakunaman': 3, 'tupaykun': 3, 'kallpayoqmi': 3, '¡diosta': 3, 'yupaychaykusun!': 3, 'ruwasqanta': 3, 'sonqoytan': 3, 'rinapaq': 3, 'qonqa': 3, 'servinki': 3, \"hich'arqan\": 3, 'qanllawanpuni': 3, 'yupaychaykikun': 3, 'suyuman': 3, \"q'ochukuypi!\": 3, 'siminpas': 3, '\"hamuy\"': 3, 'qespikuymanta': 3, \"llank'asunchis\": 3, 'kunallan': 3, 'kaytan': 3, 'horqowan': 3, 'qespichiqnillayku': 3, 'astawan': 3, 'kasqa': 3, 'thak-kayta': 3, 'huñulla': 3, 'purishankupuni': 3, 'masilláy': 3, 'qowan': 3, 'runamasilláy': 3, 'qonqarqospayki?': 3, 'sonqoymantan': 3, 'khaynata:': 3, 'paypunin': 3, 'sonqopas': 3, 'wañuspanmi': 3, 'sonqoytapas': 3, \"ñit'isqan\": 3, 'chimpaykuy': 3, 'uyariychis': 3, 'huchallaywan': 3, 'munaykukuq': 3, 'maylliykuway': 3, \"p'unchay-p'unchaymi\": 3, 'sonqollaymantan': 3, 'sonqoypaq': 3, 'khuyaqnilláy': 3, 'glorianpi': 3, 'sumaqña': 3, 'david': 3, 'pusaqlláy': 3, 'kawsankin': 3, 'maylliway': 3, \"hap'ichirqanku\": 3, 'sonqollayman': 3, 'belenpi': 3, 'angelkunan': 3, 'wawanta': 3, \"t'antapitaq\": 3, 'llapallayku': 3, 'waqaychaspa': 3, 'tiyaq': 3, '¿imaynatan': 3, 'kichariway': 3, 'ñanniykipi': 3, 'qanpan': 3, 'chitaykita': 3, 'michiqniy': 3, 'qespichiway': 3, 'kallpata': 3, 'iñiyrayku': 3, 'llakillan': 3, 'kallpaykita': 3, 'yanapallaway': 3, 'muchurqan': 3, 'qelqayki': 3, 'kapunanpaq': 3, 'kanki?': 3, 'paqtan': 3, 'puriypipas': 3, 'cuerpontaqa': 3, 'muchullarqanki': 3, 'askhan': 3, 'mañakamuykiku': 3, 'cheqaqtan': 3, 'maypas': 3, 'qonaykipaq': 3, 'manchakuspa': 3, 'warmiqa': 3, 'iñispallapuni': 3, '¿manapunichu': 3, 'mañanan': 3, 'yuyaychakuy': 3, 'pisiqtinqa': 3, 'makinmantaqa': 3, 'saminchayniykita': 3, 'tutapin': 3, 'asuykullayña': 3, 'willanaykipaq': 3, 'simillan': 3, 'kamaqpa': 3, 'qoyman': 3, 'willawan': 3, 'mamayku': 3, 'jesusniykuq': 3, 'chaki': 2, 'yupaychakin': 2, 'mamayña': 2, \"p'unchayta\": 2, 'niykullawan': 2, 'noqaqa': 2, 'ñawpaqenman': 2, 'dioskunaq': 2, 'patanpi': 2, \"t'akakamunqa\": 2, 'hamushaqta': 2, 'waqanqaku': 2, 'qespichiqwan': 2, \"hap'ipakamuyki\": 2, 'illarimuyta': 2, 'kusisamiyuqmi': 2, 'herenciapaq': 2, 'churimpi': 2, 'chaskiykukuy': 2, 'suyasqay': 2, 'kicharqan': 2, 'pachapiñan': 2, 'tarisaq': 2, 'tiyaspan': 2, 'kallpachaway': 2, 'chayamuqtin': 2, 'munakuyninqa': 2, 'kallpaywan': 2, 'takimuspayku': 2, \"hayq'aqpas\": 2, 'tukukunchu': 2, 'qayllallanman': 2, 'llakiypa': 2, \"p'ita\": 2, 'phawa': 2, 'muyo': 2, 'yupaychanaqa': 2, 'qespichiqnillay': 2, 'unuqa': 2, 'dionillay': 2, 'tukukuypas': 2, 'orqopi': 2, 'sutimpi': 2, 'llapayku': 2, 'kallpanchawasun': 2, 'diosnillanchistaqa': 2, 'kachamullarqan': 2, \"ñak'ariypi\": 2, 'qoyllurpas': 2, 'kamasqa': 2, 'orqokunapas': 2, \"sach'akunapas\": 2, 'uywakunapas': 2, 'hanaqpacha': 2, 'hamunan': 2, \"p'unchaymanta\": 2, 'onqoykunapas': 2, 'chiqaq': 2, 'sapallay': 2, 'llakiq': 2, \"ñit'iykusqan\": 2, 'reqsini': 2, 'taytallayta': 2, 'hampiykuwan': 2, 'yayanchisman': 2, 'anchata': 2, 'munakuyninmi': 2, \"hunt'akun\": 2, 'qespichirqan': 2, 'chaskiyta': 2, 'sasachakuypi': 2, 'waqaykushanku': 2, 'pusananpaq': 2, 'yachachin': 2, 'muhu': 2, 'runamanta': 2, 'muhun': 2, 'chayarqan': 2, 'pataman': 2, 'rumiman': 2, 'rurun': 2, 'chunkata': 2, 'munakuytawan': 2, 'yupaychasqaykin': 2, 'yuyayniywan': 2, 'qanllapaq': 2, 'mayukuna': 2, 'saminchasun': 2, 'runatapas': 2, 'haywarispa': 2, 'sutinqa': 2, 'kamapas': 2, 'kamachillaykipaq': 2, 'kamawanki': 2, 'qanllaman': 2, 'munanin': 2, 'dosnillayqa': 2, 'kamasqaykipi': 2, 'muyuykuwaqtimpas': 2, 'kawsayniykupi': 2, \"hunt'aqpuni\": 2, 'kusikamusaq': 2, 'qoñirin': 2, 'wawsayatan': 2, 'sawsayniywan': 2, 'manakuqnillay': 2, 'wañuynikin': 2, 'qespikllay': 2, 'maylliykuwan': 2, \"ch'uyanchaqnillay\": 2, 'sullpatan': 2, 'hatumpi': 2, 'huñukuyniykumanta': 2, 'qamamn': 2, 'qolqeykikunamanta': 2, 'saminchasqaykimanta': 2, 'nanayllachu': 2, 'waqayllachu': 2, \"t'aqallawasunamn\": 2, 'qatikachakuykunachus': 2, 'kaykunachus': 2, 'yaryayllachu': 2, \"ch'akiyllachu\": 2, \"t'aqallawansunman\": 2, 'risharqani': 2, 'chiqnisqa': 2, 'killatpas': 2, 'qoyllorpas': 2, 'tiyasqaymanta': 2, 'hatunchallashaqmi': 2, 'señornillaytaqa': 2, 'wañusqaykin': 2, 'qespichillawanku': 2, \"ñak'ariyta\": 2, 'qespichinaykipaq': 2, \"k'ancharishaq\": 2, 'kawsayninchispin': 2, \"ñit'iwanchis\": 2, 'kawsakusn': 2, 'qaman': 2, 'jhuñurinakuspa': 2, 'llaqtaykiqa': 2, 'waqaychaykuwayku': 2, 'nispalla': 2, 'kawsakuyninchisqa': 2, 'yuyayllayoq': 2, 'takisqanchispas': 2, 'tokasqanchispas': 2, 'kawsaqmasiykuna': 2, 'yuyariychis': 2, 'tiemporaq': 2, 'qespikunanchispaq': 2, 'unayñachu': 2, \"p'unchayllapin\": 2, 'tukuyakapunqa': 2, 'nanaywan': 2, 'llakiykunaq': 2, 'hamunallanmanta': 2, 'kaqsayman': 2, 'pantanmi': 2, 'sonqonwan': 2, 'fiñachishan': 2, 'waqyashanmi': 2, 'hatunta': 2, \"huch'uyta\": 2, 'hoqllatapas': 2, \"ñak'arinantaqa\": 2, 'munallanchu': 2, \"hayk'aqmantañataq\": 2, 'unayñataq': 2, \"t'aqarikunki\": 2, 'wasillanta': 2, 'rinkicku': 2, 'nisunkin': 2, 'ñanllapichus': 2, 'kidakapunki': 2, 'viciopichus': 2, 'ruwashaqatan': 2, 'yawraymanchu': 2, 'haykuykapunki': 2, 'ashuykusun': 2, 'yupaycahasun': 2, 'payllawanñan': 2, 'sawsakusun': 2, 'rikuni': 2, 'hatunchallayki': 2, 'altun': 2, 'falariq': 2, 'kamallasqayki': 2, 'kusisamiqmi': 2, 'manchakuq': 2, 'kamachikuyniypi': 2, \"misk'illikusqan\": 2, 'mirayninqa': 2, 'waqaqqa': 2, 'sonqochakusqa': 2, 'waqaywan': 2, 'servikusqan': 2, 'manso': 2, 'puran': 2, 'tupanqa': 2, 'wiñaypaqtan': 2, 'kawsakullanqa': 2, 'kawayqa': 2, 'sufriywan': 2, 'kuskallan': 2, 'munanakuymi': 2, 'nigashan': 2, 'kayninwantan': 2, 'karunchakushan': 2, \"k'anchaywan\": 2, 'atiynikiwanqa': 2, 'atillasaqmi': 2, 'sasachakuykunata': 2, 'kawsasanku': 2, 'ñanpin': 2, 'katikuspa': 2, 'yuyayniyoq': 2, 'khunampuni': 2, 'kamawanchis': 2, 'mikhusqata': 2, 'hoqyasqatan': 2, 'uywawanchis': 2, 'maskhaychu': 2, 'wañusqakuna': 2, 'ukhupiqa': 2, 'angelninkunaq': 2, 'diospaqayllampi': 2, 'kausayninchis': 2, \"k'ancharisaq\": 2, 'tiempollapaq': 2, 'phoyo': 2, 'llantho': 2, 'hatunchakuspalla': 2, 'qonqaripuspanku': 2, 'kawsakullasunchis': 2, 'yupaychaykuspanchis': 2, 'nanaypipas': 2, 'kashallaqtiypas': 2, 'pusaqniyqa': 2, 'payllapuni': 2, 'pisiyaqtimpas': 2, 'makikiwan': 2, 'oqariway': 2, 'mayuykuwaqtimpas': 2, 'raqfraykiwan': 2, 'pakaykuway': 2, 'phawanaypaq': 2, 'kamasqaykiqa': 2, 'ruwallarqanki': 2, 'alabasunchis': 2, 'yupaychallanpunin': 2, 'kamaqmin': 2, 'kawsallankichu': 2, 'aychakiq': 2, 'munasqanmanqa': 2, 'aychaqa': 2, 'pusallasunki': 2, \"nak'ariymanmi\": 2, 'muchuyllamanmi': 2, \"k'anchaykusunkin\": 2, 'mundopin': 2, 'mosfharispataq': 2, \"t'aqakushanku\": 2, 'haykuynankupaq': 2, 'maqanakuylla': 2, 'lluypi': 2, 'mirarishan': 2, 'sonqonpiqa': 2, 'musphasan': 2, 'saqerisqan': 2, 'munanakuypas': 2, 'lluypin': 2, \"t'aqanakuyllapi\": 2, 'karcilkunapi': 2, 'hospitalkunapi': 2, 'qelqanqa': 2, 'willawarqanchisñan': 2, \"sut'inchawanchisña\": 2, 'hamunanmantaqa': 2, 'terremotopas': 2, 'pasonanmantaqa': 2, 'sasachakuykuna': 2, 'awqayña': 2, 'nanayña': 2, 'yawarnikiq': 2, 'rantispanmi': 2, 'sasachakuyta': 2, 'hatunchanallaypaq': 2, 'adoranallaypaq': 2, 'napaykukin': 2, 'iñeqmasiy': 2, 'takiywanpas': 2, 'tokaywanpas': 2, 'yachaqakusqanchistapas': 2, 'chaywanpuyni': 2, 'hamullawantimpas': 2, 'pampapacha': 2, 'huchakunaypaq': 2, 'kuydakuway': 2, 'salmos': 2, 'qelqampiqa': 2, 'willashawanchismi': 2, 'adoranamanta': 2, 'yupaychamanta': 2, 'tukaywan': 2, 'adorallasunchis': 2, 'qoykuwanchis': 2, 'vidata': 2, 'atipaqta': 2, 'adoraykusunchis': 2, 'kutuy': 2, 'kuerpunchisman': 2, 'salta': 2, 'saltarispa': 2, 'yayay': 2, 'yupaychamosqayki': 2, 'adoramullayki': 2, 'runakunatapas': 2, 'kawsanallankupaq': 2, 'diosnilaymi': 2, 'kamachikuynikiqa': 2, 'chaninnimpin': 2, 'kamachillarqanki': 2, 'qampi': 2, 'iñiqkunataqa': 2, 'simillaymanta': 2, 'wilamuychis': 2, 'simillantaqa': 2, 'willasunchispuni': 2, 'qelqallantaqa': 2, \"sut'inchasunpuni\": 2, 'uyarikuq': 2, 'kaychis': 2, 'pampachaq': 2, 'tutayaqmantan': 2, 'orqoykuwarqanchis': 2, 'chayni': 2, 'yupaychayata': 2, 'hamunallan': 2, 'nimuwaqtin': 2, 'kamasqankuna': 2, 'kashaspanchispas': 2, 'waynallaraq': 2, 'sipasllaraq': 2, 'punkupiñan': 2, 'sayamoshan': 2, 'hamunampaq': 2, 'imaninkin': 2, 'kutimoqtin': 2, 'kidakuwaq': 2, 'khunanmi': 2, 'maskhanapaq': 2, 'ayuno': 2, 'oracionwan': 2, 'kidanki': 2, \"sayk'unkichu\": 2, 'iñiypuni': 2, 'akllawanña': 2, 'osqhayllan': 2, 'qespichiqniywan': 2, 'wakichinñan': 2, 'unqoy': 2, 'akllasunki': 2, 'qatikuyta': 2, 'pisikallpayña': 2, 'muyuywaqtinchis': 2, 'waqyakusun': 2, 'qonqasunchischu': 2, 'saqesunchischu': 2, \"k'amiwaqtinchis\": 2, 'kuydakuwanchis': 2, 'saqewanchischu': 2, 'chawpimpipas': 2, 'watatan': 2, 'hunt’akusqaykita': 2, 'yachallaspayku': 2, 'watukamuykiku': 2, 'nacekurqanki': 2, 'pasarapuwanki': 2, 'qoykusunki': 2, 'saminchaykusunki': 2, 'servikusqaykipi': 2, 'hamuqtimpas': 2, 'amapuniñan': 2, 'iskayaykunkichu': 2, 'qatikunki': 2, 'pisiyaykuqtintaq': 2, 'vinollaman': 2, 'tukuchirqan': 2, 'rikunampaq': 2, 'hay': 2, 'hanq': 2, 'gloriantataq': 2, 'unanchaykusqaykin': 2, 'chaytataqmi': 2, \"hunt'ashanku\": 2, 'sarakuyta': 2, 'kawsachunku': 2, 'purichunku': 2, 'tukapusun': 2, 'oqarispa': 2, 'kusichisun': 2, 'yupauchaasun': 2, \"p'itaykusun\": 2, 'phalarispa': 2, 'yayanchisqa': 2, 'phalanata': 2, \"p'itanata\": 2, 'kachamorqan': 2, 'hatuchasun': 2, 'espiritullata': 2, 'sonqochawasqanchismanta': 2, 'tukyu': 2, 'ñoqayku': 2, 'makiykikunata': 2, \"t'orqoykurqan\": 2, 'umallaykimantaq': 2, 'hicharisqaykin': 2, 'qespichiwanku': 2, 'yawarniykin': 2, 'maylliwanku': 2, 'qonqorchakin': 2, 'hutunchasun': 2, 'señorllata': 2, 'intitatpas': 2, 'urpitapas': 2, 'challwatapas': 2, 'qochatapas': 2, 'mikhuytapas': 2, 'hukyaytapas': 2, 'qoqninchista': 2, 'qowaqninchis': 2, 'anticristo': 2, 'qepakuqtan': 2, 'manchayta': 2, \"ñak'arichinqa\": 2, 'qepaqkunan': 2, 'antacha': 2, 'chiqniwanku': 2, 'qatikusqay': 2, 'prohibakunan': 2, 'llakinayqa': 2, 'hichaqa': 2, 'kusikunay': 2, 'chaypicha': 2, 'wasillapi': 2, 'kamaña': 2, 'disnillanchiswanña': 2, 'tupaykusunchisraq': 2, \"p'unchaypiñacha\": 2, 'espiritunchus': 2, 'qankunapi': 2, 'sonqoykichispa': 2, 'kawsankis': 2, 'kawsaychis': 2, 'dispaq': 2, 'kawsasunchu': 2, 'munasqanchisman': 2, 'ruwasunchu': 2, 'munasqanchista': 2, 'disnillanchisqa': 2, \"sut'enta\": 2, 'wawaykunaqa': 2, 'infiernopaqñan': 2, 'huñoriwankiku': 2, 'huñorinakuyku': 2, 'disnillayku': 2, 'sonqoykupipuni': 2, 'yachaqasqaykuqa': 2, 'lloqsik': 2, 'imallacha': 2, 'kawsakushallanku': 2, 'kutiriy': 2, 'waqyamushasunki': 2, 'pampachallasunki': 2, 'osqhayta': 2, 'tarpasunkiman': 2, 'almallayki': 2, 'pampachawanki': 2, 'kawsashaqtiymi': 2, 'rimaykuwanki': 2, 'qowasqaykimanta': 2, 'kachamusqan': 2, 'suttintan': 2, 'tutayaykullanqan': 2, 'ormaykamullanqan': 2, 'chaypillanpi': 2, 'chayraqmi': 2, 'limpio': 2, 'sonqontin': 2, 'hatunchamuykin': 2, 'munakuwasqaykimanta': 2, 'cielotapas': 2, \"hallp'atapas\": 2, 'adorakuykin': 2, 'tutatan': 2, 'niykuwanchis': 2, 'saqeykuspa': 2, 'kawsanapas': 2, 'tiyaqkuna': 2, 'suyawanchis': 2, 'jesúspa': 2, 'nimuykiyku': 2, 'kawsakushaqtiy': 2, 'purikushaqtiy': 2, 'qespichillasqaykin': 2, 'kawsakuynillaypi': 2, 'saminchaykullawankipunin': 2, 'diosllatan': 2, 'akllasqankunaman': 2, 'jesúswan': 2, 'chiqnisqapas': 2, 'diosllawanña': 2, 'patrón': 2, 'munakunman': 2, 'chiqnikunman': 2, 'diostawan': 2, 'atisunmanchu': 2, 'serviyta': 2, 'servispaqa': 2, 'ñantan': 2, 'ripushanki': 2, 'kashay': 2, 'hiñan': 2, 'qayllanpipas': 2, 'parlasunchis': 2, 'ñañalláy': 2, 'pukachu': 2, 'sani': 2, 'kasukunki': 2, 'chayamusunki': 2, 'kusirikullayña': 2, 'kasarakuyniykipi': 2, 'hatunchaykin': 2, 'wañorqanki': 2, 'hatunchayki': 2, 'rantikuwasqaykimanta': 2, 'makillapuni': 2, 'kusisqallañan': 2, 'angelwan': 2, 'kallpanchaykuwayku': 2, 'servikunaykupaq': 2, 'tarisun': 2, \"q'opa\": 2, 'kaytawan': 2, 'yuyasun': 2, 'kaypas': 2, 'diosninchispin': 2, 'willaqkuna': 2, \"p'unchaychaspa\": 2, 'qonqaspanku': 2, 'huchapiraq': 2, 'niychu': 2, 'tariwasun': 2, 'yanapaykuyqa': 2, 'hamullawanqa': 2, 'kawsaqmi': 2, 'diospunin': 2, 'yachaqpas': 2, 'iñiqmanqa': 2, 'almallaywanmi': 2, 'sonqollaywanmi': 2, 'allinkaqwan': 2, 'hinaña': 2, 'biblia': 2, 'yarqaychu': 2, 'chayaykamullanqa': 2, 'mundontinpi': 2, 'kayniqpi': 2, 'onqoykuna': 2, 'wañuykuna': 2, 'yachaynikita': 2, 'iñiynillaypi': 2, 'kallpallaykita': 2, 'mañakuykin': 2, 'kamachiykita': 2, 'qochaman': 2, 'phawashan': 2, 'nawsa': 2, 'purishaqtan': 2, 'saqespaymi': 2, 'huchapaq': 2, 'saqerispa': 2, 'hinallachu': 2, 'pusasunki': 2, 'qespikuytan': 2, 'wawanpuni': 2, 'pachallapi': 2, 'hamullaychis': 2, 'huchayoqpas': 2, \"rit'i\": 2, 'hamullarqan': 2, 'kanchaypi': 2, 'chinpaykullay': 2, 'diostapas': 2, 'llapantan': 2, 'pachalla': 2, 'paypin': 2, 'wakintan': 2, 'willakuyta': 2, 'chaskiy': 2, 'wilay': 2, 'pasan': 2, 'kawsashanki': 2, 'diostaq': 2, 'qonqarispa': 2, 'chinkaypi': 2, 'horqosunki': 2, 'nisunki': 2, 'nillanki': 2, 'kaqqa': 2, 'wañusqaña': 2, 'kana': 2, 'aswanmi': 2, 'iñispallanku': 2, 'iñiqtin': 2, 'waqaykunapas': 2, 'kashallanmi': 2, 'nanaykunapas': 2, 'kaykunata': 2, 'ringa': 2, 'qhari': 2, 'yupaychananchis': 2, 'kawsaypitaq': 2, 'uyarillaway': 2, 'qoykullawayna': 2, 'runamasiyman': 2, 'willanallaypaq': 2, 'almaypas': 2, \"ch'aki\": 2, 'purun': 2, 'uyariykuwayku': 2, 'qhawarimuway': 2, 'yachachinaypaq': 2, 'tutayaykullanmi': 2, 'pampachaykuway': 2, 'wawge': 2, 'qowanaykipaq': 2, 'kasuspan': 2, 'munakuyniyki': 2, 'suma': 2, 'kawsanallaypaq': 2, 'kallasqaykita': 2, 'kichaykullawan': 2, 'sayarinaypaq': 2, 'waqaychakuway': 2, 'wañuyllamanta': 2, 'michiqnillayqa': 2, 'noqallaytaqa': 2, 'noqataqa': 2, \"sayk'usqaña\": 2, 'atiynillayki': 2, 'diosnillayl': 2, 'lista': 2, 'yapaykuwayku': 2, \"k'anchaykullawayku\": 2, 'urmanallaykupaq': 2, 'qanpaqmi': 2, 'yanaparikuway': 2, 'wasiykiman': 2, \"llank'anaypaq\": 2, 'makiykipin': 2, 'qanllawanna': 2, 'kallpaña': 2, 'kanallaypaq': 2, 'hanag': 2, 'gloriaykipi': 2, 'llakikuyqa': 2, 'kashaqtiykupas': 2, 'mañakamusqaykuta': 2, 'khuyapayakuq': 2, 'qharita': 2, 'kawsakuypi': 2, 'uyariykullaway': 2, 'graciastataq': 2, 'hamullawachun': 2, 'sonqollaytapas': 2, 'taytamanta': 2, 'kayku': 2, 'wateqaymanta': 2, 'yanapayniykita': 2, 'kallpanchaspa': 2, 'yupaychallasqaykiku': 2, 'khuyasqay': 2, 'nimullayki': 2, 'qespiwanki': 2, 'pisiyaqtinpas': 2, 'yupaychakullayki': 2, 'qhawaspay': 2, \"ch'askakunata\": 2, 'wayrapi': 2, 'hamuq': 2, 'sutiykitan': 2, 'munayki': 2, 'jesusninchisqa': 2, 'yupaychaykullasun': 2, \"hallp'apipas\": 2, 'cuerpo': 2, 'qoyllur': 2, \"ch'askatapas\": 2, \"t'ikakuna\": 2, 'unanchasqayki': 2, 'qanllamanpunin': 2, 'huchakunan': 2, 'qespiwankiku': 2, 'qanllataqmi': 2, 'qosqaykiwan': 2, 'pampachaspa': 2, 'display': 2, 'gracia': 2, \"p'acha\": 2, 'mikhunan': 2, 'paypal': 2, 'llapallanchispuni': 2, 'sonqollawan': 2, 'noqanchiswan': 2, 'chinpaykusunchis': 2, 'sonqonchista': 2, 'llaqtamanta': 2, 'glorianman': 2, 'ruphanqa': 2, 'qatisaqmi': 2, 'rillasaqmi': 2, 'jesusniypaq': 2, 'qhepallanta': 2, 'payllapaqña': 2, 'yapaykuwan': 2, 'kutimullaqtin': 2, 'qatispa': 2, 'pruebakuna': 2, 'pisiyaqtin': 2, 'qelqallanmi': 2, 'almapaq': 2, 'qhawayta': 2, 'sonqota': 2, \"sayk'uriqtinchispas\": 2, 'suyakushani': 2, 'rantisqa': 2, 'llakiqtiypas': 2, 'waqaqtiypas': 2, 'iñiynillay': 2, 'pas': 2, 'kamarisqan': 2, 'taytayta': 2, 'qowanchis?': 2, 'kutimunqanan': 2, 'nisqanqa': 2, \"hunt'akushanpunin\": 2, 'wanuy': 2, 'nan': 2, 'qallari': 2, 'muña': 2, 'kacharichisqañan': 2, 'saqramanta': 2, 'kallaspayña': 2, 'rinaymantan': 2, 'rantikuwan': 2, 'kusisqaña': 2, 'kanankupaq': 2, 'mosoqyachiwan': 2, 'kusikuytan': 2, 'qanllapaqñan': 2, \"hunt'aykuwan\": 2, 'huqtawan': 2, 'kutimuq': 2, 'yupaychayqa': 2, 'chaskiykukullayña': 2, \"p'achayoq\": 2, 'rimashawanchis': 2, 'qochapas': 2, 'kamallasqanmi': 2, 'yaku': 2, 'mayupas': 2, \"t'ikapas\": 2, 'tutayanga': 2, 'takita': 2, 'llakikuyllan': 2, 'qowasunchis': 2, 'waqan': 2, 'tarikushan': 2, 'kawsakushan': 2, 'hamunga': 2, 'apakapuq': 2, 'diosllapaq': 2, \"t'aqawasunman\": 2, 'taytallanchista': 2, 'tukanakunawan': 2, 'takillasun': 2, 'taytayku': 2, 'kasukuqta': 2, 'rikusqata': 2, \"hallp'allamanta\": 2, \"rikch'ayninman\": 2, 'pantalla': 2, \"rikch'aychis\": 2, 'pisiñan': 2, 'chayri': 2, 'kallpanchasqan': 2, 'serviypi': 2, 'tu': 2, 'payllapunitaq': 2, 'wayratapas': 2, 'qhepallatañan': 2, 'payllatapuni': 2, 'atiypas': 2, 'qorita': 2, 'qoripas': 2, 'hamukuytan': 2, 'kawsayninchispi': 2, 'kusikullasun': 2, 'kusisqapuni': 2, 'iñiyninchispi': 2, 'napaykuyki': 2, 'dioslla': 2, 'yuyarikuy': 2, 'diosllanchistan': 2, 'quechua': 2, 'sonquyman': 2, 'wañusqa': 2, 'wiña-wiñaypaqña': 2, 'wasinta': 2, 'huchallaywanmi': 2, 'yachaytaya': 2, 'nisunkim': 2, 'punchawpipas': 2, 'ñoqapa': 2, 'llaqtay': 2, 'kayllay': 2, 'mundopiqa': 2, 'chayamunña': 2, 'taytanchikta': 2, 'yawarnillanta': 2, 'hamuchkanna': 2, 'rikchapakusun': 2, 'listullaña': 2, 'reqsikuykuy': 2, 'waqaychaqmi': 2, 'salvasunkim': 2, 'manama': 2, 'pusanampaq': 2, 'suma-sumaq': 2, 'makillampi': 2, 'takipuni': 2, 'qosunchik': 2, 'taytanchikman': 2, 'ninqam': 2, 'qatiyta': 2, 'sechum': 2, 'dejawaychu': 2, 'kawsallani': 2, 'manchaychu': 2, 'persicucionchun': 2, 'tribulacionchun': 2, 'jesusllaymanta': 2, 'mamaychun': 2, 'taytaychun': 2, 'apulla': 2, 'kaychun': 2, 'ricolla': 2, 'imanillankim': 2, 'allpallapas': 2, 'piñakuynin': 2, 'rabiakuynin': 2, 'palabran': 2, 'qamunanmanta': 2, 'wakincha': 2, 'sonquykiwan': 2, 'manasa': 2, 'reqsiykachiway': 2, 'chayamunanpaq': 2, 'por': 2, 'nos': 2, 'iremos': 2, 'nuestra': 2, 'tierra': 2, 'conjunto': 2, 'tutamantallam': 2, 'ripusaqku': 2, 'paniykuna': 2, 'tantam': 2, 'almaymi': 2, 'chuyam': 2, 'punchawpuni': 2, 'cuidakuwan': 2, 'cruznimpi': 2, 'satanasta': 2, 'waqaymantaqa': 2, 'qusun': 2, 'llata': 2, 'mañakuy': 2, 'kaqmi': 2, 'mundoqa': 2, 'llaqtayqa': 2, 'salvakuqta': 2, 'kuyaqllay': 2, 'kuyanaypaq': 2, 'serviy': 2, 'yachananpaq': 2, 'waqayllam': 2, 'ruraspa': 2, 'uyarincho': 2, 'kawsayniyuq': 2, 'jesusllanchikpa': 2, 'huchallata': 2, 'kuyan': 2, 'qatikullasunchik': 2, 'qayakuyki': 2, 'espiritumanta': 2, 'nillawanchik': 2, 'ruraykuway': 2, 'wiñananpaq': 2, 'qollqe': 2, 'chaynam': 2, 'kallachkanchik': 2, 'qawarikuy': 2, 'chaskakunata': 2, 'churillanpaq': 2, 'wakllay': 2, 'wata': 2, 'rimachkan': 2, 'remachkan': 2, 'punchawpi': 2, 'kutimunay': 2, 'kuyakusqay': 2, 'tukullanqa': 2, 'chinkaripunqa': 2, 'grasciastam': 2, 'animalkunapas': 2, 'tukuylla': 2, 'sunquykuwan': 2, 'mamallaykupaq': 2, 'kusichispa': 2, 'hukmanyanki': 2, 'intuykusqan': 2, 'willakusunchik': 2, 'atiymanchu': 2, 'kanchik': 2, 'armanta': 2, 'supaytaqa': 2, 'kallpanwanchu': 2, 'espadawan': 2, 'kallpanchakuspa': 2, 'kallpanchasqa': 2, 'hamuychik': 2, 'hamurqa': 2, 'munachkan': 2, 'taytayllay': 2, 'qamllañaya': 2, 'runakunam': 2, 'ñuqam': 2, 'suyallachkani': 2, 'niwasqanta': 2, 'llunpayta': 2, 'reqsikuspa': 2, 'kuyakuyllayki': 2, 'churillaykipaq': 2, 'sunqullaymi': 2, 'qepallaykita': 2, 'qatinaykupaq': 2, 'kamachiway': 2, 'cruznin': 2, 'calvariope': 2, 'listuña': 2, 'puyo': 2, 'pita': 2, 'diosniymantaqa': 2, 'rikurimuptinmi': 2, 'ukumanta': 2, 'rikuykullasunchik': 2, 'puyupa': 2, 'iñiqkunam': 2, 'kanqacho': 2, 'reqsispaymi': 2, 'churan': 2, 'rurallasqaymanta': 2, 'huchallaytam': 2, 'mayllaykullaway': 2, 'espirituykiwanya': 2, 'munayniyuq': 2, 'alaballasaq': 2, 'rimapayawan': 2, 'jesuslla': 2, 'servinanchikpaq': 2, 'qamkunapaq': 2, 'qamkunapas': 2, 'wanuq': 2, 'qayaykullawarqa': 2, 'salvaykullawanña': 2, 'llaqtapim': 2, 'waqaychallawasun': 2, 'jesusllam': 2, 'sonquwan': 2, 'salvaykuwanki': 2, 'coronaykitam': 2, 'hamullanki': 2, 'qepa': 2, 'punchawtam': 2, 'manas': 2, 'runallas': 2, 'yakullamanta': 2, 'kachkaptiy': 2, 'muyuwaptimpas': 2, 'salvaqninchikta': 2, 'diosnillanchikqa': 2, 'tarillani': 2, 'waqastinpas': 2, 'diosniymanta': 2, 'karunchasqa': 2, 'hamullani': 2, 'kuyaqnillay': 2, 'wanukunay': 2, 'payllatam': 2, 'mañasun': 2, 'diablo': 2, 'nillarqa': 2, 'qatar': 2, 'purirqa': 2, 'pedro': 2, 'churinmi': 2, 'kichariy': 2, 'jesustam': 2, 'chaynapunim': 2, 'evangelion': 2, 'diosllanchikta': 2, 'kawsakuy': 2, 'diosllanchikman': 2, 'huchallapichum': 2, 'huchaykitaqa': 2, 'kasukuchkankicho': 2, 'niwanchik': 2, 'kasukuy': 2, 'kasukuspaqa': 2, 'diosninchik': 2, 'chaskinankupaq': 2, 'kaptinmi': 2, 'ruegakamullayki': 2, 'diosnillaymanta': 2, 'huchataraq': 2, 'ruegamullayki': 2, 'riman': 2, 'qawaq': 2, 'astawanraq': 2, 'niraq': 2, 'qamllapaqña': 2, 'maytam': 2, 'llakikuywan': 2, 'kawsanampaq': 2, 'yaykunqa': 2, 'aswanqa': 2, 'wasinmanqa': 2, 'kasuptikiqa': 2, 'ñakasqa': 2, 'mantam': 2, 'llay': 2, 'kastapa': 2, 'waqaychaqninqa': 2, 'vidallaykita': 2, 'munanki': 2, 'yawarninwanmi': 2, 'puñuspalla': 2, 'español': 2, 'simipi': 2, 'llapantachu': 2, 'entienderqaniku': 2, 'graciasya': 2, 'de': 2, 'qellqaykimanta': 2, 'kawsachkanki': 2, 'cuenta': 2, 'qawariychik': 2, 'kawsanku': 2, 'diosllataq': 2, 'kusikullasunchik': 2, 'leon': 2, 'muyuriykuwachkan': 2, 'purispapas': 2, 'yanapaykullayña': 2, 'castigonta': 2, 'kaspaykiqa': 2, 'churinkunam': 2, 'kutimunallanta': 2, 'sipaskuna': 2, 'chayaramunqanam': 2, 'ripukunanchikpaq': 2, 'puriqqa': 2, 'punkuta': 2, 'hamungaña': 2, 'iñiqtam': 2, 'rinanchikpaq': 2, 'watataq': 2, 'watakuna': 2, 'asuykusunchik': 2, 'manakusunchik': 2, 'sonqullaywan': 2, 'willakuni': 2, 'adorallasunchik': 2, 'senor': 2, 'apakuway': 2, 'intullawan': 2, 'muyullawan': 2, 'salvaqniymi': 2, 'chayamuptin': 2, 'qora': 2, 'chaskiykullayña': 2, 'chaskinaykipaq': 2, 'nuqa': 2, 'saqespam': 2, 'kawsananchikpaq': 2, 'kutiriykamuy': 2, 'ripunanchikpaq': 2, 'churikina': 2, 'kallaspay': 2, 'willayta': 2, 'apawasun': 2, 'qepaykuspa': 2, 'huchaykiwan': 2, 'condenasqam': 2, 'waqallanki': 2, 'kutimuyña': 2, 'churikita': 2, 'confiakuni': 2, 'horapitaq': 2, 'yawarnin': 2, 'yuraqyachin': 2, 'simillantaqmi': 2, 'diosniytapuni': 2, 'supaypa': 2, 'kusikuyllaraq': 2, 'kutimullaptin': 2, 'mayñacha': 2, 'musoq': 2, 'imallaraq': 2, 'sonqullay': 2, 'urmay': 2, 'cuidawanmi': 2, 'huqariwan': 2, 'cheqaptachum': 2, 'listo': 2, 'kutirispa': 2, 'qawarillaway': 2, 'atiynikiwan': 2, 'kallarqani': 2, 'yawarllanwan': 2, 'ñoqallaypa': 2, 'señorllayqa': 2, 'supayllata': 2, 'taytallayqa': 2, 'unanchakuqta': 2, 'kasqampi': 2, 'pachataqa': 2, 'kutimunqañam': 2, 'huchanchikmanta': 2, 'kallachkanki': 2, 'espiritunwanmi': 2, 'sutinmi': 2, 'jonás': 2, 'churintam': 2, 'diosllanchik': 2, 'llumpa-llumpayta': 2, 'pipa': 2, 'wakiqninmi': 2, 'infiernopaq': 2, 'ñannillaykipi': 2, 'willanaykupaq': 2, 'waqaychawayku': 2, 'semillaykita': 2, 'sutiki': 2, 'kawsaymanmi': 2, 'pim': 2, 'runapaqmi': 2, 'huchapa': 2, 'churillantam': 2, 'nacipuwananpag': 2, 'chaskikuyki': 2, 'tarikullachkan': 2, 'cuerpoymi': 2, 'libraykullaway': 2, 'jesucristollay': 2, 'huqarillaway': 2, 'qoykullawaspayki': 2, 'wañunallaymanta': 2, 'qayaykullawanki': 2, 'jesusllanchikta': 2, 'listulla': 2, 'nitag': 2, 'hatu-hatun': 2, 'kuyakuyki': 2, 'pachapim': 2, 'iñiyllata': 2, 'satanaspa': 2, 'makinwanmi': 2, 'qespichiqmi': 2, 'sumag': 2, 'churaykuwanki': 2, 'amapunim': 2, 'muyusuptiki': 2, 'huchakuna': 2, 'yuyaymanay': 2, 'qellqapi': 2, 'qespichirqa': 2, 'salvaqniy': 2, 'cielollanman': 2, 'libraykuway': 2, 'reqsichiway': 2, 'hamusuptiki': 2, 'tupaykusunchik': 2, 'kawsachkanpunim': 2, 'pusakuwachkan': 2, 'ñawinpas': 2, 'makinpas': 2, 'chakinpas': 2, 'asuykuq': 2, 'suyaq': 2, 'salvaqnillanchikqa': 2, 'angelninkunapas': 2, 'alabanmi': 2, 'kuna': 2, 'palawan': 2, 'llama': 2, 'maskaykuchkan': 2, 'cielomantam': 2, 'kuyakuynin': 2, 'kuyakunim': 2, 'kawsachiqniyta': 2, 'tutayaypim': 2, 'salvasqaña': 2, 'chaskiykunampaq': 2, 'allinninpaq': 2, 'diosnillanchikmi': 2, 'infierno': 2, 'nisqanmi': 2, 'liw': 2, 'manapunichum': 2, 'chiqaptapunim': 2, 'lapa': 2, 'supayqa': 2, 'taytata': 2, 'kasusun': 2, 'nacesqanta': 2, 'llaqtamanmi': 2, 'kasarakuyta': 2, 'paytapas': 2, 'almallaykita': 2, 'salvaqllanchikman': 2, 'yachakuchkankim': 2, 'huchaykimanta': 2, 'kuyawaspanchik': 2, 'huchallapiña': 2, 'kusiypi': 2, 'unanchaq': 2, 'miski': 2, 'jesuswanqa': 2, 'kuskaña': 2, 'kawsamusun': 2, 'kutimullanga': 2, 'rikuykullaspa': 2, 'llapallanmi': 2, 'rikuykullasun': 2, 'kawsarimunqa': 2, 'rikurinqa': 2, 'yachasqayki': 2, 'wañuqkunam': 2, 'nawpaqtaqa': 2, 'hamuyninqa': 2, 'kaptikiqa': 2, 'rikuykusqanta': 2, 'challwakunata': 2, 'rikchaynikiman': 2, 'rikchayniyuqta': 2, 'ruraykurqanki': 2, 'tupananpaq': 2, 'bibliam': 2, 'uyarichkaspa': 2, 'chaskikuspayki': 2, 'kachamullarqa': 2, 'negarqayki': 2, 'huñuykuwasun': 2, 'wañuymantapas': 2, 'imanasqataq': 2, 'kawsaytam': 2, 'qespichiqniytaqa': 2, 'yawarllaykiwanmi': 2, 'churintaqa': 2, 'qamllatapunim': 2, 'kawsakurqani': 2, 'wañuyniyta': 2, 'kawsayllayta': 2, 'chinkachinaypaq': 2, 'kichariykuway': 2, 'yapaykullaway': 2, 'yachanallaypaq': 2, 'richkaqtam': 2, 'qawariwarqanchik': 2, 'salvaykamuy': 2, 'wañusqanwan': 2, 'asukaykamullay': 2, 'qatikullanki': 2, 'mayllaykusunki': 2, 'punchawnintapuni': 2, 'yuyariykusunchik': 2, 'kichkamanta': 2, 'kawsarimullarqa': 2, 'salvayta': 2, 'caminando': 2, 'con': 2, 'encontraremos': 2, 'mejor': 2, 'qoykuq': 2, 'cruzpim': 2, 'maskaykuy': 2, 'jesuman': 2, 'kallpatapas': 2, 'munawaspa': 2, 'urpi': 2, 'yaykumuy': 2, 'sonquypi': 2, 'pachapiña': 2, 'chinkachispa': 2, 'qatispaqa': 2, 'iskayrayasqa': 2, 'quchallapiña': 2, 'yuyariq': 2, 'despa': 2, 'kachkaptin': 2, 'jesusnillaytaqa': 2, 'ñoqallayman': 2, 'urpikuna': 2, '¡señor': 2, '¿qhawarinkichu': 2, 'muhutaq': 2, \"t'akasqa\": 2, 'kaqtinmi': 2, 'askhatapuni': 2, 'rururqan': 2, 'nispanku': 2, 'waynatapas': 2, 'saqra': 2, 'sonqonpi': 2, 'tiyan': 2, 'huqnintaqmi': 2, 'huchasapakuna': 2, 'mayqen': 2, 'ñantachu': 2, 'cheqnikuqkunaqa': 2, 'llakikuyninpi': 2, 'atiyniyoqchu': 2, 'cheqnisqa': 2, 'espada': 2, 'wawakuna': 2, 'ñoqanchiswan': 2, 'saminchaykunqa': 2, 'yupaychaspanku': 2, 'chimpapunin': 2, 'yuyachiwan': 2, 'sufrisqayta': 2, 'niyman': 2, '¿mayumanchu': 2, 'qaqamanchu?': 2, 'qhapaqmanchu?': 2, 'mamay': 2, 'rosas': 2, \"t'ikan\": 2, \"p'unchaytaq\": 2, 'tayta-mamaq': 2, \"marq'ayninpi\": 2, 'chawpi': 2, \"ñut'u\": 2, 'waqaychanqa': 2, 'kawsanqa': 2, 'muchuymi': 2, 'khuchi': 2, \"ñak'ariykuspa\": 2, 'hinaspa': 2, '\"qan': 2, '\"churiy': 2, 'taytan': 2, 'makinkunata': 2, \"q'ochukuywanraq\": 2, 'urmaspa': 2, 'kanata': 2, 'qhelli': 2, 'casarasqaña': 2, '¿imatan': 2, 'ruwasaq': 2, 'jesucristopunin': 2, 'faraonpa': 2, 'kamachirqan': 2, 'moisespa': 2, 'huchaykunatapas': 2, 'munakuwanki': 2, 'angelmantapas': 2, 'munana': 2, 'runari': 2, 'kamachiykitan': 2, 'kasukusqayki': 2, 'maylliwaspayki': 2, 'wawaykitaqa': 2, 'mañakusqayta': 2, 'uyariykuway': 2, 'cheqaqpunin': 2, 'pachan': 2, 'vencespa': 2, 'sispañan': 2, 'apunchisqa': 2, \"sut'inchan\": 2, \"t'aqanpi\": 2, 'willanapaq': 2, 'siminman': 2, 'pachantinpi': 2, 'uyarin': 2, 'rimashan': 2, 'rimashan:': 2, 'kunanri': 2, 'suyakuyniy': 2, 'kawsarinpuy': 2, 'allinninchispaq': 2, 'qoriwan': 2, 'qelqasqa': 2, 'yanqanpaqmi': 2, \"t'iyu\": 2, 'maskhashan': 2, 'intiq': 2, 'kayniykita': 2, 'diosllawan': 2, 'maskhasharqani': 2, 'kayniypas': 2, 'siminpi': 2, 'nini': 2, 'kunallanpuni': 2, 'rishanki?': 2, 'rispaqa': 2, 'huchasapapaq': 2, 'contraykipiña': 2, 'rimaqtin': 2, '¡yupaychasqan': 2, '¡yupaychasqa': 2, 'wawakunaq': 2, 'qhawarispa': 2, 'kamapunin': 2, 'manulla': 2, 'ukyasun': 2, \"t'ikranman\": 2, 'pachak': 2, 'suwa': 2, 'unuq': 2, 'takinku': 2, 'mayupi': 2, 'munakuwanchis': 2, 'kashaqtinchismi': 2, 'qorqan': 2, '¿maytaq': 2, 'nispataq': 2, 'manachu': 2, '¿manachu': 2, 'señorwan': 2, \"sut'inchawan\": 2, 'rimaykuwan': 2, 'simintaqa': 2, 'waynakuna': 2, 'pampachananpaq': 2, 'takyanallaypaq': 2, 'rumiyarqon': 2, 'tapuykukuy': 2, 'apocalipsis': 2, 'promesankunata': 2, \"p'achawan\": 2, 'llaqtatan': 2, 'qelqapi': 2, 'simita': 2, 'juanmi': 2, 'askhapunin': 2, 'anti': 2, 'suyuta': 2, 'teqsi': 2, 'muyuntin': 2, 'atinman': 2, 'runachus': 2, 'pukaña': 2, 'karunchakuspa?': 2, 'khuyanakuy': 2, 'saqran': 2, 'watashan': 2, 'hinaraqmi': 2, 'qanllatan': 2, 'wañusqanta': 2, 'espadataq': 2, 'qaqakunan': 2, 'wañuytapas': 2, 'atipaspa': 2, 'wiñay-wiñaypaqña': 2, 'kaytaqa': 2, 'tarinman': 2, 'qolqechu': 2, 'kaspayku': 2, 'wañuspan': 2, 'yuyariykuwayku': 2, 'kaqtiykupas': 2, 'ñoqaykuwan': 2, 'munakusunkin': 2, 'rirqan': 2, 'asuykurqan': 2, 'ratopuni': 2, 'yachachisqankuna': 2, 'karqanku': 2, 'wakichikusun': 2, 'suyu': 2, 'uyarinanpaq': 2, 'kusikuyman': 2, 'almallaykitan': 2, 'huchallaykipi': 2, 'ñoqataqa': 2, \"k'anchasqan\": 2, 'sonqochu': 2, 'usphaman': 2, 'tukunki': 2, 'qhawariway': 2, 'chiripi': 2, 'qaqapi': 2, 'ñanniykita': 2, 'tutaraq': 2, \"p'unchayraq\": 2, 'qhawariypuni': 2, 'llaqtayta': 2, 'kunantaq': 2, 'yanapaqmi': 2, 'qespichikuqqa': 2, 'uma': 2, 'hatunchakuqtaqa': 2, 'chaninta': 2, 'hatunchasqa': 2, 'caná': 2, 'casarakuyta': 2, 'huñusqa': 2, 'iñiqkunapas': 2, 'qosunchis': 2, 'ñoqallayta': 2, 'waqachiwan': 2, 'llakichiwan': 2, 'tarinichu': 2, \"ñit'iykuwan\": 2, 'tariniña': 2, 'tarinqa': 2, 'ukhu': 2, 'rawraywan': 2, 'lot': 2, 'runallan': 2, 'iñinkichu?': 2, 'hinapunin': 2, 'usqhayllan': 2, 'yuyayninchispiwan': 2, 'sispaña': 2, 'khuyaytan': 2, 'wañuytaq': 2, 'qonki': 2, 'cuentata': 2, 'tukukushan': 2, \"q'osñi\": 2, 'tukukun': 2, 'usqhayllataña': 2, 'kanan': 2, 'ripunki': 2, 'qespicheqniypa': 2, 'kawsamusunchis': 2, 'jesusninchiswan': 2, 'diosniypaman': 2, 'qespichiqninchismanta': 2, 'yachachimusun': 2, 'qowasun': 2, 'yachachiwanchis': 2, 'iñiqkunaman': 2, 'rikuchisunchis': 2, \"hap'ipakusun\": 2, 'chayananchispaq': 2, 'qespichikuqwan': 2, 'yupaychanku': 2, 'angelkuna': 2, 'thunichinñataq': 2, \"wik'uñakunan\": 2, 'tarin': 2, \"q'achuta\": 2, 'puriykachanku': 2, 'phawaykachanku': 2, 'qoyllurkunapas': 2, 'yupasqallanmi': 2, 'reqsisqallanmi': 2, 'yachayninpas': 2, 'wiñay-wiñaymi': 2, 'phuyullanwanmi': 2, 'pakariykamun': 2, 'chayaykachimun': 2, 'rikhuriykuchin': 2, 'qankunawan': 2, 'qespicheqninchis': 2, 'wañusqan': 2, 'yupaychamusun': 2, 'hamuqman': 2, 'jesusllapin': 2, 'qespikuyqa': 2, 'manataqmi': 2, 'llakiypipas': 2, 'pampachaypas': 2, 'ñanllan': 2, 'rishan': 2, 'hakuchis': 2, 'pampachaway': 2, 'waqaychakuwan': 2, 'musphaychu': 2, 'yapasqan': 2, 'qespisqakunata': 2, \"k'anchashaq\": 2, 'chayayta': 2, 'sutillanman': 2, 'reyniyqa': 2, 'payllatan': 2, 'munakuni': 2, 'yuyaykukunin': 2, 'llanthu': 2, 'yanapawanqa': 2, 'intiña': 2, 'tutayaqtinpas': 2, \"k'anchaqtin\": 2, 'kallpachawanqan': 2, 'kaspaykipas': 2, 'yanapayniykiwan': 2, \"sach'aq\": 2, \"hunt'aykullaway\": 2, 'cristopaq': 2, 'hatunchanin': 2, 'munaychakun': 2, 'kachun\"': 2, 'yupaychaspanchis': 2, 'kuyuriy\"': 2, '¡diosninchista': 2, 'risaqpunin': 2, 'jesusnillaywanqa': 2, \"t'ikran\": 2, 'kicharini': 2, 'chaskikuqmi': 2, 'rimasqayqa': 2, 'yuyaykusqaypas': 2, 'kawsaqtiyki': 2, 'ñoqallawan': 2, 'qespisqan': 2, 'sutillaykitan': 2, 'wiñaymantapas': 2, 'saminchasqayki': 2, 'makillaykita': 2, 'waqaychawanqa': 2, 'kawsaynillanta': 2, 'qespichiwaqniy': 2, 'kawsayniypin': 2, 'simiykitaqa': 2, 'hatunpunin': 2, 'rantinchispi': 2, \"q'ochukuymi\": 2, 'qespisqakunapaq': 2, 'espiritutawan': 2, 'purisqaypi': 2, 'maskhaspa': 2, 'pampachasunkin': 2, 'patanta': 2, \"p'unchaykunan\": 2, 'watakunan': 2, 'wiñaypaqchu': 2, 'mañakuspan': 2, \"rikch'ayninta\": 2, 'munakuykiku': 2, 'qallariypiqa': 2, 'churillan': 2, 'puririsunchis': 2, 'qespiwan': 2, 'cuentatan': 2, 'qanpuni': 2, '¡gloria': 2, 'maylliwanki': 2, \"hich'asqaykiwan\": 2, 'thak-kaypi': 2, 'suyakuqkunaqa': 2, 'purinku': 2, 'kusikushanin': 2, 'thak-kaypiwan': 2, 'kamachiwan': 2, 'kacharichiwan': 2, 'willashani': 2, 'awqanchisqa': 2, 'atipasqañan': 2, 'simiyta': 2, 'iñiyniymi': 2, 'allinpuni': 2, 'hamushan': 2, 'sonqollanchiswan': 2, 'takinaypaq': 2, \"hunt'aykuy\": 2, 'lmaynaraq': 2, \"llank'anaypaqmi\": 2, 'hoqarisun': 2, 'qelqanta': 2, \"p'enqakuspa\": 2, 'chayraykun': 2, 'yayaman': 2, 'tiyakuy': 2, 'urmanaypaq': 2, 'kamachisqaykita': 2, 'chinkasqan': 2, 'yupaychaq': 2, 'llaqtanmi': 2, 'kashanchis': 2, 'hoqariwasun': 2, 'llapaykutaq': 2, 'wawqe-panay': 2, 'wakichishan': 2, 'llallispa': 2, 'tarisqan': 2, \"p'uchukay\": 2, \"q'ochurikuypi\": 2, 'qowankiku': 2, 'panalláy': 2, 'qayllañan': 2, 'kutiymanchu': 2, 'illarimuqtin': 2, 'tutayaykuqtin': 2, 'asuykunin': 2, 'qespichisqanta': 2, \"¡q'ochukuypi!\": 2, '¿imanasqan': 2, \"p'unchaykuna\": 2, 'chayamun': 2, 'hukllachakuspa': 2, 'rikukuspay': 2, 'kamachisqanta': 2, 'kawsayllaman': 2, 'pusakapunanpaq': 2, 'niykikun': 2, 'qespikuymi': 2, 'thak-kaypas': 2, 'ñoqanchisraykun': 2, 'espirituykitaq': 2, 'venceyta': 2, 'mañakamullaykin': 2, 'pusanqa': 2, \"ñak'arishan\": 2, 'maskhashayki': 2, 'kutiqaspa': 2, 'huchakuspa': 2, 'yachani': 2, 'diosllapi': 2, 'willamuy': 2, 'yachachiy': 2, 'yanapay': 2, 'unuwan': 2, 'wawalláy': 2, 'sonqollaykita': 2, 'kutin': 2, 'huchallaykin': 2, \"p'uchukayninqa\": 2, 'nisqan': 2, 'qespichiqnillayta': 2, 'yupillaykitan': 2, \"q'ochukunaypaq\": 2, 'willakuspa': 2, 'cristomanta': 2, 'illarimuytan': 2, 'ñoqallaymi': 2, 'khuyaqniymi': 2, 'manaraqchu': 2, 'qolqetapas': 2, 'saminchayninta': 2, 'ninki:': 2, \"t'antaykimanta\": 2, 'riqsimunki': 2, \"llank'aspaqa\": 2, 'ofrendaspa': 2, 'qespinankupaq': 2, '¡cheqaqmi!': 2, 'hoqariykuspa': 2, 'kicharispa': 2, \"q'achukunapin\": 2, 'puriqmasilláy': 2, \"ch'askakunan\": 2, 'paskasunki': 2, \"ñit'isqanchu\": 2, 'qhawarikuy': 2, \"p'ampakuqta\": 2, 'aychaykita': 2, '¿hinallachu': 2, 'lliwpi': 2, 'sonqollaypin': 2, 'mañapushaykin': 2, 'mañapushayki': 2, 'glorianpiqa': 2, 'ñawpaqeykipi': 2, 'huchayoqta': 2, 'kawsaqtapas': 2, 'noé': 2, 'rikuspanmi': 2, 'wawankunan': 2, 'moisés': 2, 'qosqan': 2, 'niykurqan': 2, 'yachachikuq': 2, 'ruwaspa\"': 2, 'naceqqa': 2, 'kaqmanta': 2, 'kasqaykirayku': 2, 'supaywan': 2, 'qonanpaq': 2, 'sonqonmanta': 2, 'chaskikuychis': 2, 'rinanpaq': 2, 'manchakuyñachu': 2, 'qayllamuyki': 2, 'cuerpon': 2, 'chaskikullayki': 2, 'llumpaq-llumpaq': 2, 'waqaymantapas': 2, 'huchallaypin': 2, \"k'anchan\": 2, 'wiñaypaqñan': 2, 'niwaspa': 2, 'yayanmanta': 2, 'sonqollaypas': 2, 'qelqamanta': 2, 'bibliallan': 2, 'khuyaqniymantapas': 2, 'ruwaykunamanta': 2, 'iñiyllan': 2, 'muchuypas': 2, 'ripukushanin': 2, 'kaspaymi': 2, 'kusikusaq': 2, 'qelqanwan': 2, 'qonaypaq': 2, 'payllamantan': 2, 'hukllapas': 2, 'yachaspan': 2, 'hinataqa': 2, 'maymanpas': 2, 'lloqsimurqan': 2, 'espadayoq': 2, 'willakamuyki': 2, 'astawanmi': 2, 'almallaypaqpas': 2, 'wañuqmi': 2, 'yaqa': 2, 'uywaqlláy': 2, 'munawaspaykin': 2, 'huchaymantan': 2, 'kallarqan': 2, 'wichay': 2, 'rakirqan': 2, 'paqarimurqan': 2, 'llanllashaq': 2, 'churarqan': 2, 'almallaytapas': 2, 'qanllamanta': 2, 'kallpachaykuway': 2, 'waqyakamuyki': 2, 'chakiykimanmi': 2, 'maylliykukuway': 2, 'munaqnilláy': 2, 'qespichiqllaymi': 2, 'manaqa': 2, 'ruwarqospankun': 2, 'nacerqanki': 2, 'tiyakunaykipaq': 2, 'uywaqpas': 2, 'puñunan': 2, 'rantiykupi': 2, 'llapaykun': 2, 'vinopipas': 2, 'ñoqaykun': 2, 'qoykikun': 2, 'diosña': 2, 'saqeykuspan': 2, 'kasqanman': 2, 'qespichisqaqa': 2, 'kawsarimpunqa': 2, 'kuskallaña': 2, '!imañataq': 2, 'wayra': 2, 'jesusllayta': 2, 'ruwananpaq': 2, 'qayllaykimanmi': 2, 'almallaytan': 2, 'muyullawaqtinqa': 2, \"hunt'aykuwayku\": 2, 'sonqoykumanta': 2, 'sonqollaykuman': 2, 'chakiymanta': 2, 'huchallaypa': 2, 'qelqallayki': 2, 'yuyayniyta': 2, 'yuyanaypaq': 2, \"ch'uyayaykuchiway\": 2, 'tayta-maman': 2, 'ñoqapaqmi': 2, 'qolqe': 2, 'qatikullasqaykin': 2, 'haqayneqpi': 2, 'samakuq': 2, 'chakiykiman': 2, 'aparqan': 2, 'kawsarichillawan': 2, 'wañuyninwan': 2, 'ruwawan': 2, 'suyashasunkin': 2, 'hamunman': 2, 'kurkupi': 2, 'muchusqaymi': 2, 'chinkapunqa': 2, 'qespisqataq': 2, 'tukupunqa': 2, 'kaypichu': 2, 'munaykuspa': 2, \"ch'uyay-ch'uya\": 2, 'sapallaykin': 2, 'llapa-atipaq': 2, 'churiykita': 2, 'sutillayki': 2, 'wawallayki': 2, 'pampachasqa': 2, 'yayayku': 2, 'kachamun': 2, \"p'unchayninpiqa\": 2, 'calvariopin': 2, 'qespichiqninchista': 2, 'wañuspapas': 2, 'kawsarimpuq': 2, 'kutimunanta': 2, 'kutiykamunqa': 2, 'munakuyllayki': 2, 'yachaykachiwan': 2, 'takiykunaypaq': 2, 'maskhawarqanki': 2, 'kawsanallanpaq': 2, 'qopuyki': 2, 'wañunayta': 2, 'khuyasqa': 2, 'qespichikuqman': 2, 'kawsayniykipi': 2, 'ninqachu:': 2, \"q'aya\": 2, 'apunchisman': 2, 'saminchananpaq': 2, 'tukuchin': 2, 'diosninqa:': 2, 'purinchu': 2, 'tarirqankuchu': 2, 'willarqan': 2, 'willaqmi': 2, 'yawarniyki': 2, 'iñisaq': 2, \"hunt'ayta\": 2, 'iñisqayta': 2, 'simiyki': 2, 'yuyaylla': 2, 'qokuynin': 2, 'pentecostespi': 2, 'mañakuyta': 2, '¿imamantan': 2, 'manchakusun': 2, 'ayqespa': 2, 'khuyakuynillaykiwan': 2, 'wasiyqa': 2, 'kallpachawasunchis': 2, \"k'anchashan\": 2, 'reynillanku': 2, 'darioñataq': 2, 'aparqanku': 2, 'kusisqata': 2, 'reqsinsi': 2, 'qayllallanpi': 2, 'rantiwan': 2, \"hich'aspanmi\": 2, 'diosnillaytan': 2, 'kamachiyki': 2, 'sonqoymi': 2, 'kawsashasparaq': 2, 'ñukñu': 2, 'llaqtayoq': 2, 'qespichiqmanta': 2, 'uyariwasun': 2, 'simintachus': 2, 'kamachinmi': 2, 'makiykita': 2, 'pillutaña': 2, 'pusapunanpaq': 2, '¿qanri': 2, 'evangelioqa': 2, 'hamusuqtiyki': 2, 'huchallanta': 2, 'kusichikuq': 2, 'wawqe-panaykuna': 2, 'iñispayki': 2, 'kallpachakuy': 2, 'kashanqa': 2, 'pusanaykipaq': 2, 'chimpaykullayña': 2, 'willananchispunin': 2, 'mañakamuykikun': 2, 'atinki': 2, 'willakullay': 2, 'amigo': 2, \"llank'asaq\": 2, \"llank'ana\": 2, 'waqyan': 2, 'tupaykuspan': 2, 'qespichikuwan': 2, '¿imaynan': 2, 'llaqtakunan': 2, 'chayamunanta': 2, 'negaykushanki': 2, 'pillan': 2, 'pusamunaypaq': 2, 'kaqtiyki': 2, 'yuyayllayta': 2, 'ruwayta': 2, 'kasuyta': 2, 'yawarninmanta': 2, 'hamuway': 2, 'ruway': 2, '¿kikinmantachu': 2, 'willaqtiy': 2, 'taytaypa': 2, 'saksaykusqan': 2, 'kamasqaykipin': 2, 'pisiwan': 2, 'horqomuwarqan': 2, \"t'aqawasunchu\": 2, 'yuyaykukuy': 2, 'pillatachus': 2, 'servinaykipaq': 2, 'puriqchu': 2, 'khuyaqmi': 2, 'ñawiykuq': 2, 'rikusqanmi': 2, 'sonqoykuq': 2, 'yuyasqanmi': 2, 'gloriallanmi': 2, 'wasillanmi': 2, 'paywanpuni': 2, 'kananchista': 2, 'judiokunan': 2, 'apaykurqanku': 2, 'qaparirqanku': 2, 'hamukullayña': 2, 'hamunaykita': 2, 'nispayku': 2, 'usqhamullayña': 2, 'tususpaypas': 1, 'danzaspaypas': 1, 'dueño': 1, 'noqamanta': 1, 'yupaychaki': 1, 'arpawanpas': 1, 'requintuwanpas': 1, 'kawsakushaqtin': 1, 'pishi': 1, 'kawsashanmi': 1, 'hapishawan': 1, 'reqtekipas': 1, 'kashaq': 1, 'chasmi': 1, 'qopollayki': 1, 'kanbiaway': 1, 'manchakusaqchu': 1, 'qantaqa': 1, 'saqerparisunkichu': 1, 'wawankunataqasa': 1, 'qerpqriwasunchu': 1, 'ñanyan': 1, 'rikuchiwankiku': 1, 'qayllakipiqa': 1, 'qospallapunin': 1, 'qollana': 1, 'noqnchistaq': 1, 'canchis': 1, 'tutayanqa': 1, 'phuyupatapi': 1, 'rikuspankun': 1, 'turañañay': 1, 'kawshanki': 1, 'lischuñachu': 1, 'yupayhasun': 1, 'bndurriaq': 1, 'waqayniwan': 1, 'riqcharillaspaymi': 1, 'qoqui': 1, 'campupi': 1, 'mañakuynikita': 1, 'qonqarillankichu': 1, 'sonqokuna': 1, 'sonqochayta': 1, 'sonqoyoqkunaqa': 1, 'chaskinqanku': 1, 'churillantan': 1, 'huchachasqañachu': 1, 'nama': 1, 'quedapunqa': 1, 'jesúspi': 1, 'kausaytan': 1, 'tarisunchis': 1, 'kawsaymanni': 1, 'wakichisqan': 1, 'llaqtamanña': 1, 'jesúsniy': 1, 'saqeriykapuspa': 1, 'rikukapullasaq': 1, 'hamuntin': 1, 'saqeriykuspaña': 1, 'muyowaqtin': 1, 'tukaykunawan': 1, 'ruwakuwarqanchis': 1, 'kamakuwaqninchis': 1, 'qespichiwaqninchis': 1, 'paypallan': 1, 'sullpata': 1, 'sullpay': 1, 'nisunchis': 1, 'saminchasunchis': 1, 'kayninpas': 1, 'wiñaypaqmin': 1, 'wakichisqaña': 1, 'takimunaypaq': 1, 'suyuntinpi': 1, 'yupaychasaqku': 1, 'reqsichisaqku': 1, 'kaynikimanta': 1, \"ph'uyoq\": 1, 'haypashan': 1, 'diosnilayqa': 1, 'waqyakuwarqan': 1, 'uyariwan': 1, 'mañakuyniyta': 1, 'llapanchispa': 1, 'chawpillanpin': 1, \"marq'ariykuwan\": 1, 'qespeqllayqa': 1, 'saminchawan': 1, 'kawsakuyniypi': 1, 'phawarispa': 1, 'danza': 1, 'danzarispa': 1, 'pharispa': 1, \"ch'eqaqmi\": 1, \"k'anchaymi\": 1, 'chheqaq': 1, 'hatunchanaqa': 1, 'michiqmi': 1, 'qallariy': 1, 'atiyniyoqqa': 1, 'qespicheqniyqa': 1, 'saminchamusqayki': 1, 'ruwapuwasqanta': 1, 'pampaychakuwanqa': 1, 'onqoyniytapas': 1, 'qhalliyachiwanqa': 1, 'qespichiwaqniyqa': 1, 'saminchawaqniyqa': 1, 'egiptomantan': 1, 'orqorqan': 1, 'llaqtallata': 1, 'atiyñintan': 1, 'llapankuman': 1, 'moisesllata': 1, 'rimaykurqan': 1, 'qanllawanmi': 1, 'noqallayqa': 1, 'kasaqnispa': 1, 'llaqtallayta': 1, 'orqomuspayki': 1, 'yupaychawankichis': 1, 'moisesllaman': 1, 'apamurqan': 1, 'yanapaqta': 1, 'aaron': 1, 'musphanata': 1, 'rikuchispa': 1, 'llaqtanta': 1, 'kacharichirqan': 1, 'phunchaypi': 1, 'napaykukiku': 1, 'munakuyñinwantaq': 1, 'llapata': 1, \"p'istuykuwasun\": 1, 'noqanchisqa': 1, 'akllakusqan': 1, 'kamachimpaqpuni': 1, 'akllakuwarqanchis': 1, 'qonqariykullankichu': 1, \"p'unchayña\": 1, 'qaqata': 1, 'ñawpaqllamanpuni': 1, 'munakuqllañan': 1, 'huchachasqachu': 1, 'iñiqkunataq': 1, 'asuykamullay': 1, 'hatunchallasun': 1, \"ch'aska\": 1, 'qaqakunapas': 1, 'pastukunapas': 1, \"huch'uyaykukuspa\": 1, 'maskaqkunaqa': 1, 'paykunaqmi': 1, 'qapaqsuyo': 1, 'herenciankupaq': 1, 'tiyanallampi': 1, 'qatiykachasqakuna': 1, 'premioqa': 1, 'rimaykuwanchis': 1, 'profetaq': 1, 'uyarillasunchistaqmi': 1, 'guerakunaq': 1, 'llaqtapura': 1, 'maqanakullanqaku': 1, 'suyukuna': 1, 'suyupura': 1, \"ch'aqwariykullanqaku\": 1, \"ñak'ariykullanqaku\": 1, 'kallanqataq': 1, 'kuyuriypas': 1, 'wayrakunapas': 1, 'mancharisqa': 1, 'muspharinqaku': 1, 'chaykunaqa': 1, 'nanaypa': 1, 'qallqriyllanmi': 1, 'kutiricamuy': 1, 'tarikurqani': 1, 'nanaytan': 1, 'atiranñachu': 1, 'hampiykuyta': 1, 'wawallampaqmi': 1, 'chaskiykullawan': 1, 'tiyakunaypaq': 1, \"ch'askata\": 1, 'qoyllurkunata': 1, \"sach'ata\": 1, 'qhepallataña': 1, 'cheqasta': 1, 'qhawarichikun': 1, 'jesucristupi': 1, 'runakunataq': 1, 'kayninkupi': 1, 'kasqanku': 1, 'kutirikamuy': 1, 'qelqaman': 1, 'qayllaman': 1, 'wicharqan': 1, 'bote': 1, 'patakamaraqmi': 1, 'yachachinanpaq': 1, 'chaymantan': 1, \"riqch'anachikuy\": 1, 'simiwan': 1, \"t'akaq\": 1, 'chawpiman': 1, 'chayaspataq': 1, 'rurunchu': 1, 'chayaspa': 1, 'pachaqta': 1, 'chunkatawan': 1, 'huntákunqa': 1, 'llapanmi': 1, 'nanaypin': 1, 'kanqaku': 1, 'yawraypi': 1, 'kasuq': 1, 'iñiqkunapaqñataqmi': 1, 'kusikuyllaña': 1, 'chaninkaytawanmi': 1, 'chanintapunin': 1, 'yuyaymanta': 1, 'ruwaymantapas': 1, 'runamasiymanta': 1, 'rimanaymantapas': 1, 'hatunchakuymanta': 1, 'kaqniywampas': 1, 'chaninkaynikiwan': 1, 'purichiway': 1, \"k'anchachiqta\": 1, 'chaska': 1, 'hallpakuna': 1, \"t'aqllakuywan\": 1, 'yayallata': 1, 'ichukuna': 1, 'tíkakuna': 1, 'animaltakunatapas': 1, \"ch'eqaq\": 1, 'atiynillanmanta': 1, 'siminchiswan': 1, 'añaychaspa': 1, 'takiykusun': 1, \"t'aqllakuspan\": 1, 'khunanmanta': 1, 'lloqsimuymantapas': 1, 'haykuykapunan': 1, 'suyukunapipas': 1, 'sheqaq': 1, 'atiyñinqa': 1, 'hanaqpachantintan': 1, 'musphanan': 1, 'kamawasqanquin': 1, 'rikchakuqta': 1, 'mamaypa': 1, 'wiksampi': 1, 'kasha': 1, 'llaqtiyraqmi': 1, 'akllakuwanki': 1, 'kamawarqanki': 1, 'ruwaykunapaqmi': 1, 'rikchakuyta': 1, 'munakuymi': 1, 'panpachaymi': 1, 'chaninchaway': 1, 'kawsaymanñachu': 1, 'qhelqaykiman': 1, 'purichillaway': 1, \"chh'eqasta\": 1, 'munayñiykiman': 1, 'ruwasqaykikuna': 1, 'punchayta': 1, 'tutapaq': 1, 'chaskapas': 1, 'kallasqayki': 1, 'kaspataq': 1, 'lliphiphiphishan': 1, 'rikuy': 1, 'yachaq': 1, 'haqtiypas': 1, 'rikuqnillayqa': 1, 'yuyaykusqayta': 1, 'yachaqllaqa': 1, 'hallpata': 1, 'chakun': 1, 'sumaqqa': 1, 'sonqochawanki': 1, 'kallpachawanki': 1, 'qhaliyaytapas': 1, 'qoykuwaqniymi': 1, 'munakuynikin': 1, \"h'unt'asqapuni\": 1, 'kuyakuyniykin': 1, 'masiyña': 1, 'cheqniwaqtimpas': 1, 'pampachaytapas': 1, 'yachachiwankin': 1, 'simillaykipin': 1, \"sut'inchawanki\": 1, 'chheqastaqa': 1, 'kawsanallaykumanta': 1, 'huntá': 1, 'taki': 1, 'kamasqaykitan': 1, 'rimashani': 1, \"misk'itan\": 1, 'kayninman': 1, 'ruruchillanqa': 1, 'munakuytapas': 1, 'pacienciatapas': 1, 'maskaypuni': 1, \"hunt'aypuni\": 1, 'munaypuni': 1, 'rimasqanchis': 1, 'ískay': 1, 'huqnintan': 1, 'huqninmanmi': 1, \"k'askakunman\": 1, 'pisichanman': 1, 'idolotawan': 1, 'saqratawanqa': 1, 'runa-masilláy': 1, 'ínfienomanmi': 1, 'qonqapuychu': 1, 'yachachikuyniykunata': 1, 'sónqoykipi': 1, 'waqaychashay': 1, 'unayta': 1, \"t'ikarinki\": 1, 'munakuqllapuni': 1, 'rikuchishallaypuni': 1, 'chaykunataqa': 1, 'yuyashallaypuni': 1, 'qhawarisqapas': 1, 'nisqapas': 1, 'kasukuqllapuni': 1, 'wawqashawanchis': 1, 'kasukullayña': 1, 'yuraqyachisaq': 1, 'uyariwaspa': 1, 'kasukuqkunaqa': 1, 'hallphaq': 1, 'allín': 1, 'ruruntan': 1, 'mikhunkichis': 1, 'kasukusunchis': 1, 'llapiypin': 1, 'rikukullanki': 1, 'kasarakuq': 1, 'napaykamuykikun': 1, 'wakichirqan': 1, 'kasarakuytaqa': 1, 'kusisqallaponi': 1, \"sut'itan\": 1, 'iskayñachu': 1, \"ch'ullallañan\": 1, 'kapunki': 1, 'qallariypas': 1, 'kaynillakimanta': 1, 'wianayllapaq': 1, 'kashaychis': 1, 'horatachus': 1, 'hamunaytaqa': 1, 'yachankichischu': 1, 'suyakushasun': 1, 'hamunantaqa': 1, 'señornillanchis': 1, 'wawankunaqa': 1, 'señorninchiswan': 1, 'ripuspanchisqa': 1, 'thaq': 1, 'muspharishan': 1, 'iñiyninkutataq': 1, 'chinkachipushanku': 1, 'muyuykamuwanku': 1, 'señorllaytaña': 1, 'hamunaykama': 1, 'pisiyaspa': 1, 'diosnillaytaña': 1, 'qolqellanchiswanchu': 1, 'qorinchiswanpaschu': 1, 'qespikuytaqa': 1, 'almallanchispaq': 1, 'kayninchispas': 1, 'kaqninchispas': 1, 'chinkapunka': 1, 'diosminchista': 1, 'nawpaqta': 1, 'maskhasun': 1, 'osqhaytayá': 1, 'haskha': 1, 'ruñan': 1, 'nigaspanku': 1, 'musphashanku': 1, 'biblian': 1, 'yawray': 1, 'kanantaqa': 1, 'kutirimuy': 1, 'watamanraq': 1, 'qonqayllan': 1, 'kutimunka': 1, 'yachasqanchis': 1, 'listoñachu': 1, 'ripukunanchispaq': 1, 'orkokunata': 1, 'nikullani': 1, 'ladomantan': 1, 'kamariqqa': 1, 'payllataqpunin': 1, 'qechuqpas': 1, 'payllamanta': 1, 'waqyakusunchis': 1, 'yanapakuyta': 1, 'waqaychaq': 1, 'cuidaykuwasun': 1, \"rekch'aqpas\": 1, 'rikushawanchis': 1, 'qhawashawanchis': 1, 'kawsaynonchista': 1, 'rikuqpas': 1, 'phuyoq': 1, 'ripukullasunchis': 1, 'kusikuyllan': 1, 'diosninchistan': 1, 'rikusunchis': 1, 'qopuwasun': 1, 'premiotañan': 1, 'chaskiykullasunchis': 1, 'diostan': 1, 'angelninkunawan': 1, 'ruwasqantaqa': 1, 'qonqasaqchu': 1, 'huchakunata': 1, 'panpachawan': 1, 'diosmillaymi': 1, 'saminchaykuwaqniyqa': 1, 'chawmi': 1, 'wawaykuna': 1, \"rit'iman\": 1, 'yuraqyachisqa': 1, 'makinta': 1, \"mast'arispa\": 1, 'huchaykichis': 1, 'willmatapas': 1, 'haswan': 1, 'yuraqmi': 1, 'hampuy': 1, 'waqyashawanchis': 1, 'tarinanchispaq': 1, 'willawanchis': 1, 'amós': 1, 'ocho': 1, 'onsillapi': 1, \"sut'inchashawanchis\": 1, \"ch'akiy\": 1, 'mikhuna': 1, \"ch'akiymi\": 1, 'tuyaq': 1, 'diosnista': 1, 'yachanchismi': 1, 'qasqanta': 1, 'kamakuwarqanchis': 1, \"rikch'akuqta\": 1, 'sirvinapaq': 1, 'llantanpunin': 1, 'intipi': 1, 'killapi': 1, \"ch'askapi\": 1, 'llamanmi': 1, 'mancharikunqaku': 1, 'panpakuna': 1, 'kuyuriqtin': 1, 'chhaqchikuymi': 1, 'chayniqpi': 1, 'yarqaykuna': 1, \"k'anchariywan\": 1, 'phuyupi': 1, 'valekamuykin': 1, 'ñanñillaykita': 1, 'servinallaypaq': 1, 'munaynikita': 1, \"hunt'anallaypaq\": 1, 'unukunapas': 1, 'yarqhanta': 1, 'noqari': 1, 'puriykusharqam': 1, 'phawarisharqani': 1, 'atipasqan': 1, \"fit'iykusqan\": 1, 'tarirqaniñachu': 1, 'reqsirqaniñachu': 1, \"k'anchayniyog\": 1, 'diosnillayoq': 1, 'rishaqta': 1, 'rimaykullawarqan': 1, 'waqyakullawarqan': 1, 'wakman': 1, 'wañspaymi': 1, 'tukurqani': 1, 'maylliykuwarqan': 1, 'ñakariyninwan': 1, 'qespichikuwarqan': 1, 'iskayariq': 1, 'runamasi': 1, 'qonqarikuspayki': 1, 'uspallata': 1, 'kicharillay': 1, 'kallpanchallasunki': 1, 'huchallaykiq': 1, 'musphachisqan': 1, 'waftuymanmi': 1, 'apasunki': 1, 'qhawarillay': 1, 'ifiy': 1, 'suyakushallay': 1, 'qollasunki': 1, 'akllakurqasunki': 1, 'kanaykipay': 1, 'manara': 1, 'paqarimushallaqtiyki': 1, 'runnta': 1, 'usqhayllatapuni': 1, 'yurnqyarinqa': 1, 'munakuyninpin': 1, 'hunpuway': 1, \"sayk'usqukuna\": 1, \"q'epiyoqkuna\": 1, 'chinpaykamuychis': 1, 'khaynata': 1, \"llanp'ullan\": 1, \"huch'uyaykukuq\": 1, 'hamullawaychis': 1, \"sayk'usqakuna\": 1, 'samarikuytan': 1, 'tarillankichis': 1, 'almaykichispaq': 1, 'chispaykullayna': 1, 'waqyakusqnnata': 1, 'uyarillaya': 1, 'jesusqal': 1, 'hanaqpachamantan': 1, 'qespinanpaqpuni': 1, 'laqhayasqan': 1, 'qatiqkuna': 1, 'dipsmi': 1, 'lests': 1, 'qonqarikuspanku': 1, 'manapas': 1, 'wañuqchu': 1, 'chinkaripushanku': 1, 'nishan': 1, 'qespikunanpaqqa': 1, 'minaq': 1, 'iñigo': 1, 'espinosa': 1, 'mosuqyachin': 1, 'kaynin': 1, 'chayamullaqtin': 1, 'imaynatpunin': 1, 'fitisqallan': 1, 'kawsaqtan': 1, \"wikch'upunqa\": 1, \"nak'ariyman\": 1, 'llakisqan': 1, 'chipaykuy': 1, 'chaskikuy:': 1, 'kusisqatan': 1, 'kawsuchillasunki': 1, 'wanay': 1, 'kawsaytataq': 1, 'hanaqmantan': 1, 'usqhayllanan': 1, \"sut'illatan\": 1, 'rikukunqa': 1, 'waqaypin': 1, 'rikukunqaku': 1, 'qespicheqninchisqa': 1, 'iskayniqmanmi': 1, \"t'aqanqa\": 1, 'yawrayman': 1, 'uyarinki': 1, 'qespichikuqllata': 1, 'maymanpunin': 1, 'jesusninehiswanchu': 1, 'tcha': 1, 'wifñay': 1, 'muchuymanchu': 1, 'punshanki': 1, 'kawsaymanchu': 1, 'wiflay': 1, 'wanuynanchu': 1, 'yuyaychaykukuspa': 1, \"hayk'aqkamapunin\": 1, 'wasanchaspa': 1, 'punchaykunan': 1, 'dlosninchisman': 1, 'chaskisunki': 1, 'sak': 1, 'unspa': 1, 'kaqtiykin': 1, 'kaqtıyki': 1, 'waluy': 1, 'tarpasunki': 1, 'karullapi': 1, \"fak'ariypi\": 1, 'quparinki': 1, 'dius': 1, 'nisparaq': 1, 'yaw': 1, 'yiyayman': 1, 'kutiris': 1, 'pachopi': 1, 'kanps': 1, 'masay': 1, 'geipi': 1, 'diosnillanchispunin': 1, 'hanpullayña': 1, 'yachaqakullaychis': 1, 'hamuqqa': 1, 'uyarikullayña': 1, 'kayniykin': 1, 'chinkaripullanqall': 1, 'llaqtanpiqa': 1, 'kawsakunki': 1, 'hakuchu': 1, 'masachaykukuspa': 1, 'simintataq': 1, 'espiritutaq': 1, \"llanp'ulla\": 1, 'songoyoq': 1, 'servisunchis!!': 1, 'qopuy': 1, 'hmanaña': 1, 'kasurikullayña': 1, 'wawvgellay': 1, 'iskayayohu': 1, 'diosral': 1, 'weeyasunki': 1, 'maskallaychispuni': 1, 'huchaykimantan': 1, 'horqollasunki': 1, \"ñak'ariq\": 1, 'jesusllanchismi': 1, 'qopullay': 1, 'qespichillasunki': 1, 'sonqollaykipitaq': 1, 'kawsakunqa': 1, 'wawallay': 1, 'chaskikykukullayna': 1, 'kasurikullayna': 1, 'chaypachaqa': 1, 'llakiyraq': 1, 'hamullasunki': 1, 'kutimullaqtinqa': 1, 'ñoqallantan': 1, 'haykullanki': 1, 'kawsaymanqal': 1, 'pantasqa': 1, 'kawsanaykipaql': 1, 'kawsanqan': 1, 'taytamanqa': 1, 'noqapi': 1, 'qespikunanapaql!': 1, 'iñikuqpaqqa': 1, 'kapullanqachu': 1, '1aswanpas': 1, 'yupaychakuqqa': 1, 'runakunapaq': 1, 'huchachasqan': 1, \"ñak'arillanqal\": 1, 'llakiykunapas': 1, 'pir': 1, 'images': 1, 'muskan': 1, 'cheqnikuqkuna': 1, 'onqoykunapàs': 1, 'manchana': 1, 'dayman': 1, 'punita': 1, 'allinlla': 1, 'hamullaqtinmi': 1, 'pimanpunitaq': 1, 'kalaikunda': 1, 'rumillatachu': 1, 'pakaykullaway': 1, 'yachayniyoqman': 1, 'phawarispalla': 1, 'qespichikuway': 1, 'saqepuspalla': 1, 'ñanllata': 1, \"wikch'upuspalla\": 1, 'maskallasun': 1, 'qospalla': 1, 'suyunman': 1, 'ripullasun': 1, 'sonqollamanta': 1, 'takikuspallan': 1, 'chayallasun': 1, 'wnqayllan': 1, 'kawsukuyta': 1, 'warmitan': 1, 'floqapas': 1, 'kawsashaspuqa': 1, 'taytallanchistan': 1, 'yarusqa': 1, 'allinpaq': 1, 'yuyaspan': 1, 'reqsispanku': 1, 'waqyakuynintapas': 1, 'uyarinkuchu': 1, 'yachaspaqa': 1, 'servikullay': 1, 'toyota': 1, 'qanllapunitaq': 1, 'yanapawanki': 1, 'yachallaspanku': 1, 'wawayki': 1, 'kanallankupaq': 1, \"sut'iytan\": 1, 'uyariykukuway': 1, 'paqarinmi': 1, 'qanmantan': 1, 'ruwayniykipas': 1, \"ch'isiyaqnintinpipas\": 1, 'pañuykuspapas': 1, 'yuyarini': 1, 'yanapawasqaykita': 1, 'llapaykuq': 1, 'manakamusqaykuta': 1, 'pisiyayta': 1, \"llank'ayniykipi\": 1, 'señoriy': 1, 'uyari': 1, 'kunaman': 1, \"k'anchayta\": 1, 'yuyaykunallawan': 1, 'yuyaykurallawan': 1, 'oespiqniy': 1, 'sehorllay': 1, 'panpachaykuway': 1, 'panaykunata': 1, 'ghawasp': 1, 'songallaymi': 1, 'riimiyayta': 1, 'horqowanki': 1, 'kawsaytan;': 1, 'purishaqtiy': 1, 'chayamullawarqan': 1, 'alliyanki': 1, 'samakuyta': 1, 'khuyaqnillayqa': 1, 'maylliykuqniyqa': 1, 'reqsikullayki': 1, 'yachaynillaytan': 1, 'wananallaypag!!': 1, 'piga': 1, 'waqa': 1, 'ladkiyan': 1, \"ch'aqchuyllan\": 1, 'mirariykushan': 1, 'kutimullayna': 1, 'horqollawaynall': 1, 'taytallayqanllan': 1, 'ñoqallaypaqqa': 1, 'pisillawanqachu': 1, 'wifarimuq': 1, 'pastokunapin': 1, 'samakachiwanki': 1, 'pusawanki': 1, 'yakukunapa': 1, 'haukalla': 1, 'samananmanraqmi': 1, 'tarikuqtiypas': 1, 'kallpanchaykuwankin': 1, \"wayq'onta\": 1, 'pusakuwanki': 1, 'wiñanaykupaq': 1, 'nanniykupi': 1, 'hama': 1, 'khuyapayaykukuway': 1, 'tikraykapullaway': 1, 'munayniykiman': 1, 'jesullay': 1, 'qespichikullawayña': 1, 'yanapaykukullaway': 1, 'panpachayta': 1, 'mañaspa': 1, 'ruwasqalla': 1, 'niraqpipas': 1, 'tantallaykita': 1, 'kawsanaykupaq': 1, 'servikunallaypaq': 1, 'huchaykutaya': 1, 'pampachay': 1, 'allinkunamanta': 1, 'qespikuytaya': 1, 'atiyniykipas': 1, 'wiñaynintinpaqpas': 1, 'qanmanmi': 1, 'wawallaykita': 1, 'chayamunay': 1, 'nanniyki': 1, 'tiyanaypaq': 1, 'waqayna': 1, 'musphayña': 1, 'setter': 1, 'saqerpariwaykuchu': 1, 'qayllaykipin': 1, 'urmayman': 1, 'kaqtiypas': 1, 'wawallaykipuni': 1, 'iwatuy': 1, 'chayamuwaqtinpas': 1, 'kasikayta': 1, 'munashani': 1, 'qhawarimuwayku': 1, 'llakipayarikullawayku': 1, 'kawsaypiqa': 1, 'sasallan': 1, 'khuyakuyniykiqa': 1, 'munakuynillaykiqa': 1, 'hatuntaqmi': 1, 'yanapariwayku': 1, 'kawsakunallaykupaq': 1, 'santollaykiwanqa': 1, 'nawpaqman': 1, 'pusakullawayku': 1, 'rupharichillawayku': 1, 'uyariykullawaykupuni': 1, 'wawaykikunaman': 1, 'kasarakuyninkupi': 1, 'rimaykuy': 1, 'simiykikunallawan': 1, 'saminchaynillaykita': 1, 'qoykamuypuni': 1, 'paykunaman': 1, 'servikamunankupaq': 1, 'pusariy': 1, 'llakikuypiña': 1, 'kaqtinkupas': 1, 'kusirichiy': 1, 'waqyakullasqayta': 1, 'llakipayawaspa': 1, 'kutichimullaway': 1, 'rimapayarqanki': 1, 'yanapaykunaypaq': 1, 'maskawaychis': 1, 'qanllatapunitaq': 1, 'rimapayarqayki': 1, 'pakaykullawaychu': 1, 'taytayña': 1, 'saqeruwaqtinpas': 1, 'uywakullawanki': 1, 'yayllay': 1, 'uayarillaway': 1, 'kaqniytan': 1, 'chaki-makiyta': 1, 'jesuqa': 1, 'nishallawanchis': 1, '&': 1, 'chawanchis': 1, 'mañakullaychis': 1, 'qollasunkichismi': 1, 'maskaqtinchisqa': 1, 'munaynillanta': 1, 'ruwaqtinchisqa': 1, 'ñañayllay': 1, 'taytawanqa': 1, 'tarillasunpunin': 1, 'wawanchismanqa': 1, 'mañakuqtinqa': 1, 'qollanchispunin': 1, 'astawanraqmi': 1, 'mañakuqtinchis': 1, 'qollawasunchismill': 1, 'kamag': 1, 'nanniykita': 1, 'qatikamuspayku': 1, 'horqowayku': 1, 'qelqaykiqa': 1, \"sut'inchallawankun\": 1, 'munakuyniyku': 1, 'chinkananta': 1, 'makiykumanta': 1, 'kutimunayki': 1, 'kamaqllayku': 1, 'chiripiña': 1, 'orqopina': 1, 'hatunchaspalla': 1, 'kusisqapas': 1, 'sonquyoq': 1, 'yapaychasun': 1, 'munaku': 1, 'ta': 1, 'chinpaykamullayki': 1, 'wawnykiq': 1, 'kawsashaqllata': 1, 'purishaqllata': 1, 'tentación': 1, 'hamuwaqtinqa': 1, 'iniyniy': 1, 'kawsaynillaypaq': 1, \"ilank'asqaytan\": 1, 'bendecinki': 1, 'orqokunaya': 1, 'ruphay': 1, \"q'oñipi\": 1, 'kallaqtiy': 1, 'kashasqaykita': 1, 'manchakusaq': 1, 'roqawan': 1, 'kaspas': 1, 'capas': 1, 'yupaychayku': 1, 'tiyanapi': 1, 'kapuwankiku': 1, 'chaskikuwayku': 1, 'diosllayku': 1, 'noqayku': 1, 'graciastapunin': 1, 'qomullaykiku': 1, 'qowasqaykikumanta': 1, 'yupaychnykiku': 1, 'waqaychaqnillayku': 1, 'qoqnillayku': 1, 'qespicheqnillay': 1, 'kallpanchaqnillay': 1, 'qespicheqnillayku': 1, \"nak'arillarqanki\": 1, 'kallpanchaqnillayku': 1, 'muyumuqtin': 1, \"hark'aykuwankiku\": 1, 'rikraykiwan': 1, 'munallaykupunin': 1, 'atiynillaykimanta': 1, 'khuyawasqaykimanta': 1, 'aleluyall': 1, 'oh': 1, \"ch'uyalla\": 1, 'yupaychaykunayqa': 1, 'churintapas': 1, 'espiritutapas': 1, 'kallpanchawasqanchismanta': 1, 'kushikuywan': 1, 'adoranaykupaq': 1, 'taytayqa': 1, 'diosninmi': 1, 'wiñayninpaq': 1, 'yupaychnykusqayki': 1, 'sutiykiqa': 1, 'wasilla': 1, 'kataqa': 1, 'sumaqllatan': 1, 'pani': 1, 'pachap': 1, 'tapas': 1, \"k'anchaqta\": 1, 'hinallata': 1, '}': 1, 'panpakunapin': 1, \"pas'\": 1, 'umachiyllata': 1, 'munawanku': 1, 'ñoqaykuta': 1, 'rururichinki': 1, 'chakrakunapas': 1, \"t'ikarinmi\": 1, 'paralla': 1, \"q'omiryarin\": 1, 'wallipas': 1, \"l'ikarin\": 1, 'nukuy': 1, 'sonqunchiswan': 1, 'qespikuytapas': 1, 'stan': 1, 'wali': 1, 'ladki': 1, 'churiykin': 1, 'hamullardan': 1, 'yanapaykuwananpaq': 1, 'munaqllay': 1, 'yakutapas': 1, 'uywakunatan': 1, 'kawsakushanki': 1, 'npi': 1, 'waqasqa': 1, 'llapallamchis': 1, 'nawpaqenpi': 1, 'kamachinman': 1, 'paynataq': 1, 'yayallanchis': 1, 'kallpanchakuq': 1, 'kicharina': 1, 'chayamunqa': 1, 'tupaykusun': 1, 'chayamuspan': 1, 'tapuwasunchis': 1, 'willaykullasunchis': 1, 'imaynachus': 1, 'kasqanchista': 1, 'kusikuyllara': 1, 'cielopipaq': 1, 'chayaqtin': 1, 'llakikuyraq': 1, 'infiernopi': 1, 'jesullaman': 1, 'qespillanqa': 1, 'yupillanta': 1, 'waqyaykamullawan': 1, 'rinallaypaq': 1, 'qespicheqnillaymi': 1, 'payllapqña': 1, 'maylliykuwaqniymil': 1, 'maylliykuwaqniymi': 1, 'iniyniyta': 1, 'masi': 1, 'yuyarikullay': 1, 'qayllanan': 1, 'saqesqataq': 1, 'rikukuwaq': 1, 'sayarillayfia': 1, 'sayay': 1, 'guerrakuna': 1, 'uyarikun': 1, 'ikhurimun': 1, 'listuchu': 1, 'iniqmasi': 1, \"sayk'ychu\": 1, 'kallpancharikuy': 1, 'disnillayta': 1, 'servispa': 1, 'cristollata': 1, 'llakiykuna': 1, 'qespicheqniy': 1, 'atipani': 1, 'iñiyniy': 1, 'musphachiwaqtin': 1, 'cristollatan': 1, 'qatisaq': 1, 'kawsaspaypas': 1, 'wiñaynintinpaq': 1, 'simillanpunitaq': 1, 'rimaykukuqllaqa': 1, 'qelqallan': 1, 'qhawaqtinchis': 1, 'kallpanchawanchistaq': 1, \"llanp'u\": 1, \"llanp'ullanan\": 1, 'chiriyariq': 1, 'rimaykun': 1, 'iniynillanchispi': 1, 'rimaykullawanchis': 1, 'rinallaymanta': 1, 'qespillawarqan': 1, 'qespicheqniytan': 1, 'laqhayaymanta': 1, 'orqoykuwaqtin': 1, 'suyashankichu': 1, 'kusisqallachu': 1, 'suyakushanki': 1, 'llakiwaqchaytaq': 1, 'knuyawanmi': 1, 'atiyniy': 1, \"hark'aykuspa\": 1, 'cheqniwaqtin': 1, 'rimawaqtin': 1, 'muyuykuwaqtinpas': 1, 'kapas': 1, 'kawsayniypas': 1, 'pan': 1, 'yachaspañan': 1, 'kamallarqan?': 1, 'khuyakullawarqanchis?': 1, 'wañurgan?': 1, \"hich'arqan?\": 1, 'yanapawanchis?': 1, 'kallpanchawanchis?': 1, 'waqaychakuqqa?': 1, 'fan': 1, 'uyarishanchisñan': 1, 'guerrakunapas': 1, 'qallarimushannan': 1, 'maqanakuypas': 1, 'chiriyaripushan': 1, 'señomillanchis': 1, 'suyakusunchis': 1, 'ruphashaq': 1, 'kawsaymantaqa': 1, 'kuisqaña': 1, 'cristowanñan': 1, 'yawarninpaq': 1, 'kusisqana': 1, 'kallaspayna': 1, 'munakugmi': 1, 'jesusnillanchispin': 1, 'iñinanchis': 1, 'ruwaspallapuni': 1, 'purisqanta': 1, 'purispallapuni': 1, 'payllapipuni': 1, 'suyakullasun': 1, 'purikullasun': 1, 'waqyarimuwarqanchis': 1, 'purishaqta': 1, 'qonqakuqtaqmi': 1, 'qespicheqpaq': 1, 'muchusunchu': 1, \"ñak'ariymantaqa\": 1, 'waqyallasunki': 1, 'qanpaqqa': 1, 'yuyayninwanmi': 1, 'kawsayniywanmi': 1, 'qonqasaqnachu': 1, 'khuyapayakuyninta': 1, 'ruwasqaytan': 1, 'onqoymanta': 1, 'qhaliyachiwarqan': 1, 'wañunaymantaraqmi': 1, 'orqoykullawarqan': 1, 'llakipayariwaspan': 1, 'khuyapayarikullawarqan': 1, 'allinwan': 1, 'pusakuwanqa': 1, 'kanaypaqmi': 1, 'llakipayakuqmi': 1, 'khuyapayakumi': 1, 'rato': 1, 'phiñarukuqmi': 1, 'payga': 1, 'songoyoqmi': 1, 'jesuniyta': 1, 'jesusnillaywanpuniñan': 1, 'wañunaypaq': 1, 'maskasqaña': 1, 'pakaykuwan': 1, 'cheqnisqaña': 1, 'atiyniyki': 1, 'makillayqa': 1, 'ruwallanda': 1, 'chakillayqa': 1, 'simillayqa': 1, 'willallanqa': 1, 'jesusga': 1, 'wanurgan': 1, 'qespichiwananchispag': 1, 'muchuymanta': 1, 'gowanchis': 1, 'chakatanapi': 1, 'muchuspan': 1, 'yawarllanta': 1, \"ch'aqchuspan\": 1, 'rantikuwarqanchis': 1, 'wañu': 1, 'papas': 1, 'kawsarinpuq': 1, 'llanchismi': 1, 'chis': 1, 'pusakapuwasunchis': 1, 'khuyapaykuq': 1, 'wañunanchis': 1, 'llakiykunan': 1, 'llapallanchispana': 1, 'saqeripullayña': 1, 'purikullasunna': 1, \"nak'ariykunachu\": 1, \"t'aqallawasunchu\": 1, 'qatiykachakuychu': 1, 'kaykunachu': 1, \"k'irisqanchu\": 1, 'kallpanchakusunchis': 1, 'taytallanchismi': 1, 'kamarisqanmi': 1, \"sach'akunata\": 1, 'yachallarqani': 1, 'rimawasqanta': 1, 'rimashallanmi': 1, 'qaqapas': 1, 'pasto': 1, 'yayallanchispa': 1, 'chayamushannan': 1, 'tukukuy': 1, 'kutimuyninpì': 1, 'ind': 1, 'lillepes': 1, 'cielopas': 1, 'povllampes': 1, 'urmaykamullangan': 1, 'qhawarisun': 1, 'llakikuywanmi': 1, 'yuyaris': 1, 'nchis': 1, 'waqallasun': 1, 'qaqatan': 1, 'nillasun': 1, 'hinagtinmi': 1, 'diospag': 1, 'rikullasun': 1, 'kancharishaqta': 1, 'angelpaq': 1, 'waqyarikuspalla': 1, 'allinkunallan': 1, 'llakichillan': 1, 'khuyakusqallay': 1, 'noqanchismanqa': 1, 'diosninchism': 1, 'maqanakuy': 1, 'yawrarishan': 1, 'kaqniyoq': 1, 'wawantin': 1, 'yarqaymanta': 1, 'kirisqan': 1, 'wawanqa': 1, \"k'irisqan\": 1, 'kachi': 1, 'iñigmasiykuna': 1, 'willarisunpuni': 1, 'michi': 1, 'michinayki': 1, 'iñiqtapas': 1, 'rikuchimunayki': 1, 'ruwanki': 1, 'kawsasqanchispi': 1, 'imataraq': 1, 'rin': 1, 'unchis': 1, 'llakiytachus': 1, 'nanaytachus': 1, 'yanapawasunchis': 1, 'imapunin': 1, 'chiswan': 1, 'takikunapiwan': 1, 'yupaychas': 1, 'wawaykiq': 1, 'q': 1, 'yanapaykusqallan': 1, 'yupaychamullasqaykiku': 1, 'gatikayga': 1, 'puriyga': 1, 'kawiayga': 1, 'llakisgakunata': 1, \"sayk'usgakunta\": 1, 'kusichillan': 1, 'pantakugkunata': 1, 'urmakugkunata': 1, 'yanapaykun': 1, 'qespicheqninchisga': 1, \"nak'ariynillanwan\": 1, 'cristoga': 1, 'waiurgam': 1, 'kawsarinpullargan': 1, 'qespichegninchispa': 1, 'huqtawanmi': 1, 'kutirimullanga': 1, 'iñiqtaga': 1, 'apakapunanpaq': 1, 'ruwagta': 1, \"hunt'aqta\": 1, 'pusarikapunqa': 1, 'chaninchu': 1, 'suyakushallanki': 1, 'iñiqtawan': 1, 'huchachaykullanga': 1, 'yawraypirag': 1, \"ñak'anyman\": 1, 'pachallata': 1, 'qayllayukusun': 1, 'payllamanpuni': 1, 'kamallardan': 1, 'qharitapas': 1, 'warmikunatapas': 1, 'ruwallarqanmi': 1, 'yachallaspa': 1, 'uyuyarinkichu': 1, 'taytallanchista?': 1, 'kamaqniykita': 1, 'yupaychankichu': 1, 'qonqarqospayki': 1, 'tutaqa': 1, 'tukukapushan': 1, 'taq': 1, 'illari': 1, 'musgaña': 1, 'horañan': 1, 'sayarinanchispaq': 1, 'suyakunachispaq': 1, \"rikch'aspa\": 1, 'suyakullasunña': 1, 'haya': 1, 'ruwaykunataqa': 1, 'waqllisqa': 1, 'kaqkuna': 1, 'munaykunatada': 1, \"wikch'upullasuna\": 1, 'hamushaqtin': 1, \"p'unchayllapi\": 1, 'puriypiqa': 1, \"mak'alliykukuspa\": 1, \"hap'ipaykukuspa\": 1, 'nishanmi': 1, 'uyarillasunña': 1, 'horaqa': 1, 'paqarimunanpaq': 1, \"rikch'arillasunña\": 1, 'purikuqmi': 1, 'maskawarqanchis': 1, 'nillawanchis': 1, 'purinanchis': 1, 'kawsayninchis': 1, 'chaskikapuqllaña': 1, 'puriyninchispiqa': 1, 'pusawanchis': 1, 'kallpanchaykuwasun': 1, 'reqsiq': 1, 'wiñaypaqqa': 1, 'reqsisqata': 1, 'reqsisqakunatal': 1, 'isaias': 1, 'tawa': 1, \"t'aqan\": 1, \"sut'inchallan\": 1, 'qoy': 1, 'munasqallanta': 1, \"sayk'urisqa\": 1, 'wawqemanqa': 1, 'kkallpatan': 1, 'qollanqal': 1, 'pisiyasqa': 1, 'panamanpas': 1, 'qoytan': 1, 'suyanckichu': 1, 'kalpata': 1, \"hayka'q\": 1, \"sayk'unqachu\": 1, 'phawasqanpi': 1, 'purisqanpi': 1, 'imas': 1, 'pisichiwasunman!!': 1, 'taita': 1, 'diospaj': 1, 'karte': 1, 'inoqa': 1, 'taytallataq': 1, 'ukyananchispaq': 1, 'unutapas': 1, 'bendecirqan': 1, 'kawsaqpaq': 1, 'mikhunata': 1, 'kaqllawan': 1, 'kallanchu': 1, 'suyakunanchispaq': 1, 'llaqtallan': 1, 'jesusnillanchismi': 1, 'punkuqa': 1, 'payninta': 1, 'haykuykuspallan': 1, 'kancharishaqlla': 1, 'llaqtapin': 1, 'taytallanchiswan': 1, 'qaqamanchu': 1, 'haqhayta': 1, 'kapuwashaqtin': 1, 'asuykullayman': 1, 'watuq': 1, 'paqomanchu': 1, \"ñit'iwan\": 1, 'yachaypas': 1, 'phawarillayman': 1, 'qhapaqkunamanchu': 1, 'qolqeta': 1, 'sasachakuyllañan': 1, 'imaynallaraqcha': 1, \"hunt'aykukushanñan\": 1, 'reniegay': 1, \"nak'ariy\": 1, 'qelqapida': 1, 'yachachikushanmi': 1, 'kutimnqaña': 1, 'hoqarisqa': 1, 'kayllan': 1, 'hunuykunakunch': 1, 'napaykunakunchis': 1, 'taytallanchisman': 1, 'yuva': 1, 'nillayo': 1, 'qespikuq': 1, 'yupaychaykuspa': 1, 'uyariykuspa': 1, 'munaynillanpi': 1, 'tupaykullanchis': 1, 'pachapiraq': 1, 'uyariykusun': 1, 'taytanchispaq': 1, 'wiñasunchis': 1, 'mamallay': 1, 'chimpaykuspa': 1, 'taytaman': 1, 'ifiqmasi': 1, 'diosllanchispaq': 1, 'coro': 1, 'hatarimuy': 1, \"rikch'arimuy\": 1, 'wawamasi': 1, 'kusirikuy': 1, 'yuyayniyki': 1, 'ruwayniyki': 1, 'promesayki': 1, 'servinayki': 1, 'simi': 1, 'huntaykun': 1, 'chayaykun': 1, 'kawsariykachiwan': 1, 'iñiykuqqa': 1, 'puchukaspa': 1, 'kawsakullananpaq': 1, 'kachkani': 1, 'sunquypi': 1, 'qakuchik': 1, 'niwaptin': 1, 'watasqa': 1, 'llaykiwan': 1, 'quykullaway': 1, 'qepallayki': 1, 'qayakamuway': 1, 'waqakuy': 1, 'qaya': 1, 'kamuway': 1, 'wasin': 1, 'forastirollam': 1, 'pasajerollam': 1, 'preparakuykuspanchik': 1, 'repukullananchikpaq': 1, 'ñamá': 1, 'despidenakuykunapaq': 1, 'rakinakuykunanchikpaq': 1, 'waqey': 1, 'kutinkichu': 1, 'chiriyankichu': 1, 'cuidasunkim': 1, 'payllamanña': 1, 'confiakunki': 1, 'huchanchikraykum': 1, 'chaqchuykullaspan': 1, 'rikcharisun': 1, 'orakustin': 1, 'unanchaqmi': 1, 'reynillayqa': 1, 'reynillanmi': 1, 'librasunkim': 1, 'medikuyqa': 1, 'medicopapas': 1, 'mediconmi': 1, 'hampisunkim': 1, 'nuqallaypa': 1, 'kanchachiqmil': 1, 'it': 1, 'didorndaun': 1, 'allpallamantam': 1, 'rikchakuq': 1, 'vidampa': 1, 'punchawpas': 1, 'amama': 1, 'qunqallawankicho': 1, 'panpachaykuwankim': 1, 'kuyakuqnillaymi': 1, 'kuyakuqqa': 1, 'quni': 1, 'wañuptiy': 1, 'qoykuwanna': 1, 'almallaypaq': 1, 'huywakuwan': 1, 'mikusqatam': 1, 'pachasqatam': 1, 'layqa': 1, 'quykuwanqam': 1, 'coronita': 1, 'pachaytawan': 1, 'quykullanim': 1, 'sapallaychu': 1, 'pharmacy': 1, 'pusawan': 1, 'guiawan': 1, 'contrallanchikpi': 1, 'rimaptimpa': 1, 'diosnillanchikpi': 1, 'tiempullanam': 1, 'nakarisaq': 1, 'tiempullañam': 1, 'kawsakuyraq': 1, 'ñuqallaypaq': 1, 'nesecitasonki': 1, 'qamllata': 1, 'yawarta': 1, 'chaqchuspa': 1, 'mayllaqman': 1, 'yaqayaqañam': 1, 'kutiramuna': 1, 'sehornillanchik': 1, 'chunnkunatam': 1, 'hani': 1, 'pasha': 1, 'kutimuytinqa': 1, 'allpatapas': 1, 'kichakuy': 1, 'qepaykuspayki': 1, 'pusasuptiki': 1, 'nigankichu': 1, 'deqankichu': 1, 'hakim': 1, 'kasunkiman': 1, 'niganki': 1, 'dejanki': 1, 'llach': 1, 'qonqawaychu': 1, 'yuvariykullaway': 1, 'kuyawasqaykita': 1, 'sasachakuy': 1, 'rimallasqanwan': 1, 'mapas': 1, 'qawariy': 1, 'raq': 1, 'hampton': 1, 'mayukunam': 1, 'sachakunam': 1, 'roganchikpas': 1, 'takisunmi': 1, 'iknykuspanchik': 1, 'señorllaymanta': 1, 'señorniymanta': 1, 'puriqmasillay': 1, 'kutimuptinqa': 1, 'llakiykullanqa': 1, 'mundollapas': 1, 'kuyuriykunqam': 1, 'katkatatanqam': 1, 'willakullachkan': 1, 'terminakuchkan': 1, 'rumillatachum': 1, 'qaqallatachum': 1, 'tapaway': 1, 'rumillapas': 1, 'pakasunkichu': 1, 'qaqallapas': 1, 'tapasunkichu': 1, 'horada': 1, 'pasado': 1, 'maynaraq': 1, 'gamusin': 1, 'hostsga': 1, 'packham': 1, 'punchawga': 1, 'upton': 1, 'hochayqa': 1, 'vizcaya': 1, 'qamuptàn': 1, 'pusasqa': 1, 'deqasqa': 1, 'qamuptin': 1, 'palabranta': 1, 'chaskispada': 1, 'waqankichu': 1, 'llakinkichu': 1, 'pocos': 1, 'será': 1, 'palabra': 1, 'mío': 1, 'rebelde': 1, 'ñannillaykita': 1, 'caminuykita': 1, 'caminuykiman': 1, 'kichki': 1, 'ñanllaykipe': 1, 'purillanaypaq': 1, 'querido': 1, 'ayacucho': 1, 'pueblo…': 1, 'se': 1, 'despide': 1, 'querida': 1, 'amada': 1, 'llaqtallayku': 1, 'ayacuchuman': 1, 'despidiway': 1, 'despidekunmi': 1, 'llaqtallaykuman': 1, 'ayakuchoman': 1, 'wawqikuna': 1, 'qamkunam': 1, 'diosnillanchikwan': 1, 'qatir': 1, 'kichik': 1, 'amamá': 1, 'qankichikchu': 1, 'quita': 1, 'hanki': 1, 'qellgallaykiwanmi': 1, 'qawanayta': 1, 'yanapaykullawan': 1, '(peregrino': 1, 'soy': 1, 'aquí)': 1, 'wakcham': 1, 'wasiyuq': 1, 'na': 1, 'salvadorniypaq;': 1, 'payllanam': 1, 'kuyakuwaspan': 1, 'qawaykullaytam': 1, 'rikchayninta': 1, 'qawkayaynimpi;': 1, 'mayllasqa': 1, 'salvallawanna': 1, 'waqallachkani': 1, 'llaqtayuq': 1, 'kasukunaypaq;': 1, 'manakuni': 1, 'qonquraspay': 1, 'uyariwaspan': 1, 'kaptiypas': 1, 'mikuchillawan': 1, 'pusallawanga;': 1, 'wasiyman': 1, 'ripullasaqnam': 1, 'kpiqa': 1, 'takis': 1, 'unanchaqninchikta': 1, 'cuidakuqninchikta': 1, 'waqaychaqninchikta': 1, 'kuyakuyninmanta': 1, 'taytanchik': 1, 'kuyaykuwaspanchik': 1, 'puriykullachkaqtam': 1, '*payqariki': 1, 'qukuspayki': 1, 'ladonchikpin': 1, 'servikuy': 1, 'kuyas': 1, 'diostalla': 1, 'sunquywanmi': 1, 'niki': 1, 'willawanku': 1, 'quchatapas': 1, 'animalpa': 1, 'huntaykullasqanta': 1, 'pawaqtapas': 1, 'panpan': 1, 'puriqtapas': 1, 'rurasqaykim': 1, 'yupaychallasunki': 1, 'kawsayllañachu': 1, '||': 1, 'yachanchu': 1, 'llaqtaychu': 1, 'vidaqa': 1, 'llam': 1, 'ñanllapi': 1, 'qayasqapas': 1, 'chaskikuq': 1, 'qokuqqa': 1, 'almanchikpaq': 1, 'diosniillay': 1, 'jesusilay': 1, 'yachaywanmi': 1, 'unanchallarqanki': 1, 'huywaqniy': 1, 'quykuway': 1, 'honranaypaq': 1, 'kallpay': 1, 'taytalayta': 1, 'cuiday': 1, 'makillaykimanta': 1, 'kachariychu': 1, 'non': 1, 'nikita': 1, 'kita': 1, 'huntay': 1, 'ruruy': 1, 'apanaypaq': 1, 'taytakuna': 1, 'kutay': 1, 'illay': 1, 'manaka': 1, 'mulakum': 1, 'graciallayki': 1, 'llanllarichun': 1, 'punchawllampi': 1, 'kawsayga': 1, 'llekiyllam': 1, 'diosga': 1, 'rurallarqam': 1, 'qarita': 1, 'iugapas': 1, 'kawekuyninchikpi': 1, 'key': 1, 'munayninpim': 1, 'hachata': 1, 'allimpaq': 1, 'hapispan': 1, 'riqsispanku': 1, 'qayakuynintapas': 1, 'kuyasunkim': 1, 'asukuykuy': 1, 'sonquyiwan': 1, 'servikuwa': 1, 'mañakullasunchik': 1, 'ruegakullachkan': 1, 'yayallanchikta': 1, 'ovejankunapaq': 1, 'tupallawasunchu': 1, 'sonqullanchikmi': 1, 'haychallanchikmi': 1, 'tentacionllam': 1, 'hamuykullawasun': 1, 'hucham': 1, 'muyurillawasun': 1, 'ayllunchikmi': 1, 'chiqnikullawasun': 1, 'kuyaqninchikunam': 1, 'contrakullawasun': 1, 'salvakuqllanchikta': 1, 'hamuptimpas': 1, 'tukupayninkama': 1, 'manakuyki': 1, 'ruraynillaypi': 1, 'chisiykuynillaypi': 1, 'servisqayki': 1, 'mañakusqaykuta': 1, 'yaykuykamuy': 1, 'tikraykuway': 1, 'musuqtaña': 1, 'huntawayku': 1, 'kawsayllayku': 1, 'nanta': 1, 'posallaway': 1, 'bonqullayman': 1, 'huntaykuway': 1, 'musyanaypaq': 1, 'kutipamullayna': 1, 'suyaykullachkayki': 1, 'judas': 1, 'apostolnillanmi': 1, 'maestrollanta': 1, 'rantikururqa': 1, 'kuyayllanwanmi': 1, 'salvaqllanta': 1, 'entregaykurqa': 1, 'cuentallatam': 1, 'qukururqa': 1, 'rurasqanta': 1, 'sequkuruspam': 1, 'wañururqa': 1, 'kutirinanrayku': 1, 'qepanchaspa': 1, 'kayllanchikwan': 1, 'negarqanchik': 1, 'rillachkanki': 1, 'perdonllanta': 1, 'mañaptikim': 1, 'salvasunki': 1, 'qellqallanpunim': 1, 'niwachkanchik': 1, 'oawachkankichum': 1, 'rikuchkankichum': 1, 'pampakunapi': 1, 'wayta': 1, 'wiñaqta': 1, 'churillanpag': 1, 'qawachkankichum': 1, 'chacrapi': 1, 'chaynapuniñam': 1, 'ciclope': 1, 'taytallanchik': 1, 'kanchasunki': 1, 'quri': 1, 'perlas': 1, 'pacharan': 1, 'chanki': 1, 'wichariykuchkan': 1, 'wiñanqa': 1, 'wawasapakunam': 1, 'haypachikullanachu': 1, 'qellqapin': 1, 'meranqa': 1, 'kuyakuymi': 1, 'chinkachkan': 1, 'puram': 1, 'chiqninakun': 1, 'hawkayay': 1, 'kallannachu': 1, 'mundom': 1, 'afanwan': 1, 'muspaypi': 1, 'yachayniyuqkunam': 1, 'salvacionninmanta': 1, 'remariykuchkan': 1, 'hichpan': 1, 'miranga': 1, 'kacharikusunchu': 1, 'espiritunwan': 1, 'chaywanmi': 1, 'dipsnillanchikta': 1, 'mañakullasun': 1, 'gayakullasun': 1, 'tentacionkunam': 1, 'hamullawasun': 1, 'desmayayšunam': 1, 'moyuriwasun': 1, 'onquchikuymi': 1, 'qatillawasun': 1, 'desgraciam': 1, 'persiguiwasun': 1, 'wakchayaykunam': 1, 'rikurimunqa': 1, 'yarqaymi': 1, 'huntarimunqa': 1, 'chigninakuymi': 1, 'paqarimunqa': 1, 'kuyanakuymi': 1, 'mañakuchkan': 1, 'taytallanmanta': 1, 'ñuqanchik': 1, 'qayakuyninqa': 1, 'chaskiykusqaňam': 1, 'mikuyllaykimanta': 1, 'tantallaykimanta': 1, 'cuerpollaykutapas': 1, 'almallaykutapas': 1, 'kawsarichisqanmanta': 1, 'kallpanchaykusqanmanta': 1, 'qampan': 1, 'grasciasllatam': 1, 'mañaykikum': 1, 'mamaykupaq': 1, 'waqaychaykuy': 1, 'bendecionnillaykipi': 1, 'punchawllaykimanta': 1, 'qusqaykimanta': 1, 'huywakusqaykimanta': 1, 'qellqallaykiman': 1, 'kuyakuyllayku': 1, 'riqsiykuy': 1, 'kanampaq': 1, 'churillaykipa': 1, 'kuyakuyllanwan': 1, 'mamallaykuman': 1, 'allinchakuyllaykits': 1, 'llanllarichiy': 1, 'huchapiraqchum': 1, 'aychallaykita': 1, 'salvaqllaykita': 1, 'qipanchaspa': 1, 'kuyasunki': 1, 'chaskikusunkim': 1, 'marqayllampi': 1, 'hichallaraqpas': 1, 'allimpa': 1, 'sunqullaykichum': 1, 'rumirayan': 1, 'taytanchikinan': 1, 'hamuptinchum': 1, 'wakchayaykuna': 1, 'kallaptinchum': 1, 'mananapascha': 1, 'kutikullasaq': 1, 'nillachkanki': 1, 'wawqekikuna': 1, 'ripuptinchum': 1, 'sonquntin': 1, 'almallaykichum': 1, 'churmichakun': 1, 'taylanchikta': 1, 'alistasqa': 1, 'hapispa': 1, 'atiywancho': 1, 'qusqan': 1, 'uyariqta': 1, 'salvaqninchikman': 1, 'pusason': 1, 'kawsason': 1, 'porisun': 1, 'iniyninchikpi': 1, 'chakinchikpas': 1, 'usutasqa': 1, 'wiqawninchikpas': 1, 'chunpisqa': 1, 'omanchikpas': 1, 'cascochisqa': 1, 'makinchipi': 1, 'espadayuq': 1, 'corasanwan': 1, 'alli-allin': 1, 'kawsasunchik': 1, 'willaspanchik': 1, 'yupayohallasun': 1, 'llapallanchika': 1, 'makampim': 1, 'hawkayayninchikqa': 1, 'servikullason': 1, 'kusikuyqa': 1, 'kachan': 1, 'llapallanchikpaq': 1, 'kuyakuynillanwan': 1, 'servinanohikta': 1, 'qawarillasun': 1, 'kuyawasqanchikta': 1, 'crazpi': 1, 'wanuspam': 1, 'qespichiwanchik': 1, 'kawsaykuypaq': 1, 'sonquywanmi': 1, 'huchaykunam': 1, 'venciwachkan': 1, 'llampuyachik': 1, 'runamasiykuman': 1, 'aswanña': 1, 'chiqnillawachkan': 1, 'mudope': 1, 'chaqchuyllapi': 1, 'richkan': 1, 'semikíta': 1, 'kasuykuchkan': 1, 'llaqtaykita': 1, 'qawarillay': 1, 'salvaqllaypa': 1, 'willawasqan': 1, 'horamanta': 1, 'suyallani': 1, 'kasqaypim': 1, 'yuyarespa': 1, 'pantachiwaspanmi': 1, 'suyakuyniyta': 1, 'chinkarachiyta': 1, 'pero': 1, 'hapini': 1, 'jesusllaypa': 1, 'coronayta': 1, 'manchakuypaqraq': 1, 'juicion': 1, 'señalasqanqa': 1, 'ñama': 1, 'chayamuchkanña': 1, 'hatumpim': 1, 'kusikuchkani': 1, 'iglesian': 1, 'alistakuptin': 1, 'burlakuqkunam': 1, 'waqallanqaku': 1, 'cornitillaraq': 1, 'copakunaraq': 1, 'llakim': 1, 'castigowanmi': 1, 'nakaykullanqa': 1, 'hapipakullay': 1, 'pinakuynintaq': 1, 'aypamullasuptiki': 1, 'yuyarillawayku': 1, 'huchaykuwancho': 1, 'qonqawankiku': 1, 'simillaypiwan': 1, 'ñawillaypiwan': 1, 'piñachisonki': 1, 'makillaypiwan': 1, 'waqachisunki': 1, 'iglesiallaykim': 1, 'kallpaykuta': 1, 'kaypim': 1, 'kallaniku': 1, 'pitaqri': 1, 'has': 1, 'tullo': 1, 'aychari': 1, 'nuqallaymanta': 1, 'kasuptiy': 1, 'purirerqa': 1, 'aparesqa': 1, 'wañunampaq': 1, 'qepiresqam': 1, 'lloqsirirqa': 1, 'calvarioman': 1, 'chayanampaq': 1, 'ñannillanta': 1, 'manchakuypaq': 1, 'clavowanmi': 1, 'cruzllampimya': 1, 'wanuchinku': 1, 'suwapa': 1, 'chawpillampi': 1, 'qaparirqa': 1, 'today': 1, 'arqam': 1, 'jesusllayña': 1, 'wanullaptin': 1, 'ñuqarayku': 1, 'qamraykuma': 1, 'ñachu': 1, 'iglesia': 1, 'angelninpiwan': 1, 'ukupi': 1, 'chaskiykunga': 1, 'tronompi': 1, 'ñawpaqllanchikpi': 1, 'yuyaykuna': 1, 'kusikuywanmi': 1, 'churinkunawan': 1, 'llapallanchikwan': 1, 'cenaykurqa': 1, 'yachaynillampim': 1, 'qonqallancho': 1, 'nitaqmi': 1, 'hayqenqacho': 1, 'iniykullay': 1, 'anparakuykuq': 1, '153': 1, 'kancharimuptinmi': 1, 'reyllanchikta': 1, 'tupaykullasontag': 1, 'kusikuykullasun': 1, 'tupaykullasunchik': 1, 'iñiqtaqa': 1, 'ñakanqa': 1, 'chayaspam': 1, 'fiestaman': 1, 'yaykusun': 1, 'hattu-hatun': 1, 'pimiä': 1, 'kullasun': 1, 'promesantam': 1, 'kutimullasunmi': 1, 'reynaq': 1, 'musuqyaykachinqa': 1, 'paz': 1, 'waranga': 1, 'watatam': 1, 'kawsachillawasun': 1, 'jeollanam': 1, 'gobiernanqa': 1, 'tukuytam': 1, 'hunuykunga': 1, 'kawsaqla': 1, 'wanuqtam': 1, 'juzgaykunga': 1, 'kawsakugmi': 1, 'yaykunga': 1, 'inigkunam': 1, 'ninaman': 1, 'yaykuna': 1, 'kallasqanki': 1, 'yachaspaymi': 1, 'semillaykitapas': 1, 'kasunicho': 1, 'rurasqaymi': 1, 'rimasqaymi': 1, 'sutillaykitapas': 1, 'pinqaymanña': 1, 'hamullachkanim': 1, 'salvadornillay': 1, 'kanchariq': 1, 'nawpaqllaykiman': 1, 'butillaykita': 1, 'i|': 1, 'churaykuy': 1, 'yachaynillaykita': 1, 'munasqaykipaqña': 1, 'atiynillaykitaqya': 1, 'huntaykullawachun': 1, 'yaykuykuspaqa': 1, 'diosllatañacha': 1, 'qatinallaypaq': 1, 'palabrallaykim': 1, 'servillanaypaq': 1, 'huqariwasun': 1, 'qochukusun': 1, 'sutillanchik': 1, 'qellqasqanwan': 1, 'taytapa': 1, 'kasqanpiqa': 1, 'achkam': 1, 'yachanapaq': 1, 'kallaptinqa': 1, 'nikichikman': 1, 'punich': 1, 'karqa': 1, 'rillaspaymi': 1, 'wasillata': 1, 'ruramusaq': 1, 'maypim': 1, 'ñuqap': 1, 'tiyasqaypin': 1, 'tiyankichik': 1, 'gloriallaypim': 1, 'kawsankichik': 1, 'qepallanta': 1, 'churiy': 1, 'millakuypaq': 1, 'cielopiqa': 1, 'kapuwachkan': 1, 'rurallasqan': 1, 'onkyo': 1, 'yaykuy': 1, 'kamun': 1, 'runalla': 1, 'hayqiykuchkan': 1, 'harkayta': 1, 'atincho': 1, 'jesusllapiñam': 1, 'cheap': 1, 'hawkeye': 1, 'guerrilla': 1, 'hatarichkan': 1, 'chaytapas': 1, 'atinkucho': 1, 'jesusmania': 1, 'yarqaypiñam': 1, 'mikuykunankupaq': 1, 'confiar': 1, 'mikuchillawasun': 1, 'gobierno': 1, 'huñunakun': 1, 'pasaqta': 1, 'allichanankupaq': 1, 'gatineau': 1, 'reynonñam': 1, 'chautauqua': 1, 'alabansaga': 1, 'sumaqtach': 1, 'uyarikullan': 1, 'chaynatapunim': 1, 'ñuqallanchikpas': 1, 'tronunmantamya': 1, 'qayakamuchkan': 1, 'niq': 1, 'serviqninkuna': 1, 'taksapas': 1, 'uyarikuchkan': 1, 'qaparichkanku': 1, 'rayu': 1, 'diosnillanchikpa': 1, 'reynasqan': 1, 'qamkunapiwan': 1, 'ñuqaykupiwan': 1, 'apamullaykim': 1, 'yupaychayniyta': 1, 'adorayniyta': 1, 'hatunchamuyki': 1, 'kuyakuywanmi': 1, 'yawarnikipa': 1, 'tronopitiyakuptiki': 1, 'reqsikullanim': 1, 'kuyaynikita': 1, 'takipamuyki': 1, 'punchawpimya': 1, 'yachakullaspay': 1, 'chaynallataqmi': 1, 'takiy': 1, 'allintama': 1, 'sayanki': 1, 'kutillanki': 1, 'perdekurullawaq': 1, 'chayamusuptikin': 1, 'hapipakuy': 1, 'kallpanchallasunkim': 1, 'kutiramuspaqa': 1, 'iglesiantam': 1, 'pusanga': 1, 'wakpiñam': 1, 'tupasun': 1, 'haykaptaq': 1, 'qamri': 1, 'salvasqa': 1, 'maymi': 1, 'ka': 1, 'naman': 1, 'pusa': 1, 'kapur': 1, 'of': 1, 'igmsy': 1, 'suyaqmasiy': 1, 'haykapkamaraq': 1, 'kallagunchik': 1, 'salvakuqllanchik': 1, 'suyaykuypi': 1, 'hatarillasun': 1, 'mañakuypi': 1, 'hamunqanam': 1, 'nakariy': 1, 'chayanqacho': 1, 'yakullas': 1, 'chakiya': 1, 'kunda': 1, 'qawallasqanchik': 1, 'fuertellatañas': 1, 'rupay': 1, 'kunba': 1, 'waqya': 1, 'yakukunalla': 1, 'chakiykuptin': 1, 'wañuykunqa': 1, 'nakarispan': 1, 'qamllapaq': 1, 'kawsayllam': 1, 'qunqallawaycho': 1, 'qanwantaqmi': 1, 'vencisaq': 1, 'deqallawaycho': 1, 'manchakullaspay': 1, 'almallaytam': 1, 'salvanki': 1, 'huchallawan': 1, 'waqaychaykullawankim': 1, 'glorificasun': 1, 'reqsikusunchik': 1, 'asuykullasun': 1, 'agradeci': 1, 'kuq': 1, 'qukuqman': 1, 'kusichikuqman': 1, 'jovenkuna': 1, 'llapachallanchik': 1, 'alaballansi': 1, 'yupaychallansi': 1, 'lucerokuna': 1, 'makimpim': 1, 'lliwcha': 1, 'kawsanchik': 1, 'willaspayqa': 1, 'llakiytaraq': 1, 'kusiytaraq': 1, 'chakillanman': 1, 'hinaptinqa': 1, 'waqastimpas': 1, 'paymantam': 1, 'tupanaypaq': 1, 'punchawpim': 1, 'kusikuykullasaq': 1, 'llakistimpas': 1, 'qatisun': 1, 'qawariway': 1, 'chakikiman': 1, 'churikipaq': 1, 'wanaq': 1, 'kayniywanmi': 1, 'piñachiki': 1, 'hinataya': 1, 'reqsikunim': 1, 'qatisqaykim': 1, 'servisqaykim': 1, 'mañakuykim': 1, 'adorasqayraykum': 1, 'aylluy': 1, 'kastay': 1, 'chiqnirullawanña': 1, 'chiqniwaspan': 1, 'kamillawaptinpas': 1, 'punchawkamam': 1, 'diosllayta': 1, 'contran': 1, 'chiqnillawaptinpas': 1, 'cuidakullawanqam': 1, 'cielollaman': 1, 'yaykuykullaspayga': 1, 'wasillampim': 1, 'wiňaypaq': 1, 'kaysasaq': 1, 'uywakuwachkan': 1, 'kawsachiwachkan': 1, 'servikullasaq': 1, 'kawsallanaykama': 1, 'kutikuchkanna': 1, 'pesiparunña': 1, 'kutillayñacho': 1, 'salvawaqninchik': 1, 'qollqechum': 1, 'rakillasunki': 1, 'qorichum': 1, 'engañasunki': 1, 'diosllanchikpam': 1, 'dueñuchakuchkan': 1, 'qollqeta': 1, 'cuerponta': 1, 'fhakariy': 1, 'juicioña': 1, 'sufrinanpaq': 1, 'diosllanchikmi': 1, 'pedrota': 1, 'akllakurqa': 1, 'churinpaq': 1, 'kunanmantam': 1, 'challan': 1, 'runatana': 1, 'deqaspam': 1, 'maestrollanwan': 1, 'espiritunmi': 1, 'rimachirqa': 1, 'dipa': 1, 'hamunki': 1, 'salvaykuq': 1, 'profit': 1, 'nanita': 1, 'nirga': 1, 'presucharqa': 1, 'chiqnispa': 1, 'pedropas': 1, 'manchakuspam': 1, 'kimsakama': 1, 'nigarqa': 1, 'gallo': 1, 'waqaruqtinmi': 1, 'kutirikurqa': 1, 'perdonllata': 1, 'manaspam': 1, 'pallanta': 1, 'qatirqa': 1, 'tardellañam': 1, 'graciam': 1, 'tukuruchkanna': 1, 'kallanga': 1, 'tiyaqqa': 1, 'kaypiñam': 1, 'kaykullachkan': 1, 'salvallasunki': 1, 'marqaynillampim': 1, 'sayaykachikusunki': 1, 'piñakuyninqa': 1, 'chayaykamullachkanñam': 1, 'chaskiq': 1, 'wanuymantam': 1, 'kawsarimun': 1, 'iñiqninpas': 1, 'sun': 1, 'entirullan': 1, 'mundollapim': 1, 'willasqa': 1, 'iniqtaqmi': 1, 'imanasqam': 1, 'iñinkicho': 1, 'm': 1, 'almaykipaq': 1, 'kawsachkaspa': 1, 'entregaykuy': 1, 'jesucristoma': 1, 'chaskiykuy': 1, 'kullay': 1, 'qellqaqa': 1, 'rurallasunmi': 1, 'kusikullanga': 1, 'imamantam': 1, 'servin': 1, 'uyarismay': 1, 'rurayman': 1, 'churay': 1, 'pagapuy': 1, 'chayamunqañam': 1, 'paganqam': 1, 'listaman': 1, 'nacionmi': 1, 'asuykamunda': 1, 'rurasqaman': 1, 'ruraspaykiqa': 1, 'purispaykiqa': 1, 'chaskikullankim': 1, 'kancharichkaqta': 1, 'kasunkicho': 1, 'yachayña': 1, 'suyachkasunki': 1, 'pagapusunki': 1, 'llakita': 1, 'haychapiraq': 1, 'vidallay': 1, 'piñachimullayki': 1, 'huchallaytaya': 1, 'mundopiraq': 1, 'kawsakullaspaymi': 1, 'karutam': 1, 'gloriallaykipaq': 1, 'kawsachikullaway': 1, 'qawan': 1, 'qepalawtaraq': 1, 'huchakunataraq': 1, 'ñawiyqa': 1, 'karunchachiwaspan': 1, 'simillaytaqa': 1, 'kamachikuy': 1, 'piensaq': 1, 'nawiymi': 1, 'chuyanchaykullaway': 1, 'yachaykachillaway': 1, 'imallata': 1, 'ruraspataq': 1, 'atillayman': 1, 'kusichiyta': 1, 'nacekullarqani': 1, 'huchallapa': 1, 'qanrachasqan': 1, 'wiñaykullarqani': 1, 'chuyanchasqa': 1, 'kawsakullanaypaq': 1, 'tiyakamunaypaq': 1, 'qawachkanki': 1, 'nawillantin': 1, 'corrichkanki': 1, 'llakiymanta': 1, 'ayqekusaq': 1, 'asuykuychik': 1, 'mancharispa': 1, 'yupaychananchikpaq': 1, 'manchakuyta': 1, 'weqellaykitapas': 1, 'tikraykapusunki': 1, 'kawsampi': 1, 'nakarikuytaqa': 1, 'kallpanchakuykullay': 1, 'waqaypa': 1, 'chawpimpi': 1, 'sirvienta': 1, 'taytaymi': 1, 'rurachkan': 1, 'chaynaqa': 1, 'hapipakullasun': 1, 'kananchikpaq': 1, 'qochukunanchikpaq': 1, 'mateo': 1, 'siete': 1, 'ventiunopim': 1, 'niqchu': 1, 'wasinmanga': 1, 'kasukuqllam': 1, 'chaynataq': 1, 'kaqkunallam': 1, 'ruraqllam': 1, 'llaqtaykipas': 1, 'chacraykipas': 1, 'vacaykipas': 1, 'ovejaykipas': 1, 'miraynikipas': 1, 'taqikipas': 1, 'kaqnikikunapas': 1, 'lluqsiyniki': 1, 'kutiykuynikipas': 1, 'kasusqaykirayku': 1, 'taytallam': 1, 'nunki': 1, 'album': 1, 'bronson': 1, 'sarusqayki': 1, 'allpam': 1, 'fierroyanqa': 1, 'chayachimunqa': 1, 'parallantaqa': 1, 'uchpa': 1, 'polvollatam': 1, 'wañunkichik': 1, 'chayamullaptin': 1, 'kachamullanqa': 1, 'onqoykunata': 1, 'nanaykunatam': 1, 'nawpaqmanta': 1, 'willasqanam': 1, 'kasuqqa': 1, 'puchukallanqam': 1, 'tapukullayman': 1, 'maylawmantaraq': 1, 'yanapagniyga': 1, 'hamullawanman': 1, 'señorllay?': 1, 'yanapakuyqa': 1, 'hamullawanga': 1, 'kunnapas': 1, 'pachaiyappas': 1, 'unanchaqmantam': 1, 'urmanaykita': 1, 'munallanqachu': 1, 'cuidaqnikiqa': 1, 'puñullanqachu': 1, 'puñuqmi': 1, 'kallachkan': 1, 'rikchaqmi': 1, 'diospunim': 1, 'desgracia': 1, 'waqaychaykunda': 1, 'tata': 1, 'tiempupim': 1, 'qamtaqariki': 1, 'mayman': 1, 'risqaytapas': 1, 'yachallaspay': 1, 'kawsaytañam': 1, 'riqsiykachiwarqa': 1, 'nuqapa': 1, 'penqayman': 1, 'churaspay': 1, 'asikullarqani': 1, 'riqsiykachiwarga': 1, 'munaynikim': 1, 'rurasqa': 1, 'salvakuqnillayku': 1, 'runatam': 1, 'libraykuyta': 1, 'qayaykullachkanki': 1, 'uyariykuchkaspada': 1, 'asuykamuyña': 1, 'chaskiykullasunkim': 1, 'kuyawanki': 1, 'huywawanki': 1, 'kuyawaqniy': 1, 'huywawaqniy': 1, 'parallatam': 1, 'quwankiku': 1, 'kawsayllatam': 1, 'ruruchinki': 1, 'hinaptimpas': 1, 'riqsikuncho': 1, 'agradecikuyki': 1, 'qamllama': 1, 'cuidanki': 1, 'sapallaykim': 1, 'pachachiwankipas': 1, 'cuidawaqniy': 1, 'hatunchani': 1, 'amañaya': 1, 'qawaycho': 1, 'amanaya': 1, 'ruraycho': 1, 'downinchikpa': 1, 'pakispa': 1, 'pinqayman': 1, 'churaspa': 1, 'alabayqa': 1, 'reqsiyqa': 1, 'ñuqallaytapas': 1, 'llapallanchikta': 1, 'salvaykuwasun': 1, 'servikullasun': 1, 'kuyakuyninqa': 1, 'rantiykuwanchik': 1, 'waqachkaptinchik': 1, 'kasuptinchikqa': 1, 'kuyakuyninmi': 1, 'sapallanña': 1, 'uraykamuspa': 1, 'ichiriyasqallañachum': 1, 'suyachkanki?': 1, 'hermano': 1, 'llamkana': 1, 'suyananchik': 1, 'tentacion': 1, 'manakusun': 1, 'hamuptinpas': 1, 'fuertita': 1, 'saynsun': 1, 'kusi-kusiyllaña': 1, 'puchawpuni': 1, 'kuyakusqallayku': 1, 'masillayku': 1, 'kusisqataq': 1, 'tarikullaniku': 1, 'qamkunamantaya': 1, 'sunqullawanna': 1, 'yuyayllawanna': 1, 'salvagnillanchikta': 1, 'makillaykupiñam': 1, 'chaskiykullaniku': 1, 'nawillaykuwanñam': 1, 'qawaykullaniku': 1, 'siervollaykikunam': 1, 'qellqaykullarqaku': 1, 'yanapaykusqanwan': 1, 'simipiña': 1, 'kaptinqa': 1, 'astawancha': 1, 'yachaykullasaqku': 1, 'kasqanrayku': 1, 'achka': 1, 'watakunam': 1, 'suyallarqaniku': 1, 'munaynillaykita': 1, 'sonquwanmi': 1, 'chaskikullaniku': 1, 'qellqaykita': 1, 'salvakuqllay': 1, 'qellqallaykitam': 1, 'qawaykullanku': 1, 'siervoykikunam': 1, 'qellqallarqaku': 1, 'rimallasqayku': 1, 'simillaykupi': 1, 'kusiym': 1, 'setiembre': 1, 'año': 1, 'ochentisiete': 1, 'huamanga': 1, 'chaskiykuspaqa': 1, 'bendicisqam': 1, 'makinchikpiña': 1, 'rimallasqanchik': 1, 'simillanchikpi': 1, 'unanchaqnillayku': 1, 'graciasllatam': 1, 'salvaykuwasqankumanta': 1, 'espirituykim': 1, 'yachachillawachkanku': 1, 'willakamunallaykupaq': 1, 'lataq': 1, 'maki': 1, 'kupim': 1, 'tarikun': 1, 'haykapitaq': 1, 'yuyarqani': 1, 'kuyawasqantaqa': 1, 'chinkasqatam': 1, 'purichkaqta': 1, 'pusawanchik': 1, 'creekuspa': 1, 'qatiptinchik': 1, 'jesucristuqa': 1, 'huchallanchik': 1, 'apanampaq': 1, 'imaynanpim': 1, 'onqospayki': 1, 'yuyarinki': 1, 'sano': 1, 'qondarinki': 1, 'purikuspa': 1, 'kank': 1, 'hinaraqchum': 1, 'qonqarinki': 1, 'kullaway': 1, 'kuyakuqnillayqa': 1, 'mayllaykuqniyqa': 1, 'riqsikullayki': 1, 'yachaynillaytam': 1, 'huchallamanta': 1, 'wanakunaypaq': 1, 'kuyakuytapas': 1, 'pachapiga': 1, 'chaqchuyllam': 1, 'miraykullachkan': 1, 'kutiymullayña': 1, 'hurquykullaway': 1, 'sumaqllatam': 1, 'maynatam': 1, 'kawsakuqkunaman': 1, 'waqaychaykullanqa': 1, 'chaskikuychik': 1, 'jesucristollata': 1, 'chaskikuykullaychik': 1, 'hamukuytam': 1, 'kaniku': 1, 'qamkunawan': 1, 'yachaykullasunchik': 1, 'qellqanmanta': 1, 'payllapunim': 1, 'iniyllata': 1, 'satanasmi': 1, 'pantachillawachkan': 1, 'qaparichkaq': 1, 'qatikullasqaykim': 1, 'servikullasqaykim': 1, 'punchawkaman': 1, 'urmastinpas': 1, 'hana': 1, 'taytaku': 1, 'sutikitam': 1, 'one': 1, 'kanaykama': 1, 'yachaywanña': 1, 'nawillaykim': 1, 'qawawachkan': 1, 'rikuwachkan': 1, 'kasukusqaykurayku': 1, 'urmasqayta': 1, 'llamkaspapas': 1, 'payllawanña': 1, 'urqupipas': 1, 'kuyawancho': 1, 'unqoptiypas': 1, 'waqaptiypas': 1, 'cosuelawan': 1, 'muyullawaptinpas': 1, 'vencichiwan': 1, 'adorason': 1, 'diosllapiña': 1, 'piensallasun': 1, 'payllapaqna': 1, 'kawsayllasun': 1, 'kallpanchaykullayña': 1, 'mañakamullaykim': 1, 'kuskanchakuqkuna': 1, 'purinallankupaq': 1, 'yachaykachillayña': 1, 'iskayninta': 1, 'hukllaman': 1, 'quñuspa': 1, 'bedeciykullayña': 1, 'adan': 1, 'eva': 1, 'mañakamullayki': 1, 'pusakunaykipaq': 1, 'kawsachikuspayki': 1, 'waqaychaykullayña': 1, 'dioshinchikta': 1, 'kuyakuyninwanmi': 1, 'kuyayninmi': 1, 'igualniyuq': 1, 'churinwan': 1, 'yuyaymanariykuy': 1, 'chiqaptachum': 1, 'iñichkanki': 1, 'tiyachkanchum': 1, 'allintachum': 1, 'musyakunki': 1, 'kallasqanta': 1, 'yachachkaspam': 1, 'perderunki': 1, 'yachachkaspa': 1, 'kutimuspan': 1, 'juzgallanga': 1, 'asuykunga': 1, 'nawpaqninman': 1, 'nigaqkunanataq': 1, 'wiñaypaqna': 1, 'reqsiqtanataqmi': 1, 'allingninman': 1, 'akllaykunda': 1, 'nigaqkunatañataq': 1, 'ichuqninman': 1, 'sapaqchanqa': 1, 'pinakuspam': 1, 'niykullanqa': 1, 'ichuqninpi': 1, 'anchuriychik': 1, 'ñuqamanta': 1, 'ruraqkuna': 1, 'alliqninpi': 1, 'kaqkunatam': 1, 'niykulllanga': 1, 'fuqallaywan': 1, 'kusikuychik': 1, 'wiña-winny': 1, 'pusaqnillanchik': 1, 'mosukuna': 1, 'rikcharisunchik': 1, 'salvaqllanchiktaqa': 1, 'tutata': 1, 'waqaychakusunchik': 1, 'cuidakusun': 1, 'pantachikuqmanta': 1, 'kuyaqniypas': 1, 'chiqniqniypas': 1, 'qepaykullanqam': 1, 'sonqunmanta': 1, 'iñiykullaspanqa': 1, 'uyariwayña': 1, 'qayakamuyniyta': 1, 'samapayan': 1, 'kusikuq': 1, 'kuyawan': 1, 'qunqawanchu': 1, 'ñuqapas': 1, 'kutimullachkanña': 1, 'churinkunamanmi': 1, 'yaqañachum': 1, 'tupaykunanchikpaq': 1, 'cercamullachkannam': 1, 'salvaqnillanchikga': 1, 'pusawananchikpaq': 1, 'yaqanachum': 1, 'listuna': 1, 'purichkachun': 1, 'wischuqqa': 1, 'wischuchkachun': 1, 'chuyanchakuspa': 1, 'desmayaycho': 1, 'tiempuqa': 1, 'cercañam': 1, 'kutimunallaypaq': 1, 'kicharispaymi': 1, 'hamuyňa': 1, 'churillay': 1, 'niykullasqaykichik': 1, 'ñuqaqa': 1, 'kutimullachkani': 1, 'makillay': 1, 'huntatam': 1, 'apamullachkani': 1, 'llapallanmanmi': 1, 'pagaykapusaq': 1, 'rurasqanman': 1, 'chaskikullanqaku': 1, 'puyullapim': 1, 'pusakunga': 1, 'ripusunnam': 1, 'taytanchikwan': 1, 'tupasunñam': 1, 'suyaykusun': 1, 'taytanchikpa': 1, 'hamuyninta': 1, 'llumpa-llumpaytam': 1, 'kuyarga': 1, 'iñiykuspaqa': 1, 'wiña-wiñayña': 1, 'jesusllanchikpi': 1, 'iñigkuna': 1, 'nunca': 1, 'chinkanqachu': 1, 'wanakuqqa': 1, 'salvaykusqanña': 1, 'tarikunqa': 1, 'kawsayllanchikpi': 1, 'maskakusun': 1, 'yuyariypuni': 1, 'kuyakuynillanta': 1, 'maqanakunkum': 1, 'leryayllapiñam': 1, 'mayollam': 1, 'puririykuchkan': 1, 'rikuspam': 1, 'diostaytallaman': 1, 'kutirikusun': 1, 'kaykunam': 1, 'socedekuchkan': 1, 'huchallanmanta': 1, 'asuykuspanchik': 1, 'taytallanchikpa': 1, 'kuyakuyninta': 1, 'diosninchiktam': 1, 'kusichichkani': 1, 'agradecikunim': 1, 'hamunanñam': 1, 'cerkamuchkanña': 1, 'chayraykutaq': 1, 'llapanchik': 1, 'servison': 1, 'sonqonchikwan': 1, 'yanapawasunmi': 1, 'espiritullanwan': 1, 'churillanwantaq': 1, 'wawqe-paniykuna': 1, 'unanchaqninchikman': 1, 'tronoypi': 1, 'qamllapagna': 1, 'kawannaypaq': 1, 'kasqaykipi': 1, 'kuskn': 1, 'anglwaychu': 1, 'dioniy': 1, 'tiyaynlypim': 1, 'suyachkayki': 1, 'winnypaqna': 1, 'utqamuyna': 1, 'kutimuya': 1, 'kuyaqniymi': 1, 'hamullayha': 1, 'tukullaptin': 1, 'auqallayta': 1, 'yuyarillasun': 1, 'chakichkan': 1, 'chaynama': 1, 'rumichum': 1, 'qaqachum': 1, 'nisusqaykita': 1, 'kunanya': 1, 'kanaykipaqña': 1, 'churikim': 1, 'wanullarga': 1, 'vencenampaq': 1, 'kuyayki': 1, 'nisqaykikuna': 1, 'qespinampaq': 1, 'yawarnintataq': 1, 'chaqchullarqa': 1, 'nakariywanmi': 1, 'mayllarqanki': 1, 'qamllamanna': 1, 'ialeluya!': 1, 'pusakuwanga': 1, 'kawayman': 1, 'santokunawan': 1, 'wanuqta': 1, 'iniqqa': 1, 'llamkaywanraqchum': 1, 'afanakuchkanki': 1, 'qollqepiraqohum': 1, 'sonquyki': 1, 'kawsaynikitaq': 1, 'almallaykitaq': 1, 'unanchaqniy': 1, 'kuyakuqa': 1, 'rimariyta': 1, 'palabrayki': 1, 'kuyapayariykullay': 1, 'salvakuykullay': 1, 'chayllapunim': 1, 'kuyasqantam': 1, 'gloriamanña': 1, 'salvokaqtam': 1, 'saqeykunga': 1, 'deqaykunqa': 1, 'waqallanga': 1, 'pakarina': 1, 'infiernopim': 1, 'rupallanga': 1, 'kaypachapi': 1, 'ñakarinki': 1, 'pusawayña': 1, 'apawayña': 1, 'tiyayniypim': 1, 'kusichinim': 1, 'takisqaywan': 1, 'diospim': 1, 'kasqayrayku': 1, 'manchakusqay': 1, 'qamllapiña': 1, 'waqakullaptiymi': 1, 'pichawanki': 1, 'lliwchataña': 1, 'rimarinay': 1, 'rimachiway': 1, 'hamuptinqa': 1, 'puriyniyqa': 1, 'chaqchuywanga': 1, 'wanukuyman': 1, 'infiernopaqchum': 1, 'kawsachkayman': 1, 'wanuyninwanmi': 1, 'chuyanchawan': 1, 'mikunana': 1, 'qespichikuqniy': 1, 'tukey': 1, 'almaypiwan': 1, 'kuyakuqnillay': 1, 'libraykuwan': 1, 'iñiqkunatam': 1, 'sasachakuyllam': 1, 'pachana': 1, 'tukuruptimpas': 1, 'ñoqapaqa': 1, 'kapuwachkanmi': 1, 'qepaykuspaykill': 1, 'huchallampi': 1, 'rigsispay': 1, 'rimasgaywan': 1, 'gawasqaywanmi': 1, 'dismillayta': 1, 'lakichirgani': 1, 'hochallapi': 1, 'purisgaykunapim': 1, 'llakisqalla': 1, 'kawsallargani': 1, 'rurallascaywanmi': 1, 'lakikuylla': 1, 'hamullawarga': 1, 'rimaykullawarqa': 1, 'gayaykullawarga': 1, 'jesusniytam': 1, 'riqsikullargani': 1, 'kusikuytam': 1, 'riqsichiwarga': 1, 'imaynatag': 1, 'riqsiranchikcho': 1, 'utqayllataq': 1, 'salvakuqman': 1, 'waqaypitaq': 1, 'tarikullawaq': 1, 'kuyawaspam': 1, 'llakiptiypas': 1, 'cuerpollay': 1, 'wañuyllaman': 1, 'kuyawanmi': 1, 'waqaptiymi': 1, 'consuelawan': 1, 'urmaptiypas': 1, 'iniqtaqa': 1, 'gloriamannam': 1, 'ripusunchik': 1, 'kutimuptin': 1, 'riqsikuykuy': 1, 'riqsikuspa': 1, 'waqaychakuy': 1, 'suyaykuspa': 1, 'atiynikitam': 1, 'sutikitataq': 1, 'kayniytam': 1, 'qatuntaq': 1, 'munakuyniki': 1, 'qamllaman': 1, 'hamuykullayki': 1, 'huntaykullaway': 1, 'hamusaq': 1, 'almallnypas': 1, 'nutu': 1, 'allpamantam': 1, 'rikchaynimpi': 1, 'kawsaynimpa': 1, 'chanillanmi': 1, 'rantisqaña': 1, 'taytallayman': 1, 'pampachaykuqllayman': 1, 'churinwanmi': 1, 'wañupullawarqa': 1, 'wañunallaymantam': 1, 'wanullarqa': 1, 'rillachkaqtam': 1, 'tariykullawaspan': 1, 'gloriallampaq': 1, 'servikullaspaymi': 1, 'maskaykullawaspam': 1, 'qechuruwan': 1, 'pachapichum': 1, 'llaqtayki': 1, 'wiñaypaqñachum': 1, 'qonqaykuspayki': 1, 'huchaykitapas': 1, 'pakaykuspayki': 1, 'ñawinqa': 1, 'qawachkasunkim': 1, 'maskaychu': 1, 'kusikuytaqa': 1, 'qollqipas': 1, 'tukuqlla': 1, 'qochukuytapas': 1, 'mundontintaña': 1, 'dueñochakuwaq': 1, 'imapaq': 1, 'servisunkichu': 1, 'imaña': 1, 'qawasqaykipas': 1, 'valeqllam': 1, 'punchawña': 1, 'ninam': 1, 'huktawanraqmi': 1, 'qunqayllamanta': 1, 'akllasqan': 1, 'churinkunatam': 1, 'nakariymanta': 1, 'wawqe-panillay': 1, 'chuyanchakusun': 1, 'yaykuykuspanchik': 1, 'rikuykunapaq': 1, 'sasachakuywan': 1, 'hamullaptinqa': 1, 'jesucristopa': 1, 'atiyninwanqa': 1, 'vencisunchikmi': 1, 'tentaciontapas': 1, 'pachallapim': 1, 'kusikuyllapim': 1, 'kawsakusunchik': 1, 'yachachkaspaqa': 1, 'willakuchkaqtam': 1, 'qomqayllamanta': 1, 'allinñachu': 1, 'quan': 1, 'spa': 1, 'kaskus': 1, 'munasqanpi': 1, 'purillaspa': 1, 'maymanñataq': 1, 'richkanki': 1, 'chinkasqalla': 1, 'naomi': 1, 'jesusllanchikmi': 1, 'maisy': 1, 'qayakuyninta': 1, 'pampachaykullasunkinam': 1, 'yachachisunkim': 1, 'kall': 1, 'panchallasunki': 1, 'iskayrayaspayki': 1, 'wischukuykuy': 1, 'llumpa': 1, 'llumpaytam': 1, 'kuyarqn': 1, 'runnkunnta': 1, 'qomunankuma': 1, 'inispa': 1, 'salvakunampag': 1, 'mayqanpas': 1, 'chinkallaspanku': 1, 'wiña-wiñayna': 1, 'kacharqa': 1, 'gabrielta': 1, 'nazaret': 1, 'galileaman': 1, 'mariapa': 1, 'yaykuykuspanmi': 1, 'niykurqa': 1, 'kaynatapuni': 1, 'rimaykullaykim': 1, 'gracianwan': 1, 'akllasqam': 1, 'warmikunapí': 1, 'gabrielmi': 1, 'mariaman': 1, 'qari': 1, 'wawatam': 1, 'wachakunki': 1, 'llantuykusqallan': 1, 'alto-altopi': 1, 'reynanqa': 1, 'tukuqpaq': 1, 'sasachu': 1, 'diospaqa': 1, 'rurallasqanmi': 1, 'kamachikurqa': 1, 'hinaspam': 1, 'willakunampaq': 1, 'hatarispayki': 1, 'puni': 1, 'ninive': 1, 'ñawpaqnillaypi': 1, 'hatarispanmimo': 1, 'hayqerqa': 1, 'chaymantataqmi': 1, 'challwapa': 1, 'ukunman': 1, 'yaykurqa': 1, 'kunampasu': 1, 'kachkanku': 1, 'maskaspa': 1, 'llakikuyllam': 1, 'wañullanku': 1, 'ayllum': 1, 'chinkallanku': 1, 'kasqankuwan': 1, 'piñakuynillanwan': 1, 'ochentay': 1, 'watamantam': 1, 'noventay': 1, 'waranqampim': 1, 'wanun': 1, 'ausiliasqan': 1, 'kuchillupi': 1, 'baliapasqa': 1, 'mayupiraq': 1, 'qaqapiraq': 1, 'aychallanku': 1, 'hismuykullan': 1, 'uyariqllay': 1, 'wakiqnincha': 1, 'wakiqnataq': 1, 'gloriapaqna': 1, 'kaykunama': 1, 'pasakurga': 1, 'hamullaykikum': 1, 'llakipayaywan': 1, 'qawariwayku': 1, 'urmaycho': 1, 'kibag': 1, 'huchayuqkuna': 1, 'salvakunampaq': 1, 'allinna': 1, 'hamullaptinpas': 1, 'makillaykiwan': 1, 'pusakuwayku': 1, 'manakamuykim': 1, 'uyariykamullawayña': 1, 'huchasapallaykita': 1, 'yachanim': 1, 'semillaykipi': 1, 'yupaychasqaypi': 1, 'cuerpullaytapas': 1, 'kallpanchaykuspa': 1, 'vencichiway': 1, 'señorallay': 1, 'chiriyaykuptimpas': 1, 'yaykumuptimpas': 1, 'wischuruy': 1, 'iniqkuna': 1, 'hukmanyaycho': 1, 'atiynillawanmi': 1, 'yanapawasunchik': 1, 'chayachiwasunchik': 1, 'kawsakamusunchik': 1, 'tukuqwanmi': 1, 'churakamusunchik': 1, 'kusikuyllam': 1, 'kawsakuymi': 1, 'yupaychamusunchik': 1, 'maskakuykuy': 1, 'kasqantam': 1, 'yachallanki': 1, 'punkutapas': 1, 'tarillankim': 1, 'chayallankim': 1, 'ñannikichik': 1, 'qoqnikichik': 1, 'ñoqantakamaqa': 1, 'taytaymanqa': 1, 'hamunmancho': 1, 'rikchakapun': 1, 'derecho': 1, 'nanninpas': 1, 'tukuyninñataqmi': 1, 'chaymantañataqmi': 1, 'akllakuyña': 1, 'mayqantapas': 1, 'chayaqtapas': 1, 'apaqtapas': 1, 'pagonga': 1, 'qukuyninnataqmi': 1, 'cristollapim': 1, 'hukpi': 1, 'tariwaqcho': 1, 'kuyakullawarga': 1, 'kuyny': 1, 'kuchamullawarga': 1, 'virgen': 1, 'mariamanta': 1, 'libraykuwananpaq': 1, 'mundomanmi': 1, 'jerusalenmanmi': 1, 'chayaykamullarga': 1, 'riqsikuspay': 1, 'judio': 1, 'chaskirgachu': 1, 'salvaqnin': 1, 'diosnintam': 1, 'riqsirqakuchu': 1, 'forastero': 1, 'purillarqa': 1, 'chakikimanmi': 1, 'reqsikullaspay': 1, 'yanayasqaña': 1, 'suma-sumaqta': 1, 'limpiaykullaway': 1, 'qanra': 1, 'milli': 1, 'intuykusqaña': 1, 'chuyayaykachiy': 1, 'sonquta': 1, 'ruraykullaway': 1, 'iñimullayki': 1, 'qumuyki': 1, 'nawillayki': 1, 'qawariwachun': 1, 'unanchaqnillay': 1, 'reynollaykiman': 1, 'churillaykita': 1, 'kachamullaspa': 1, 'kasqaykimanna': 1, 'enemigoymi': 1, 'muyuriwachkan': 1, 'purisqayrayku': 1, 'masiymi': 1, 'cheqnillawachkan': 1, 'apasqayrayku': 1, 'kawsachiq': 1, 'churikiwanmi': 1, 'riqsikuqtam': 1, 'pagunwan': 1, 'cieloykipaq': 1, 'salvagnillay': 1, 'wañupuwarqa': 1, 'wanunallaypag': 1, 'noqaraykum': 1, 'ripullan': 1, 'kutimullaspa': 1, 'pusakullawananpaq': 1, 'ukullamantam': 1, 'qayaykamullawanqa': 1, 'nimuwaptinmi': 1, 'haypaykullasaq': 1, 'kusikuymantam': 1, 'takinqa': 1, 'saqispaymi': 1, 'jesusnillaypi': 1, 'iñisqanrayku': 1, 'jesusninchikmi': 1, 'hichpaykamuchkanna': 1, 'gellakuychu': 1, 'iñiynikiwan': 1, 'jdiosninchikta': 1, 'kuyaspa': 1, 'wanunaykikama': 1, 'qantam': 1, 'waqachkani': 1, 'raykulla': 1, 'kuyapayariykuwaspa': 1, 'fuerte': 1, 'sayanaypaq': 1, 'kasunaypaq': 1, 'kallpanchaykuy': 1, 'alliqmanpas': 1, 'ichuqmanpas': 1, 'wichinaypaq': 1, 'maskawarga': 1, 'huchaymantam': 1, 'kuyakuyqa': 1, 'kusisqañam': 1, 'salvayküllawankim': 1, 'songuytam': 1, 'llampuyaykachinki': 1, 'kuyakuqlay': 1, 'sutitañam': 1, 'rikuykachiwanki': 1, 'jesusnillaywan': 1, 'espirituykitam': 1, 'quykullawanki': 1, 'yachaykunallaypaq': 1, 'runamanna': 1, 'kuyakug': 1, 'kallpanchaykuwankim': 1, 'fianniypiña': 1, 'urmanallaymanta': 1, 'jesusnillaywanmi': 1, 'vensichillawanki': 1, 'kuyakuqllay': 1, 'kallpanchukuy': 1, 'chuyanchakuy': 1, 'señortaña': 1, 'qatinaykipaq': 1, 'jesuspaqña': 1, 'purispanchikqa': 1, 'vincisunchikmi': 1, 'yupaychasunchik': 1, 'mancharinkichu': 1, 'hukmanyankichu': 1, 'pasawasunchu': 1, 'qatiptinchikqa': 1, 'siminpe': 1, 'pillapaqchus': 1, 'servikusunchik': 1, 'diosninchikmi': 1, 'padeserqa': 1, 'kullupim': 1, 'urqupim': 1, 'kuyaqniy': 1, 'uywaqniy': 1, 'consuelaykullaway': 1, 'maskaqniymi': 1, 'salvaqllaymantam': 1, 'rakiykullawachkan': 1, 'haycha': 1, 'aysaykullawachkan': 1, 'judiokunapa': 1, 'acusasqan': 1, 'chikan': 1, 'huchayuqmi': 1, 'arqa': 1, 'josé': 1, 'nikudemuwanmi': 1, 'cuerpollanta': 1, 'mañallarga': 1, 'pilatosmi': 1, 'entregarqa': 1, 'apaspanku': 1, 'pampanampaq': 1, 'huchayraykum': 1, 'pampakurqa': 1, 'pampachaykullawanampaq': 1, 'kutiriqta': 1, 'pampachaykunampaq': 1, 'kawsarispam': 1, 'wicharirqa': 1, 'ñoqallaytapas': 1, 'kawsarichiwananchikpaq': 1, 'rikuriykamuptin': 1, 'taripasun': 1, 'salvaqllanchikwanmi': 1, 'tinku': 1, 'musun': 1, 'nawi': 1, 'qemchiyllatam': 1, 'cuerponchikpas': 1, 'tikrakuykullanqa': 1, 'jesusnillanchikman': 1, 'rikchakuqnam': 1, 'rikuriykullasun': 1, 'cuerpowanmi': 1, 'kawsarisunchik': 1, 'puño': 1, 'suncho': 1, 'rikcharispa': 1, 'ripukusun': 1, 'ladonpiqa': 1, 'kusikuyllawannam': 1, 'hawkayaywan': 1, 'kuyakuypas': 1, 'pesiparullani': 1, 'chaqchullasqaykiwan': 1, 'manapunim': 1, 'atinichu': 1, 'kasukullanichu': 1, 'niwasqayki': 1, 'utqamullayña': 1, 'alabamunaypaq': 1, 'nannikita': 1, 'nanniki': 1, 'allinllanam': 1, 'ñanniki': 1, 'qamllapaqram': 1, 'vencenaypaq': 1, 'panillaykuna': 1, 'amapuniñam': 1, 'wichillankicho': 1, 'encargotam': 1, 'dejakullayki': 1, 'kunakuytam': 1, 'saqekullayki': 1, 'chaypiña': 1, 'kallaspaykipas': 1, 'runakunaña': 1, 'chiqnisuptiki': 1, 'muchuyna': 1, 'manchakunkicho': 1, 'ñoqanchikwanmi!!': 1, 'kaspacha': 1, 'tupallasunchik': 1, 'iay!': 1, 'mañanacha': 1, 'hinaptinga': 1, 'cielopiñacha': 1, 'cuidallawachkan': 1, 'urmanaymantam': 1, 'waqaychawachkan': 1, 'angelninwanmi': 1, 'yanapawachkan': 1, 'ñanmanta': 1, 'cuidakuwaspa': 1, 'kallpanchawachkan': 1, 'vencinallaypaq': 1, 'pachamama': 1, 'pusawananpaq': 1, 'wiña-wiñayňa': 1, 'qonqaychu': 1, 'salvaqnikita': 1, 'servispaykiqa': 1, 'wichillankichu': 1, 'diosnillayga': 1, 'tronullampim': 1, 'tiyakuchkan': 1, 'hatu-hatunmi': 1, 'atiynimpas': 1, 'diosninkuqa': 1, 'qollqemanta': 1, 'qorimantam': 1, 'seminpas': 1, 'renrinpas': 1, 'seminas': 1, 'samarinchu': 1, 'ruraq': 1, 'salvaykunqam': 1, 'kallpanchangam': 1, 'yanapanqam': 1, 'waqaychanqam': 1, 'serveq': 1, 'llakiychu': 1, 'pusaqnillanchikqa': 1, 'kutiramunqanam': 1, 'hayaq': 1, 'qatqellañam': 1, 'nanayllanam': 1, 'ranteqnillanchikqa': 1, 'pusakuwasunñam': 1, 'hawkayayman': 1, 'ruragninchik': 1, 'vida': 1, 'qoqninchikman': 1, 'adoranmi': 1, 'chaskakunapas': 1, 'alabanza': 1, 'siervo': 1, 'chayanapaq': 1, 'unanchasqakunam': 1, 'sachakuna': 1, 'urpichakunapas': 1, 'achikyaykamuptin': 1, 'takillanku': 1, 'unanchakuq': 1, 'antiyniyuq': 1, 'qukuq': 1, 'kuyakuyta': 1, 'huntaykamuy': 1, 'kawsasqaypi': 1, 'supaymata': 1, 'servinaypaq:': 1, 'rurallanki': 1, 'taqa': 1, 'rillanki': 1, 'jamm': 1, 'kimanta': 1, 'iñiptiki': 1, 'munankichum': 1, 'wischusqa': 1, 'waqayta': 1, 'piesariy': 1, 'iniesta': 1, 'iñispallaykim': 1, 'uraykamum': 1, 'chaqchuspanmi': 1, 'kuykuy': 1, 'qayallasuchkankim': 1, 'willakuykuy': 1, 'salvasunaykipaq': 1, 'rimapayan': 1, 'wanakuptin': 1, 'salvaykunallampaq': 1, 'sonqunmantam': 1, 'qayaykuchkan': 1, 'huchayuqkunata': 1, 'inikuykuy': 1, 'pusakullasunki': 1, 'suyaykuway': 1, 'piensallasqaymanta': 1, 'maypachapipas': 1, 'qayamullayki': 1, 'wawallaykim': 1, 'manamullayki': 1, 'pusakullawayna': 1, 'reynoykiman': 1, 'apakullawayña': 1, 'diosniypunim': 1, 'kuyakuwarqa': 1, 'qespichiwarqa': 1, 'ruranallaypaq': 1, 'quwan': 1, 'ñuqapi': 1, 'salvakuqniyta': 1, 'salvaykuqniyta': 1, 'chua': 1, 'gail': 1, 'guar': 1, 'gellhorn': 1, 'sutinchachkan': 1, 'pucha': 1, 'hanuman': 1, 'yangallapim': 1, 'nigaspayki': 1, 'kutimusaq': 1, 'pachatam': 1, 'chínkachinga': 1, 'wicharison': 1, 'premiotanam': 1, 'chaskimuson': 1, 'wiña-winay': 1, 'kaweananpaq': 1, 'cielomanna': 1, 'kanaykipag': 1, 'yachachiqniyga': 1, 'niwasqantaqa': 1, 'sonqullaypipunim': 1, 'tiyachkan': 1, 'huchasapatam': 1, 'sonqullantaqa': 1, 'tukaykuchkan': 1, 'huchallantaqa': 1, 'willarqa': 1, 'sonqullampi': 1, 'kuyapayakuyninwan': 1, 'salvakuqwan': 1, 'kawsaqña': 1, 'llaqtallanpiqa': 1, 'kallanqanachu': 1, 'espiritupi': 1, 'sonqukunaqa': 1, 'kirisqaqa': 1, 'jesusilanchikmi': 1, 'kutimunqana': 1, 'hichpaykamunna': 1, 'huchayuqtam': 1, 'condenaykunga': 1, 'kaqtam': 1, 'pusakullanqa': 1, 'iñikuykuyña': 1, 'manachayqa': 1, 'pin': 1, 'ninapim': 1, 'rupanki': 1, 'chayaykamunña': 1, 'temblor': 1, 'taspirimunna': 1, 'yarqaykunam': 1, 'chayaykamunna': 1, 'onquykunam': 1, 'rekurimunna': 1, 'manchariy': 1, 'tiempom': 1, 'chayaramunna': 1, 'hawanchikpiña': 1, 'iniqkunam': 1, 'iskayrayanna': 1, 'diosllanchikqa': 1, 'kawsaqchum': 1, 'hatuntukuspa': 1, 'reqsikullanki': 1, 'qukuqta': 1, 'wanuylla': 1, 'imaynapunim': 1, 'almayki': 1, 'llakitaq': 1, 'compaq': 1, 'chaskisuptiki': 1, 'tarimasu': 1, 'juzgasqam': 1, 'hayqenqanachu': 1, 'diosinchikmi': 1, 'kuyakullawarqanchik': 1, 'anta': 1, 'kaptiymi': 1, 'cheqniwan': 1, 'kallpanchawankiñam': 1, 'llamkachkan': 1, 'dantachiwananraykum': 1, 'supayga': 1, 'pantachiwangañachu': 1, 'anticristom': 1, 'pachallisqa': 1, 'supaymi': 1, 'mikukuq': 1, 'dioallanchikta': 1, 'maskachkan': 1, 'pantachinanraykullam': 1, 'veneinqam': 1, 'qawayta': 1, 'kusikuyña': 1, 'reynillaykim': 1, 'nacerqamun': 1, 'musiasqanmi': 1, 'salvaqniki': 1, 'chayarqamun': 1, 'niño': 1, 'nacesqanmi': 1, 'hawkayayta': 1, 'apamurqa': 1, 'qoykuspaqa': 1, 'hawkayaypi': 1, 'yaykuron': 1, 'kamachikuqkunam': 1, 'qayachirqaku': 1, 'kasarakuypimya': 1, 'kusikurqaku': 1, 'canaán': 1, 'pisiptinmi': 1, 'vinoyaykachirqa': 1, 'chiqaptam': 1, 'niykullawanchik': 1, 'kallachkaptinku': 1, 'rikuchirqa': 1, 'jesushinchikqa': 1, 'yakuta': 1, 'vinoyachispan': 1, 'bendicen': 1, 'kasarakuqta': 1, 'bendicispaqa': 1, 'bedicisunki': 1, 'quykuy': 1, 'kasqaykiraykum': 1, 'kutirikullay': 1, 'wanakuspayki': 1, 'taytallanchikqa': 1, 'kawsaptinchikpas': 1, 'kuyaywan': 1, 'qayaykuwanchik': 1, 'wanuyllamanta': 1, 'chaskiptinchikqa': 1, 'wasinpim': 1, 'kawsachiwasun': 1, 'kusichiwasun': 1, 'kuyakuyllaykim': 1, 'nawillaykupa': 1, 'rikuykusqan': 1, 'sachatam': 1, 'qatqe': 1, 'waytam': 1, 'qawallasqayku': 1, 'animalkunam': 1, 'admirakuypaq': 1, 'pawaykachan': 1, 'qawallanikum': 1, 'iglesiankuna': 1, 'kikinpunim': 1, 'nillarga': 1, 'kutispan': 1, 'tukungam': 1, 'hamunda': 1, 'salvasqankuna': 1, 'haykallaraq': 1, 'qayllanmanta': 1, 'winchusqa': 1, 'pachapiñacha': 1, 'riqsiykanakusunchik': 1, 'kuyaywanmi': 1, 'wañuykullaspayki': 1, 'kachkaptiymi': 1, 'kuyaykullawanki': 1, 'yachaytamya': 1, 'mañakumullayki': 1, 'viciollapim': 1, 'churikiwan': 1, 'kangachu': 1, 'kusikuyllañam': 1, 'listata': 1, 'pasaptin': 1, 'kawsakamusun': 1, 'jesusninchikwan': 1, 'alliq': 1, 'waqtampi': 1, 'kancharisunchik': 1, 'kusikusunchik': 1, 'salvaqninchikwan': 1, 'salvaollanchik': 1, 'kuy': 1, 'mancharinqa': 1, 'qawaykullaspan': 1, 'piñakuywanñam': 1, 'puyullapi': 1, 'kutimuqtam': 1, 'ayqirinqa': 1, 'qayllallanmanta': 1, 'quchallapi': 1, 'kasqanraykum': 1, 'mancharillanqa': 1, 'diosllanchikpa': 1, 'salva': 1, 'suyallasunchik': 1, 'sonqullam': 1, 'takillastin': 1, 'taytanchikpaqa': 1, 'wñuqkunam': 1, 'puntataqa': 1, 'tlapallanmi': 1, 'cuerpom': 1, 'tariqkunam': 1, 'chaymantana': 1, 'ñoqallanchik': 1, 'kawsaqkunapas': 1, 'taripaykusun': 1, 'kusisqallam': 1, 'sayariykusun': 1, 'qespichiqniyga': 1, 'jesusnillayga': 1, 'horam': 1, 'kawsachkaqtam': 1, 'tarimusunki': 1, 'kawsarimunga': 1, 'chaymantañam': 1, 'wichariykusun': 1, 'jesuswanna': 1, 'wiñaypaqňa': 1, 'kawsamusunchik': 1, 'pasakuchkan': 1, 'guerra': 1, 'unqoykunam': 1, 'hatarimunqa': 1, 'pasakunqa': 1, 'qawakuykuy': 1, 'imaynatam': 1, 'cielomanda': 1, 'wichariykunki': 1, 'qepariykunki': 1, 'kusikullachkanim': 1, 'riqsisqaywan': 1, 'kuyakuyninmantam': 1, 'bibliapi': 1, 'pampachaykuwanmi': 1, 'libropim': 1, 'sutiypas': 1, 'hichpaykamuchkanña': 1, 'hawanmantam': 1, 'qayaykamuwasun': 1, 'kananchik': 1, 'musyayllatam': 1, 'hamuchkanñam': 1, 'llapanchikpaq': 1, 'llampi': 1, 'huchapichum': 1, 'llullawanchum': 1, 'impi': 1, 'kapusunkim': 1, 'premioykiqa': 1, 'sumaqtam': 1, 'ñawikunapa': 1, 'pawachkaq': 1, 'mukunda': 1, 'urqukunata': 1, 'unanchaspaykim': 1, 'runallatapas': 1, 'rurasqaykiwan': 1, 'kusikunampaq': 1, 'qawanallanpaq': 1, 'makikunatam': 1, 'rimallasqayki': 1, 'qellqanallampaq': 1, 'nawikunatam': 1, 'leenallampaq': 1, 'yuyaynintataq': 1, 'qoykullarqanki': 1, 'qamllapipuni': 1, 'iñinallampaq': 1, 'chakikunatam': 1, 'kamachiptiki': 1, 'purinallampaq': 1, 'simitataqmi': 1, 'rurallarqanki': 1, 'willanallampag': 1, 'yupaychanampaq': 1, 'ndaranampaq': 1, 'kutimunga': 1, 'llipya': 1, 'kancharistin': 1, 'salvaykusqan': 1, 'horallas': 1, 'killapiwan': 1, 'luceropas': 1, 'wichimundas': 1, 'mayullapas': 1, 'entregandas': 1, 'apasqanta': 1, 'kawsaringa': 1, 'saqiykunga': 1, 'sinchillata': 1, 'piñakuspan': 1, 'yachachkaspan': 1, 'chaskiykusqanmanta': 1, 'qipaykuspa': 1, 'huchaykipa': 1, 'waqaykullanga': 1, 'nakakuspanku': 1, 'chiqapta': 1, 'ñawinchikña': 1, 'qawasqanta': 1, 'chulluriykunqam': 1, 'tukuykullanqam': 1, 'riti': 1, 'vela': 1, 'kuyakuwanchik': 1, 'evangelionta': 1, 'wanakuptinku': 1, 'yachachkaspayki': 1, 'sonqullaykita': 1, 'rumiyachinki': 1, 'jesuscristom': 1, 'munachisunki': 1, 'infiergoman': 1, 'chaskikuykullay': 1, 'wiña-winaypaq:': 1, 'chaskikullayna': 1, 'sonqullaña': 1, 'millapakuy': 1, 'servispaymi': 1, 'uyarispam': 1, 'kanchaykuway': 1, 'kallarqanki': 1, 'churikitam': 1, 'uywawanki': 1, 'serviqtapas': 1, 'brazoykipi': 1, 'churikipa': 1, 'hamullawaptinqa': 1, 'muyullawaptinqa': 1, 'librawanki': 1, 'diablopa': 1, 'masillayman': 1, 'salvadorninchik': 1, 'wakinninchiktam': 1, 'llamkakuchkaqta': 1, 'wakintañataq': 1, 'puñukuchkaqta': 1, 'jesusninchikpa': 1, 'chaypipas': 1, 'mayladopipas': 1, 'maskachkasunkim': 1, 'señorninchikman': 1, 'kuyanakusun': 1, 'kuskatam': 1, 'ladonman': 1, 'uyarinkichu': 1, 'brazonkunata': 1, 'kicharispanmi': 1, 'jesuscristoman': 1, 'kikinman': 1, 'pumchawpi': 1, 'tupaykusqanchik': 1, 'nawpaqnimpi': 1, 'huñunakunchik': 1, 'huñuykanachillawanchik': 1, 'qoykullawanchik': 1, 'tupaykunapaq': 1, 'quwanchik': 1, 'hawkayaymi': 1, 'diosninchikwan': 1, 'tupaykunchik': 1, 'takinanchikpaq': 1, 'manakamullaykim': 1, 'pentecostes': 1, 'kanaykupaq': 1, 'hatum': 1, 'diosniytaga': 1, 'kuyakuqniytaqa': 1, 'quqniytaqa': 1, 'pachamantam': 1, 'cruzllapim': 1, 'ñakariykurqanki': 1, 'tarinampaq': 1, 'salvadornillayku': 1, 'kuyakuqnillayku': 1, 'mayllaykuwankiku': 1, 'kirillaykiwanmi': 1, 'hampiykuwankiku': 1, 'yachachiwanampaq': 1, 'kawsachiwanampaq': 1, 'diosllawanna': 1, 'piñanakuyta': 1, 'dejasun': 1, 'rantillanchikpim': 1, 'salvakuwananchikpaq': 1, 'kanchaspam': 1, 'kanchanki': 1, 'qiparispay': 1, 'wañunaykama': 1, 'iskayrayaspam': 1, 'nisqaykita': 1, 'rurasaq': 1, 'qamllamanña': 1, 'chayanaypaq': 1, 'chaynallatam': 1, 'kuyapayawaspaykim': 1, 'qarquwankichu': 1, 'pampachaykullawanki': 1, 'graciastam': 1, 'quyki': 1, 'purichkaptiymi': 1, 'maskamuwanki': 1, 'kuyakuynikimanta': 1, 'simikimanta': 1, 'ruraykurqank': 1, 'qanwanponi': 1, 'kawsanallampaq': 1, 'iñiyllayta': 1, 'urmaptiyqa': 1, 'sayarichiway': 1, 'qowasqanchikmanta': 1, 'puriqta': 1, 'kuyasdan': 1, 'kachamurga': 1, 'chaqchusqanwan': 1, 'huchayuq': 1, 'qayallachkasunki': 1, 'cheqap': 1, 'kuyakuqman': 1, 'yachakullachkankim': 1, 'wanunaykitaqa': 1, 'kutirikuykullay': 1, 'salvakuqnikiman': 1, 'iñiykullanki': 1, 'qespichiqniypa': 1, 'simillanpiga': 1, 'supaytachum': 1, 'qatikuspayki': 1, 'maskasuqniki': 1, 'tarinaykipaq': 1, 'tiyanaykipaq': 1, 'chayamunqanam': 1, 'huntaykuchkanñam': 1, 'kutimunqanam': 1, 'sunquta': 1, 'wischuykunampaq': 1, 'kawsaynikita': 1, 'otqayman': 1, 'tariy': 1, 'uyariy-puni': 1, 'marqayninpim': 1, 'chaskiykusunki': 1, 'kuskana': 1, 'yupaychastin': 1, 'jesuscriston': 1, 'kawsarimusqanta': 1, 'yuyariychik': 1, 'wañuykurqa': 1, 'wañuchirqa': 1, 'coronatam': 1, 'churaykullarqaku': 1, 'wañupuwarqanchik': 1, 'kimsa': 1, 'punchawmantam': 1, 'atiynintam': 1, 'qawarichiwanchik': 1, 'almas': 1, 'perdidas': 1, 'almallaykitam': 1, 'purillaptiki': 1, 'deqay': 1, 'salvacion': 1, 'salvaqnillanchikwan': 1, 'ñantam': 1, 'tarillasun': 1, 'poder': 1, 'del': 1, 'cruztam': 1, 'aparqanki': 1, 'huqaraykum': 1, 'wanurqanki': 1, 'kuya': 1, 'kawasaki': 1, 'pilatusmi': 1, 'kachaykuypag': 1, 'karga': 1, 'nillarqaku': 1, 'coronaspa': 1, 'wañuchísun': 1, 'barrabasmi': 1, 'carcelpi': 1, 'kallarqa': 1, 'rurallasqanmanta': 1, 'paytam': 1, 'kachaykullarqaku': 1, 'wañuykachirqaku': 1, 'llamo': 1, 'aparispa': 1, 'cruzllapí': 1, 'chakatanankupag': 1, 'karqam': 1, 'vidallam': 1, 'qamrayku': 1, 'chaqchurga': 1, 'tariruspaqa': 1, 'yachayňa': 1, 'iñiykuy': 1, 'paymanna': 1, 'qoykuy': 1, 'rispa': 1, 'qayachkasunkim': 1, 'hamuyña': 1, 'suyallachkaykim': 1, 'churillaykiqa': 1, 'ñawpaqllaykipim': 1, 'consuelallawan': 1, 'qepallaymanchu': 1, 'kutimuspayki': 1, 'gloriellaykipi': 1, 'kuskam': 1, 'layki': 1, 'manga': 1, 'mariachi': 1, 'iglesianqa': 1, 'cheqapunim': 1, 'suyachkan': 1, 'rikchastin': 1, 'hamullaspan': 1, 'hoqarillawasun': 1, 'kusikuspam': 1, 'salvokuna': 1, 'sonquykipim': 1, 'vencinallaykipaq': 1, 'salvaqninchikmanta': 1, 'chiqaptaya': 1, 'jesusnillanchikpaq': 1, 'peliasunqa': 1, 'cuerpollanchikpaqchu': 1, 'vencisuchik': 1, 'pachallapaqchu': 1, 'rantiqllanchikwanmi': 1, 'ripukullasunchik': 1, 'wañuymantam': 1, 'hurqowanki': 1, 'kuyapayakuqmi': 1, 'atiytapas': 1, 'satanasqa': 1, 'muyuwanmi': 1, 'urmachiyta': 1, 'salvaykullaway': 1, 'diostaytapa': 1, 'hunanchasqankuna': 1, 'sacha': 1, 'rurallasqankuna': 1, 'pawarispa': 1, 'aywirispa': 1, 'diostaytanchikta': 1, 'huchanchikrayku': 1, 'wanuchirqa': 1, 'chakataspanku': 1, 'wischuy': 1, 'cielope': 1, 'chayamuy': 1, 'qamllawanña': 1, 'kuyakusqan': 1, 'salvananpaq': 1, 'qoykunampaq': 1, 'maskaqniki': 1, 'ninapaqmi': 1, 'muchuykurqa': 1, 'kawsakuspan': 1, 'destinasqa': 1, 'nawiy': 1, 'qawachun': 1, 'sonquy': 1, 'utqayman': 1, 'intullawachkan': 1, 'tiyaspa': 1, 'sonqullaymi': 1, 'llakikun': 1, 'qonqallawaptikiqa': 1, 'churikin': 1, 'kuwait': 1, 'servipag': 1, 'huchallaytayá': 1, 'pampachaykullawayña': 1, 'hatunsum': 1, 'churikuna': 1, 'piensariq': 1, 'yanqallapim': 1, 'huchanwanmi': 1, 'rupaykunda': 1, 'testigon': 1, 'kasusqanmanta': 1, 'willagnin': 1, 'uyarisqampi': 1, 'hak': 1, 'niptikim': 1, 'gechuspam': 1, 'aalvaykuunki': 1, 'reqsikiñam': 1, 'chiqapuni': 1, 'sonqullaypim': 1, 'chaskikullaykiña': 1, 'qatikullasaqmi': 1, 'tariykachillawan': 1, 'pusaqnillay': 1, 'waqaychaqllay': 1, 'huchapiña': 1, 'pruebapiña': 1, 'kaptiykupas': 1, 'vencichillawayku': 1, 'vencinallaykupaq': 1, 'pusaqllayku': 1, 'saqispaykum': 1, 'cieloykiman': 1, 'qatillasqaykiku': 1, 'kanqam': 1, 'terremoto': 1, 'enteron': 1, 'kutimullaptinqa': 1, 'sapallantañam': 1, 'alaballasunchik': 1, 'tutayanda': 1, 'chaskakunañataq': 1, 'wichiriykamunda': 1, 'rikuriykamunga': 1, 'killam': 1, 'wichinqa': 1, 'señorllañam': 1, 'kanchanqa': 1, 'señora': 1, 'qosqanta': 1, 'raykullam': 1, 'qatikuyña': 1, 'jesucristowanmi': 1, 'challwapas': 1, 'kallpanchispiwanpas': 1, 'tarpuqta?': 1, \"t'akaqmi\": 1, 'lloqsimun': 1, \"llank'aqta?\": 1, 'tarpuykun': 1, 'sonqoykiri': 1, 'chaskinanpaq?': 1, 'chayarqan;': 1, 'kiska-kiskaman': 1, 'rumi-rumiman': 1, 'muhutan': 1, 'tarpurqan': 1, 'qoran': 1, 'wiñarqan': 1, 'cosecha': 1, 'qorata': 1, 'ruphaykachinqa': 1, \"hallp'api\": 1, 'tarpusqan': 1, 'chunkatan': 1, 'pachakta': 1, \"sayk'uriq\": 1, \"t'aqakushanku;\": 1, 'ruwaspanku': 1, 'yachayninkuwan': 1, 'nishanku': 1, 'sipastapas': 1, 'rishaqtinku': 1, 'yachaywan': 1, 'kaqtinku': 1, 'munanpunin': 1, 'apunchista': 1, \"hark'ashan\": 1, 'iñiqkunaqpi': 1, 'runaqpitaqmi': 1, 'iskayllapunin': 1, 'puriqtaq': 1, 'akllaykukuy': 1, 'naña': 1, 'kamachikusqanmi': 1, 'kawsakuyqa': 1, 'wawqen': 1, 'reqsinkuchu': 1, 'cheqnikuqqa': 1, 'munakunchu': 1, 'masinmanta': 1, 'rimaqtaqa': 1, \"sut'intapunin\": 1, '\"munanakuymi': 1, 'chiriyanqa\"': 1, 'pachantini': 1, 'saminchasqañan': 1, 'kawsayniyoqña': 1, 'khuyakun': 1, 'lmapunitaq': 1, \"t'awasunchis\": 1, 'kamachikuqchu': 1, \"q'alalla\": 1, 'peligro': 1, 'kananchis': 1, 'machupicchu': 1, '-sumaq': 1, 'huascaran': 1, 'hinapas': 1, 'qosqomanta': 1, 'punumanta': 1, 'martinmantapas': 1, 'ancasash': 1, 'apurimaqmantas': 1, 'ayacuchumanta': 1, \"t'aqa\": 1, 'wasunchisman': 1, 'chispi': 1, 'entregasunchis': 1, 'iñisqan': 1, 'sonqollaña': 1, 'kawsakushanku': 1, 'llaqtanqa': 1, \"nit'iykuwashaqtin\": 1, \"ñak'arishaqtiy\": 1, 'alaw': 1, 'niwarqanchu': 1, 'sufrimientoyta': 1, 'llakikuyniyta': 1, '¿yachaqmanchu': 1, 'kusipayawanman': 1, 'rumamasiy': 1, 'asipayawanman': 1, 'mayuqa': 1, 'apanman': 1, 'qaqaqa': 1, \"ñit'inman\": 1, 'sasachakuyniyta': 1, 'saqerparipusaq': 1, 'llakikusqa': 1, 'sonqontinpas': 1, 'asuykakapusaq': 1, 'engañawanqachu': 1, 'waqachiwanqachu': 1, 'saqeykuwanqachu': 1, 'cheqnikuwanqachu': 1, \"rikch'akunmi\": 1, 'kawsayninman': 1, 'qantu': 1, 'huertaq': 1, 'munayta': 1, 'munay-munay': 1, 'phanchirin': 1, \"ñaq'eriykapushan\": 1, \"ch'akispataq\": 1, \"ch'usaqmana\": 1, 'tukupun': 1, 'kawsayninpas': 1, 'yupasqallan': 1, \"p'unchaytataq\": 1, 'chaymantataq': 1, 'chinkariykapuspa': 1, 'uspha': 1, 'kapun': 1, 'chinkapun': 1, 'kasukuqqa': 1, 'ruwasqanpas': 1, 'allinpunin': 1, 'wañukapunqaña': 1, 'chaypachapas': 1, 'taytaq': 1, \"sullk'a\": 1, 'kharu': 1, 'puriripurqan;': 1, 'herencian': 1, 'tupaqtan': 1, \"q'arurqan\": 1, 'qhellipi': 1, 'warmikunawan': 1, 'kaqninkuna': 1, 'tukukapurqan': 1, 'michiypin': 1, \"llank'apakurqan\": 1, \"p'achanmantapas\": 1, 'thantallaña': 1, 'kawsaypin': 1, 'yuyarikurqan:': 1, '\"taytanpa': 1, 'mikhunayoq': 1, 'kasqankuta\"': 1, \"ñak'arishasqa\": 1, 'yarqaymantapas': 1, 'wañushasqaña': 1, 'taytayman': 1, 'nisaq:': 1, 'contrapin': 1, 'contrapiwan': 1, 'hatunpi': 1, 'huchallikuni\"': 1, 'niwaychu\"': 1, \"llank'apakuqllaykiña\": 1, 'kapusaq': 1, 'karumantaraq': 1, 'rikuspan:': 1, 'phawariykuspa': 1, \"mast'ariykuspa\": 1, 'chiskaq': 1, 'chaskiykapurqan': 1, 'vicioman': 1, 'machay': 1, \"t'aqanakuyman\": 1, 'justiciapi': 1, 'waqananta': 1, 'watuqkunaman': 1, 'layqakunaman': 1, 'dioskunaman': 1, \"k'umuykunanta\": 1, 'yupaychananta': 1, 'qaqatapuni': 1, 'sayanan': 1, 'kanaypaq?': 1, 'qechuwanqa': 1, 'huchaykunata?': 1, 'pampachaqqa': 1, 'kawsaytaqa?': 1, 'qoqqa': 1, '¿chaykunallatachu': 1, 'ñoqari': 1, 'ruwallasaq?': 1, 'chaskinki': 1, 'egipto': 1, 'suyupin': 1, \"ñak'arichisqan\": 1, 'aylluntin': 1, 'esclavo': 1, 'faraón': 1, 'moisestan': 1, '\"llaqtayta': 1, 'horqomuy\"': 1, 'faraonqa': 1, 'munaqchu': 1, 'horqomunanta': 1, 'akllasqa': 1, 'llanta': 1, 'khuyapayarqan': 1, 'patamanmi': 1, 'chayaykurqan': 1, 'moisestaq': 1, 'mañarqan': 1, 'qochata': 1, 'kicharinanpaq': 1, 'ejercitonta': 1, \"millp'uykurqan\": 1, 'panan': 1, 'maria': 1, '\"qollana': 1, 'hatunmi\"': 1, 'atiyniyoqri?': 1, 'horqowanchis': 1, 'librawanchis': 1, 'tiempokunanqa': 1, 'maqanakuypi': 1, \"p'unchaykunaqa\": 1, 'guerrallapiña': 1, 'unuñan': 1, 'puririykushan': 1, \"k'umuykusunchis\": 1, 'wawakunan': 1, 'waqaykushan': 1, 'callen-callenpi': 1, 'mañapakuspa;': 1, 'mamanpas': 1, \"t'aqanakuypi\": 1, 'khuyanakuypas': 1, 'cheqninakuymi': 1, 'rawrariykushan': 1, \"ch'akiyllan\": 1, \"ñak'ariykunan\": 1, 'ruanakunapas': 1, 'wañukapushan': 1, 'warmikunapas': 1, 'khuyapayanchu': 1, 'khuyakuwaspaykin': 1, 'akllakuwarqanki': 1, 'munakuwaspaykin': 1, 'atipachiwanki': 1, 'espiritullaykitaq': 1, 'kallpanchallawachun': 1, 'wasimasillaypas': 1, 'llaqtamasillaypas': 1, 'cheqnikapuwankun': 1, 'iñikusqay': 1, 'rayku;': 1, \"p'unchayllapunitaqmi\": 1, 'contrallaypipuni': 1, 'masillaytaqmi': 1, 'rimarishallanku': 1, 'aswantaña': 1, \"sut'inchanallaypaq\": 1, 'allintaña': 1, 'yuyaykushaqtiypas': 1, 'espíritullaykitaq': 1, \"sut'inchallawachun\": 1, 'sinchitan': 1, 'khuyakuwanki': 1, '¿imapunitaq': 1, 'kani?': 1, 'kawsayniytapas': 1, \"t'ikrawaspayki\": 1, 'kawsachiwanki': 1, 'kutichimuway': 1, 'waqyakusqayta': 1, 'takimusqayta': 1, 'jehová': 1, \"sut'ipunin\": 1, 'pachataq': 1, 'sarunan': 1, 'qaynapas': 1, 'minchhamanpas': 1, 'aya': 1, 'wantuna': 1, \"p'anpana\": 1, 'kanchamanpas': 1, 'apankuman': 1, 'yuyaychu;': 1, 'qori-qolqe': 1, \"k'aspiman\": 1, \"rikch'akuqqa\": 1, 'ruwasqallanmi': 1, 'runamasinta': 1, \"q'otun\": 1, 'diostaqa': 1, 'orqon': 1, \"q'asanta\": 1, 'purista': 1, 'apashan': 1, 'sasachayta': 1, 'chayashan': 1, 'tiempoñan': 1, 'hanunan': 1, 'kutimunanqa': 1, 'punkullapiñan': 1, 'sayashan': 1, 'avionkunapin': 1, 'carrokunapin': 1, 'radiokunapin': 1, 'qelqakunapin': 1, 'marcospin': 1, 'soqtayuq': 1, 'phisqayuq': 1, 'yupaypi': 1, 'kamachikun': 1, \"hunt'akunña\": 1, 'willasqata': 1, 'rishanichu': 1, 'wasintaqa': 1, 'qellakuy': 1, \"hunt'aykamuwashan\": 1, 'puñukuy': 1, 'haykuykamuwashan': 1, 'qellakuspa': 1, 'rinanchista': 1, 'huñukunanchista': 1, 'viciokunan': 1, 'muyuykamuwashan': 1, 'horasllapi': 1, \"ñit'iykamuwashan\": 1, 'aychay': 1, 'huchallamanpuni': 1, 'wañuyllamanpuni': 1, 'pusashan': 1, 'aychaq': 1, 'saqepunanchista': 1, 'ruwanallanchista': 1, 'imatapunitaq': 1, 'ruwana:': 1, 'vencenallanchispaq': 1, 'ruwanallanchispaq': 1, 'nishanmi:': 1, 'mañakunanchispaq': 1, 'wateqayman': 1, 'urmaykunanchispaq\"': 1, 'ñoqanwan': 1, 'iskayayman': 1, \"p'enqakuyman\": 1, 'evangelionmanta': 1, 'dioschu': 1, 'vencenña': 1, 'munaychakunñachu': 1, 'akllawanchis': 1, 'maskhawanchis': 1, 'sutinchisqa': 1, 'libropiña': 1, '¿llakisqachu': 1, '¿huchapichu': 1, 'waqayñachu': 1, 'kaqpaq': 1, 'waqanku': 1, 'muchunku': 1, 'aqoy': 1, 'waqashanku': 1, 'rishanku': 1, 'ijesucristoman': 1, 'huchayuqpas': 1, 'pachaykin': 1, \"k'anchariynin\": 1, 'gloriaykin': 1, \"ch'askaq\": 1, 'lliphlliriynin': 1, 'teqsimuyuntinmi': 1, 'rikun': 1, 'pachamantaraqmi': 1, 'gloriayki': 1, 'rikukun': 1, 'kharu;': 1, 'diosniy!': 1, 'tapukuni:': 1, 'runari?': 1, 'qhawaspa': 1, 'maytapuni': 1, 'yuyarinchis': 1, 'kawsanachista': 1, 'suwaqllan': 1, 'kaqniykunawan': 1, 'kawsasharqani': 1, '\"allin': 1, 'kashani\"': 1, 'yuyaykurqani': 1, '¿chay': 1, 'hinatachu': 1, 'kawsakushanki?': 1, 'purikushanki?': 1, 'almalki': 1, 'kanqa;': 1, 'chaskikuqtiyki': 1, 'chispaykuqtiyki': 1, 'kutimushanñan': 1, 'chayaykamushan': 1, 'sispaykamushan': 1, 'allinniykitan': 1, 'maskhakushanki': 1, 'iñispaykiqa': 1, 'hamuspaykiqa': 1, 'wañuyniykipi': 1, 'listochu': 1, 'nimuqtin': 1, 'tinkunaykipaq': 1, 'wara-waranqa': 1, 'qhapaqchasqan': 1, 'inti-killaq': 1, \"ch'askakunaq\": 1, 'illariy': 1, 'wayraqpas': 1, 'pampan': 1, 'suchuq': 1, 'challwaqpas': 1, 'mayukunaq': 1, \"sach'akunaq\": 1, 'rayokunaq': 1, \"rit'ikunaq\": 1, 'phuyukunaq': 1, 'reykunaqpas': 1, 'umallipas': 1, 'waynakunaq': 1, 'sipaskunaq': 1, 'yuyaqkunaq': 1, 'yachayniyoq': 1, \"k'umuykukuspa\": 1, 'puriqpas': 1, 'kamarisqa': 1, \"¿hayk'aqkamapunin\": 1, 'kawsanki?': 1, \"¿hayk'aq\": 1, 'purinki?': 1, \"q'aruspayki\": 1, 'cuentataya': 1, 'qokuy': 1, 'kutiriykamuyña': 1, 'ruankunan': 1, '\"mikhusun': 1, 'q\\'ochukusunchis\"': 1, 'wañupuspanchisqa': 1, 'chayllatan': 1, 'yuyanchu': 1, 'almantaqa': 1, 'carcelpipas': 1, 'hospitalpipas': 1, 'castigasqa': 1, 'muchuchisqa': 1, 'ovejata': 1, 'michishaqtinpuni': 1, 'chinkapurqan': 1, 'maskhaq': 1, 'puririrqan': 1, 'tarimunan': 1, 'atoqkunaq': 1, 'simillanmantañan': 1, 'qechumurqan': 1, 'ovejayki': 1, 'kamachiykikunan': 1, 'saqerparishanku': 1, 'atoqkunan': 1, \"ch'eqerichipushan\": 1, \"q'achuq\": 1, 'kasqanaman': 1, 'qatishan': 1, 'qaqapachinanapaq': 1, 'yachachiwaypuni': 1, 'kallpanchawaypuni': 1, 'chakraykipipunin': 1, 'ovejaykitañan': 1, 'michiyta': 1, 'pampapi': 1, 'urpichakuna': 1, 'uywaqnin': 1, 'illariyta': 1, 'mayuq': 1, \"t'ikarin\": 1, \"t'ikankunapas\": 1, 'rurunkunapas': 1, 'challwachakunapas': 1, 'pura': 1, 'aqota': 1, 'pallaspa': 1, \"ch'aqwashallanpuni\": 1, 'qharipas': 1, 'panapas': 1, 'yayaqa': 1, 'waqaychawanchis': 1, 'cheqnikuwaqtinchis': 1, 'familiay': 1, 'phiñakuqtinmi': 1, 'pana': 1, \"k'amiqtinmi\": 1, 'khuyawanchis': 1, 'yarqaypi': 1, \"t'ntata\": 1, '¿runapiqa': 1, 'tariswanchu?': 1, 'kawsannintan': 1, 'iñiqkuna?': 1, 'pana?': 1, 'maypipunitaq': 1, 'imatapunin': 1, 'ruwanku': 1, 'ripunku': 1, 'karunchakuspa': 1, 'ninkiri:': 1, 'tapurikunku;': 1, 'yuyarikunku?': 1, 'promesa': 1, 'ruwasqankuta': 1, 'phiñasqa': 1, 'contrapipas': 1, 'allipunaykuy': 1, \"sut'in\": 1, 'ati': 1, 'musphay': 1, 'yachaykuna': 1, 'qelqapiqa': 1, 'kuti': 1, 'leeykuqtiy': 1, 'diosllamanta': 1, 'reqsichiwan': 1, 'herenciayta': 1, 'leenanchis;': 1, 'aswantaraq': 1, 'qhawananchis': 1, 'qelqallaykiwanmi': 1, 'tarinaypaqqa': 1, 'asuykusaqqa': 1, 'panpachaq': 1, 'chaskiway': 1, \"chu'yanchapuway\": 1, 'saminchapuway': 1, 'saqewaykuchu': 1, 'qhepayki': 1, 'hamunallaypaq': 1, 'aswanta': 1, 'kawsasqay': 1, \"p'unchaypas;\": 1, 'qowasqaykita': 1, 'panpachanqa': 1, 'kawsayniykin': 1, 'kawsaspayki': 1, 'sonqoykichu': 1, 'yuyayniykichu': 1, 'tutayan': 1, 'kunanpunin': 1, 'qespikuyman': 1, 'chinpanapaq': 1, 'rikhurinki': 1, 'leenchis;': 1, \"t'aqapaq\": 1, \"hallp'atan\": 1, 'unutan': 1, 'rurutan': 1, 'mikhusun': 1, \"p'achasqan\": 1, 'libropin': 1, 'sutinchis': 1, 'coronan': 1, 'premionchis': 1, 'atiytan': 1, 'saqratan': 1, 'kamachisunchis': 1, 'diosnillanchispa': 1, 'profetisasqa': 1, 'leeykunapaq': 1, 'uyarinapaq': 1, 'kasukunapaq': 1, 'suyakunapaq': 1, 'apostol': 1, 'qelqankunapi': 1, 'anyaykuwanchis': 1, 'profetakuna': 1, 'puririmushan': 1, 'yuyaychasqan': 1, 'rimani': 1, 'nispa\"': 1, 'creenanchischu': 1, 'willaqqa': 1, \"sut'i\": 1, 'reqsiymi:': 1, '\"jesús': 1, 'hamusqanmanta': 1, 'wañusqanmanta': 1, \"p'anpasqa\": 1, 'wicharisqanta': 1, 'niqmi\"': 1, 'chayamushanña': 1, 'sayarimunñan;': 1, 'contranpi': 1, 'hatarimunña': 1, 'musphachinanpaq': 1, 'llullakuspanku': 1, \"q'otukuspanku\": 1, 'pantachiq': 1, 'espritunwan': 1, 'marcasqan': 1, 'makinkunapi': 1, \"mat'inpi\": 1, 'soqtayoq': 1, 'rawrariykuspa': 1, 'maldecinanpaq': 1, 'suyukuntan': 1, 'qespichinanpaq:': 1, 'americata': 1, 'oceaniatawan': 1, 'europa': 1, 'africa': 1, 'asia': 1, 'runaqta;': 1, \"rikch'aynintachu\": 1, 'sayaynintachu': 1, 'ukhutan': 1, \"hunt'asqan;\": 1, 'wañuchinakuy': 1, 'suwakuykuna': 1, 'envidiakuypas': 1, 'cheqnikuykuna': 1, \"k'amikuykuna\": 1, 'wasanchaykuna': 1, 'machaykunapas': 1, 'runachu': 1, \"t'ikrayta\": 1, 'reqsinman': 1, 'runakunachus': 1, 'chinpanman': 1, 'wanakuspanku': 1, '\"sansaq': 1, 'yuraqyachisqa;': 1, 'millmaman': 1, 'tukunqa\"': 1, '¿almayki': 1, 'chinpaspa?': 1, '¿maymanpunitaq': 1, 'almankin': 1, 'cheqnisqapas': 1, 'kutimuqtiykin': 1, 'hoqariwanki': 1, 'suyuykipin': 1, 'tiyakamusaq': 1, 'cuidaqnillay': 1, 'yuyarispan': 1, 'nini:': 1, 'cruztan': 1, \"q'epirqanki\": 1, 'paptaman': 1, 'makiykitan': 1, 'chakiykitan': 1, \"t'oqoykurqan\": 1, 'intitaq': 1, 'tutayaykurqan': 1, \"hallp'ataq\": 1, 'khatatarqan': 1, \"ch'eqtakurqan\": 1, 'qhasqonkuta': 1, 'takakurqan': 1, '\"cristoqa': 1, 'churin\"': 1, 'uyariqniy': 1, 'kawsarinpun': 1, 'sispaykamushanñan': 1, 'willamususn': 1, 'bibliamanta': 1, 'infiernoqa': 1, 'qhepaykukuwaq': 1, 'chinpanayki': 1, 'kichariykuy': 1, 'jesúsllaman': 1, 'chaskisunkin': 1, 'qolqewanchu': 1, 'qoriwanchu': 1, 'almanpaq': 1, 'maskhanman': 1, 'kayninchu': 1, 'valorniyoq': 1, 'hinañan': 1, 'qokuyninta': 1, 'kaynintawan': 1, 'waqywanpas': 1, 'hinamantaqa': 1, 'rikhurinanchispaq': 1, 'sonqoykumantan': 1, 'yawarnillaykiq': 1, 'salvawankiku': 1, 'qespisqakunan': 1, 'kallpanchaytapas': 1, 'qowaqtiykiku': 1, 'akllasqayki': 1, \"ch'in\": 1, 'neq': 1, 'orqopiña': 1, 'wayrapiña': 1, 'wawqeykuna': 1, 'señorllanchiswanña': 1, 'munaqtin': 1, 'tinkusun': 1, 'huñunaykukuspa': 1, 'kutimuqtintaqmi': 1, 'cielopiña': 1, 'tinkuykullasunchis': 1, 'yachasqanchistaqa': 1, 'yanqanpaqqa': 1, 'yachaqasunchischu': 1, 'llaqtapiña': 1, 'tiyanchis': 1, 'diosninchismantapuni': 1, 'allinllaña': 1, 'diosnillanchiswan': 1, 'señorllanchiswan': 1, 'cheqnikun': 1, 'mayllinanpaq': 1, 'qhellita': 1, 'iskayaspayki': 1, \"p'enqakuspayki\": 1, 'tutamantanmi;': 1, 'jerusalén': 1, 'watukunanpaq': 1, 'patapitaqmi': 1, \"sach'ataqa\": 1, 'pallananpaq': 1, 'ruruta': 1, 'tarirqanchu': 1, 'raphikunallatan': 1, 'tarirqan': 1, 'higosta': 1, 'ruruyñachu': 1, 'raphin': 1, 'urmapurqan': 1, \"ch'akirqapurqantaq\": 1, 'rikuspataq': 1, 'musphasqa': 1, \"sach'amanta\": 1, 'ruwananchistañan': 1, 'rikhuriwaq': 1, \"sach'atapas\": 1, 'maldecispan': 1, \"ch'akirqachipurqan\": 1, \"sut'inchamusun\": 1, '\"jesuspin': 1, 'kashan\"': 1, 'peru': 1, 'alistasunchis': 1, 'iñiqya': 1, 'sipaspas': 1, 'predicanapaq': 1, 'hinantin': 1, 'reqsispankutaq': 1, 'saqenankupaq': 1, 'kamachiwanchis': 1, 'willanachispaq': 1, \"p'akispa\": 1, 'qechuspa': 1, 'yachachisunchis;': 1, \"hunt'asun\": 1, 'premionchistapas': 1, 'chaskinin': 1, 'bautismopin': 1, 'cristowanña': 1, 'kawsasqayta': 1, 'nacespaymi': 1, 'huchaytan': 1, 'willani': 1, \"hich'asqanmi\": 1, \"ch'uyanchan\": 1, 'nacespaqa': 1, 'suyunmanqa': 1, 'purishallaqtiyki': 1, 'sonqollaykitan': 1, 'takashan': 1, \"ñak'arinaykipaq\": 1, '¿huchasapan': 1, 'kani:': 1, 'qespikunaypaq': 1, 'chinpasaq': 1, 'jesucristowantaq': 1, 'salvawanqa': 1, 'huchaywanmi': 1, \"ñit'isqa\": 1, 'huchaytaqa': 1, 'limpiawanqa': 1, 'sayarispa': 1, 'runamasinchisman': 1, 'wañushanku': 1, 'chaskikuqqa': 1, 'yupaychanqa': 1, 'sonqoykitan': 1, \"k'anchaykushan\": 1, 'munankichu': 1, 'willanayta': 1, 'pis': 1, 'sonqoykiri?': 1, '¿pipunitaq': 1, \"k'anchachinman?\": 1, \"k'anchachinqa\": 1, \"p'anpakuqta\": 1, 'wañupuqta': 1, 'munasqaykikunatan': 1, 'saqepunki': 1, 'lliphlli': 1, \"q'asapi\": 1, 'llakisqapuni': 1, 'espirituykiq': 1, 'watasqan': 1, \"t'ikashaq\": 1, 'kamasqayki': 1, \"ñaq'esqa\": 1, 'sonqoyuq': 1, 'kusichiqmi': 1, 'kaqtapas': 1, 'hanpiykuqmi': 1, '¿imapas': 1, 'ruwasqaykiwanchu': 1, 'qespisqapunin': 1, 'ninki?': 1, 'khuyapayakuqqa': 1, 'hoqariymi': 1, \"k'umuykachipunqa\": 1, 'juzganqa': 1, 'ruwasqanchiskuna': 1, 'adán': 1, 'evatan': 1, 'saminchaykurqan': 1, 'eden': 1, 'pawqarpin': 1, 'casarachispan': 1, 'kawsanakupaq': 1, 'jesuspas': 1, 'samincharqanmi': 1, 'pisiqtin': 1, 'unullamantan': 1, 'iglesiapi': 1, 'familia': 1, 'pananchis': 1, 'casarakuqtin': 1, 'rimarinkichis:': 1, 'kawsanaykichis': 1, 'siwiqa': 1, \"sut'inchasunkichismi\": 1, 'kasqaykichista': 1, 'kasqankumanta': 1, 'saminchasunkichis': 1, 'waqaychasunkichis': 1, 'khuyakuqta': 1, 'sonqollaypaq': 1, 'huchallaymi': 1, 'dioskunapi': 1, 'khuyasqallay': 1, 'reqsispaqa': 1, 'hatunchakuq': 1, 'huchallikuqkunapas': 1, 'waqaychasqañan': 1, \"ñak'arinanpaq\": 1, 'ñawpa': 1, 'tiempopi': 1, 'parawan': 1, \"millp'uykachirqan\": 1, 'noellatañan': 1, 'familiantinta': 1, 'sodoma': 1, 'gomorra': 1, 'ruphaykachirqan': 1, 'castiganqa': 1, '¿imanaqtinpunin': 1, 'waqyashaqtin': 1, 'nishaqtin\"': 1, 'sonqollachu': 1, '¿iñisqaykiwanchu': 1, 'cheqnisunki?': 1, 'pacienciallanchiswan': 1, 'puriypunin': 1, 'enemigokunaq': 1, 'wateqaykusqan': 1, '¿lñiyniykipichu': 1, 'chiriyapushanki?': 1, 'apunchismi': 1, 'tiyanachis': 1, 'ripunanchis': 1, 'waqananqa': 1, 'ilakiymi': 1, 'premio': 1, \"k'anchariykamushan\": 1, 'munakuynin': 1, 'khuyakuynin': 1, 'phuyupas': 1, 'muyuykamushanmi;': 1, 'paraykamunanpaq': 1, 'orqomanatan': 1, 'qarpaykun': 1, 'phalarin': 1, \"sach'amanmi\": 1, 'runallapaq': 1, 'iglesianman': 1, 'yupaychaykamusun': 1, 'kamaqllanchista': 1, 'adoraykamusun': 1, 'wawqenchiskunawan': 1, 'pananchiskunawan': 1, 'wasinmanña': 1, 'niwaqtinku': 1, \"ch'uyanchasqa\": 1, 'wawqentin': 1, 'panantin': 1, 'qonqoriykukuspa': 1, \"k'umuykukuspanchis\": 1, 'huñukuyninchista': 1, 'yachashaspanchisqa': 1, 'huñukusnupuni': 1, 'anapaykullaway': 1, 'kancharinallaypaq': 1, \"rikch'ariy\": 1, 'ñawillay': 1, 'diosniykita': 1, 'hahaq': 1, 'athunraqmi': 1, 'kallpaypiwan': 1, \"k'anchariyniykiqa\": 1, \"hunt'aykullachun\": 1, 'pisinchu': 1, 'faltanchu': 1, 'paciencianwan': 1, 'mañakuwaychis': 1, 'qosqaykichismi': 1, 'maskaychistaq': 1, 'tarinkichismi': 1, 'waqyakuqtapas': 1, 'uyarintaqmi': 1, 'mañakusunchis': 1, 'diosninchispan': 1, 'rikusqanchisqa': 1, \"kh'askakunapas\": 1, 'waymirikuspan': 1, \"k'anchariyninwan\": 1, 'qapariyninwan': 1, 'qespikuypas': 1, 'qowaqninchista': 1, 'raphi': 1, 'urmallanqa': 1, 'chinpaykamushan': 1, 'phawaspataq': 1, 'waqyakushan': 1, 'diosmanmi': 1, 'kallpan': 1, \"ch'akipushan\": 1, 'chinkapushan': 1, 'ripushallan': 1, 'haykushan': 1, 'hinaman': 1, 'usqhayllat': 1, 'waqyarikuy': 1, 'huchallayki': 1, 'sichus': 1, 'maskanki': 1, \"ñak'riymanmi\": 1, 'waqyawaqtin': 1, 'uyanta': 1, 'rikusaq': 1, 'eqspisqakuna': 1, 'llapalla': 1, 'haq': 1, 'haqhaypi': 1, 'pasaqtin': 1, 'niwaqtin': 1, 'lloqsipusaq': 1, 'suamaq': 1, 'wasinpitaq': 1, 'wiñayllapaqña': 1, 'ripuspa': 1, 'tinkumusunchis': 1, 'khuyawaqninchispaman': 1, 'ruwananchista': 1, 'tukuspa': 1, 'ripullasunchis': 1, 'paitaq': 1, 'coronanchista': 1, 'pabloq': 1, 'chawpinta': 1, 'iñiyninchista': 1, 'rimayninchiswan': 1, 'puriyninchiswan': 1, 'runamasinchis': 1, 'munakuypiwan': 1, 'iñiyninchiswan': 1, 'siminkunata': 1, 'kasukullasun': 1, 'kamaqninchista': 1, 'phiñachisunchu': 1, 'qespicheqninmi': 1, 'charayku': 1, 'yachachillasun': 1, 'leeyta': 1, 'yanapaqninchista': 1, 'atipananchis': 1, 'pantapushanku': 1, 'ñanllatan': 1, 'qatikushanku': 1, 'qayllalkullasun': 1, 'munawasqanchis': 1, 'hamukuychis': 1, 'huchatan': 1, \"rit'ta\": 1, 'yuraqyachinqa': 1, 'waqyasqan': 1, 'huñukuyninchispi': 1, \"q'ochurikusunchis\": 1, 'manchay-manchayta': 1, 'kusirikuspanku': 1, 'kunkanchiswan': 1, 'hathunchaykusun': 1, 'orqoykullawan': 1, \"t'ikraykapuwan\": 1, 'oqarin': 1, 'yayallaymanqa': 1, 'qespiqnillaypaq': 1, 'saksaykuspan': 1, 'paratan': 1, \"q'achullantan\": 1, 'llanllariykuchin': 1, 'kawsayllantan': 1, 'suyaqkunawan': 1, 'yayllaytaqa': 1, 'uywaqllaytaqa': 1, 'yachachimuychis': 1, 'simiymanta': 1, 'bautizamuychis': 1, 'espirituqpiwan': 1, 'nillarqantaq': 1, 'tukukunan': 1, 'akllasqantaq': 1, 'rikuspanku': 1, 'yupaycharqanku': 1, 'galilea': 1, 'provinciapi': 1, 'premionchistan': 1, \"q'chukusunchis\": 1, 'crusninpitaqmi': 1, 'kusi-kawsay': 1, \"q'ochukusunchis\": 1, 'allinyasunchis': 1, 'qhapaqyanaman': 1, 'sonqochakusun': 1, 'kusikusuntaq': 1, 'allinpi': 1, 'kawsayniyoqtaq': 1, 'rikumusunchis': 1, 'qanllanpitaq': 1, 'yachasqanchista': 1, 'napaykuyniykuta': 1, 'apapuwankiku': 1, 'iñiqmasinchisman': 1, 'sapallanpin': 1, 'suti': 1, 'religionchu': 1, 'yawarninmi': 1, 'kawsayninchisqa': 1, \"p'uchukaykama\": 1, 'qanmanpas': 1, 'qollasqayki': 1, 'maskashasunki': 1, 'winaypaq': 1, 'imananpaschu': 1, \"rikch'ayninqa\": 1, 'ruwapuy': 1, 'cheqnikuqniykitapas': 1, 'karumanta': 1, 'hamuqta': 1, 'kurakta': 1, 'napaykukuqta': 1, 'phiñapayaqniykita': 1, 'qhapaqta': 1, 'wakchatapas': 1, 'señorkunaq': 1, 'señorninta': 1, \"misk'iq\": 1, 'lecheq': 1, 'qasqampi': 1, 'yayawan': 1, 'cristollapi': 1, 'rimay': 1, 'ñanniypin': 1, 'michiqniyqa': 1, 'purishallanpuni': 1, 'khuyapayaykuqniy': 1, 'cheqaqpunitaqmi': 1, 'suyakuni': 1, 'kaypiwan': 1, 'kapiwan': 1, 'maskhamushaykin': 1, 'qespichiqníy': 1, 'qayllaykamuykin': 1, 'espiritunpiwan': 1, 'rikurqan': 1, 'llapallanku': 1, 'yupaychashaqta': 1, 'mañakurqan': 1, 'takirqan': 1, 'wasiymi': 1, 'jesusllayman': 1, 'muspharinapaq': 1, 'ruwaqmi': 1, 'mañakullaypuni': 1, 'qespichin': 1, 'qhaliyachin': 1, 'reyqa': 1, 'llanthupi': 1, 'para-parapi': 1, 'chikchishaqtinpas': 1, \"rit'ishaqtinpas\": 1, 'jesusniypunin': 1, 'michiqqa': 1, 'ovejantaqa': 1, 'qonqanchu': 1, 'ovejan': 1, 'chinkarqontinqa': 1, 'maskhamunpunin': 1, 'tarinankama': 1, 'samakusaqmi': 1, 'qoykullawanqa': 1, '\"waqyakuway\"': 1, '\"kusikuna': 1, 'tiempopipas': 1, '\"onqosqaña': 1, 'qhaliyaspaykipas': 1, '\"qolqeykiña': 1, 'pisiqtinpas': 1, 'qoykuqtinpas': 1, 'yupaychaywan': 1, 'qanllamantapuni': 1, \"q'ochukuytaqmi\": 1, 'sutiykitapuni': 1, 'hatunchallasaq': 1, 'imapaschu': 1, 'kaykuman': 1, 'raphinpas': 1, 'kuyurinmanchu': 1, 'munaqtiykiqa': 1, 'kachun!': 1, 'tarimullanki': 1, \"k'anchaytan\": 1, 'sutillan': 1, 'kusikuychis': 1, \"q'ochukuychis\": 1, 'willaychis:': 1, '\"diosninchismi': 1, 'yupaychasqataq': 1, 'ruwaqqa': 1, 'espadawanchu': 1, 'kallpawanchu': 1, 'qespikunqa': 1, 'espírituwanmi': 1, 'munakuynillanmanta': 1, 'tutamantanmi': 1, 'takillasunchis': 1, 'yayaypa': 1, 'wawapaqpas': 1, 'waynapaqpas': 1, 'wakchapaqpas': 1, 'qhapaqpaqpas': 1, '\"iñiyniychus': 1, 'mostaza': 1, 'kanman\"': 1, 'diosqa:': 1, '\"orqokunatan': 1, 'niwaq:': 1, '\"kuyuriy': 1, 'orqokunataq': 1, 'tukuytapas': 1, 'ruwallanmi': 1, 'munakuynillanwan': 1, 'kawsaytawan': 1, \"t'antallawanchu\": 1, 'siminkunawanmi': 1, 'chaskisunchis': 1, 'yachachikuyta': 1, '¡yupaychasun!': 1, 'pusawaqtinpas': 1, 'rillasaq': 1, 'atiynillanmi': 1, \"t'ikrawarqan\": 1, '¡mosoqmi!': 1, \"p'enqachiwaspa\": 1, 'kusikunqakuchu': 1, 'cheqniqniykuna': 1, 'iñikuqmi': 1, 'pampachallasunkin': 1, 'iñiqa': 1, 'qespichisqapunin': 1, 'qespichiwasqanmanta': 1, 'kusikuypin': 1, \"q'ochukuypin\": 1, 'thak-kaytan': 1, 'kallpanchakuni': 1, 'señormanta': 1, 'takillay': 1, '¡diosnillay': 1, 'señorlláy!': 1, 'kawsanin': 1, 'sonqochawankin': 1, 'pampachawankin': 1, 'munaqtiyki': 1, 'qespichiwanki': 1, 'wiñaywiñaypaq': 1, 'atipaytan': 1, 'waynata': 1, 'servikuspa': 1, 'servikunanpaq': 1, 'yanapayta': 1, 'pusaqniykin': 1, '¡wayna-sipas': 1, 'kallpachakusunchis!': 1, 'pakaykuwaqninchis': 1, \"hark'aykuwaqninchis\": 1, 'pachaña': 1, 'chhapchirikuqtinpas': 1, 'yupaychasunpunin': 1, 'kawsariyta': 1, 'mañakullasunchis': 1, 'kawsariyqa': 1, 'atiynillanpiwan': 1, 'reyniy': 1, 'saminchasaq': 1, '¡hatunmi': 1, 'diosniyqa!': 1, \"ch'uyapunin\": 1, 'atiynillanqa': 1, 'qhepatan': 1, 'ñoqapaqqa': 1, 'maymantaña': 1, 'hamushanki': 1, 'sonqoykipas': 1, \"ch'uyapuni\": 1, 'orqontapas': 1, \"wayq'ontapas\": 1, 'rini': 1, 'reqsinin': 1, 'kashaspaypas': 1, \"k'anchaqniy\": 1, 'qespicheqniypas': 1, 'kallpanchaqpas': 1, 'manchakuymanchu': 1, 'awqaykunata': 1, 'kallpanchawaqniy': 1, 'askhallaña': 1, 'awqaykuna': 1, 'muyuwaqtinpas': 1, 'chinpawaqtipas': 1, 'ayqesaqchu': 1, \"ch'aqwaykunaña\": 1, 'sayarinqa': 1, 'qespichiqnillaymi': 1, 'señorniy': 1, \"k'ancharin\": 1, 'risunchis': 1, 'tiyananman': 1, 'kallaspanchis': 1, 'hatunchana': 1, 'hamuna': 1, 'hanpikuq': 1, 'paypuni': 1, \"ch'akisqan\": 1, 'rikuyman': 1, 'tiyashan': 1, 'yupaychasunkin': 1, 'reykuna': 1, 'reykunapas': 1, 'uyarinku': 1, 'takinqakun': 1, 'rimasqaykita': 1, \"huch'uyaykuqtan\": 1, 'cheqnikunpunin': 1, 'tukukapushanñan': 1, 'khuyakuy': 1, 'qayllaykamushanña': 1, 'chiriyaykapushan': 1, 'sayaqmí': 1, 'wíñay': 1, 'kawsaypaq': 1, 'kutimuqaña': 1, 'iñeqkunapaqqa': 1, 'khuyakuynintawan': 1, 'churita': 1, \"k'anchaykuway\": 1, 'waqaspallan': 1, 'nanay-llakita': 1, 'mayllikuwanchis': 1, 'rikhurimuqtinmi': 1, 'qonqoriykuspa': 1, 'yupaychanqaku': 1, 'ruwayninta': 1, 'rikuchinqa': 1, 'purapi': 1, 'phiñanakuypas': 1, 'killakunan': 1, 'tukurqakapullanqan': 1, 'illarimuqtinmi': 1, \"rikch'arisun\": 1, \"rikch'arimusaq\": 1, 'sayarisaq': 1, 'yupaychaspaymi': 1, 'rikunin': 1, 'rikuyku': 1, \"rich'ayninta\": 1, 'tariyku': 1, 'espíritunmi': 1, 'muyusharqan': 1, 'callenpas': 1, 'callellantan': 1, 'purillasunchis': 1, 'riqsichiwan': 1, 'wasiyta': 1, 'wakichin': 1, 'qespichinqa': 1, 'chayasunchis': 1, 'jerusalekama': 1, 'lglesia': 1, 'suyukama': 1, 'wasillapin': 1, 'panari': 1, 'kapunku?': 1, 'usqhayllachu': 1, 'qonqariykapunku': 1, 'prometekusqankuta': 1, 'kashaqkuna': 1, \"t'aqarikusunchu\": 1, 'señorninchispa': 1, 'ñanninmanta': 1, 'iñiyta': 1, 'pisichaqqa': 1, 'qonqa?': 1, 'taripasqa': 1, 'mañaqtin': 1, 'chayaykunña': 1, 'kamachinkunan': 1, 'puririshanku': 1, 'manchakunichu': 1, \"ñak'arinaytaqa\": 1, 'qowanqa': 1, 'premiota': 1, 'ofrendashaqtiymi': 1, 'rimaykuna': 1, 'munakuyniykiwan': 1, 'huchallan': 1, 'muyuwan': 1, 'saqewasunchu': 1, 'waqaychallawasunmi': 1, 'jesusnilláy!': 1, 'thak-kaytaq': 1, 'qespichiqman!': 1, 'wasinchispi': 1, 'aylluypiwan': 1, \"!q'ochurikuymi!\": 1, 'samaspan': 1, \"sayk'unqakuchu\": 1, 'phalanqaku': 1, 'phawanqaku': 1, 'purisaqmi': 1, 'wakichisaq': 1, \"t'ikranmanchu\": 1, 'ñoqaman': 1, 'tupawan': 1, 'huchamantan': 1, \"ñak'ariytapas\": 1, 'atipallaspaypunin': 1, 'qespichikuqmanta': 1, 'atiparqan': 1, \"k'anchayninmanta\": 1, 'willakuq': 1, 'willamuychis': 1, 'ñoqaqpas': 1, 'iñiyniykin': 1, 'qampapas': 1, 'rikushasqan': 1, \"k'anchashallachun\": 1, 'jesúsmi': 1, 'tokanawan': 1, 'yuyaychawan': 1, 'sonqontinpuni': 1, 'servisunchis': 1, 'kawsayninchista': 1, 'qopuspa': 1, 'khuyanakusun': 1, 'ayllullan': 1, 'taytanchispi': 1, 'kamachikuyta': 1, 'munakuymantawan': 1, 'ayllunmi': 1, 'purinapaq': 1, 'llamiykuwallaway': 1, 'qhawaytan': 1, 'llamiykullaway': 1, 'qhawarillasaqmi': 1, 'mallquita': 1, 'rikushaniña': 1, \"sut'itañan\": 1, 'rikushani': 1, 'rikurqapuniñan': 1, 'qayllaykamuykiku': 1, 'yupaychaykuq': 1, 'hatunchaykuq': 1, 'munakuyllaykiwan': 1, \"hunt'aykuwanki\": 1, 'ñanñiykipi': 1, '(qora)': 1, 'challwa': 1, 'kawsaqtiy': 1, 'qhawashan': 1, 'rikuwanchis': 1, 'ñanñinpi': 1, \"llank'aqnin\": 1, 'chakran': 1, 'wichayman': 1, 'unanchata': 1, 'pakaykuwaqniykun': 1, 'waqaychawankin': 1, 'suyayku': 1, 'kausaypas': 1, \"cheq'akaypas\": 1, 'jesusnillantan': 1, 'pampachasqan': 1, 'kutiriqmanmi': 1, 'diosniypaq': 1, \"ñak'ariymantapas\": 1, 'patallanta': 1, 'pusakapunqa': 1, 'llapallanchispunin': 1, 'servisun': 1, 'qespiway': 1, 'munakuytan': 1, 'chaypachan': 1, 'samarinqa': 1, 'kallpachay': 1, 'urmaykunaypaq': 1, 'suyayta': 1, 'sharon': 1, 'waqaykushanin': 1, 'suyunchismanta': 1, 'mañakun': 1, 'mañakuykikun:': 1, '\"khuyakuyniyki': 1, 'llaqtaypaq': 1, 'hatunchaykikun': 1, 'kawsaynillaykutan': 1, 'suyo': 1, 'muchuychu': 1, 'qhawarillayña': 1, 'reynita': 1, 'qespiqniyki': 1, 'diosllanta': 1, 'riqsikullarqanku': 1, 'qespichiqnin': 1, 'khuyayninwan': 1, 'purisqaykitan': 1, 'tiyasqaykipin': 1, 'llaqtaykin': 1, 'diosniykitaqmi': 1, 'diosniypas': 1, 'ñawpaqllaman': 1, 'atipananchiskama': 1, 'hamunqaña': 1, 'niykiku:': 1, \"hap'ichiykiku\": 1, 'hoqariychis': 1, 'yupaychaykusuntaq': 1, 'yupaychasuntaq': 1, 'sonqollaypi:': 1, 'purinqapunin': 1, 'llapankun': 1, 'pilluntin': 1, 'pilluyoq': 1, 'munakuwankin': 1, 'kamarqankin': 1, 'tukanawantaq': 1, 'kawsakullanku': 1, \"ch'aqwaspa\": 1, 'kawsallasunman': 1, 'wakichisqanpiqa': 1, 'chaskikuqkunapaq': 1, 'kasukuqkunapaq': 1, \"k'irisqa\": 1, 'hanpisun': 1, 'urmasqata': 1, 'yanapasun': 1, 'iñiyninchistaqa': 1, 'llapaman': 1, '\"diosqa': 1, 'munakuqmi\"': 1, 'muñakuspa': 1, 'kutiqtin': 1, 'ñawpaqpi': 1, 'qhepapi': 1, 'ñawpaqman': 1, 'saqepuniña': 1, 'kawsashaspayqa': 1, 'takisaqpunin': 1, 'señorpaqmi': 1, 'payllatapunin': 1, 'musphanakunatan': 1, 'yupaychaytan': 1, '¿dios': 1, 'munawaqchu?': 1, 'wawqeywanmi': 1, 'takillasaq': 1, \"rikch'asun\": 1, 'kawsaynitan': 1, 'qopusaq': 1, 'mosoqyanña': 1, 'qespichiwaqtin': 1, 'chakiypas': 1, 'makiypas': 1, 'ruwallanqan': 1, 'simiypas': 1, 'willallanqan': 1, 'kutisaq': 1, \"llank'asqay\": 1, 'cheqasman': 1, 'willasqayman': 1, 'huñumuq': 1, 'akllakusqanta': 1, 'hamushanña': 1, 'puñuqkunatan': 1, 'saqepunqa': 1, \"rikch'aqkunataq\": 1, 'rípusaqmi': 1, 'manapuniñan': 1, 'qhepaymanchu': 1, \"p'achayoqmi\": 1, '¡hatun': 1, 'coronayoq': 1, 'ihatun': 1, 'takitan': 1, 'callenta': 1, '¡sumaq': 1, 'wasipin': 1, 'diośniypa': 1, 'kawsakuni': 1, 'yupaychaykuni': 1, 'llapanllan': 1, 'aswantapini': 1, 'kamachiqninchis': 1, 'hamunqañan': 1, 'akllasqankunata': 1, 'ruwasqanman': 1, 'pagaykapunanpaq': 1, 'lloqsin': 1, 'chaninchasqa': 1, 'siminkuna': 1, 'atiyninwanmi': 1, 'vencerqan': 1, 'atipaqkunawan': 1, \"q'ochukunqa\": 1, 'kawsashaspallaraq': 1, 'suyasaqraq': 1, 'nispaykiqa': 1, \"wisq'arqokuqtinmi\": 1, 'hawallapi': 1, 'qheparqonki': 1, 'chaskinkichu?': 1, 'waqyashasuqtiyki:': 1, 'nishallasuqtiyki': 1, \"llank'aytiypas\": 1, 'yachachimusunchis': 1, 'suyupaq': 1, 'kallpanchanakuspanchis': 1, 'kushka': 1, 'willankichu': 1, \"llank'ananchis\": 1, 'cheqaqmi': 1, 'yupaychananchispaq': 1, 'yupaychasqaykiku': 1, 'kaqshaqtiy': 1, 'karumantan': 1, 'saqesqanta': 1, \"hunt'aspayku\": 1, 'yachachisunchis': 1, 'takisunchispas': 1, 'churawarqanchis': 1, 'waqyakamusqayta': 1, \"sut'inchasqan\": 1, 'kamallasqanpi': 1, 'wakichimun': 1, 'chaskillaqtiyki': 1, 'kallpanchallawanchis': 1, 'wawqe-panalláy': 1, \"sayk'uychu\": 1, 'templopipas': 1, 'paraqtinpas': 1, \"rit'iqtinpas\": 1, 'kutimunqaña': 1, \"wayq'opipas\": 1, 'pampapipas': 1, 'yunkapipas': 1, 'chinqasqa': 1, 'chayan': 1, 'saminchaykikun': 1, 'pampapas': 1, 'salqa': 1, 'runakunapas': 1, \"llank'aqkuna\": 1, 'kawsayninkuta': 1, 'qoykuspa': 1, 'llaqtakunatan': 1, 'willaspanku': 1, \"hunt'aspan\": 1, 'allin-kaqta': 1, 'willamushanku': 1, 'kaqkunaman': 1, 'willashanku': 1, 'qelqaykikuna': 1, 'willaqmanta': 1, 'waqyallaypuni': 1, 'askharaq': 1, \"llank'anapaq\": 1, 'huñukuy': 1, 'tukukapun': 1, 'iñiyniyoq': 1, '¡kacharichisqaña': 1, 'rantisqaña!': 1, 'thak-kawsay': 1, 'lliphllikispan': 1, 'rikhurimullanqa': 1, 'trompeta': 1, 'tocaqtinmi': 1, 'mañakuspanchistaq': 1, 'makilla': 1, 'kashasunchis': 1, 'kawsaynin': 1, 'tarirqospataq': 1, 'saqeychu': 1, 'kawsaynintapas': 1, 'qoykurqan': 1, 'iñiyku': 1, \"k'anchaykuwachun\": 1, 'kallpanchawachun': 1, 'reqsikuy': 1, 'yachaqallanki': 1, \"ch'uyanchakuy\": 1, 'suyakuyraqchu': 1, 'nanayniyki': 1, 'tarilanki': 1, 'hampitaqa': 1, 'kashayku': 1, 'tutayaqtin': 1, 'laqhayaqtin': 1, 'servisqaykikun': 1, \"misk'illapunin\": 1, 'yachachishawan': 1, 'intiwan': 1, 'ruphaspa': 1, \"ch'akirqapuqllan\": 1, \"q'epillay\": 1, \"q'epiykusqalla\": 1, 'apashallani': 1, 'runakunaman:': 1, 'nirqanmi': 1, 'mañakuqta': 1, 'willashaqta': 1, 'yupaychaqta': 1, 'ofrendaqta': 1, 'qespiqniyqa': 1, 'kawsananchis': 1, 'yanapaspanchis': 1, 'imaraykulla': 1, 'chaninpi': 1, 'sayarichiy': 1, 'kamachikunata': 1, 'willanankupaq': 1, 'paskan': 1, 'cadeneta': 1, 'kallpachasqañan': 1, 'waqaychaqniyqa': 1, \"hallp'allamantas\": 1, \"rikch'akuq\": 1, 'rantiwarqan': 1, \"hich'aspa\": 1, 'saqewaychu': 1, 'hoqariwananchista': 1, 'llanthuchallanpin': 1, 'takiykusaq': 1, 'ovejakunaq': 1, 'purisqan': 1, 'cheqaspin': 1, 'sumaqtapuni': 1, 'kayninta': 1, 'yupaychaykullasaq': 1, \"t'ikakunapas\": 1, \"q'aparin\": 1, 'huertakunapas': 1, 'qarpasqa': 1, 'kallaqtin': 1, 'niwanchis:': 1, '\"yaw': 1, 'kichaykuway': 1, 'imanaqtinmi': 1, 'waqachiwanki': 1, 'sinchitapuni': 1, 'llakichispa': 1, 'rimapayki': 1, 'kakusqanki': 1, \"k'anchariykushaq\": 1, 'ruwasqanmanta': 1, 'cornetatapas': 1, 'arpakunata': 1, 'tinyakunata': 1, 'charango': 1, 'qenatawan': 1, 'chinchinyaq': 1, 'platillowampas': 1, 'guitarra': 1, 'mandolinawan': 1, 'violin': 1, 'bombowanpas': 1, 'khuyapayakuqmi': 1, 'thunikuyninta': 1, 'iliwmi': 1, 'rikushanchisña': 1, 'wakchayashanku': 1, 'qhapaqyashan': 1, \"huch'uypas\": 1, 'hatunpas': 1, 'huchallikuspan': 1, 'waqlliypi': 1, 'qelqaq': 1, 'apocalipsisqa': 1, \"hunt'akushanmi\": 1, 'jesusllanchisman': 1, 'mayuta': 1, 'chinparqospaymi': 1, 'tarikullarqani': 1, 'wiñay-wiñaykama': 1, 'tarispa': 1, 'takishan': 1, 'chhaynatan': 1, 'takini': 1, 'qespichiqnillayman': 1, 'jesusniywanmi': 1, 'yachachimuq': 1, 'ilakiypi': 1, 'rantiwarqanchis': 1, 'yawarnillanwan': 1, 'qolqewan': 1, 'kashaqkunaman': 1, 'purishaqtin': 1, 'atiynintan': 1, 'watasqata': 1, 'paskanapaq': 1, 'qhaliyananpaq': 1, 'ñanninkunata': 1, 'pusarikuway': 1, 'yachachimusaq': 1, 'munakuymantan': 1, 'willaykamusaq': 1, 'uyariwankin': 1, 'wañunaykaman': 1, 'servillasqayki': 1, 'wiñaykawsaypi': 1, 'imasumaqmipuriy': 1, 'chaskatapas': 1, 'tapukuni': 1, \"ch'akichikuni\": 1, 'pampachanki': 1, \"ch'uyanchanki\": 1, 'chaskikunki': 1, 'reqsillanki': 1, 'yayanchispa': 1, 'atipay': 1, 'amapuniña': 1, 'sasachayña': 1, 'kallaqtinpas': 1, 'qespichiqnichisqa': 1, 'wañupuspaqa': 1, 'saqepusunmi': 1, 'kashanñan': 1, 'coronapas': 1, 'hamunqan': 1, 'wawankunamanqa': 1, 'suyaqtaqa': 1, 'pusawasunpunin': 1, 'millayta': 1, 'tikran': 1, 'llakipi': 1, 'nishanki:': 1, '\"jesusta': 1, 'chaskiymanchu': 1, 'tarispañan': 1, '\"ari\"': 1, \"ñak'arinay\": 1, 'waqyamuwaqtin': 1, 'sapankatan': 1, 'kallpanchan': 1, 'mikhuymantapas': 1, 'ofrendasun': 1, 'ofrendata': 1, 'ruwaypi': 1, \"llank'anaykupaq\": 1, 'iñinankupaq': 1, 'willashallanpuni': 1, 'rimarispa': 1, 'iglesiayki': 1, 'rimashanpuni': 1, 'willashanpuni': 1, '¡kashanmi!': 1, 'kashallan': 1, '!kashanmi!': 1, 'makita': 1, 'hoqarispa': 1, 'takaykushan': 1, 'qespicheqmi': 1, 'amigoykin': 1, 'kicharillayña': 1, \"hunt'asqata\": 1, 'michillawan': 1, 'iñikuni': 1, 'qespichiqnillanchispi': 1, 'pachallamanmi': 1, 'huñuykuspa': 1, \"hunt'aykuchun\": 1, 'atiyniwan': 1, 'churi': 1, 'qonqariwaspayki': 1, 'churi?': 1, 'huchallaykiwanqa': 1, 'infiernopin': 1, 'kutirikamuway': 1, 'qespiqniykin': 1, 'iñiwaspayki': 1, 'ñannillayta': 1, 'qowaqtiykiqa': 1, 'kallpanchallasqaykin': 1, 'mañawaqtiykipa': 1, \"ch'uyayachisqaykin\": 1, 'kutimuspaymi': 1, 'hoqarikusqayki': 1, 'kawsachikusqayki': 1, 'usqhaytañan': 1, 'kutimullanqa': 1, 'killan': 1, 'hamullaqtinqa': 1, 'urmaykamunqa': 1, 'qhepakuspayki?': 1, 'pusasuqtiyki?': 1, 'orqokunan': 1, 'thunikamunqa': 1, \"ch'eqtarikunqa\": 1, \"sach'an\": 1, 'kumparikunqa': 1, 'rumikunan': 1, 'takanakunqa': 1, \"hallp'akunan\": 1, 'kicharikunqa': 1, 'ayqekullanqa:': 1, 'chaskiykusunkin': 1, 'kaymantaqa': 1, '¿munankichu': 1, 'venceyta?': 1, 'jesucristowanqa': 1, 'vencenkin': 1, '¿atiwaqchu': 1, 'viciokuna': 1, 'millayta?': 1, 'qespichisqañaqa': 1, 'millankin': 1, 'rantiykipipuni': 1, 'iñiqtiykiqa': 1, 'qespichillasunkin': 1, '¿huchallaykiq': 1, 'watasqanchu': 1, '¿llakillaykiq': 1, '¿rumirayaq': 1, 'sonqoyoqchu': 1, \"llamp'uyachisunkin\": 1, '¿kay': 1, 'urmaqllachu': 1, 'sayarichisunkin': 1, '¿llumpaq': 1, 'huchayoqchu': 1, 'pampachanqan': 1, 'yawarnillanwanmi': 1, 'maylliykusunki': 1, 'neganki': 1, \"wisq'aykuspayki?\": 1, 'wañuqta': 1, 'hamushanmi': 1, 'wañuyniyki': 1, 'qonayki': 1, 'wawqewlláy': 1, 'ukyaypi': 1, 'kusichispayki?': 1, '¿kaypi': 1, 'wasiykita': 1, 'sonqoyki': 1, \"llamp'uyaq?\": 1, 'ñawiyki': 1, 'ayphanqa': 1, 'ripunaykipaq?': 1, 'qoqanki': 1, 'supayllapaq': 1, 'takipuspayki': 1, 'pantaykuspayki?': 1, '*nillawaqtaq;': 1, 'turalláy': 1, 'nispapas': 1, 'pusakushawan': 1, 'yanapawaspa': 1, 'yanapasunkin': 1, 'weqeywanmi': 1, 'yayaymi': 1, 'khuyakuwaspa': 1, 'ruwashan': 1, 'churawananpaq': 1, 'kapushawanmi': 1, \"p'achakunaypaq\": 1, 'churakuyta': 1, 'qespikusqayki': 1, 'kawanqa': 1, \"ch'uyakunapas\": 1, 'kusiykukunqan': 1, 'angelpas': 1, 'takinqan': 1, 'paytukuqqa': 1, 'purikuqqa': 1, 'kawsanqachu': 1, 'waqachiqqa': 1, 'kawsanankamallan': 1, 'kusikuqqa': 1, 'wañunankamallan': 1, 'rawraq': 1, 'qochamanmi': 1, \"wikch'unqa\": 1, '¿qolqellayki': 1, 'karqoqtinchu': 1, 'qonqarinki?': 1, '¿yachaysapa': 1, 'tukuspachu': 1, 'ruwashanki?': 1, 'qoykusparaq': 1, '\"kaymi': 1, 'diosniy\"': 1, 'uyariqman': 1, '\"qespichiway\"': 1, 'purishaspan': 1, '\"huchachuqa\"': 1, 'qespikuqta': 1, 'rikushaspan': 1, '\"yanqan': 1, 'chayqa\"': 1, '¿sonqoykichu': 1, 'yachananpaq?': 1, '¿ñawiykichu': 1, 'tutayarqon': 1, 'rikunanpaq?': 1, 'kawsaqtinmi': 1, 'diosnintapas': 1, 'qonqaqtinmi': 1, 'anchallatapuni': 1, 'phiñakuspa': 1, 'parallanwan': 1, \"p'uchukachinanpaq\": 1, 'ruwachirqan': 1, 'arcata': 1, 'haykuspanku': 1, 'qespikunankupaq': 1, 'arcamantaq': 1, 'churachirqan': 1, 'animalkunata': 1, 'chayaykamuqtinmi': 1, 'qocharparisqanwan': 1, 'noeñataq': 1, 'khuyakusqan': 1, 'arcallaman': 1, 'haykuykuspallanku': 1, 'qespikullarqanku': 1, 'ninawanña': 1, 'kanaykunqa': 1, 'qoqñataqmi': 1, 'arcallapi': 1, 'kallaspanku': 1, 'ninamanta': 1, 'qespikun': 1, 'qa': 1, 'egiptomanta': 1, 'horqokamusqan': 1, 'diosninkumanta': 1, 'khaynatapuni:': 1, '\"¿imapaqmi': 1, \"ch'inneqman\": 1, 'pusamuwarqankiku': 1, 'purillaspayku': 1, 'wañunaykupaq?\"': 1, 'phiñarikuspan': 1, \"mach'aqwayta\": 1, 'rawrashaqtaraq': 1, 'rikhurichispa': 1, 'pikachillarqan': 1, 'hukninraq': 1, 'wañuraqtinmi': 1, 'huchankutapas': 1, 'reqsikuspanku': 1, 'waqyakurqanku': 1, \"mach'aqwaypa\": 1, 'ayrinta': 1, 'sayaq': 1, \"k'aspipin\": 1, 'churaykullarqan': 1, 'lliphipishaqta': 1, 'qhawaqmi': 1, 'wañunayaykushasqankumanta': 1, 'qhaliyarqanku': 1, 'chhaynan': 1, 'llumpaq': 1, \"ñak'arishanku\": 1, 'diosñataqmi': 1, 'hoqarichirqan': 1, 'qhawarispankun': 1, 'qespisqaña': 1, 'nicodemo': 1, 'watukurqan': 1, 'tutalla': 1, 'runatataq': 1, 'manchaspan': 1, 'sumaqllata': 1, 'takarqan': 1, 'haykuspanmi': 1, '\"yachashaykun': 1, 'hamullasqaykita': 1, 'jesusñataq': 1, 'reqsispa': 1, '\"qantan': 1, 'niyki:': 1, 'nacespankupunin': 1, 'nicodemon': 1, 'tapurqan:': 1, '\"': 1, 'yuyaq': 1, 'nacemunman': 1, 'mamanmantachu?\"': 1, '\"aychamanta': 1, 'aychallan': 1, 'runañan': 1, 'chhaynaqa': 1, 'utirayaychu': 1, 'kaymanta\"': 1, 'nisunki:': 1, 'jesuspipuni': 1, 'nacenaykipaq': 1, 'ñoqaykuwanmi': 1, 'haykumuy': 1, 'paypas': 1, 'samachiqqa': 1, 'munaspaqa': 1, 'kichariykullay': 1, 'asuykakamuy': 1, \"k'irichikurqan\": 1, 'qespichiqllayman': 1, 'khuyakuqllayman': 1, 'pampachaqniy': 1, 'qowaqnillayman': 1, 'pampachaykuwan': 1, \"ch'uyayachiwan\": 1, 'qespisunkichis': 1, 'waqyasunkichis': 1, 'usqhaykamullaychis': 1, 'yachankin': 1, 'samarichisunkin': 1, 'kawsarichisunkin': 1, 'ninapaq': 1, 'nisqañan': 1, 'karupin': 1, \"hich'asqan\": 1, 'yawarmi': 1, \"p'ampasqa\": 1, 'kasqanmi': 1, \"p'ampanqa\": 1, 'manchapakuspa': 1, 'huchantin': 1, 'cruzninta': 1, 'qhawariykuspa': 1, 'munaspa': 1, 'wañunallanpaq': 1, 'pampachaytan': 1, 'horqoshan': 1, 'rinankumanta': 1, 'pusaqpas': 1, 'chayanaykipaq': 1, 'ruegashan': 1, 'iskayrayaqkunata': 1, 'sonqonkuta': 1, 'chaskiykunanpaq': 1, 'kachankunata': 1, 'siminkamallan': 1, 'yawarllaykita': 1, \"ch'aqchuykuspan\": 1, 'nishawanki:': 1, 'hamuy\"': 1, 'yanayasqa': 1, 'tutayaykusqa': 1, \"ch'aqchuykuway\": 1, 'mayllikuqwan': 1, 'iskayrayaywan': 1, 'rumirayaywan': 1, 'sansariykachipullaway': 1, 'wakchan': 1, 'ñawsan': 1, 'qellan': 1, 'tarillasaq': 1, 'qhapaqyayta': 1, 'yachaykunata': 1, 'qhaliyayta': 1, 'allinyayta': 1, 'iñimuyki': 1, \"ch'uyayachiway\": 1, 'hampiykuway': 1, 'purishallani': 1, 'maskhaqlláy': 1, \"marq'ayniykipi\": 1, 'pampachaykuqniy': 1, 'wiñaq': 1, 'uyariykuqtiy': 1, 'yachachiqnilláy': 1, 'haykuykullawan': 1, 'kawsarinaypaq': 1, 'kikillaykitaq': 1, 'jesucristolláy': 1, 'llapallantan': 1, 'qhawarqani': 1, 'ñawillaywan': 1, 'qespichiwankin': 1, 'kawsachiwaspa': 1, 'pampachawaspa': 1, 'llakiy-llakiy': 1, 'ñankunapi': 1, 'hinallan': 1, 'muchuyllapi': 1, '\"ch\\'allaq\"': 1, 'qhawariqtiy': 1, 'chiriyarqan': 1, 'yuyariqtiy': 1, 'waqaspaymi': 1, 'maskharqani': 1, 'chaskispaymi': 1, 'jesusilayta': 1, 'tarirqani': 1, \"k'anchawarqan\": 1, \"ñit'iykushawaqtin\": 1, 'samachikuwarqan': 1, 'takiykushani': 1, 'reqsisqaymanta': 1, 'iñisqaymanta': 1, 'munakuyninwanmi': 1, 'sonqochakuni': 1, 'ñanniytapas': 1, 'wañunayaq': 1, 'almaytapas': 1, 'purispaymi': 1, \"k'anchaypiña\": 1, 'huchatapas': 1, 'millaspaymi': 1, 'samaypiña': 1, 'wañupuwarqan': 1, 'wañunallaypaq': 1, 'niwarqan:': 1, '\"qanpaqpunin': 1, 'wañupullayki\"': 1, 'kawsarimpurqan': 1, '\"kawsay': 1, 'ñoqallawan\"': 1, 'señorniymi': 1, 'wicharipurqan': 1, 'kutipullarqan': 1, 'ripurqan': 1, 'mañapuwaqniy': 1, 'kutimuqtinmi': 1, 'tinkumullasaq': 1, '\"haku\"': 1, 'nimuwaqtinmi': 1, 'glorianmanña': 1, 'haykuykapusaq': 1, \"llimp'arisqan\": 1, 'chinkaripusaq': 1, 'qhawaqtiymi': 1, 'jesusniytan': 1, 'yuyarichiwan': 1, 'mañakuqtiy': 1, 'uyarillawan': 1, 'yanapallawan': 1, 'jesusllaypi': 1, 'iñillaqtiyqa': 1, 'ripuna': 1, 'wañuypa': 1, 'chayllapi': 1, 'angelkunaqpas': 1, 'tiyayta': 1, 'lliph-nishaq': 1, \"ch'ak-nishaq\": 1, 'kusiyman': 1, 'iliw': 1, \"t'ikrakusqanpi\": 1, 'kicharipuwan': 1, 'ñanniyta': 1, 'wañuyta': 1, 'tarisaqñachu': 1, 'llakipas': 1, 'kusikuyllatan': 1, 'khuyaqniy': 1, 'haykuykuspaymi': 1, 'lliphipishaqpi': 1, 'kamusaq': 1, \"ch'uyakunawan\": 1, 'jesusnillaypaq': 1, 'wiñayña': 1, 'wañuyniywan': 1, 'waqyamuwaqtinmi': 1, 'uyallanta': 1, 'sutillayta': 1, 'waqyawaqtinmi': 1, 'waway\"': 1, 'nillawaqtinmi': 1, 'ripullasaq': 1, 'khuyaqnillaypaman': 1, 'qespichisqakunaq': 1, 'kawsariynin': 1, 'kawsarispan': 1, 'tinkuq': 1, 'runa-masillayman': 1, 'willaspaqa': 1, 'llakikuyta': 1, 'pachamanña': 1, 'waqyawaqtinqa': 1, 'qayllallanpin': 1, 'jesuspaqmi': 1, 'samaspaña': 1, 'millanallaypaq': 1, \"hap'ipakunallaypaq\": 1, 'rispaymi': 1, 'khuyakuspan': 1, 'nishawan:': 1, '\"ñoqan': 1, 'kaqtiykipas': 1, 'qanwanmi\"': 1, 'rimawan': 1, 'paytapúnin': 1, 'niykamuwanankama': 1, 'llakillanchista': 1, 'samachiwanchis': 1, 'yayallanmanta': 1, 'mañaspan': 1, 'kallpanchawanchis': 1, 'tariswanchu': 1, 'sonqonchistapas': 1, 'reqsinmanchu': 1, 'asuykuqtaqa': 1, \"wikch'unmanchu\": 1, 'khuyasqantaqa': 1, 'qarqonmanchu': 1, 'tariswan?': 1, 'munakuqta': 1, 'runapi': 1, 'reqsiswan': 1, 'runakunawan': 1, 'chimpa-chimpapura': 1, 'kashaqtinkun': 1, 'goliat': 1, 'chawpinmanta': 1, 'sayayniyoq': 1, 'manchachispa': 1, 'kallpayoqwan': 1, 'reyta:': 1, 'kaywanqa': 1, 'wañuchiqnin\"': 1, 'warmaqa': 1, 'atiwaqchu\"': 1, 'niqtinñataq': 1, '\"hina': 1, 'warman': 1, 'leontapas': 1, 'wañuchillarqani': 1, 'kaspay\"': 1, 'phawarispan': 1, 'phisqa': 1, 'rumichallata': 1, 'michimunan': 1, \"warak'achantawan\": 1, 'apaykusqa': 1, 'goliatñataq': 1, 'pisichaspa': 1, '\"wañuchispan': 1, 'qosaq': 1, 'ankakunamanraq': 1, 'alqokunamanpas\"': 1, 'sutillanpipunin\"': 1, 'kallpaykurqorqan': 1, \"warak'achanmanpas\": 1, 'rumichata': 1, 'churaykuspan': 1, \"mat'inpiraq\": 1, \"warak'arqollarqan\": 1, \"k'irisqaña\": 1, 'urmaqtintaq': 1, 'espadanta': 1, 'qechurqospan': 1, 'kunkantapas': 1, 'qhorurqorqan': 1, \"ch'uyán\": 1, 'nispapunin': 1, 'akllakusqayki': 1, 'sutiykipi': 1, 'nishasunkin': 1, 'qonqorispanku': 1, 'kusikuspanku': 1, 'munaychakuq': 1, 'khuyakuspa': 1, 'sentenciaspa': 1, 'rimariq': 1, 'reqsikuyki': 1, 'rikushanin': 1, 'ruwasqaykipi': 1, 'qoyllurkunapi': 1, 'kaqpin': 1, 'kallpachaqniy': 1, 'sonqoypa': 1, 'munananpaq': 1, 'qoqniymi': 1, 'yanapaqniymi': 1, \"hap'ipakunaypaq\": 1, \"hunt'aykuchiq\": 1, \"t'antan\": 1, 'mikhuchiqniypas': 1, 'kusirichiq': 1, 'paytapunin': 1, 'munasaq': 1, 'yanapallawanqan': 1, 'uraykamurqan?': 1, 'qespiqninchismi': 1, 'nacemullarqan?': 1, 'qespiqninchis': 1, 'munakuymanta': 1, 'niykusun:': 1, '\"gracias': 1, 'jesuslláy\"': 1, 'wañupullawarqanchis?': 1, 'qespiqllanchismi': 1, 'qowaqnillanchis?': 1, 'rantiqninchismi': 1, \"k'iriykusqa\": 1, 'kallarqan?': 1, 'huchanchista': 1, 'mayllirqan?': 1, \"ch'aqchuqmi\": 1, 'kutimullanqa?': 1, 'kawsarispa': 1, 'ripuqllan': 1, 'qespisqata': 1, 'pusanqa?': 1, 'khuyaqninchis': 1, '¡lma': 1, 'diosnillay!': 1, 'manchaychu\"': 1, 'yaqaña': 1, 'urmaqtiypas': 1, '\"wawáy': 1, 'hatariy\"': 1, 'rimallawan': 1, \"llamp'u-lamp'ullan\": 1, \"llamp'upas\": 1, 'haykuykuqtaq': 1, 'rupharichiq': 1, \"llamp'uyachiq\": 1, 'munaqlláy': 1, 'ñanniypi': 1, 'munakunaypaq': 1, 'muchuspa': 1, 'wañullarqanki': 1, 'wañunay': 1, 'wañupuwasqaykiwanmi': 1, 'kusikunaypaq': 1, 'kasaqmi': 1, 'qespichisqaykikunawan': 1, 'wawallaykin': 1, 'reqsikamullayki': 1, 'yawarniykiwanmi': 1, 'maylliykuwarqanki': 1, 'yuraqyachirqanki': 1, 'rantisqaykin': 1, 'urmaqtiyqa': 1, 'sayarichikuway': 1, 'wañukullaqtiyqa': 1, 'kamarirqan': 1, \"hallp'an\": 1, 'unuqpas': 1, 'tuyusqan': 1, 'tutayaqninwan': 1, 'pakachikurqan': 1, 'muyushasqan': 1, 'chawpillanmanta': 1, 'unukunata': 1, 'urayman': 1, 'uray': 1, 'hawallaman': 1, 'huñurqan': 1, 'chhaynaykuspanmi': 1, \"hallp'ata\": 1, \"ch'akiy-ch'akita\": 1, \"hallp'allamantan\": 1, \"q'achupas\": 1, 'sumaqllatañan': 1, 'rikhurimurqan': 1, 'ruruyoq': 1, 'killawan': 1, \"p'unchaykunatapas\": 1, \"ch'askatan\": 1, \"k'anchaqpaq\": 1, 'challwatan': 1, 'rikhurichirqan': 1, 'phalaqpaq': 1, \"hallp'aq\": 1, 'patanpin': 1, 'paqarichirqan': 1, 'animaltapas': 1, 'puriqpaq': 1, 'qharitan': 1, 'kikinmanpuni': 1, \"rikch'ayta\": 1, 'qhawarqan': 1, 'ancha-sumaqña': 1, 'akllakusqaykin': 1, \"k'iskichaqniyta\": 1, 'horqoykullaway': 1, 'khuyaqnillay': 1, 'hampiykullaway': 1, \"k'iriyta\": 1, 'qechuykullaway': 1, 'nanaynillayta': 1, 'ruwaynillaywan': 1, \"k'anchaspa\": 1, 'sutiykimanta': 1, 'kikiy': 1, 'atillasqayta': 1, 'manchakusqayta': 1, 'willakunaypaq': 1, 'ñannillaypi': 1, '¿qhepamanchu': 1, 'kutiripusaq?': 1, '¿ñawpaqmanchu': 1, 'purisaq?': 1, 'nispay': 1, 'tapuni': 1, 'khuyakuspay': 1, 'yawarniykiq': 1, 'kallpachaqniykuwan': 1, 'suyaspaykun': 1, \"t'awiripushayku\": 1, 'khuyakuyllaykiwan': 1, 'simiykiwan': 1, 'kasuytan': 1, 'kallpachaqniyta': 1, 'pusaqnillanta': 1, 'willakusqayta': 1, 'yawarniykiwan': 1, \"hunt'aykuwachun\": 1, 'qanllapaqñataq': 1, 'samaytan': 1, 'kapuwasqanki': 1, 'munakullayki': 1, 'willayman': 1, 'siminmanta?': 1, '¿paypaqchu': 1, 'takiyman': 1, 'qollanan': 1, 'sutinmanta?': 1, 'takillanpunin': 1, 'maywikunpunin': 1, 'wayralla': 1, 'wayrarimuqtin': 1, '¿chaychuya': 1, 'simiywan': 1, 'willakuyman?': 1, '¿jesuspa': 1, 'kashaspay': 1, 'munakuyman?': 1, 'takiykun': 1, 'willakusaq': 1, 'khiskamanta': 1, 'umallanman': 1, 'asikuspa': 1, \"p'achallanta\": 1, \"llat'arqospankun\": 1, 'sani-puka': 1, \"p'achallawan\": 1, 'asikunankupaq': 1, 'reqsikuykikun': 1, 'rantiqniykupaq': 1, 'chaskikuykikun': 1, 'señorniykupaq': 1, '\"kayqayá': 1, 'judiopi': 1, 'munaychakuq\"': 1, 'nispankun': 1, 'soqostataq': 1, 'varanpaqpas': 1, 'qonqorispankun': 1, 'thuqaykuspa': 1, 'umallanpi': 1, \"k'irillarqanku\": 1, 'muchuchinankupaq': 1, 'urman-urmantaña': 1, 'horqollaspankun': 1, 'simón': 1, 'sutiyoqwan': 1, 'apachirqanku': 1, 'chayachispa': 1, 'chakataspankun': 1, 'suwaq': 1, 'chawpinpitaq': 1, 'wañuchinankupaq': 1, 'vinagreta': 1, \"p'osqoyoqta\": 1, 'chhaqruykuspankun': 1, '\"unuta': 1, 'qoriway\"': 1, 'nillaqtinpas': 1, 'qorqanku': 1, 'ruwasqañan': 1, 'wañusqanraykun': 1, 'aypaykullayku': 1, 'kawsanallaykupaq': 1, \"k'ancha\": 1, 'yuyaspaymi': 1, 'makiykunaq': 1, 'ruwallasqantapas': 1, \"q'opata\": 1, 'qhawashani': 1, 'paytukuq': 1, 'kanaymanta': 1, 'cruzllaykiwan': 1, 'yuyariykuchiway': 1, 'aswanraq': 1, 'chakinta': 1, 'makinkunatawan': 1, 'lanzaq': 1, 'clavoqpas': 1, \"k'irisqanta\": 1, 'yawarllan': 1, 'phullpuriykamushan': 1, \"k'irinta\": 1, 'phawamushan': 1, '¿maypiñataq': 1, 'noqallay': 1, 'tarillayman?': 1, 'kapuwanman': 1, 'jesusnillayman': 1, 'qoykunaypaq': 1, 'sirveq': 1, \"q'opas\": 1, 'cieloykita': 1, 'saqeykamuspaykin': 1, 'naceq': 1, 'wasitapas': 1, 'tarispaykin': 1, 'qoykin': 1, 'munakusqaykita': 1, 'rikushaspán': 1, 'wañuchirqasunki': 1, 'kusiykukusaqku': 1, 'kutimullaqtiyki': 1, 'ukhumantan': 1, 'churilláy\"': 1, 'nimuwankiku': 1, 'tutan': 1, \"k'anchaykushaqtin\": 1, \"sut'iykushaqtin\": 1, 'cielota': 1, 'saqeykamuspan': 1, '\"gloria': 1, 'thak-kayñataq': 1, 'pachallapaq': 1, 'runapaqtaq': 1, 'allin\"': 1, 'nimurqan': 1, 'willaspan': 1, 'pesebrellapin': 1, 'khuyawaspanchis': 1, 'munawaspanchis': 1, 'mamanmi': 1, 'walthaykullaspan': 1, \"marq'ariykuspan\": 1, 'kaqman': 1, 'naceqtin': 1, 'cenaykipin': 1, 'kashallayku': 1, 'wañusqayki': 1, 'yuyariykuq': 1, 'chakiykipi': 1, 'cuerpollayki': 1, 'yawarllayki': 1, 'qosqaykita': 1, 'maylliqlláy': 1, 'wañusqaykiraykun': 1, 'kawsashayku': 1, 'yawarniykiraykutaqmi': 1, 'reqsiykiku': 1, 'mañakuyku': 1, 'saminchaykukuyllaykita': 1, 'almaykupaq': 1, \"llimp'ariqta\": 1, 'chaskiykuwayku': 1, 'huñuykunakuq': 1, 'wawallaykipaq': 1, 'saminchayniyki': 1, 'paykunapaq': 1, 'sonqonkupi': 1, 'tiyachun': 1, 'gloriaykiman': 1, 'waqyariqtiyki': 1, 'hamunallankukama': 1, 'qharin': 1, 'sonqonkumanta': 1, 'munaykunakuspan': 1, 'hukllachaykukunku': 1, 'espíritunwan': 1, 'saminchaykullaspa': 1, 'khuyanakuyllapi': 1, 'yuyachichun': 1, 'kusikuypipas': 1, 'muchuypipas': 1, 'asuykuspanku': 1, 'servikunankupaq': 1, 'rikuykunakunchis': 1, 'abrazaykunakullanchis': 1, 'huñuykusqa': 1, 'sonqonchispas': 1, 'rupharishan': 1, 'kusikuyllamanta': 1, 'graciasllayku': 1, 'qanllapaqtaq': 1, 'yupaychaynillayku': 1, 'kutichimusunki': 1, 'allillanta': 1, 'pusakamusunki': 1, 'allinmanta': 1, 'kusi-kusillata': 1, 'khaynallata': 1, 'waqyamuwaqtinchis': 1, 'ripunanchiskama': 1, 'wawqellanchismi': 1, 'ripukushan': 1, 'yayallanchiswan': 1, 'kunallanpunin': 1, 'haykuykushan': 1, 'pachataña': 1, 'ripun': 1, 'chinkariykapun': 1, 'ñoqallanchispas': 1, 'ripusunmi': 1, '\"hampullay\"': 1, 'niqtin': 1, 'kawsasunmi': 1, 'wañupuqtinpas': 1, 'jesusnillanchis': 1, 'kutimusunchis': 1, 'munaychakapusunchis': 1, 'jesusllanchis': 1, 'wakinchistan': 1, \"llank'ashaqta\": 1, 'wakintataq': 1, 'puñushaqta': 1, 'qonqayllamanta': 1, 'wawallanta': 1, 'simillantataq': 1, 'uyarispan': 1, 'angelninkuna': 1, 'kayneqmanta': 1, 'chayneqmanta': 1, 'hanaqmanta': 1, 'uraymanta': 1, 'llapachallan': 1, 'wawqenchiskuna': 1, 'wañuqkuna': 1, 'usqhaytataq': 1, 'hoqariykusqa': 1, 'chayananchis': 1, 'tukukunqañan': 1, 'tutayaqpas': 1, 'lliwñan': 1, 'chinkan': 1, 'jesusllañan': 1, 'payllatañan': 1, 'suyashaspaqa': 1, 'cuidakuspa': 1, 'yupaychaspataq': 1, 'saminchista': 1, 'yachayniyoqtan': 1, 'atiyniyoqtan': 1, 'urpichatan': 1, 'ruwarqanki': 1, 'raphrantinta': 1, 'phalarispan': 1, \"misk'i-misk'ita\": 1, 'takiykullaspan': 1, 'alabanasuykipaq': 1, 'chhaynataqmi': 1, 'yanay-yana': 1, 'orqotapas': 1, 'puririshaq': 1, 'munasqaykita': 1, 'ruwallaspanku': 1, 'yupaychanasuykipaq': 1, 'qasatapas': 1, 'chirawtapas': 1, 'poqoytapas': 1, 'llapachallantan': 1, 'yuyarispay': 1, 'aychallaymi': 1, 'hukllachaykukuspa': 1, \"ñit'iykushan\": 1, 'aychayqa!': 1, 'sonqoyqa!': 1, 'urmayllaman': 1, 'diosnillaymí': 1, 'qelqallanwan': 1, 'willawaspan': 1, 'wawáy\"': 1, \"k'umuykuspa\": 1, 'willaqtiymi': 1, 'ukhuymanta': 1, 'nillaqtiymi': 1, 'manchakuychu\"': 1, 'jesuswantaq': 1, 'urmaqtiymi': 1, 'hoqariwan': 1, 'llakiqtiymi': 1, 'cuidaq': 1, 'kamachiqmi': 1, \"q'achu\": 1, 'wiñachiqmi': 1, 'wiñachiwan': 1, 'rikhurichiqtaqmi': 1, 'ruruchiqmi': 1, 'ruruchiwan': 1, 'cóndor': 1, 'mikhuchiqmi': 1, 'mikhuchiwan': 1, 'qhawasqay': 1, \"k'anchachiqmi\": 1, \"k'anchachiwan\": 1, 'munaqniy': 1, 'tiyasqanman': 1, 'pusakuwaqtinmi': 1, 'atiywanmi': 1, 'mayupipas': 1, 'qaparispa': 1, \"hark'aykuwan\": 1, 'adoranin': 1, 'yayallayta': 1, 'horqoqniyta': 1, 'chiqniwaspa': 1, 'rimaqtinpas': 1, 'upallachin': 1, 'muyuwaspa': 1, 'vencechiwan': 1, 'pisiq': 1, 'kariqtinpas': 1, 'uywakuwan': 1, \"q'epimullayki\": 1, 'manayniytan': 1, \"ch'uyay-ch'uyata\": 1, 'horqoqlláy': 1, 'reqsiy': 1, 'iskayrayaqta': 1, 'kallpachakuq': 1, 'atiyllaykiwan': 1, 'sayaqta': 1, 'ruwaykukuway': 1, 'almaytan': 1, 'ñawiy': 1, 'simiy': 1, 'makiy': 1, 'chakiy': 1, 'ruwachun': 1, 'qowasqaykipas': 1, 'munasqaykipi': 1, 'servikullachun': 1, 'khuyakuyllaykin': 1, \"hunt'aykullawan\": 1, \"hunt'aykukuway\": 1, '¿maymantaq': 1, 'pillamantaq': 1, 'asuykusaq?': 1, 'willaykukuq': 1, 'llakillaypas': 1, 'paskariykuq': 1, '¡manan': 1, 'manan!': 1, 'qanllamanmi': 1, 'khuyawanki': 1, 'kallpanchanki': 1, 'kutichiypas': 1, 'kawaqtinqa': 1, 'atipayman?': 1, 'riyman': 1, 'santomanchu': 1, 'illamanchu?': 1, \"ñit'illawaqtinqa\": 1, 'qhepanchasaq?': 1, 'runamanchu?': 1, 'yachaykunan': 1, 'pisillawan': 1, 'chinkariwan': 1, 'tarillasaq?': 1, 'yachaqmanchu': 1, 'llapallaykuman': 1, 'kawsarimpuyniykiq': 1, 'adorayniyku': 1, 'almallaykupi': 1, 'manchakuykuna': 1, 'llakikunapas': 1, 'chinkaripunanpaq': 1, 'ñannillaykupi': 1, 'kallpachawayku': 1, 'aychaykutapas': 1, 'negarparispayku': 1, \"p'unchaynillaykiq\": 1, 'illariyninta': 1, 'suyanallaykupaq': 1, 'umaykama': 1, 'onqosqallan': 1, 'sinchi-sinchi': 1, 'rumiyasqan': 1, 'cristolláy': 1, 'qhellichasqan': 1, 'khuyawaspa': 1, 'hampiykuqniy': 1, 'aceitewan': 1, 'hawiwaspa': 1, 'nanaynillay': 1, 'samaykuchiq': 1, 'simillaykin': 1, 'hampisunkin': 1, \"k'irillanwan\": 1, 'nillawaspa': 1, 'cruzllaykiman': 1, 'yawarllaykiq': 1, \"ch'aqchusqanwan\": 1, 'ñawi': 1, 'qhawanaypaq': 1, 'qhawallaspay': 1, 'yachachimunaypaq': 1, 'yachay': 1, 'yachaytaña': 1, 'takiykita': 1, 'servikamunaypaq': 1, 'khuyapayaykukullaway': 1, 'khuyapayakuyniykiman': 1, 'kasukuyniykunatapas': 1, 'pichaykukullaway': 1, 'ruwallasqaykunamanta': 1, 'ruwaqlláy': 1, 'huchallayqa': 1, 'yuyayllaypipunin': 1, 'qanllatataq': 1, 'phiñachiyki': 1, 'nacerqani': 1, 'huchallaypitaqmi': 1, 'mamallaypas': 1, 'wiksalliykukullawarqan': 1, 'hisopowan': 1, \"ch'uyanchaway\": 1, \"ch'uyay-ch'uyallaña\": 1, \"rit'imanta\": 1, 'yuraqyasaq': 1, 'yuraqyaykuchiway': 1, 'uyaykita': 1, 'pakaykullay': 1, 'ruwallasqaymanta': 1, 'sonqotaña': 1, 'ruwaykukullaway': 1, 'mosoqyaykuchiway': 1, 'qayllaykimantaqa': 1, 'señorllày': 1, 'mayllamanpas': 1, \"wikch'uykullawaychu\": 1, 'takyachillawachun': 1, 'kusiykuchillaway': 1, 'nacenanpaq': 1, 'runamanmi': 1, 'tukullarqan': 1, \"hunt'an\": 1, \"hunt'allataq\": 1, 'tambollanpas': 1, \"k'iskillataq\": 1, 'samay': 1, 'tarinanpaq': 1, 'maskhallaspan': 1, 'pesebreman': 1, 'haykuykurqan': 1, 'puñunayoq': 1, 'iphiñayoq': 1, 'urpichapas': 1, \"q'esayoqmi\": 1, 'jesuspaqa': 1, 'yacharqanchu': 1, 'takisqanta': 1, 'michiqkunaq': 1, 'ninankama': 1, 'paykunallan': 1, 'hinaspataq': 1, 'willakurqan': 1, 'pi': 1, 'munaqtinpas': 1, 'kawsankipas': 1, 'qantataqmi': 1, 'jesúsllaymi': 1, 'khuyakuqnillaymi': 1, 'kawsarichiwaqniy': 1, 'kallpachallawaqniy': 1, 'khuyaqnillaytachu': 1, 'rantiqnillaytachu': 1, 'saqellayman': 1, 'qonqallayman': 1, 'sumaqyachiwanman': 1, 'kusichillawanman': 1, 'mikhunachu': 1, 'ukyanachu': 1, 'wiñachillawanman': 1, \"q'ochuchillawanman\": 1, 'uywaqniychu': 1, 'amigoykunachu': 1, \"hunt'aykullawanchu\": 1, 'kusichillawanchu': 1, 'imay': 1, 'cuerpoy': 1, 'servikullasqaykin': 1, 'wiñay-wiñaypaqpas': 1, 'munakuwasqaykirayku': 1, 'suyanin': 1, 'wañuyllaykipi': 1, 'chaywan': 1, 'rantiwarqanki': 1, 'rikusqaykin': 1, 'risaqmi': 1, \"q'ochukuq\": 1, 'pantarqani': 1, \"ch'usaq\": 1, 'orqokunapi': 1, 'urmarqani': 1, 'urmasqa': 1, 'hoqariway': 1, 'wañuyniykiwan': 1, 'horqoway': 1, 'rikukuspan': 1, 'qanman-jesús': 1, 'maskaspan': 1, 'qayllani': 1, 'huchaytataq': 1, 'qespichiwananpaq': 1, 'qoykukurqan': 1, 'apuman': 1, 'pampachaykullawan': 1, 'maylliwan': 1, \"ch'uyata\": 1, 'kusirichillawan': 1, \"ch'akisqakuna\": 1, 'qoyta': 1, 'qayllaykuqkunaman': 1, 'qhepaspa': 1, 'churiykirayku': 1, 'jesusniyku': 1, \"k'anchayniykita\": 1, 'ñoqaykurayku': 1, 'uyárikuy': 1, 'diosniykiman': 1, 'wañuqman': 1, 'haykullayña': 1, 'wañuychus': 1, '¿imanawaq': 1, 'pacha?': 1, 'pichasqa': 1, 'riwaqchari': 1, 'muchuyman': 1, 'qhepanchaychu': 1, 'qosunkitaq': 1, 'qanraykun': 1, 'warkusqa': 1, 'cenaykipi': 1, 'huñukuyku': 1, 'wañusqaykita': 1, \"ñak'arisqaykitawan\": 1, 'rantiypi': 1, 'qespikuyniykumanta': 1, 'vinopitaq': 1, \"hich'asqaykita\": 1, 'sutiykiman': 1, 'maqanakusun': 1, 'pachawan': 1, 'saqrapas': 1, 'atipawasunchu': 1, 'muchusun': 1, 'cruztapas': 1, 'pillutataq': 1, 'kasunchischu': 1, 'munakuyninchispas': 1, 'pisichunchu': 1, 'jesusninchispi': 1, 'iñisqanchispi': 1, 'munasunchis': 1, 'espiritupitaq': 1, 'llalliqman': 1, 'yuyarisaqñachu': 1, 'llakisqacha': 1, 'kankuman': 1, 'diosniypapin': 1, 'diosniywanña': 1, 'ripukushaniña': 1, 'kaynillanwan': 1, 'saminchaykusqaña': 1, 'ilaqtaman': 1, 'muchuyllan': 1, \"hayk'apas\": 1, 'kusikuykunata': 1, \"q'ochukuykunata\": 1, 'maskhayman': 1, 'ripukushaniñan': 1, 'kawsaspan': 1, 'manchay-manchaytañan': 1, 'rimarishan': 1, 'qhepantataq': 1, 'pusakapullaway': 1, 'kusisamiykiman': 1, 'pachaykiman': 1, 'qhawaykuspa': 1, 'qanllaña': 1, 'ñawiyta': 1, 'simiytapas': 1, 'makiyta': 1, \"ch'uyayachiy\": 1, 'señornilláy': 1, 'hayaqtaraq': 1, \"p'osqotaraq\": 1, 'mirariykuchispa': 1, 'makillaymi': 1, 'kayneqmanraq': 1, 'chayneqmanraq': 1, 'allinpitaq': 1, 'musphaykachaq': 1, 'pampachaqlláy': 1, 'ruwaspataq': 1, 'rishaqtiy': 1, 'qayllaykiman': 1, 'pusawarqanki': 1, 'yupaychakunay': 1, 'kachamurqanki': 1, 'kaqtíy': 1, 'qespíchiq': 1, 'kawsanaykama': 1, 'maypin': 1, 'yupaycharqani': 1, 'kayniypi': 1, 'reqsikuykiña': 1, 'munakuqniyta': 1, 'servikusqaski': 1, 'pampakuna': 1, 'lmaymana': 1, 'yupaychallasunkipuni': 1, 'sapallayki': 1, 'imaymanan': 1, 'muspharichin': 1, \"ñak'ariyña\": 1, 'kutichispa': 1, 'atipasaq': 1, 'munakuqniytaqa': 1, \"ñak'arillarqanki\": 1, 'huchasapakunaq': 1, 'iñinanpaq': 1, 'qespikapunanpaq': 1, 'rantiykukuwanki': 1, \"k'irillaykiwanmi\": 1, 'hampiykukuwanki': 1, 'yachachiwananpaq': 1, 'kawsaysiwananpaq': 1, 'qayllaykiku': 1, \"k'umuykukuywan\": 1, 'hoqariymanta': 1, 'qoykullawaykupuni': 1, 'pusaqniymi': 1, 'qespichikullaway': 1, 'bendicionniykita': 1, 'munakuwanmi': 1, 'ñawsakunatan': 1, 'qhawarichirqan': 1, \"such'ukunatan\": 1, 'puririchirqan': 1, 'wañuqkunatan': 1, 'kawsarichirqan': 1, 'onqoqkunatan': 1, 'qhaliyachirqan': 1, 'adorasqayki': 1, 'qonqaspan': 1, 'huñuykukuspanchis': 1, 'yuyarisunpuni': 1, 'kawsarimpusqanta': 1, 'qhawarinchis': 1, 'yayanpa': 1, 'mañapushawanchis': 1, 'hánaq': 1, 'qespisqankunapaq': 1, 'suyupi': 1, 'kusikunanchismanta': 1, 'kutimunqan': 1, 'pusakapuq': 1, 'awqapas': 1, 'horan': 1, 'kawsashaqtan': 1, 'taripasunki': 1, 'puñuqkunan': 1, \"rikch'arimunqa\": 1, 'chaymantañan': 1, 'wicharipusun': 1, 'hinapin': 1, 'tinkumusun': 1, 'guerraq': 1, \"t'aqwiykukuy\": 1, 'cheqaqtachus': 1, 'cielomanqa': 1, 'wicharipunki': 1, 'ichataqchus': 1, 'qhepaykapunki': 1, 'tariykukuni': 1, 'hoqariykuwan': 1, 'yawarllanwanmi': 1, 'rantiykukuwan': 1, 'haykunaymanta': 1, 'espirítutan': 1, 'tiyanallanpaq': 1, \"t'aqakunaypaq\": 1, 'espirituykin': 1, 'qelqallaykiwan': 1, 'yachaykachinki': 1, \"t'aqakunanpaq\": 1, 'kusiytán': 1, 'rikuchiwanki': 1, 'tiyanallaypaq': 1, 'wañuy-pachapi': 1, \"rikch'ayniyki\": 1, 'kasuspay': 1, 'kasuykurqani': 1, 'iñiynillayta': 1, 'qhawanallaypaq': 1, 'qosqayki?': 1, 'qespichiwasqaykimanta:': 1, '¿qoritachu': 1, 'qolqetachu?': 1, 'chaniyoqchu': 1, 'cuerpoytan': 1, 'qowankiraq': 1, '¿ñoqari': 1, 'qoyki?': 1, '¿llapan': 1, 'kawsaynillaytachu': 1, 'ichari': 1, 'wakillantachu?': 1, 'qopusqayki': 1, 'sapallaykiq': 1, 'kapunaypaq': 1, 'makillanchis': 1, 'ruwallachun': 1, 'chakillanchis': 1, 'purichun': 1, 'ñawillanchis': 1, 'qhawallachun': 1, 'kunkanchispas': 1, 'takillachun': 1, 'tiyananchiskama': 1, 'muyuykarqamunña': 1, 'pisillaña': 1, 'runamasíy': 1, '¿ñachu': 1, 'qespisqanña': 1, \"t'aqakuspa\": 1, 'maskhananpaq': 1, 'qoykunanpaq': 1, 'maskhaqniyki': 1, 'awqaykita': 1, 'ninamanmi': 1, 'haykuykunki': 1, 'muchuykurqan': 1, 'kawsaqkunan': 1, 'diosmantaqa': 1, \"t'aqakunqa\": 1, '¿qolqellaykipi': 1, 'kaqnillaykipi': 1, 'iñispaykichu': 1, 'purishallanki?': 1, 'qolqellaykiqa': 1, 'kaqnillaykiqa': 1, 'llapachallanmi': 1, 'tukukapunqa': 1, 'huchallaykiqa': 1, 'viciollaykiqa': 1, 'watashasunki': 1, 'ukhu-pachaman': 1, 'haykunaykipaq': 1, 'waqanaykipaq': 1, \"mast'ariykuspan:\": 1, 'wawalláy\"': 1, 'nimushasunki': 1, 'qhepaychu': 1, 'llakiwaq': 1, 'muchuypi': 1, 'rikukuspayki': 1, '¿huchaq': 1, 'llakikuylla?': 1, 'nishasunki': 1, 'kunan:': 1, 'saminchallasqayki\"': 1, 'runatan': 1, 'huchachanqa': 1, 'huchayoqtan': 1, 'muchuchillanqa': 1, 'qespisqantan': 1, 'pusakapullanqa': 1, 'paqarinqa': 1, 'suyarisaqraq': 1, \"wisq'aykukunmanña\": 1, 'hamuqtiykiqa': 1, 'qespisunkin': 1, 'huchaykitataq': 1, 'sonqoykipitaq': 1, 'tiyakunqa': 1, 'kayniyki': 1, 'diosnillanchiman': 1, 'hamuqtiyki': 1, 'qayllaqtiyki': 1, 'kutipullay': 1, 'ñitaq': 1, \"q'ayataraq\": 1, 'wañuynillayki': 1, 'aypamuqtin': 1, 'wawankuta': 1, 'pusamurqanku': 1, 'munanmi': 1, 'wawakunata': 1, 'wawapas': 1, 'qespichiytapunin': 1, 'pusamuqkunata': 1, \"hark'arqan\": 1, 'pusamushaqta': 1, 'rikuspan': 1, 'anyarqan': 1, 'yachachisqankunataqa': 1, \"hark'anankupaq\": 1, 'ruwananqa': 1, 'pusananpunin': 1, 'wawata': 1, 'tayta-mamaqa': 1, 'uywanan': 1, 'reqsichispa': 1, 'waqyasqa': 1, 'casarakuyman': 1, 'kamachinkunawan': 1, 'qhawaykuq': 1, 'casarakuqkunan': 1, 'kusikurqanku': 1, 'atíyninta': 1, 'cana': 1, 'pisiqtintaq': 1, 'unullamanta': 1, 'vinoman': 1, 'kunankamapas': 1, 'millay-kayninta': 1, 'saminchan': 1, 'casarakuqta': 1, 'saminchashanmi': 1, 'saminchasunkin': 1, 'ñanniykipitaq': 1, 'kashaqtiykipas': 1, 'awqamanta': 1, \"p'unchaykama\": 1, 'tinkusunchis': 1, \"t'aqarinakuq\": 1, 'iñiqpa': 1, 'qolqemanta': 1, 'pachasmanta': 1, \"k'aspimanta\": 1, 'ruwasqallan': 1, 'rimanchu': 1, 'rikunchu': 1, 'ninrinpas': 1, 'senqanpas': 1, 'reparaq': 1, 'llaminchu': 1, 'ruwan': 1, \"q'otunanpaq\": 1, 'ayata': 1, 'wantunku': 1, 'qespisqakunaq': 1, 'warmikuna': 1, 'rirqanku': 1, \"q'apayta\": 1, 'apaspa': 1, \"sut'inchawanchis\": 1, 'kutirqanku': 1, 'yachachisqankunaman': 1, 'pedron': 1, 'juanpiwan': 1, 'qhawaq': 1, 'phawarirqanku': 1, 'sepulturaqa': 1, \"p'ampaykapunanpaqqa\": 1, 'kawsarisqan': 1, 'suyanankupaq': 1, 'wañuyniykiwanmi': 1, 'chakatanamanmi': 1, 'aparqasunkiku': 1, 'muchunaytan': 1, 'rantillaypi': 1, 'wañunallaykipaq': 1, 'onqosqan': 1, 'hampiykullawarqan': 1, 'pampachawarqanki': 1, 'kayniymantan': 1, 'mayllin': 1, 'yupaychallasqayki': 1, 'viciota': 1, 'sapallanpi': 1, 'ñannin': 1, 'sarusaq': 1, 'sarusqanpi': 1, 'purísqanpi': 1, 'kawsasqanpi': 1, 'tiyasqanpi': 1, 'atiynillanpi': 1, 'kallpachayninpi': 1, 'yanapayninpi': 1, 'waqaychayninpi': 1, 'qelqallanman': 1, 'bautizaykukusaq': 1, \"t'aqaykipi\": 1, 'qanqaqña': 1, 'rikuchisaq': 1, 'saqepullaspaymi': 1, 'ruwasqa': 1, 'amataq': 1, 'wateqaymanqa': 1, 'pusawaykuchu': 1, 'qespichiwayku': 1, 'suyupas': 1, 'qhapaqchaypas': 1, 'amén': 1, \"t'antaykuta\": 1, 'pampachawayku': 1, 'kikiykupiwanpas': 1, 'huchallikuwaqniykuta': 1, 'pampachayku': 1, 'hinallatataq': 1, 'mañakuykiku:': 1, 'yachanaykupaq': 1, 'hamuspa': 1, 'yuyayniykuman': 1, 'sonqoykumanpas': 1, 'qelqaykullachun': 1, 'uyarisqayku': 1, 'simikunapi': 1, 'yuyaymanaspa': 1, 'kawsallasaqku': 1, 'maskhallaspayku': 1, 'qelqaykitaqa': 1, 'saminchaypuni': 1, 'wawaykikunaq': 1, 'iskayarqankuchu': 1, 'nisqantaqa': 1, 'suyasharqanku': 1, 'pentecostés': 1, 'hamun': 1, 'suyaqkunaman': 1, \"hunt'aykuntaq\": 1, 'haykunanpaq': 1, 'qespichiqniykuq': 1, 'pampachaykuwaspa': 1, 'yanapaynillanwan': 1, 'maskhanaypaqpuni': 1, 'mañakuyniypipas': 1, 'iñiyniypi': 1, 'atipawananpaq': 1, 'kashaqtin?': 1, 'llakikusun': 1, 'waqaychasqan': 1, 'kashaspanchis?': 1, '¿imañataq': 1, 'makinmanta?': 1, \"¿ñak'ariychu?\": 1, '¿muchuyllachu?': 1, 'atinchu': 1, 'espadapas': 1, \"t'aqayta\": 1, 'kawsayninchistaqa': 1, 'imañan': 1, 'qechuwasunchu': 1, 'wayna-sipas': 1, 'jesusninchiswanqa': 1, 'atipallasunmi': 1, 'awqanchistaqa': 1, 'kallpachawasun': 1, 'awqanchis': 1, \"k'anchananchista\": 1, 'waqaywanchu': 1, 'llakiywanchu': 1, 'astawanqa': 1, 'tarinki': 1, 'kamariway': 1, 'millay-kayniyta': 1, 'atiyniykipi': 1, 'atiynillaykita': 1, 'ruwayniypi': 1, 'rimayniypi': 1, 'sonqoypiwan': 1, 'chinkasqataq': 1, 'tariwarqankitaq': 1, 'yuyaynillaywan': 1, 'kallpallaywan': 1, 'pampachaykullawaytaq': 1, 'tarikuwaspayki': 1, 'waqyakuwarqanki': 1, 'imaynatapunin': 1, 'cheqniqniykunata': 1, 'khuyapayaykuy': 1, 'qasipunin': 1, 'kasunichu': 1, 'rimasqankuta': 1, 'kashallankupunin': 1, 'cheqaspipas': 1, 'kusisqallapunin': 1, 'familiaykunapas': 1, 'saqerpariwankun': 1, 'cheqnikapushawan': 1, 'tukukuqmi': 1, 'tukurqakapuqllan': 1, \"ch'usaqyarqapuqllan\": 1, 'servinapaq': 1, 'ruwananchispunin': 1, 'rinanchispaq': 1, 'atipasunpunin': 1, 'wateqaytapas': 1, 'churintan': 1, 'wañuqpaq': 1, 'aypaykunanpaq': 1, 'chinkaymanta': 1, 'chaskiqqa': 1, 'kawsakunanpaq': 1, 'iñiqpaqqa': 1, 'wakichisqañan': 1, \"ñak'ariylla\": 1, 'iñikullayña': 1, 'munakuyllanwan': 1, 'wasikuna': 1, 'tiyanaqa': 1, 'lliph-nishan': 1, \"k'anchayninpas\": 1, 'tutayaqchu': 1, 'samanaqa': 1, 'uywakuqqa': 1, 'kamakuwasqanchismanta': 1, 'rantikuwasqanchismanta': 1, 'qespikuwasqanchismanta': 1, 'kallpachawasqanchismanta': 1, 'diosnillanpa': 1, 'kamachikuqkunan:': 1, 'huchachasun': 1, 'nillarqanku': 1, 'kamachispa': 1, 'qelqallarqan': 1, 'danielta': 1, 'huchachananpaq': 1, 'danieltaqa': 1, 'fosollanman': 1, \"wikch'uykusqan\": 1, 'kapullarqan': 1, 'diosnillanmi': 1, 'angelninta': 1, 'watarparipunallanpaq': 1, 'librakurqan': 1, \"k'irisqalla\": 1, 'qhalillatan': 1, 'horqorqanku': 1, 'diosnillanwan': 1, 'qelqaykullarqan': 1, 'huchachaqkunata': 1, 'kasuqkunata': 1, 'llapankuta': 1, 'huchachaspan': 1, 'wawantapas': 1, 'warmintapas': 1, 'kamachikuqkunatapas': 1, 'wañunaman': 1, 'fosonmanmi': 1, \"wikch'uykunku\": 1, 'altollapiraq': 1, 'chaskispan': 1, 'tullunkutapas': 1, \"nut'urqan\": 1, 'reyninku': 1, 'darioqa': 1, 'willachirqan': 1, 'llaqtakunamanpas': 1, 'runakunamanpas': 1, 'willachirqan:': 1, 'diosnillanqa': 1, 'chaninpunin': 1, 'chinkarinki': 1, 'uywapas': 1, 'dueñonta': 1, 'wakapas': 1, 'kanchata': 1, 'munaykusqan': 1, 'yuyarinchu': 1, 'yupaychanchu': 1, 'awqaykiq': 1, 'pusasqan': 1, 'huchaykiq': 1, 'iskayrayaq': 1, 'takan': 1, 'haykuykuspan': 1, \"k'ancharichisunki\": 1, 'kichay': 1, 'yuyarinaykipaq': 1, 'kawsarinaykipaq': 1, 'kicharisqa': 1, \"ñak'arinnpaq\": 1, 'kikillaykimantan': 1, 'huchallaykiwanmi': 1, 'chinkaripushanki': 1, 'qespinaykipaqmi': 1, 'pawywan': 1, 'kuskapuni': 1, 'kawsanaykipaqmi': 1, 'kallpachawaypuni': 1, 'libre': 1, 'yawarnillaykipin': 1, 'confiakushani': 1, 'munakuyniykipi': 1, 'qoshayki': 1, 'muchupuwasqayki': 1, 'tukuymanta': 1, 'qanllamanñan': 1, 'puriyniytapas': 1, \"hap'ichikuyki\": 1, 'pagarqanki': 1, 'rantiwanaykipaq': 1, 'qanpañan': 1, 'unun': 1, 'kakni': 1, 'ukyaykunanpaq': 1, 'kawsayniyman': 1, 'wawqa-pana': 1, 'chimpaykullasun': 1, 'alaballasunchis': 1, 'khuyaykukuq': 1, 'yachachiwayku': 1, 'evangelioykimanta': 1, 'qospa': 1, 'espírituykiwan': 1, '\"gracias\"': 1, 'niykin': 1, 'yupaychasqaykipunin': 1, 'napaykuykin': 1, \"p'unchaypiña\": 1, 'qowasqanchis': 1, \"k'anchaykusqan\": 1, 'wawankunaq': 1, 'kawsananta': 1, 'qelqqllaykiwanmi': 1, 'pantaq': 1, 'muchuq': 1, 'munakuwaspayki': 1, 'khuyakuwaspayki': 1, 'kamasqaykipaq': 1, 'kawsaqkunapaq': 1, 'qomunaykikama': 1, 'iñiqpaqqá': 1, 'wakichisqaña:': 1, 'muchuylla': 1, 'iñiqtinku': 1, 'qespikushaqtin': 1, 'kawsaqpa': 1, 'maskhashanpuni': 1, 'chinkapunanta': 1, 'pusakuq': 1, 'mayas': 1, 'yarqachikuq': 1, 'yarqachikunanpaq': 1, 'ñanpas': 1, 'tinkuykuspanchis': 1, 'huñuykukuyqa': 1, 'waqaychaykamuwarqanchis': 1, 'qowaspanchis': 1, 'huñuykuwananchispaqraq': 1, 'tinkuchiwanchis': 1, 'mañakuykiku': 1, 'yachayniykita': 1, 'rantisqanña': 1, 'yawarninpa': 1, 'watasqanmanta': 1, 'qespiqniytan': 1, 'kamachinta': 1, 'ruwaspaymi': 1, \"hunt'aykuspa\": 1, 'suyashaykiku': 1, 'ruwaqpaq': 1, 'kawsashaspayraq': 1, 'llakikushan:': 1, '!señor': 1, 'kawsaysillaway!': 1, 'espiritullaykiwan': 1, 'pachán': 1, \"p'uchukaynin\": 1, 'awqanakuynin': 1, 'kamachiykimanta': 1, \"p'unchaynillanpi\": 1, 'khuyakuyniykiwan': 1, \"hunt'asqanmanta\": 1, 'munakuykun': 1, 'kamachiykitaqa': 1, 'kawsachillayraq': 1, 'kamachillaykipi': 1, 'purinallanpaq': 1, 'kallpachallaypuni': 1, 'kamachisqaykiyta': 1, 'ruwanallanpaq': 1, 'rimarinanpaq': 1, 'wawqeyku': 1, \"p'unchayniykipi\": 1, 'napaykuykiku': 1, 'mañapushaykiku': 1, 'wataykipi': 1, 'mamalláy': 1, 'khuyakusqay': 1, 'kawsasqaykita': 1, \"p'unchayniykita\": 1, 'yuyarispa': 1, 'napaykuyniyta': 1, 'rimaykusqayta': 1, 'yachaymanta': 1, 'waylluna': 1, 'ruruypin': 1, 'yuyasqayki': 1, 'rikraypin': 1, 'uywasqayki': 1, 'kamaqninchisman': 1, 'mañakunin': 1, 'kusisami': 1, 'samaria': 1, 'warmin': 1, 'wisikuq': 1, 'suyarqan': 1, 'reqsichinanpaq': 1, 'ukyaqniyqa': 1, \"ch'akichikunqañachu\": 1, 'warmitaq': 1, 'maylliqtin': 1, 'qespisqapuni': 1, 'samaritana': 1, '¡hamuychis': 1, 'rikumuychis!': 1, 'ruwasqayta': 1, 'willawaqniy': 1, 'iñispalla': 1, 'mañakusunchispas': 1, 'lñispallapuni': 1, 'kutiykamunqaña': 1, 'pusarikapuq': 1, 'kawsashaqkunata': 1, 'wañupuqkunata': 1, 'hoqarinqa': 1, 'tupaykamusunchis': 1, 'paywantaq': 1, 'wiñaypaq-tiyamullasunchis': 1, 'llaqtanpi': 1, 'jesuscristoq': 1, 'kutiykamuyninqa': 1, 'yuyasqanchis': 1, 'horaspin': 1, 'suyanallanpuni': 1, 'qespichiqtaqa': 1, 'yachachisun': 1, 'yupay': 1, 'wañushan': 1, 'qonqaylla': 1, 'kutimunman': 1, 'suyasqanchis': 1, 'horastapas': 1, 'nisunchismi': 1, 'tinkuspanchis': 1, 'danielmi': 1, 'kawsarqan': 1, 'diosninwan': 1, 'mañakuspapuni': 1, 'kutitataq': 1, 'danielqa': 1, 'qonqaspalla': 1, 'tutamantankuna': 1, \"ch'isinkunapipas\": 1, 'mañakullaqpuni': 1, \"hap'ispa\": 1, 'atiywanchu': 1, 'atipasun': 1, 'awqanchista': 1, 'qespichiqmantaq': 1, 'pusasun': 1, 'kallpachakuspa': 1, 'sayasun': 1, 'chakinchispas': 1, \"usut'asqa\": 1, 'cinturanchis': 1, 'chumpiykusqa': 1, 'umanchispas': 1, 'cascoyoqtaq': 1, 'makinchispas': 1, 'corazonwan': 1, 'allin-allin': 1, 'willaspanchis': 1, 'adoraykikun': 1, 'kallaspaykin': 1, 'nanayta': 1, 'hamuqkunaman': 1, \"k'iriykurqan\": 1, 'chakiykita': 1, 'pillun': 1, 'umaykita': 1, 'laqhayaqpin': 1, 'tutayaqpin': 1, 'qonqaspayki': 1, 'wichanqaku': 1, 'kawsanqaku': 1, 'chimpaykamuy': 1, 'dioswanpuni': 1, 'qonqapunki': 1, 'infiernomanmi': 1, 'waqyasqanta': 1, 'kawsashanpunin': 1, 'usqhayllatañan': 1, 'akllasqankuna': 1, 'pusapuspanmi': 1, 'chayaykuspanmi': 1, \"p'achaykachinqa\": 1, 'asuykamuychis': 1, 'huchaykichistan': 1, 'qosunkichis': 1, 'iñikullanki': 1, 'qespiqninchispa': 1, 'simillantaqa?': 1, '¿awqaykitachu': 1, 'rawrayman': 1, 'haykunaykipaq?': 1, 'maskhaqniykiqa': 1, 'reqsikuqtiyki': 1, 'willakuqtiyki': 1, 'chayamunqañan': 1, \"hunt'akushanñan\": 1, 'muchuchinanpaq': 1, 'uskhay': 1, 'kasukuypuni': 1, 'aypamushaqtin': 1, 'kawsayniykiqa': 1, 'kutiykamuqtin': 1, 'pampakunapas': 1, 'chhaphchirikuqtin': 1, 'laqhayaykuqtin': 1, 'yuyarikunki': 1, 'purishaspayki?': 1, 'juzgasqa': 1, 'wañuyniykiqa': 1, 'wakichisqañachu': 1, 'haykunqaku': 1, 'iñiqkunallan': 1, 'negaychu': 1, 'kutirikuqkunapaq': 1, '¿wiñay': 1, 'kawsaqchu': 1, 'purinaykipaq?': 1, 'rikuykullanki': 1, \"p'ampaykukuqta?\": 1, 'wañuylla': 1, '¿imaynapunin': 1, 'juzgasqan': 1, 'ayqenqañachu': 1, 'diosniypunin': 1, 'munakuwarqan': 1, 'qespichiwarqan': 1, 'ñoqapi': 1, 'khuyakunin': 1, 'qespichiqniyta:': 1, 'yachachiqniyqa': 1, 'rimasqantapunin': 1, 'sonqollaypipunin': 1, 'tiyakun': 1, 'rimaykusqan': 1, 'huchasapatan': 1, 'sonqollanta': 1, 'reqsiykukuqtintaqmi': 1, 'haykuykun': 1, 'willarqan:': 1, 'qankunaqa': 1, 'llakisqachu': 1, 'kankichis': 1, 'huktawanqa': 1, 'rinmanchu': 1, 'tiyakunan': 1, 'sonqoqa': 1, 'qhellichasqa': 1, 'llapallanchiswanña': 1, 'jesusnillanchisqa': 1, 'puntapipas': 1, 'llaqtanpipas': 1, \"llank'asqanchispipas\": 1, 'wasinchispipas': 1, 'tariwasunchis?': 1, '¿kamachikusqanta': 1, \"hunt'aykushaqtachu?\": 1, '¿hucha': 1, 'purishaqtachu?': 1, 'uraymanpas': 1, 'puririykusunchis': 1, 'panallaykuna': 1, 'lliwmanpuni': 1, 'hoqarinanpaq': 1, 'liwmanpuni': 1, \"p'enqakuychu\": 1, \"sut'inchakuyta\": 1, 'yachayniyki': 1, 'kallpallayki': 1, 'kallpachasunkin': 1, 'iñiyniyki': 1, 'santopunin': 1, \"llank'aypuni\": 1, 'glorianpaq': 1, 'willaypuni': 1, 'willaqtiykin': 1, 'pusaqtiykin': 1, 'saqeqtinmi': 1, 'suyupiqa': 1, 'qhawarirqan': 1, 'hawan': 1, 'huchallikuqtin': 1, 'chaskillarqanchu': 1, 'suyarqanchu': 1, 'kawsasharqanku': 1, 'diosnillanta': 1, 'tardeña': 1, 'salmo': 1, 'kamasqanta': 1, 'cháytan': 1, 'rikunchis': 1, 'ñawillanchiswan': 1, 'yachallaspaymi': 1, 'reqsikullani': 1, 'nillani': 1, 'hamunaykipaq': 1, 'paykunamanri?': 1, 'as': 1, 'pisillata': 1, 'ruwanaykipaq': 1, 'runatari': 1, 'salmista': 1, 'uyarispataq': 1, 'taripanqa': 1, 'kusikunanchis': 1, 'chaypaq': 1, 'chhaphchikunqan': 1, 'tutayapunqan': 1, 'laqhayapunqan': 1, 'cristollañan': 1, \"k'anchanqa\": 1, 'qonqayllapunin': 1, 'huchasapaman': 1, 'sonqontiña': 1, \"k'anchayninmi\": 1, \"k'anchaykunqa\": 1, 'huchallikuq': 1, \"k'anchayninpi\": 1, 'yachaqasunchis': 1, 'ñanninpi': 1, \"ñak'aripuwarqanchis\": 1, 'huchasapaq': 1, 'qespichiwasun': 1, 'llaki-phuti': 1, 'qespichiqninchismi': 1, 'cristotaqa': 1, 'suyashanin': 1, 'chayamuqtinmi': 1, 'munaní': 1, 'phutikuy': 1, 'ñoqatan': 1, 'kawsayniytaqa': 1, \"t'aqariwanman?\": 1, 'wiñaypaqpunin': 1, 'qespichisunkipunin': 1, \"hap'ipakusunchis\": 1, 'pachamantaq': 1, 'chaskikuspan': 1, 'munakuqniykiman': 1, 'munakuwaspanchis': 1, 'librawananchispaq': 1, \"hich'asqanpi\": 1, 'iñisunchis': 1, 'qoshan:': 1, 'horqoykuwarqan': 1, 'pusashawan': 1, 'graciaykita': 1, 'atiynillaykin': 1, 'kallpachaykullawanku': 1, 'qowaykupuni': 1, 'parata': 1, \"ch'uya-kaypi\": 1, 'qanllapi': 1, 'qoykuwayku': 1, 'waqyakuyku': 1, 'iñiyniykuwan': 1, 'kamachiykikunata': 1, 'kallpanchaykullawayku': 1, 'servinaykupaq': 1, 'simiykikunata': 1, 'takyachiy': 1, 'wiñaríchinaykipaq': 1, 'uyarikusqaykuta': 1, 'ruruchiyta': 1, 'simillaykikunan': 1, 'tarpusqa': 1, 'pallarqosqa': 1, 'waqaychaykullawayku': 1, 'uyarisqaykuta': 1, 'wiñachiy': 1, 'tullu': 1, 'waqaychasqataq': 1, 'pakakunaypaq': 1, 'waqaychayta': 1, 'maylliyta': 1, 'atiynillaykiwan': 1, 'waqaspapas': 1, 'ruwaspapas': 1, 'ayqeyta': 1, 'horqoyta': 1, 'atiwanki': 1, 'pakakunay': 1, 'waqaychay': 1, 'sapallan': 1, '¿wateqaychu': 1, 'atipashasunki?': 1, 'kallpayoqña': 1, 'wakinña': 1, 'kutiqtinpas': 1, 'hukkunataraq': 1, 'qhawaychu': 1, 'tukukuykama': 1, \"q'ochukunki\": 1, 'señorniypaqmi': 1, 'paypaqpuni': 1, \"llank'aspa\": 1, 'rimaytapuni': 1, 'ratu': 1, 'chinkasqakunata': 1, 'jesusmantaq': 1, 'kallpanchaykuqniy': 1, 'atiyninpi': 1, 'suyakusaq': 1, 'kashanraqmi': 1, 'serviqpaqqa': 1, \"llank'aqkunatan\": 1, 'maskhan': 1, 'kaymanta': 1, 'rinanpaq?': 1, \"llank'anaqa\": 1, 'iñiyniykuta': 1, 'yapawayku': 1, 'rinaykupaq': 1, 'willaqkunatan': 1, 'paymanta': 1, 'willaqpaq': 1, '¿señorpaq': 1, 'kawaqchu': 1, 'ruwaq?': 1, \"llank'ay\": 1, \"munaqpaqq'a\": 1, '¿willawaqchu': 1, 'khuyakuynintawan?': 1, '¿qespisqañachu': 1, 'gracianrayku?': 1, 'rimariy': 1, 'qhawarinakunchisraq': 1, 'sonqonchismi': 1, 'rikuykiku': 1, 'kusikuywantaq': 1, 'niyku:': 1, '¡kusikunchis!': 1, 'kunankamataq': 1, 'waqaychaykamusunki': 1, 'ikusikuymi!': 1, 'waqaychaykurqasunki': 1, 'allinkaqmanta': 1, '¡may': 1, 'munakuq!': 1, 'munanakuyllapi': 1, \"wikch'uykukuspa\": 1, 'huñukuypin': 1, \"t'aqakusunchu\": 1, '¡diosninchiswan!': 1, 'lliwlla': 1, 'puñushaqtinku': 1, \"k'anchashaqtin\": 1, \"ch'askanmi\": 1, \"k'ancharqan\": 1, 'thak-kayninta': 1, 'michiqkuna': 1, 'qayllapi': 1, 'takiykusqankuta': 1, 'uyarirqanku': 1, 'thak-kayninmanta': 1, 'willaqta': 1, 'glorianta': 1, 'saqemuspa': 1, 'rikuchikurqan': 1, 'khuyakuyninta': 1, 'huñusqata': 1, 'kawsana': 1, 'warmi-qharin': 1, 'huñukapushanku': 1, 'saminchanta': 1, 'chaskispanku': 1, 'suyakuspanku': 1, 'watukun': 1, 'casarakuyninkupi': 1, 'ñanpitaq': 1, 'huñuykukuqtinku': 1, 'tukukuqllan': 1, 'chinkapuqlla': 1, 'chimpaykunku': 1, 'munanakuspankuña': 1, 'qoykunqa': 1, 'mayqenninkumanpas': 1, 'kusichinqa': 1, 'tiyananpin': 1, 'khuyaspa': 1, 'pachapi\"': 1, 'churanakuyllan': 1, 'horqowananpaq': 1, 'wasikunata': 1, 'hamuqtinqa?': 1, 'purisqayqa': 1, \"hich'aqtin?\": 1, 'huchallaypichus': 1, 'chinkapuyman': 1, 'infiernopaqchus': 1, 'kawsashayman': 1, 'wañuynillanmi': 1, \"ch'uyanchawan\": 1, \"hunt'anaypaq\": 1, 'qeypichiwaqniy': 1, 'kashaqtiymi': 1, 'laqhayaqmi': 1, 'maqanakun': 1, 'munanakuy': 1, 'kawsachikuq': 1, 'khuyanaypaq': 1, 'pusanaypaq': 1, 'pusakuwanda': 1, 'küsi': 1, \"k'anchayman\": 1, 'iñiqkunawan': 1, 'saqeykapusun': 1, 'kamaqta': 1, 'adoramusun': 1, 'tiyakamusun': 1, 'huchallanchista': 1, 'pampachaykuqwan': 1, \"llank'anaykichus\": 1, 'ruwana': 1, 'qolqellaykichus': 1, 'qhawana': 1, 'kawsayniykichus': 1, 'purisqaykichus': 1, 'kawsachisunkin': 1, 'tiempokunaqa': 1, 'willakushanñan': 1, 'qelqapas': 1, \"sut'inchashanñan\": 1, 'ñawiykitachus': 1, \"ch'illmiykushanki\": 1, 'qespichiqtachus': 1, 'huchaykiwanqa': 1, 'phiñachishanki': 1, 'kawsaspaykiqa': 1, 'chakatashanki': 1, 'wañupunayki': 1, 'kawsachisunki': 1, 'qhepawaq': 1, 'huchaykipi': 1, 'chinkaspa': 1, 'munakusunki': 1, 'chaskikullayña': 1, 'munakurqanki': 1, 'teqsi-muyuntin': 1, 'qespinaykipaq': 1, 'wañunaykutan': 1, 'muchunaykutan': 1, 'patapiqa': 1, 'iñinkuchu': 1, 'sonqollankun': 1, 'laqhayasqa': 1, 'neganankupaq': 1, 'kutírikuy': 1, 'adorasqaykin': 1, 'servikusqaykin': 1, 'rantillaypiña': 1, 'wañunaykipaq': 1, 'yawarniykita': 1, \"hich'anaykipaq\": 1, 'pampacharqanki': 1, 'qanllapipuni': 1, 'iñinallaypaq': 1, 'qowarqanki': 1, 'yachayniykitan': 1, 'qoykuwarqanki': 1, 'qelqallaykita': 1, 'yachaqanaypaq': 1, 'yachaykuspataq': 1, 'imachus': 1, 'yachachiwasqaykita': 1, 'ñoqatapunin': 1, 'akllawasqanki': 1, 'evangelioyki': 1, 'ñawpaqeykiman': 1, 'pusayta': 1, \"nit'iykusqan\": 1, 'kaqllan': 1, 'aparisqa': 1, 'wawaykipuni': 1, 'paskariway': 1, 'leenaypaq': 1, 'leellaspa': 1, 'runa-masillaykunaman': 1, 'ñanpiña': 1, 'makiymanta': 1, 'pusariway': 1, 'kallaqtiypas': 1, 'riqsichiway': 1, 'kallasqayta': 1, 'rikunanpaq': 1, 'chimpaspa?': 1, 'maymanpunitaq': 1, 'almaykin': 1, 'kawsayniypipas': 1, \"q'ochuchin\": 1, \"t'ikrawan\": 1, 'kawsaynillayta': 1, 'espejo': 1, 'espirituwan': 1, \"hunt'asqa\": 1, 'kasukuyta': 1, '¿iman': 1, 'pampachawanman?': 1, '¿sonqoytapas': 1, \"t'ikranman?\": 1, 'chaniyoqmi': 1, 'yawarninqa': 1, 'pichan': 1, \"ch'uyatapas\": 1, 'atipaytapas': 1, 'diosniytan': 1, '¿manchaymanchu': 1, 'apayta': 1, 'payrayku': 1, 'muchuyta?': 1, 'rimarisaq': 1, 'paymantan': 1, 'maqanakurqanku': 1, 'jesusniyrayku': 1, 'manchaymanchu': 1, 'gracianpi': 1, \"k'anchaynin\": 1, \"k'anchawanki\": 1, 'huchayrayku': 1, 'munakuyniy': 1, 'yuyarisqaykin': 1, 'munakusqaykin': 1, 'maskaq': 1, 'tarikuwasqaykimanta': 1, 'pisinqachu': 1, 'llakispa': 1, 'willakusqayki': 1, 'llakiyniyta': 1, 'wateqaypi': 1, 'pakakuyta': 1, 'imaymanatan': 1, 'suyakuspa': 1, 'kallpanchakusaq': 1, 'maypachachus': 1, 'mañakuyniy': 1, 'yupaychayllaman': 1, 'kikiyki': 1, 'tiyanaykita': 1, 'kawsarichiy': 1, 'qosqallaykiwanmi': 1, \"llimp'ashanraq\": 1, 'suyayki': 1, 'saminchaykuway': 1, 'chimpaykamuyki': 1, 'graciaykipi': 1, 'wiñachiway': 1, 'qanpunin': 1, 'kusichiqniy': 1, 'qanllawanñan': 1, 'pusaqnilláy': 1, 'munayniykita': 1, 'kutimuyninpi': 1, 'pusawananchispaq': 1, 'sapankamantaq': 1, \"sayk'uspa\": 1, 'atipachikuwaq': 1, 'yayan': 1, 'sonqotapas': 1, 'rimasqanta': 1, 'huchaykikunata': 1, 'huchachasunkin': 1, \"k'umuykukuy\": 1, 'suyasunkin': 1, 'awqataqa': 1, 'atipaypuni': 1, 'vencenkipunin': 1, 'neganaykipaq?': 1, 'yachaykuspachu': 1, 'yachaqman': 1, 'tukuykushanki': 1, 'tiyasqanchisqa': 1, 'paqarimurqan?': 1, 'killaqa': 1, \"ch'askakunaqa\": 1, 'kamaykukurqan?': 1, '¿payllamantachu': 1, 'rikhurimurqan?': 1, 'kamaykullarqan': 1, 'mikhusqaykita': 1, 'ukyasqaykita': 1, 'kawsayniykita': 1, 'tukuytapunin': 1, 'qanraykupas': 1, 'khuyakuwasqanchisrayku': 1, 'wañunaytan': 1, 'suyutan': 1, 'suyan': 1, 'qespikunanta': 1, 'muchullarqan': 1, \"hich'allarqan\": 1, 'wañuchiqtinku': 1, 'peruano': 1, 'suyunchista': 1, 'qespichisun': 1, 'llaqtanpaq': 1, 'suyuqa': 1, 'cristoqmi': 1, 'llaqtataq': 1, 'michikuwaqniy': 1, 'pisillawanchu': 1, 'llanllarishaq': 1, 'sirichikullawan': 1, 'samachikuq': 1, 'unu-unupin': 1, 'michikullawan': 1, 'kallpachallawan': 1, 'khuyasqayrayku': 1, 'pusakullawan': 1, \"wayq'ollapiña\": 1, 'karqollaqtiypas': 1, 'kasqaykiraykun': 1, 'manchakullaniñachu': 1, 'tawnallaykin': 1, 'varallaykiwan': 1, 'usqhay-usqhay': 1, '¿imapaqtaq': 1, 'llakikullayman': 1, 'kashallaqtiyki?': 1, 'ñoqallapaqqa': 1, 'cheqniqniypa': 1, 'ñawpaqenpipas': 1, 'mikhunayta': 1, 'churapuwanki': 1, 'umaymanmi': 1, 'aceitiykiwan': 1, 'copaytaqmi': 1, \"illimp'ashan\": 1, 'saminchaykiqa': 1, 'khuyakuynillaykipas': 1, \"p'unchaypunin\": 1, 'wasillanpiqa': 1, 'cenaykiman': 1, 'rantisqayki': 1, 'yawarnillaykitan': 1, \"hich'arqanki\": 1, 'ñoqaykupaq': 1, 'cuerpoykita': 1, 'yawarnillaykita': 1, 'saminchaykullawayku': 1, 'qollawaykupuni': 1, 'qechuman?': 1, 'horqonqa': 1, 'horqonman?': 1, 'mañaqtiy': 1, 'qechunqa': 1, 'huchapas': 1, 'mayllinman?': 1, 'qarqonman?': 1, 'taytaqmi': 1, 'kapurqan': 1, \"sullk'an\": 1, 'kaqñataq': 1, 'munaspan': 1, 'niykurqan:': 1, '\"taytay': 1, 'qopuway': 1, 'tupawaqniyta': 1, 'herenciallayta\"': 1, 'qoykapuqtinmi': 1, 'qolqecharqospa': 1, 'ripukurqan': 1, 'karuta': 1, 'chayaykullaspan': 1, 'qolqenta': 1, 'amigowan': 1, 'tukurqokurqan': 1, 'chayaykuqtinmi': 1, 'wasin-wasin': 1, 'purirqan': 1, 'qolqen': 1, 'tukuyseq-masinkunapas': 1, 'qhawariqtinmi': 1, 'haykuspa': 1, 'yarqayllapi': 1, 'yuyaynillanta': 1, \"hap'ikuspanmi\": 1, '\"kunan': 1, 'runankunaqa': 1, 'ñoqallayñataq': 1, 'muchuykushani': 1, 'yarqayllapiña\"': 1, 'hatarirqospan': 1, 'kutiripurqan': 1, 'reqsirqollaspan': 1, 'usqhayllataraq': 1, 'ayparqan': 1, 'makillantapas': 1, \"mast'arparispan\": 1, 'oqllaykuspa': 1, \"much'arqan\": 1, 'huchanta': 1, 'reqsikuspanmi': 1, '\"huchallikunin\"': 1, 'niwanaykipaqqa': 1, 'chaninñachu': 1, 'kallani\"': 1, 'niqtinpas': 1, 'pisiqninta': 1, 'qoykuspan': 1, 'chaskirqan': 1, 'ñawillaykunaq': 1, 'phalashaq': 1, 'mayukunata': 1, 'kamaykuspaykin': 1, \"rikch'ayniykiman\": 1, \"q'ochukunanpaq\": 1, 'rikuykunanpaq': 1, \"mast'arimuyki\": 1, \"q'ochukushani\": 1, 'sumaq-sumaqta': 1, 'qhawarillaspay': 1, 'tikraway': 1, 'iñiyllaymi': 1, 'chinkawan': 1, 'yuyayllaymi': 1, 'huchaypa': 1, 'khuyakuqniy': 1, 'ruwayllayta': 1, \"sut'inchay\": 1, 'yapaway': 1, 'patapiña': 1, 'negaykushaqtiy': 1, 'laqhayaqpi': 1, 'makinmantaña': 1, 'rumiyasqa': 1, 'ñawsayasqa': 1, 'kamaqniyta': 1, 'reqsiykukuspay': 1, 'aqo': 1, 'huchaykunawanmi': 1, 'chakatarqani': 1, 'allintachu': 1, 'ruwarqani': 1, 'huchallaypi': 1, \"misk'arqani\": 1, 'umay': 1, 'onqosqallapuni': 1, 'ñanllapiña': 1, 'purisharqani': 1, 'maskawarqan': 1, 'sarqaq': 1, 'yupaychaykullanin': 1, 'horqomuqnillayta': 1, 'chaypipuni': 1, 'tiyakunanpaq': 1, 'qespicheqman': 1, 'kamachikusqanta': 1, 'jésuswanña': 1, 'purispanchisqa': 1, 'awqatapas': 1, 'atipasunmi': 1, 'mancharikuychu': 1, 'llakikuna': 1, 'pisipankichu': 1, 'wateqayña': 1, 'hamullaqtinpas': 1, 'purinaykita': 1, 'servinaykita': 1, \"llank'aqchu\": 1, 'maskhaqchu': 1, 'purinman': 1, 'negaqchu': 1, 'sipiqchu': 1, 'suwakuspa': 1, 'kawsanman': 1, 'cheqniqchu': 1, 'layqakuna': 1, 'ruwaqchu': 1, \"k'amiqchu\": 1, 'servinman': 1, 'chaskiqmi': 1, 'naceqmi': 1, 'qespinqa': 1, 'munaqmi': 1, \"hunt'aqmi\": 1, '(panallay)': 1, 'supaywanchus': 1, 'jesustachus': 1, 'willanki': 1, 'huchatachus': 1, \"wikch'unki\": 1, 'runatachus': 1, 'pusanki': 1, 'chaskinanpaq': 1, 'nisqantapunin': 1, \"hunt'ashan\": 1, 'khuyawan': 1, 'awqaña': 1, 'millayña': 1, 'hamuqtinqas': 1, 'allintan': 1, 'jesustapunin': 1, 'khuyakuwarqan': 1, 'jesusllaytan': 1, 'cheqaqtapuni': 1, 'khuyasaq': 1, 'qespichillawan': 1, 'yachaykachillawan': 1, 'santollan': 1, 'kichawan': 1, \"sut'inchanaypaq\": 1, 'juan': 1, 'tawayoq': 1, 'kutimuqtiymi': 1, 'maypichus': 1, 'kawsanaykichispaq': 1, 'lma': 1, 'qespicheqnillayta': 1, 'sodomatan': 1, 'gomorratan': 1, 'ruphachirqan': 1, 'ayllullantin': 1, 'llaqtanmanta': 1, 'horqomurqan': 1, 'huchataña': 1, 'saqepuqtin': 1, 'yayallanta': 1, 'yupaychaqtin': 1, 'hinallataqmi': 1, 'urmamunqa': 1, 'waqaykunqa': 1, 'muchullanqa': 1, 'lot-ta': 1, 'llakikuyña': 1, 'mañakusun': 1, 'kallpachayta': 1, 'huchanchismanta': 1, 'qespiwanchis': 1, 'servinanchis': 1, 'qatikullasunchis': 1, 'yayatan': 1, 'qespichikuqtan': 1, 'kamaqtan': 1, 'adorani': 1, 'sonqollanwanmi': 1, 'simillanwanmi': 1, 'payllawanpuni': 1, 'purinaypaqmi': 1, 'kawsanaypaqmi': 1, 'qoritachus': 1, 'qoymanqolqetachus': 1, 'wasiytachus': 1, 'kaqniytachus': 1, 'yayallayman': 1, 'ñoqaqqa': 1, 'imaypas': 1, \"q'alallapunin\": 1, 'nacemurqani': 1, 'mamallaypa': 1, 'wiksallanmanta': 1, 'qoykuwasqantan': 1, 'kawsaynillay': 1, \"t'ikrawasqantan\": 1, 'qopuni': 1, 'qespichisqaykin': 1, 'wawañan': 1, 'yawamiykiq': 1, 'espiritullan': 1, 'yanapashawan': 1, 'kallpanchashawan': 1, 'cheqnikurqanku': 1, 'fariseokunan': 1, 'caifaspamanmi': 1, \"k'aminankupaq\": 1, 'pilatomanmi': 1, 'juzganankupaq': 1, 'uman': 1, 'pilarmanmi': 1, 'wataykurqanku': 1, 'soldadokunaq': 1, 'waqtanankupaq': 1, 'soqostataqmi': 1, 'nazarenota': 1, 'chakatay': 1, 'barrabastataq': 1, 'kacharirqanku': 1, 'qespicheqtataq': 1, 'sentenciarqanku': 1, 'apamuspanku': 1, 'rikran': 1, \"q'epichirqanku\": 1, 'calvariopitaq': 1, 'chakatarqanku': 1, 'clavokunawan': 1, 'takaykurqanku': 1, 'lanzakunawan': 1, \"k'iriykurqanku\": 1, 'espadawantaq': 1, \"t'urpuykurqanku\": 1, 'soldadokunan': 1, 'cheqniqkunataq': 1, 'asikurqanku': 1, 'chhaynatapunin': 1, 'ñoqanchisrayku': 1, 'qoykunallanpaq': 1, 'josuetan': 1, 'allintapuni': 1, 'kamachisqay': 1, \"hunt'anaykipaq\": 1, 'pablotan': 1, 'roma': 1, 'chayanallanpaq': 1, 'ñoqallan': 1, 'yanapasqayki': 1, 'señorpunin': 1, 'chinkasqakuna': 1, 'sinaí': 1, 'orqopin': 1, 'rimaykusqanta': 1, 'qelqanallanpaq': 1, 'kutiricheq': 1, 'yachaymi': 1, 'yachaqta': 1, 'yachachiqmi': 1, 'ñawiykunatan': 1, 'kicharíykuwan': 1, 'espirítuntaq': 1, 'willarínaypaq': 1, 'kamachisqanpi': 1, 'uyariykukuy': 1, 'qonasuykipaq': 1, 'qanpallachu': 1, 'mikhusqayki': 1, \"p'achakusqaykipas\": 1, 'kawsachinanpaq': 1, 'munakuynillanqa': 1, 'qespichinanpaqmi': 1, 'kawsaytaña': 1, 'chaskinallaykipaq': 1, \"k'askaykukuspaqa\": 1, 'chinkaykapunki': 1, 'qespisqaykimanta': 1, 'mamaykuman': 1, 'qoykunallaykipaq': 1, 'kawsachinaykipaq': 1, 'yachachikuwayku': 1, 'lidia': 1, \"p'achata\": 1, 'qhatuqmi': 1, 'filipos': 1, 'qhatunallapichu': 1, 'yupaychallaqtaq': 1, 'cantollapi': 1, 'warmikunapiwan': 1, 'huñunaykukuspallanku': 1, 'yupaychaqku': 1, 'chhaynata': 1, 'ruwashanchis': 1, \"llank'ashanchischu\": 1, 'jesuspaq': 1, 'yupaychashanchischu': 1, 'tiatira': 1, 'punkuykipiñan': 1, 'qayllaykullayña': 1, \"hark'ashasunki\": 1, 'huchallaykichu': 1, 'iskayrayaychu': 1, 'sayariykuspa': 1, 'iñiynillaykin': 1, 'qespichiqninchistachus': 1, 'chaskiykukunki': 1, 'simillanpuni': 1, 'anyaykuwaqniy': 1, 'riqtiypas': 1, 'rimaykuwaspa': 1, 'kutirichiwan': 1, 'qhawaykuqtiymi': 1, 'diosllaymanta': 1, 'manchakullaspa:': 1, '\"manan': 1, 'atiymanñachu': 1, 'kutipusaq\"': 1, 'niqtiypas': 1, 'kutiychu\"': 1, 'muyuwaqtinmi': 1, 'simillawan': 1, 'niykuwan:': 1, '\"jesusllaman': 1, 'paymanpuni': 1, 'qespinasuykipaq\"': 1, 'kaqkunan': 1, 'yuyaywanña': 1, 'rishani': 1, 'qespichiqnillaywan': 1, 'ñoqallaykun': 1, 'nispáyku': 1, 'sonqoykupas': 1, 'mayllisqa': 1, 'churillaykiq': 1, 'sutillanpitaq': 1, 'niykiku': 1, 'karunchasqan': 1, 'kallarqayku': 1, 'huchaykupi': 1, 'uyariykuspaykun': 1, \"k'umuykukullarqayku\": 1, 'kallaspaykutaq': 1, 'asuykamuykiku': 1, 'jesusniykuraykulla': 1, 'chaskispa': 1, \"k'umuykamuykiku\": 1, 'sumaq-sumaqmi': 1, 'horqollawanchis': 1, 'sonqonchistan': 1, \"t'ikrapuwanchis\": 1, 'hoqarin': 1, 'yayallanchispaq': 1, 'qespiqnillanchispaq': 1, 'diosllanchisqa': 1, 'parantan': 1, 'kawsayllatan': 1, 'llaparunaq': 1, 'animalkunawan': 1, 'uywaqllanchista': 1, 'llakiymi': 1, 'nanaymi': 1, \"saq'ariwan\": 1, 'jesusllaypunin': 1, 'uywakushallawan': 1, \"marq'ayninpipunin\": 1, 'waqaychakushawan': 1, 'makillanmantaqa': 1, 'urmasaqchu': 1, 'cheqnisqan': 1, 'purillani': 1, \"k'amisqan\": 1, 'llakikushan': 1, 'yawartan': 1, 'waqashani': 1, 'kikinmi': 1, 'paytaqmi': 1, 'khuyakuqniymantaqa': 1, \"t'aqallawanmanñachu\": 1, 'suyashallaykin': 1, 'yuyashallanin': 1, 'apawanaykita': 1, 'qayllallaykiman': 1, 'pusallawayña': 1, 'unanchaykuqlláy': 1, 'qhawarillaway': 1, \"ñit'illawasqanta\": 1, 'haywarimullaway': 1, 'clavokunaq': 1, \"k'iriykullasqanta\": 1, 'muchuymantapas': 1, 'horqollawayña': 1, 'cheqnikushallawan': 1, 'munakusqayrayku': 1, 'willarisqayrayku': 1, 'qespichillaway': 1, 'willaykushallawan': 1, 'tinkuykunallayta': 1, 'munaykushallanña': 1, 'uyallayki': 1, 'rikuykuytapuni': 1, 'hukpaqkamaña': 1, 'hoqarillaway': 1, 'nimuykiku': 1, 'kawsashaqtiyku': 1, 'purishaqtiyku': 1, 'niwankiku:': 1, 'qespichillasqaykin\"': 1, 'wateqay': 1, 'hamuwaqtinku': 1, 'kashaqtiyku': 1, 'atipasaqku': 1, \"llank'aypipas\": 1, 'saminchaykullawankiku': 1, 'wayrapiñapas': 1, 'ruphaypi': 1, \"q'oñipiñapas\": 1, 'ñanniykupi': 1, 'wateqaymanpas': 1}\n"
          ]
        }
      ]
    },
    {
      "cell_type": "code",
      "source": [
        "SEQUENCE_LEN = 10\n",
        "STEP = 1\n",
        "\n",
        "# cortamos el texto con  semi-redundant sequencias de la SEQUENCE_LEN words\n",
        "# Sequence: est es un ejemplo de codigo python-> (sentences)est es un ejemplo de codigo :(next_words) python \n",
        "\n",
        "sentences = []\n",
        "next_words = []\n",
        "ignored = 0\n",
        "\n",
        "for i in range(0, len(text_in_words) - SEQUENCE_LEN, STEP):\n",
        "  # agregamos solo la sequence donde no existe una palabra ignorada\n",
        "  if len(set(text_in_words[i: i+SEQUENCE_LEN+1]).intersection(ignored_words)) == 0:\n",
        "      sentences.append(text_in_words[i: i + SEQUENCE_LEN])\n",
        "      next_words.append(text_in_words[i + SEQUENCE_LEN])\n",
        "  else:\n",
        "      ignored = ignored + 1\n",
        "\n",
        "print('Ignored sequences:', ignored)\n",
        "print('Remaining sequences:', len(sentences))\n",
        "print(sentences[0])\n",
        "print(next_words[0])"
      ],
      "metadata": {
        "colab": {
          "base_uri": "https://localhost:8080/"
        },
        "id": "g53Z3wv46oQj",
        "outputId": "58152728-0151-4419-a073-606898107029"
      },
      "execution_count": null,
      "outputs": [
        {
          "output_type": "stream",
          "name": "stdout",
          "text": [
            "Ignored sequences: 47395\n",
            "Remaining sequences: 3037\n",
            "['señor', 'diosman', '\\n', 'llapallanchis', 'yupaychasun', '\\n', 'señor', 'diosninchista', '\\n', 'hanaq']\n",
            "pachapas\n"
          ]
        }
      ]
    },
    {
      "cell_type": "code",
      "source": [
        "import numpy as np\n",
        " \n",
        "# Generador \n",
        "#  nos permite alimentar al modelo en trozos(chunks/ batches)\n",
        "#  se difice cada batch para cada paso en el training/ test\n",
        "#\n",
        "def generator(sentence_list, next_word_list, batch_size):\n",
        "    index = 0\n",
        "    while True:\n",
        "        x = np.zeros((batch_size, SEQUENCE_LEN, len(words)), dtype=np.bool)\n",
        "        y = np.zeros((batch_size, len(words)), dtype=np.bool)\n",
        "        for i in range(batch_size):\n",
        "            for t, w in enumerate(sentence_list[index % len(sentence_list)]):\n",
        "                x[i, t, word_indices[w]] = 1\n",
        "            y[i, word_indices[next_word_list[index % len(sentence_list)]]] = 1\n",
        "            index = index + 1\n",
        "        yield x, y # iterea una sola vez , luego olvida\n",
        " \n",
        "# pasamos nuestra data\n",
        "#for i in generator(sentences, next_words, 32):\n",
        " # print(i)"
      ],
      "metadata": {
        "id": "_bQUkv5B6s56"
      },
      "execution_count": null,
      "outputs": []
    },
    {
      "cell_type": "code",
      "source": [
        "def shuffle_and_split_training_set(sentences_original, next_original, percentage_test=2):\n",
        "    # shuffle sentences\n",
        "    print('combinacion de sentences')\n",
        "\n",
        "    tmp_sentences = []\n",
        "    tmp_next_word = []\n",
        "    for i in np.random.permutation(len(sentences_original)):\n",
        "        tmp_sentences.append(sentences_original[i])\n",
        "        tmp_next_word.append(next_original[i])\n",
        "\n",
        "    cut_index = int(len(sentences_original) * (1.-(percentage_test/100.)))\n",
        "    x_train, x_test = tmp_sentences[:cut_index], tmp_sentences[cut_index:]\n",
        "    y_train, y_test = tmp_next_word[:cut_index], tmp_next_word[cut_index:]\n",
        "\n",
        "    print(\"Size de trainingset = %d\" % len(x_train))\n",
        "    print(\"Size de testingset = %d\" % len(y_test))\n",
        "    return (x_train, y_train), (x_test, y_test)\n",
        "\n",
        "# ejecutamos el modulo\n",
        "# x, y, x_test, y_test\n",
        "# (sentences, next_words), (sentences_test, next_words_test) = shuffle_and_split_training_set(\n",
        "#         sentences, next_words\n",
        "#     )\n",
        "(train_sentences, train_next_words), (sentences_test, next_words_test) = shuffle_and_split_training_set(\n",
        "        sentences, next_words\n",
        "    ) #funcion de chocoleo (aleatorio) "
      ],
      "metadata": {
        "colab": {
          "base_uri": "https://localhost:8080/"
        },
        "id": "VjzD9ryN6yXt",
        "outputId": "11926b2b-2f25-46bc-d9e0-0e2aabb27861"
      },
      "execution_count": null,
      "outputs": [
        {
          "output_type": "stream",
          "name": "stdout",
          "text": [
            "combinacion de sentences\n",
            "Size de trainingset = 2976\n",
            "Size de testingset = 61\n"
          ]
        }
      ]
    },
    {
      "cell_type": "code",
      "source": [
        "# importamos la version compatible para todos de print\n",
        "from __future__ import print_function\n",
        "from tensorflow import keras # importamos keras\n",
        "# importamos Sequential  \n",
        "from keras.models import Sequential\n",
        "# importamos \n",
        "from keras.layers import Dense,Dropout, Activation, LSTM, Bidirectional \n",
        "\n",
        "\n",
        "\n",
        "# vamos a implementar la version get_model\n",
        "def BILSTM(dropout=0.2):\n",
        "    print('Construyendo Modelo...')\n",
        "    model = Sequential() # \n",
        "    model.add(Bidirectional(LSTM(128), input_shape=(SEQUENCE_LEN, len(words))))\n",
        "    if dropout > 0:\n",
        "        model.add(Dropout(dropout)) # regularization thecnique ,prevent overfitting #técnica de regularización, evita el sobreajuste\n",
        "    model.add(Dense(len(words))) # fully connected completamente conectado ( dense )\n",
        "    model.add(Activation('softmax'))\n",
        "    return model\n",
        "\n",
        "\n",
        "# llamado al a funcion get model\n",
        "model = BILSTM()\n",
        "# configuracion de loss, optimizador y una metrica\n",
        "model.compile(loss='categorical_crossentropy', optimizer=\"adam\", metrics=['accuracy'])"
      ],
      "metadata": {
        "colab": {
          "base_uri": "https://localhost:8080/"
        },
        "id": "qnkzzbdy63P7",
        "outputId": "71f40fd6-07cd-4a5e-9c5d-9a28e381928b"
      },
      "execution_count": null,
      "outputs": [
        {
          "output_type": "stream",
          "name": "stdout",
          "text": [
            "Construyendo Modelo...\n"
          ]
        }
      ]
    },
    {
      "cell_type": "code",
      "source": [
        "# llamamos a una nueva funcion de keras\n",
        "# para poder guardar cada epoca en un check point\n",
        "from keras.callbacks import LambdaCallback, ModelCheckpoint, EarlyStopping\n",
        "\n",
        "\n",
        "\n",
        "# file_path = \"/content/drive/My Drive/data/checkpoints/LSTM_LYRICS-epoch{epoch:03d}-words%d-sequence%d-minfreq%d-\" \\\n",
        "#                 \"loss{loss:.4f}-acc{acc:.4f}-val_loss{val_loss:.4f}-val_acc{val_acc:.4f}\" % \\\n",
        "#                 (len(words), SEQUENCE_LEN, MIN_WORD_FREQUENCY)\n",
        "file_path = \"/content/drive/My Drive/data/MusicLyrics_data/checkpoints/LSTM_LYRICS-epoch{epoch:03d}-words%d-sequence%d-minfreq%d-\" \\\n",
        "                \"loss{loss:.4f}-accuracy{accuracy:.4f}-val_loss{val_loss:.4f}-val_accuracy{val_accuracy:.4f}\" % \\\n",
        "                (len(words), SEQUENCE_LEN, MIN_WORD_FREQUENCY)\n",
        "\n",
        "# different way to write the above\n",
        "# file_path = \"./checkpoints/LSTM_LYRICS-epoch{epoch:03d}-words%d-sequence%d-minfreq%d-loss{loss:.4f}-acc{acc:.4f}-val_loss{val_loss:.4f}-val_acc{val_acc:.4f}\" % \\\n",
        "# (\n",
        "#     len(words),\n",
        "#     SEQUENCE_LEN,\n",
        "#     MIN_WORD_FREQUENCY\n",
        "# )\n",
        "\n",
        "print(file_path)\n",
        "# creamos funcion ModelCheckpoint\n",
        "# Functions from keras-team/keras/blob/master/examples/lstm_text_generation.py\n",
        "def sample(preds, temperature=1.0):\n",
        "    #  funcion q muestrea un indice de un array d probabilidad\n",
        "    preds = np.asarray(preds).astype('float64')\n",
        "    preds = np.log(preds) / temperature\n",
        "    exp_preds = np.exp(preds)\n",
        "    preds = exp_preds / np.sum(exp_preds)\n",
        "    probas = np.random.multinomial(1, preds, 1)\n",
        "    return np.argmax(probas)\n",
        "    \n",
        "def on_epoch_end(epoch, logs):\n",
        "    # funcion que se llama al final de cada epoca : escribe texto generado\n",
        "    examples_file.write('\\n----- Generating text after Epoch: %d\\n' % epoch)\n",
        "\n",
        "    # elegir y entregar una secuencia aleatoria \n",
        "    seed_index = np.random.randint(len(sentences+sentences_test))\n",
        "    seed = (sentences+sentences_test)[seed_index]\n",
        "\n",
        "    for diversity in [0.3, 0.4, 0.5, 0.6, 0.7]:\n",
        "        sentence = seed\n",
        "        examples_file.write('----- Diversidad:' + str(diversity) + '\\n')\n",
        "        examples_file.write('----- Generando con seed:\\n\"' + ' '.join(sentence) + '\"\\n')\n",
        "        examples_file.write(' '.join(sentence))\n",
        "\n",
        "        for i in range(50):\n",
        "            x_pred = np.zeros((1, SEQUENCE_LEN, len(words)))\n",
        "            for t, word in enumerate(sentence):\n",
        "                x_pred[0, t, word_indices[word]] = 1.\n",
        "\n",
        "            preds = model.predict(x_pred, verbose=0)[0]\n",
        "            next_index = sample(preds, diversity)\n",
        "            next_word = indices_word[next_index]\n",
        "\n",
        "            sentence = sentence[1:]\n",
        "            sentence.append(next_word)\n",
        "\n",
        "            examples_file.write(\" \"+next_word)\n",
        "        examples_file.write('\\n')\n",
        "    examples_file.write('='*80 + '\\n')\n",
        "    examples_file.flush()\n",
        "\n",
        "# llamamos a guardar cada vez que se termine la epoca\n",
        "checkpoint = ModelCheckpoint(file_path, monitor='val_accuracy', save_best_only=True) # guardar modelo en cada epoca\n",
        "print_callback = LambdaCallback(on_epoch_end=on_epoch_end) # definir el callback en cada fin de epoca\n",
        "early_stopping = EarlyStopping(monitor='val_accuracy', patience=5) # parar si hay una  pacienciastop if there is not gain in the loss , when it's 5 epoch\n",
        "                                                                  #parar si hay una pacienciastop si no hay ganancia en la pérdida, cuando son 5 épocas\n",
        "callbacks_list = [checkpoint, print_callback, early_stopping]"
      ],
      "metadata": {
        "colab": {
          "base_uri": "https://localhost:8080/"
        },
        "id": "lOxV7Umb7AeL",
        "outputId": "77f3361c-d5ed-4bc7-eed5-90736035208b"
      },
      "execution_count": null,
      "outputs": [
        {
          "output_type": "stream",
          "name": "stdout",
          "text": [
            "/content/drive/My Drive/data/MusicLyrics_data/checkpoints/LSTM_LYRICS-epoch{epoch:03d}-words2261-sequence10-minfreq3-loss{loss:.4f}-accuracy{accuracy:.4f}-val_loss{val_loss:.4f}-val_accuracy{val_accuracy:.4f}\n"
          ]
        }
      ]
    },
    {
      "cell_type": "code",
      "source": [
        "# creamo el objeto BILSTM\n",
        "model = BILSTM()\n",
        "# ININICALIZANDO EL MODELO\n",
        "model.compile(loss='categorical_crossentropy', optimizer=\"adam\", metrics=['accuracy'])\n",
        "\n",
        "# DONDE SE GUARDA LOS EJEMPLOS DE PRUEBAS DE EVALUACION (ENTRENO)\n",
        "examples = '/content/drive/My Drive/data/example.txt'\n",
        "\n",
        "examples_file = open(examples, \"w\")\n",
        "\n",
        "BATCH_SIZE = 16\n",
        "\n",
        "# ENTRENAMIENTO\n",
        "# model.fit_generator(\n",
        "#                     generator(sentences, next_words, BATCH_SIZE),\n",
        "#                     steps_per_epoch= int(len(sentences)/BATCH_SIZE) + 1,\n",
        "#                     epochs= 60,\n",
        "#                     callbacks= callbacks_list,\n",
        "#                     validation_data= generator(sentences_test, next_words_test, BATCH_SIZE),\n",
        "#                     validation_steps= int(len(sentences_test)/BATCH_SIZE) + 1\n",
        "#                     )\n",
        "\n",
        "examples_file = open(examples, \"w\")\n",
        "print(\"len(sentences_test)/ BATCH_SIZE\",len(sentences_test), BATCH_SIZE)\n",
        "model.fit_generator(generator(sentences, next_words, BATCH_SIZE),\n",
        "                        steps_per_epoch=int(len(sentences)/BATCH_SIZE) + 1,\n",
        "                        epochs=60,\n",
        "                        callbacks=callbacks_list,\n",
        "                        validation_data=generator(sentences_test, next_words_test, BATCH_SIZE),\n",
        "                        validation_steps=int(len(sentences_test)/BATCH_SIZE) + 1\n",
        "                        )"
      ],
      "metadata": {
        "colab": {
          "base_uri": "https://localhost:8080/"
        },
        "id": "L_8Il_oF7Ng_",
        "outputId": "f04efd48-8d3d-40aa-de44-7d972c82cece"
      },
      "execution_count": null,
      "outputs": [
        {
          "output_type": "stream",
          "name": "stdout",
          "text": [
            "Construyendo Modelo...\n",
            "len(sentences_test)/ BATCH_SIZE 61 16\n",
            "Epoch 1/60\n"
          ]
        },
        {
          "output_type": "stream",
          "name": "stderr",
          "text": [
            "/usr/local/lib/python3.7/dist-packages/ipykernel_launcher.py:30: UserWarning: `Model.fit_generator` is deprecated and will be removed in a future version. Please use `Model.fit`, which supports generators.\n",
            "/usr/local/lib/python3.7/dist-packages/ipykernel_launcher.py:10: DeprecationWarning: `np.bool` is a deprecated alias for the builtin `bool`. To silence this warning, use `bool` by itself. Doing this will not modify any behavior and is safe. If you specifically wanted the numpy scalar type, use `np.bool_` here.\n",
            "Deprecated in NumPy 1.20; for more details and guidance: https://numpy.org/devdocs/release/1.20.0-notes.html#deprecations\n",
            "  # Remove the CWD from sys.path while we load stuff.\n",
            "/usr/local/lib/python3.7/dist-packages/ipykernel_launcher.py:11: DeprecationWarning: `np.bool` is a deprecated alias for the builtin `bool`. To silence this warning, use `bool` by itself. Doing this will not modify any behavior and is safe. If you specifically wanted the numpy scalar type, use `np.bool_` here.\n",
            "Deprecated in NumPy 1.20; for more details and guidance: https://numpy.org/devdocs/release/1.20.0-notes.html#deprecations\n",
            "  # This is added back by InteractiveShellApp.init_path()\n"
          ]
        },
        {
          "output_type": "stream",
          "name": "stdout",
          "text": [
            "190/190 [==============================] - ETA: 0s - loss: 5.8161 - accuracy: 0.3243"
          ]
        },
        {
          "output_type": "stream",
          "name": "stderr",
          "text": [
            "WARNING:absl:Found untraced functions such as lstm_cell_4_layer_call_fn, lstm_cell_4_layer_call_and_return_conditional_losses, lstm_cell_5_layer_call_fn, lstm_cell_5_layer_call_and_return_conditional_losses while saving (showing 4 of 4). These functions will not be directly callable after loading.\n",
            "WARNING:absl:<keras.layers.recurrent.LSTMCell object at 0x7f0e75fe2390> has the same name 'LSTMCell' as a built-in Keras object. Consider renaming <class 'keras.layers.recurrent.LSTMCell'> to avoid naming conflicts when loading with `tf.keras.models.load_model`. If renaming is not possible, pass the object in the `custom_objects` parameter of the load function.\n",
            "WARNING:absl:<keras.layers.recurrent.LSTMCell object at 0x7f0e6f68ff10> has the same name 'LSTMCell' as a built-in Keras object. Consider renaming <class 'keras.layers.recurrent.LSTMCell'> to avoid naming conflicts when loading with `tf.keras.models.load_model`. If renaming is not possible, pass the object in the `custom_objects` parameter of the load function.\n"
          ]
        },
        {
          "output_type": "stream",
          "name": "stdout",
          "text": [
            "\b\b\b\b\b\b\b\b\b\b\b\b\b\b\b\b\b\b\b\b\b\b\b\b\b\b\b\b\b\b\b\b\b\b\b\b\b\b\b\b\b\b\b\b\b\b\b\b\b\b\b\b\b\b\b\b\b\b\b\b\b\b\b\b\b\b\b\b\b\b\b\b\b\b\b\b\b\b\b\b\b\b\b\b\r190/190 [==============================] - 46s 222ms/step - loss: 5.8161 - accuracy: 0.3243 - val_loss: 5.1083 - val_accuracy: 0.2656\n",
            "Epoch 2/60\n",
            "  2/190 [..............................] - ETA: 14s - loss: 5.2343 - accuracy: 0.3125"
          ]
        },
        {
          "output_type": "stream",
          "name": "stderr",
          "text": [
            "/usr/local/lib/python3.7/dist-packages/ipykernel_launcher.py:10: DeprecationWarning: `np.bool` is a deprecated alias for the builtin `bool`. To silence this warning, use `bool` by itself. Doing this will not modify any behavior and is safe. If you specifically wanted the numpy scalar type, use `np.bool_` here.\n",
            "Deprecated in NumPy 1.20; for more details and guidance: https://numpy.org/devdocs/release/1.20.0-notes.html#deprecations\n",
            "  # Remove the CWD from sys.path while we load stuff.\n",
            "/usr/local/lib/python3.7/dist-packages/ipykernel_launcher.py:11: DeprecationWarning: `np.bool` is a deprecated alias for the builtin `bool`. To silence this warning, use `bool` by itself. Doing this will not modify any behavior and is safe. If you specifically wanted the numpy scalar type, use `np.bool_` here.\n",
            "Deprecated in NumPy 1.20; for more details and guidance: https://numpy.org/devdocs/release/1.20.0-notes.html#deprecations\n",
            "  # This is added back by InteractiveShellApp.init_path()\n"
          ]
        },
        {
          "output_type": "stream",
          "name": "stdout",
          "text": [
            "190/190 [==============================] - 28s 146ms/step - loss: 4.9498 - accuracy: 0.3266 - val_loss: 5.0422 - val_accuracy: 0.2500\n",
            "Epoch 3/60\n",
            "190/190 [==============================] - 27s 144ms/step - loss: 4.7797 - accuracy: 0.3266 - val_loss: 4.9920 - val_accuracy: 0.2656\n",
            "Epoch 4/60\n",
            "190/190 [==============================] - 28s 149ms/step - loss: 4.6038 - accuracy: 0.3263 - val_loss: 5.1758 - val_accuracy: 0.2500\n",
            "Epoch 5/60\n",
            "190/190 [==============================] - 28s 147ms/step - loss: 4.4334 - accuracy: 0.3260 - val_loss: 5.5163 - val_accuracy: 0.2344\n",
            "Epoch 6/60\n",
            "190/190 [==============================] - 28s 146ms/step - loss: 4.2157 - accuracy: 0.3257 - val_loss: 5.1010 - val_accuracy: 0.2500\n"
          ]
        },
        {
          "output_type": "execute_result",
          "data": {
            "text/plain": [
              "<keras.callbacks.History at 0x7f0e6f540210>"
            ]
          },
          "metadata": {},
          "execution_count": 14
        }
      ]
    },
    {
      "cell_type": "code",
      "source": [
        "#  cargamos el modelo y los pesos del checkpoint\n",
        "\n",
        "check_point_path = '/content/drive/My Drive/data/MusicLyrics_data/checkpoints/'\n",
        "\n",
        "last_checkpoint= \"LSTM_LYRICS-epoch055-words2261-sequence10-minfreq3-loss0.0813-accuracy0.9868-val_loss0.0616-val_accuracy1.0000\"\n",
        "\n",
        "#loading check points weights\n",
        "model_test = model.load_weights(check_point_path+last_checkpoint)"
      ],
      "metadata": {
        "id": "RIxXCKmc8Ptk"
      },
      "execution_count": null,
      "outputs": []
    },
    {
      "cell_type": "code",
      "source": [
        "sequence_test = sentences_test\n",
        "sentences_test"
      ],
      "metadata": {
        "colab": {
          "base_uri": "https://localhost:8080/"
        },
        "id": "WZL8VSt28ifQ",
        "outputId": "a0d6e9ab-54fd-467c-fd03-d77d5935a8fc"
      },
      "execution_count": null,
      "outputs": [
        {
          "output_type": "execute_result",
          "data": {
            "text/plain": [
              "[['jesús',\n",
              "  'yupaychamuyki',\n",
              "  '\\n',\n",
              "  'qanmi',\n",
              "  'diosniy',\n",
              "  'kamarqanki',\n",
              "  '\\n',\n",
              "  'intitapas',\n",
              "  'killatapas',\n",
              "  '\\n'],\n",
              " ['atipanallaypaq',\n",
              "  '\\n',\n",
              "  'sasachay',\n",
              "  'hamuqtin',\n",
              "  '\\n',\n",
              "  'qanllata',\n",
              "  'yupaychanaypaq',\n",
              "  '\\n',\n",
              "  'tukuy',\n",
              "  'sonqollaymanta'],\n",
              " ['yupaychamunaypaq',\n",
              "  '\\n',\n",
              "  'kallpa',\n",
              "  'qokuq',\n",
              "  'diosnilláy',\n",
              "  '\\n',\n",
              "  'kallpallayta',\n",
              "  'yapaykuway',\n",
              "  '\\n',\n",
              "  'ñanniykipi'],\n",
              " ['\\n',\n",
              "  'qellqallaykiwanmi',\n",
              "  '\\n',\n",
              "  'almallayqa',\n",
              "  'kawsan',\n",
              "  '\\n',\n",
              "  'simillaykiwanmi',\n",
              "  '\\n',\n",
              "  'wiñay',\n",
              "  'kawsay'],\n",
              " ['\\n',\n",
              "  'qorimanta',\n",
              "  \"ch'uya\",\n",
              "  'llaqta',\n",
              "  '\\n',\n",
              "  'señor',\n",
              "  'jesús',\n",
              "  'tiyakushan',\n",
              "  '\\n',\n",
              "  'inti'],\n",
              " ['munani',\n",
              "  '\\n',\n",
              "  'aswan',\n",
              "  'huchay',\n",
              "  'atipayta',\n",
              "  '\\n',\n",
              "  'aswan',\n",
              "  'cheqaq',\n",
              "  'kusikuyta',\n",
              "  '\\n'],\n",
              " ['ripukusaq',\n",
              "  'hanaq',\n",
              "  'pacha',\n",
              "  'suyuman',\n",
              "  '\\n',\n",
              "  'chaypin',\n",
              "  'jesuswan',\n",
              "  'kuska',\n",
              "  'kawsamusaq',\n",
              "  '\\n'],\n",
              " ['\\n',\n",
              "  'diospa',\n",
              "  'espiritunpa',\n",
              "  'kasqanpin',\n",
              "  '\\n',\n",
              "  'qespikuy',\n",
              "  'kan',\n",
              "  'qespikuy',\n",
              "  'kan',\n",
              "  '\\n'],\n",
              " ['\\n',\n",
              "  'waqaylla',\n",
              "  'llakiylla',\n",
              "  'muyullawaqtimpas',\n",
              "  '\\n',\n",
              "  'munakuq',\n",
              "  'diosnillay',\n",
              "  'yanapaykullaway',\n",
              "  '\\n',\n",
              "  'khuyakuq'],\n",
              " ['uyariy',\n",
              "  '\\n',\n",
              "  'kunan',\n",
              "  'chaskikuy',\n",
              "  '\\n',\n",
              "  'jesucristoqa',\n",
              "  '\\n',\n",
              "  'waqyashasunkin',\n",
              "  '\\n',\n",
              "  '\\n'],\n",
              " ['tuta',\n",
              "  \"p'unchay\",\n",
              "  'yupaychasun',\n",
              "  '\\n',\n",
              "  'sutillanta',\n",
              "  'hatunchasun',\n",
              "  '\\n',\n",
              "  '\\n',\n",
              "  'hanaq',\n",
              "  'pachata'],\n",
              " ['ñoqanchispas',\n",
              "  'kusikuywan',\n",
              "  'takisun',\n",
              "  '\\n',\n",
              "  'yupaychasqa',\n",
              "  'señor',\n",
              "  'diosqa',\n",
              "  'kachun',\n",
              "  '\\n',\n",
              "  'apu'],\n",
              " ['\\n',\n",
              "  'wiñay',\n",
              "  'wiñaypaq',\n",
              "  'diosniy',\n",
              "  '\\n',\n",
              "  '\\n',\n",
              "  '\\n',\n",
              "  'hamuychis',\n",
              "  'kusisqallaña',\n",
              "  '\\n'],\n",
              " ['kawsashani',\n",
              "  '\\n',\n",
              "  'tuta',\n",
              "  \"p'unchay\",\n",
              "  'mañakuspa',\n",
              "  '\\n',\n",
              "  'sutiykita',\n",
              "  'yupaychaspa',\n",
              "  '\\n',\n",
              "  'khunan'],\n",
              " ['\\n',\n",
              "  'mana',\n",
              "  'allinmi',\n",
              "  'persiguiwachkan',\n",
              "  '\\n',\n",
              "  'qam',\n",
              "  'diosnillayta',\n",
              "  'kasusa',\n",
              "  'rayku',\n",
              "  '\\n'],\n",
              " ['yayallayku',\n",
              "  '\\n',\n",
              "  'señor',\n",
              "  'jesucristoq',\n",
              "  '\\n',\n",
              "  'sumaq',\n",
              "  'sutillampi',\n",
              "  '\\n',\n",
              "  'yupaychamuykiku',\n",
              "  '\\n'],\n",
              " ['yupaychallasqaykin',\n",
              "  'qanta',\n",
              "  'aleluya',\n",
              "  '\\n',\n",
              "  'winay',\n",
              "  'wiñaypaq',\n",
              "  'taytay',\n",
              "  'aleluya',\n",
              "  '\\n',\n",
              "  '\\n'],\n",
              " ['atin',\n",
              "  'qespichiyta',\n",
              "  '\\n',\n",
              "  'qan',\n",
              "  'qayllaykuy',\n",
              "  'qan',\n",
              "  'iñikuy',\n",
              "  '\\n',\n",
              "  'cristopi',\n",
              "  'iñispan'],\n",
              " ['hanaq',\n",
              "  'pachapi',\n",
              "  'kaq',\n",
              "  'dios',\n",
              "  'taytallayku',\n",
              "  '\\n',\n",
              "  'gracias',\n",
              "  'qanman',\n",
              "  'kachun',\n",
              "  'simillaykimanta'],\n",
              " ['nispa',\n",
              "  '\\n',\n",
              "  'kusisqalla',\n",
              "  'qayllaykusun',\n",
              "  '\\n',\n",
              "  'diosninchista',\n",
              "  'servikusun',\n",
              "  '\\n',\n",
              "  '\\n',\n",
              "  'cheqaq'],\n",
              " ['iñiq',\n",
              "  'masiy',\n",
              "  '\\n',\n",
              "  'sonqonchispi',\n",
              "  'sumaq',\n",
              "  'kusikuywan',\n",
              "  '\\n',\n",
              "  '\\n',\n",
              "  '\\n',\n",
              "  '¿maytan'],\n",
              " ['criston',\n",
              "  '\\n',\n",
              "  'criston',\n",
              "  'criston',\n",
              "  '\\n',\n",
              "  'cheqaq',\n",
              "  'ñanqa',\n",
              "  'criston',\n",
              "  '\\n',\n",
              "  'mosoq'],\n",
              " ['yanapawayku',\n",
              "  'señor',\n",
              "  'jesús',\n",
              "  'qanpaq',\n",
              "  \"llank'ayta\",\n",
              "  '\\n',\n",
              "  'jesusmanta',\n",
              "  'willasunchis',\n",
              "  'llapallan',\n",
              "  'runaman'],\n",
              " ['\\n',\n",
              "  'mosoq',\n",
              "  'kawsayman',\n",
              "  'pusaq',\n",
              "  '\\n',\n",
              "  'cheqaq',\n",
              "  'ñanqa',\n",
              "  'criston',\n",
              "  '\\n',\n",
              "  'criston'],\n",
              " ['ruwaspa',\n",
              "  '\\n',\n",
              "  'allin',\n",
              "  'yuyaywan',\n",
              "  '\\n',\n",
              "  'kawsasun',\n",
              "  'munakuypi',\n",
              "  '\\n',\n",
              "  'tukuy',\n",
              "  'sonqowan'],\n",
              " ['hinalla',\n",
              "  '\\n',\n",
              "  'santo',\n",
              "  'espírituq',\n",
              "  'munasqanman',\n",
              "  'hina',\n",
              "  '\\n',\n",
              "  'kawsakusunchis',\n",
              "  'paypaq',\n",
              "  'hinalla'],\n",
              " ['señorta',\n",
              "  'yupaychasun',\n",
              "  'iñiq',\n",
              "  'masiy',\n",
              "  '\\n',\n",
              "  'sonqonchispi',\n",
              "  'sumaq',\n",
              "  'kusikuywan',\n",
              "  '\\n',\n",
              "  '\\n'],\n",
              " ['yupaychasun',\n",
              "  '\\n',\n",
              "  'cheqaq',\n",
              "  'kawsaq',\n",
              "  'diosllata',\n",
              "  '\\n',\n",
              "  '\\n',\n",
              "  'yupaychasqa',\n",
              "  'diosqa',\n",
              "  'kachun'],\n",
              " ['\\n',\n",
              "  'qamllam',\n",
              "  'kanki',\n",
              "  'kuyakuq',\n",
              "  '\\n',\n",
              "  'qamllam',\n",
              "  'kanki',\n",
              "  'wiñaypaq',\n",
              "  '\\n',\n",
              "  'sumaq'],\n",
              " ['\\n',\n",
              "  'yawarninwan',\n",
              "  '\\n',\n",
              "  'qanpas',\n",
              "  'runamasiy',\n",
              "  '\\n',\n",
              "  'yupaychay',\n",
              "  'señor',\n",
              "  'jesusta',\n",
              "  '\\n'],\n",
              " ['llakiylla',\n",
              "  'muyullawaqtimpas',\n",
              "  '\\n',\n",
              "  'munakuq',\n",
              "  'diosnillay',\n",
              "  'yanapaykullaway',\n",
              "  '\\n',\n",
              "  'khuyakuq',\n",
              "  'jesusllay',\n",
              "  'kallpanchaykullaway'],\n",
              " ['yupaychaykusun!',\n",
              "  '\\n',\n",
              "  'cristoqa',\n",
              "  'kashan',\n",
              "  'ñoqaq',\n",
              "  'sonqoy',\n",
              "  'ukhupi',\n",
              "  '\\n',\n",
              "  'sonqoy',\n",
              "  'ukhupi'],\n",
              " ['pacha',\n",
              "  'sumaq',\n",
              "  'llaqta',\n",
              "  '\\n',\n",
              "  \"ch'uya\",\n",
              "  'diosniypa',\n",
              "  'tiyanan',\n",
              "  '\\n',\n",
              "  'chaymanmi',\n",
              "  'noqa'],\n",
              " ['\\n',\n",
              "  'llapallanchis',\n",
              "  'yupaychasun',\n",
              "  '\\n',\n",
              "  'señor',\n",
              "  'diosninchista',\n",
              "  '\\n',\n",
              "  'hanaq',\n",
              "  'pachapas',\n",
              "  '\\n'],\n",
              " ['servinaypaq',\n",
              "  '\\n',\n",
              "  'kamaqlláy',\n",
              "  '\\n',\n",
              "  '\\n',\n",
              "  '\\n',\n",
              "  'kawsankin',\n",
              "  'jesús',\n",
              "  'ñoqapaq',\n",
              "  '\\n'],\n",
              " ['qayllaykuy',\n",
              "  'jesusman',\n",
              "  '\\n',\n",
              "  'diosninchista',\n",
              "  'servikunaykipaq',\n",
              "  '\\n',\n",
              "  '\\n',\n",
              "  '\\n',\n",
              "  'kay',\n",
              "  'pachapin'],\n",
              " ['\\n',\n",
              "  'wiñay-wiñaypaq',\n",
              "  'waqaychaway',\n",
              "  '\\n',\n",
              "  'qanllatapuni',\n",
              "  'servinaypaq',\n",
              "  '\\n',\n",
              "  'kamaqlláy',\n",
              "  '\\n',\n",
              "  '\\n'],\n",
              " ['\\n',\n",
              "  'kusisqa',\n",
              "  'kawsakamusaq',\n",
              "  '\\n',\n",
              "  'wiñay',\n",
              "  '-',\n",
              "  'wiñaypaq',\n",
              "  '\\n',\n",
              "  '\\n',\n",
              "  '\\n'],\n",
              " ['\\n',\n",
              "  'wiñaypaq',\n",
              "  'kawsasun',\n",
              "  '\\n',\n",
              "  'payta',\n",
              "  'yupaychaspa',\n",
              "  '\\n',\n",
              "  'munakuyninmanta',\n",
              "  '\\n',\n",
              "  '\\n'],\n",
              " ['pachapi',\n",
              "  'kawsayniyki',\n",
              "  '\\n',\n",
              "  'sinchi',\n",
              "  'llaki',\n",
              "  'weqe',\n",
              "  'kawsay',\n",
              "  '\\n',\n",
              "  'yarqay',\n",
              "  \"ch'akiymanta\"],\n",
              " ['\\n',\n",
              "  'adoraykin',\n",
              "  'señor',\n",
              "  'diosniy',\n",
              "  '\\n',\n",
              "  'tukuy',\n",
              "  'atiynikimanta',\n",
              "  '\\n',\n",
              "  'qanllapuni',\n",
              "  'diosniy'],\n",
              " ['\\n',\n",
              "  'qespichiqninchisman',\n",
              "  '\\n',\n",
              "  '\\n',\n",
              "  '\\n',\n",
              "  'kunan',\n",
              "  'diosniyku',\n",
              "  '\\n',\n",
              "  'yupaychamuykiku',\n",
              "  '\\n'],\n",
              " ['\\n',\n",
              "  'munakuq',\n",
              "  'jesus',\n",
              "  \"misk'i\",\n",
              "  'sutillanpi',\n",
              "  '\\n',\n",
              "  'iñiq',\n",
              "  'masillay',\n",
              "  '\\n',\n",
              "  'yupaychasun'],\n",
              " ['ima',\n",
              "  'sumaqllataña',\n",
              "  '\\n',\n",
              "  'nanay',\n",
              "  'waqay',\n",
              "  'tukukunqa',\n",
              "  '\\n',\n",
              "  'wiñaypaqmi',\n",
              "  'kusikusun',\n",
              "  '\\n'],\n",
              " ['\\n',\n",
              "  'kay',\n",
              "  'waqay',\n",
              "  'pachapi',\n",
              "  '\\n',\n",
              "  'kay',\n",
              "  'llakiy',\n",
              "  'pachapi',\n",
              "  '\\n',\n",
              "  'qespichiqqa'],\n",
              " ['kay',\n",
              "  'pacha',\n",
              "  'runaq',\n",
              "  'huchankumanta',\n",
              "  'qespichiq',\n",
              "  '\\n',\n",
              "  'qan',\n",
              "  'maskhay',\n",
              "  'qan',\n",
              "  'maskhay'],\n",
              " ['\\n',\n",
              "  'iñiq',\n",
              "  'wawankunataqa:',\n",
              "  '\\n',\n",
              "  'kaypiña',\n",
              "  'maypiña',\n",
              "  'kaspapas',\n",
              "  '\\n',\n",
              "  'ama',\n",
              "  'qhepaman'],\n",
              " ['diosniy',\n",
              "  'yanapawayku',\n",
              "  '\\n',\n",
              "  'simillaykiwan',\n",
              "  'rimaspa',\n",
              "  '\\n',\n",
              "  'kallpanchawayku',\n",
              "  'diosnillay',\n",
              "  '\\n',\n",
              "  'kay'],\n",
              " ['wiñay',\n",
              "  'kawsayman',\n",
              "  'ripunaypaq',\n",
              "  '\\n',\n",
              "  'dios',\n",
              "  'taytallay',\n",
              "  'yanapaykuway',\n",
              "  '\\n',\n",
              "  'diosnillay',\n",
              "  'waqaychaykuway'],\n",
              " ['kawsay',\n",
              "  'paq',\n",
              "  '\\n',\n",
              "  '\\n',\n",
              "  'adorasun',\n",
              "  'yupaychasun',\n",
              "  '\\n',\n",
              "  'hatun',\n",
              "  'diosllata',\n",
              "  'tukuy'],\n",
              " ['kallpaywanmi',\n",
              "  '\\n',\n",
              "  'señor',\n",
              "  'diosta',\n",
              "  'adorasaq',\n",
              "  '\\n',\n",
              "  'tukuy',\n",
              "  'huchaymanta',\n",
              "  '\\n',\n",
              "  'diosnillayqa'],\n",
              " ['sumaq',\n",
              "  \"llank'ananpi\",\n",
              "  '\\n',\n",
              "  'willaspa',\n",
              "  'willaspa',\n",
              "  '\\n',\n",
              "  'señorniypa',\n",
              "  'chay',\n",
              "  'sumaq',\n",
              "  'simillanta'],\n",
              " ['\\n',\n",
              "  'gracias',\n",
              "  'nisun',\n",
              "  'diosninchista',\n",
              "  '\\n',\n",
              "  'gracias',\n",
              "  'nisun',\n",
              "  'kawsaymanta',\n",
              "  '\\n',\n",
              "  'inti'],\n",
              " ['sumaq',\n",
              "  'vidaychun',\n",
              "  'allin',\n",
              "  'vidaychun',\n",
              "  '\\n',\n",
              "  'sumaq',\n",
              "  'vidaychun',\n",
              "  'allin',\n",
              "  'vidaychun',\n",
              "  '\\n'],\n",
              " ['dios',\n",
              "  'taytanchismi',\n",
              "  'kamarillarqan',\n",
              "  '\\n',\n",
              "  'hatun',\n",
              "  'atiyninwan',\n",
              "  'kamarillarqan',\n",
              "  '\\n',\n",
              "  'chayta',\n",
              "  'yachaspa'],\n",
              " ['\\n',\n",
              "  'diospa',\n",
              "  'churin',\n",
              "  'jesucristo',\n",
              "  '\\n',\n",
              "  'huchaymanta',\n",
              "  'qespichiwan',\n",
              "  '\\n',\n",
              "  'munakusqay',\n",
              "  'wawqey'],\n",
              " ['qoykuwan',\n",
              "  '\\n',\n",
              "  'ima',\n",
              "  'sumaqpunin',\n",
              "  'payqa',\n",
              "  '\\n',\n",
              "  'yachanin',\n",
              "  'diospuni',\n",
              "  'atiyta',\n",
              "  'qoykuwan'],\n",
              " ['iñiqqa',\n",
              "  '\\n',\n",
              "  'chay',\n",
              "  'ñanninta',\n",
              "  'purillanqa',\n",
              "  '\\n',\n",
              "  'jesucriston',\n",
              "  'kawsay',\n",
              "  \"t'anta\",\n",
              "  '\\n'],\n",
              " ['diosnillayman',\n",
              "  '\\n',\n",
              "  'sumaq',\n",
              "  'munakuyninmanta',\n",
              "  '\\n',\n",
              "  'huchallayta',\n",
              "  'pampachawan',\n",
              "  '\\n',\n",
              "  'sonqollaytan',\n",
              "  \"k'anchaykuwan\"],\n",
              " ['\\n',\n",
              "  'munakusqay',\n",
              "  'wawqey',\n",
              "  'panay',\n",
              "  '\\n',\n",
              "  'amapuni',\n",
              "  'iskayaychu',\n",
              "  '\\n',\n",
              "  'diospa',\n",
              "  'churin'],\n",
              " ['qam',\n",
              "  'diosnillayta',\n",
              "  'kasusa',\n",
              "  'rayku',\n",
              "  '\\n',\n",
              "  'aswan',\n",
              "  'aswan',\n",
              "  'yachaykachiway',\n",
              "  '\\n',\n",
              "  'qam']]"
            ]
          },
          "metadata": {},
          "execution_count": 16
        }
      ]
    },
    {
      "cell_type": "code",
      "source": [
        "next_words_test \n",
        "print(\"size of next_test_words: {}\".format(next_words_test))\n",
        "print(\"size of next_test_words: {}\".format(len(next_words_test)) )"
      ],
      "metadata": {
        "colab": {
          "base_uri": "https://localhost:8080/"
        },
        "id": "688iGqmY8oD4",
        "outputId": "21be7276-e6f6-4850-a65e-fb3397dcff09"
      },
      "execution_count": null,
      "outputs": [
        {
          "output_type": "stream",
          "name": "stdout",
          "text": [
            "size of next_test_words: ['chaymi', '\\n', 'purinaypaq', 'niños', 'hina', 'aswan', 'jesuspin', 'diospa', 'jesusllay', '\\n', 'qhawarispaymi', 'diospa', 'señor', 'ichaqa', 'aswan', 'turaywan', 'diosninchista', 'qespisqa', '\\n', 'munakuq', 'rishanki', 'kawsayman', '\\n', 'criston', '\\n', '\\n', '\\n', '\\n', 'diosnillayku', 'qespichisunkin', '\\n', 'sonqoy', 'ripusaq', 'kay', 'kawsankin', 'runa', '\\n', 'diospa', '\\n', 'muchuy', 'kanki', 'jesús', 'diosninchista', 'diospa', 'manan', '\\n', 'kutispa', 'sasa', '\\n', 'sonqu', 'pampachawan', '\\n', 'killa', 'jesus', 'yupaychaykusun', 'panay', '\\n', 'mana', '\\n', 'jesucristo', 'diosnillayman']\n",
            "size of next_test_words: 61\n"
          ]
        }
      ]
    },
    {
      "cell_type": "code",
      "source": [
        "print(\"numero de secuencias para el  test: {}\".format( len(sentences_test) ))"
      ],
      "metadata": {
        "colab": {
          "base_uri": "https://localhost:8080/"
        },
        "id": "sIuQhul18r6V",
        "outputId": "22e8c43c-accd-4507-b979-38e28d9406a1"
      },
      "execution_count": null,
      "outputs": [
        {
          "output_type": "stream",
          "name": "stdout",
          "text": [
            "numero de secuencias para el  test: 61\n"
          ]
        }
      ]
    },
    {
      "cell_type": "code",
      "source": [
        "# test sample\n",
        "diversity = 0.5\n",
        "# creamos una entrada aleatoria del conjunto de test\n",
        "print(\"len: {}\".format(len(sentences_test)))\n",
        "\n",
        "test_seed_index = np.random.randint(len(sentences_test)) # un randon  x del conjunto de muestra [1,2,3....size oracion]\n",
        "test_seed = (sentences+sentences_test)[test_seed_index] #elegimos una secuencia al azar\n",
        "\n",
        "#mostramos la input test sequence (secuencia de prueba de entrada)\n",
        "print(test_seed)\n",
        "# creamos matriz de ceros inicialmente\n",
        "x_pred = np.zeros((1, SEQUENCE_LEN, len(words))) # matriz de (10, 540) filaxcolumnas filas=senquence_len; col=len(words)\n",
        "\n",
        "# creamos tamaño maximo de predicciones 10 x 540\n",
        "print(\"size maximo predecido: {}\".format(x_pred.shape))\n",
        "\n",
        "#para cada palabra le buscamos le ponemos valor numerico\n",
        "for i, word in enumerate(test_seed):\n",
        "  x_pred[0, i, word_indices[word]] = 1\n",
        "\n",
        "preds = model.predict(x_pred, verbose=0)[0] #predecimos con el modelo\n",
        "print(\"preds: {}\".format(preds))\n",
        "next_index = sample(preds, diversity)\n",
        "print(\"next_index: {}\".format(next_index))\n",
        "#convertir este next index a palabra\n",
        "next_word = indices_word[next_index]\n",
        "print(\"palabra generada: {}\".format(next_word))"
      ],
      "metadata": {
        "colab": {
          "base_uri": "https://localhost:8080/"
        },
        "id": "4TE8dP-28wMC",
        "outputId": "8978549b-9c8d-4090-b347-61b677ae6ece"
      },
      "execution_count": null,
      "outputs": [
        {
          "output_type": "stream",
          "name": "stdout",
          "text": [
            "len: 61\n",
            "['\\n', 'imamantan', 'llakikuyman', '\\n', 'señor', 'diosniy', 'noqawan', 'kashan', '\\n', 'munakuywanmi']\n",
            "size maximo predecido: (1, 10, 2261)\n",
            "preds: [5.7095101e-10 1.8622480e-08 3.7103767e-10 ... 2.9318542e-10 2.4579724e-10\n",
            " 2.9559424e-10]\n",
            "next_index: 278\n",
            "palabra generada: diosnillayqa\n"
          ]
        }
      ]
    },
    {
      "cell_type": "code",
      "source": [
        "# mostramos el input\n",
        "print(\"EJEMPLO DE ENTRADA\")\n",
        "print(' '.join(test_seed))\n",
        "print(\"\\n \\n\")\n",
        "print(\" salida generada -->: {}\".format(next_word))"
      ],
      "metadata": {
        "colab": {
          "base_uri": "https://localhost:8080/"
        },
        "id": "WwOc6wuK87pF",
        "outputId": "33d5509f-afd5-4dea-921b-c9f4cbb82aad"
      },
      "execution_count": null,
      "outputs": [
        {
          "output_type": "stream",
          "name": "stdout",
          "text": [
            "EJEMPLO DE ENTRADA\n",
            "\n",
            " imamantan llakikuyman \n",
            " señor diosniy noqawan kashan \n",
            " munakuywanmi\n",
            "\n",
            " \n",
            "\n",
            " salida generada -->: diosnillayqa\n"
          ]
        }
      ]
    },
    {
      "cell_type": "code",
      "source": [
        "from nltk.translate.bleu_score import sentence_bleu\n",
        "\n",
        "reference = [['kamachisqan', 'ruwanallaypaq', '\\n', 'simillanta', 'kasunallaypaq', '\\n', 'espíritun', 'yachayta', 'qowan', '\\n', '\\n']]\n",
        "candidate = ['kamachisqan', 'ruwanallaypaq', '\\n', 'simillanta', 'kasunallaypaq', '\\n', 'espíritun', 'yachayta', 'qowan', '\\n']\n",
        "\n",
        "score = sentence_bleu(reference, candidate)\n",
        "print(score)"
      ],
      "metadata": {
        "colab": {
          "base_uri": "https://localhost:8080/"
        },
        "id": "-m_D99aFsIKl",
        "outputId": "611921f4-1911-4fde-94b7-b3c2ed5510e1"
      },
      "execution_count": null,
      "outputs": [
        {
          "output_type": "stream",
          "name": "stdout",
          "text": [
            "0.9048374180359595\n"
          ]
        }
      ]
    },
    {
      "cell_type": "code",
      "source": [
        "# librerias necesarias para calcular bleu\n",
        "from tensorflow.python.ops.gen_math_ops import ApproximateEqual\n",
        "from nltk.translate.bleu_score import SmoothingFunction, corpus_bleu, sentence_bleu\n",
        "\n",
        "\n",
        "# funcion generador de siguiente palabras\n",
        "def generador_de_secuencia(input):\n",
        "\n",
        "  #\n",
        "  secuencia_test = input\n",
        "  # crear one-hot para la secuencia\n",
        "  secuencia_pred = np.zeros( (1, SEQUENCE_LEN, len(words)) ) \n",
        "  for term, palabra in enumerate(secuencia_test):\n",
        "    secuencia_pred[0,term,word_indices[palabra]] = 1.\n",
        "  pred = model.predict(secuencia_pred, verbose = 0)[0]\n",
        "  sgt_indice = sample(pred, 0.7)\n",
        "  sgt_palabra = indices_word[sgt_indice]\n",
        "  return sgt_palabra\n",
        "\n",
        "# funcion calculo de ble score para cada secuencia\n",
        "\n",
        "def bleu(ref, gen):\n",
        "    ''' \n",
        "    calculo de blue por pares(secuencias). usa implementacion nltk\n",
        "    Args:\n",
        "        referencia : una lisata de oraciones de referencia\n",
        "        candidatos : una lista de candidatos(generado) de oraciones.\n",
        "    Returns:\n",
        "        bleu score(float)\n",
        "    '''\n",
        "    ref_bleu = []\n",
        "    gen_bleu = []\n",
        "    for l in gen:\n",
        "        gen_bleu.append(l.split())\n",
        "    for i,l in enumerate(ref):\n",
        "        ref_bleu.append([l.split()])\n",
        "    cc = SmoothingFunction()\n",
        "    score_bleu = corpus_bleu(ref_bleu, gen_bleu, weights=(0, 1, 0, 0), smoothing_function=cc.method4)\n",
        "    return score_bleu\n",
        "\n",
        "# modulo principal para el calculo de bleu \n",
        "\n",
        "sequences_test = sequence_test\n",
        "index = 0\n",
        "list_scores = []\n",
        "\n",
        "# lista de generados\n",
        "lista_generados = []\n",
        "lista_referencias = []\n",
        "\n",
        "for sequence in sequences_test:\n",
        "    generado = sequence +[generador_de_secuencia(sequence)]\n",
        "    lista_generados.append(generado)\n",
        "    referencia = sequence + [next_words_test[index]]\n",
        "    lista_referencias.append(referencia)\n",
        "    bleu_score = bleu(generado, referencia)\n",
        "    list_scores.append(bleu_score)\n",
        "    index = index + 1\n",
        "\n",
        "print(list_scores)\n",
        "print(lista_referencias[:10])\n",
        "print(lista_generados[:10])"
      ],
      "metadata": {
        "colab": {
          "base_uri": "https://localhost:8080/"
        },
        "id": "PLLb-FjAsQz_",
        "outputId": "5f08c2bb-3378-4538-eb6a-53e282c09d96"
      },
      "execution_count": null,
      "outputs": [
        {
          "output_type": "stream",
          "name": "stdout",
          "text": [
            "[0.018904014015271232, 0.017690092264139205, 0.018904014015271232, 0.017690092264139205, 0.018904014015271232, 0.018904014015271232, 0.019974768884874722, 0.018904014015271232, 0.018904014015271232, 0.014631253749400915, 0.018904014015271232, 0.019974768884874722, 0.016288722447527777, 0.018904014015271232, 0.018904014015271232, 0.017690092264139205, 0.018904014015271232, 0.019974768884874722, 0.019974768884874722, 0.017690092264139205, 0.017690092264139205, 0.018904014015271232, 0.019974768884874722, 0.018904014015271232, 0.017690092264139205, 0.018904014015271232, 0.017690092264139205, 0.017690092264139205, 0.018904014015271232, 0.017690092264139205, 0.018904014015271232, 0.019974768884874722, 0.019974768884874722, 0.017690092264139205, 0.016288722447527777, 0.017690092264139205, 0.011979057400722058, 0.016288722447527777, 0.014631253749400915, 0.019974768884874722, 0.018904014015271232, 0.014631253749400915, 0.018904014015271232, 0.018904014015271232, 0.018904014015271232, 0.019974768884874722, 0.018904014015271232, 0.018904014015271232, 0.018904014015271232, 0.018904014015271232, 0.018904014015271232, 0.018904014015271232, 0.018904014015271232, 0.019974768884874722, 0.019974768884874722, 0.018904014015271232, 0.018904014015271232, 0.018904014015271232, 0.017690092264139205, 0.018904014015271232, 0.019974768884874722]\n",
            "[['jesús', 'yupaychamuyki', '\\n', 'qanmi', 'diosniy', 'kamarqanki', '\\n', 'intitapas', 'killatapas', '\\n', 'chaymi'], ['atipanallaypaq', '\\n', 'sasachay', 'hamuqtin', '\\n', 'qanllata', 'yupaychanaypaq', '\\n', 'tukuy', 'sonqollaymanta', '\\n'], ['yupaychamunaypaq', '\\n', 'kallpa', 'qokuq', 'diosnilláy', '\\n', 'kallpallayta', 'yapaykuway', '\\n', 'ñanniykipi', 'purinaypaq'], ['\\n', 'qellqallaykiwanmi', '\\n', 'almallayqa', 'kawsan', '\\n', 'simillaykiwanmi', '\\n', 'wiñay', 'kawsay', 'niños'], ['\\n', 'qorimanta', \"ch'uya\", 'llaqta', '\\n', 'señor', 'jesús', 'tiyakushan', '\\n', 'inti', 'hina'], ['munani', '\\n', 'aswan', 'huchay', 'atipayta', '\\n', 'aswan', 'cheqaq', 'kusikuyta', '\\n', 'aswan'], ['ripukusaq', 'hanaq', 'pacha', 'suyuman', '\\n', 'chaypin', 'jesuswan', 'kuska', 'kawsamusaq', '\\n', 'jesuspin'], ['\\n', 'diospa', 'espiritunpa', 'kasqanpin', '\\n', 'qespikuy', 'kan', 'qespikuy', 'kan', '\\n', 'diospa'], ['\\n', 'waqaylla', 'llakiylla', 'muyullawaqtimpas', '\\n', 'munakuq', 'diosnillay', 'yanapaykullaway', '\\n', 'khuyakuq', 'jesusllay'], ['uyariy', '\\n', 'kunan', 'chaskikuy', '\\n', 'jesucristoqa', '\\n', 'waqyashasunkin', '\\n', '\\n', '\\n']]\n",
            "[['jesús', 'yupaychamuyki', '\\n', 'qanmi', 'diosniy', 'kamarqanki', '\\n', 'intitapas', 'killatapas', '\\n', 'chaymi'], ['atipanallaypaq', '\\n', 'sasachay', 'hamuqtin', '\\n', 'qanllata', 'yupaychanaypaq', '\\n', 'tukuy', 'sonqollaymanta', '\\n'], ['yupaychamunaypaq', '\\n', 'kallpa', 'qokuq', 'diosnilláy', '\\n', 'kallpallayta', 'yapaykuway', '\\n', 'ñanniykipi', 'purinaypaq'], ['\\n', 'qellqallaykiwanmi', '\\n', 'almallayqa', 'kawsan', '\\n', 'simillaykiwanmi', '\\n', 'wiñay', 'kawsay', 'niños'], ['\\n', 'qorimanta', \"ch'uya\", 'llaqta', '\\n', 'señor', 'jesús', 'tiyakushan', '\\n', 'inti', 'hina'], ['munani', '\\n', 'aswan', 'huchay', 'atipayta', '\\n', 'aswan', 'cheqaq', 'kusikuyta', '\\n', 'aswan'], ['ripukusaq', 'hanaq', 'pacha', 'suyuman', '\\n', 'chaypin', 'jesuswan', 'kuska', 'kawsamusaq', '\\n', 'jesuspin'], ['\\n', 'diospa', 'espiritunpa', 'kasqanpin', '\\n', 'qespikuy', 'kan', 'qespikuy', 'kan', '\\n', 'diospa'], ['\\n', 'waqaylla', 'llakiylla', 'muyullawaqtimpas', '\\n', 'munakuq', 'diosnillay', 'yanapaykullaway', '\\n', 'khuyakuq', 'jesusllay'], ['uyariy', '\\n', 'kunan', 'chaskikuy', '\\n', 'jesucristoqa', '\\n', 'waqyashasunkin', '\\n', '\\n', '\\n']]\n"
          ]
        }
      ]
    },
    {
      "cell_type": "code",
      "source": [
        "# escribimos el average de bleu\n",
        "print(\"suma: {}  size: {}   promedio blue_score: {}\".format(sum(list_scores), len(list_scores), sum(list_scores) / len(list_scores) ))"
      ],
      "metadata": {
        "colab": {
          "base_uri": "https://localhost:8080/"
        },
        "id": "0aVOiQI4sWp_",
        "outputId": "bb637cce-933d-4303-a974-829bc9675712"
      },
      "execution_count": null,
      "outputs": [
        {
          "output_type": "stream",
          "name": "stdout",
          "text": [
            "suma: 1.1238377402378117  size: 61   promedio blue_score: 0.018423569512095273\n"
          ]
        }
      ]
    },
    {
      "cell_type": "code",
      "source": [
        "input = \"kusichiwayña sonqullaypi \\ kamachikuq diosnillayku \\ kasqallaykiman pusakullaway \\ mana\"\n",
        "\n",
        "input = input.split()\n",
        "input = [line.lower().replace('\\\\', '\\n') for line in input]\n",
        "# print samples of input\n",
        "print(input)"
      ],
      "metadata": {
        "colab": {
          "base_uri": "https://localhost:8080/"
        },
        "id": "89JXatoQscQa",
        "outputId": "bb2d34dc-3b3d-40a2-bd6a-3056a44c329e"
      },
      "execution_count": null,
      "outputs": [
        {
          "output_type": "stream",
          "name": "stdout",
          "text": [
            "['kusichiwayña', 'sonqullaypi', '\\n', 'kamachikuq', 'diosnillayku', '\\n', 'kasqallaykiman', 'pusakullaway', '\\n', 'mana']\n"
          ]
        }
      ]
    },
    {
      "cell_type": "code",
      "source": [
        "def sample(preds, temperature=1.0):\n",
        "    #  funcion q muestrea un indice de un array d probabilidad\n",
        "    preds = np.asarray(preds).astype('float64')\n",
        "    preds = np.log(preds) / temperature\n",
        "    exp_preds = np.exp(preds)\n",
        "    preds = exp_preds / np.sum(exp_preds)\n",
        "    probas = np.random.multinomial(1, preds, 1)\n",
        "    return np.argmax(probas)\n",
        "\n",
        "diversidad = 0.7\n",
        "letras_generadas = []\n",
        "# asignamos la muestra\n",
        "print(input)\n",
        "text_input = input\n",
        "secuencia = input\n",
        "for i in range(100):\n",
        "  x_pred = np.zeros((1,SEQUENCE_LEN, len(words)))\n",
        "  for t,palabra in enumerate(secuencia):\n",
        "    x_pred[0, t,word_indices[palabra]] =1.\n",
        "  prediccion = model.predict(x_pred, verbose = 0)[0]\n",
        "  sgt_indice = sample(prediccion, diversidad)\n",
        "  sgt_palabra = indices_word[sgt_indice]\n",
        "  # agregamos la palabra\n",
        "  # letras_generadas.append(sgt_palabra)\n",
        "  secuencia = secuencia[1:]\n",
        "  secuencia.append(sgt_palabra)\n",
        "\n",
        "print(secuencia)\n",
        "text_output = secuencia"
      ],
      "metadata": {
        "colab": {
          "base_uri": "https://localhost:8080/"
        },
        "id": "2M9ZZewGsi_-",
        "outputId": "fbcb36e2-9a2e-47cd-e530-d65456ac17b2"
      },
      "execution_count": null,
      "outputs": [
        {
          "output_type": "stream",
          "name": "stdout",
          "text": [
            "['kusichiwayña', 'sonqullaypi', '\\n', 'kamachikuq', 'diosnillayku', '\\n', 'kasqallaykiman', 'pusakullaway', '\\n', 'mana']\n",
            "['rishanki', '\\n', 'rumi', 'sonqo', 'tukuy', 'yuyay', '\\n', 'tukuy', 'sonqo', 'diosnilláy']\n"
          ]
        }
      ]
    },
    {
      "cell_type": "code",
      "source": [
        "print(\"EJEMPLO DE TEXTO GENERADO \\n \\n\")\n",
        "\n",
        "print(' '.join(text_input))\n",
        "print(' '.join(text_output))"
      ],
      "metadata": {
        "colab": {
          "base_uri": "https://localhost:8080/"
        },
        "id": "FdASk0Xusrl2",
        "outputId": "fd6b1ab6-9963-45da-d35c-57ddc4100564"
      },
      "execution_count": null,
      "outputs": [
        {
          "output_type": "stream",
          "name": "stdout",
          "text": [
            "EJEMPLO DE TEXTO GENERADO \n",
            " \n",
            "\n",
            "kusichiwayña sonqullaypi \n",
            " kamachikuq diosnillayku \n",
            " kasqallaykiman pusakullaway \n",
            " mana\n",
            "rishanki \n",
            " rumi sonqo tukuy yuyay \n",
            " tukuy sonqo diosnilláy\n"
          ]
        }
      ]
    },
    {
      "cell_type": "code",
      "source": [
        "# para hacer negrita\n",
        "from IPython.display import Markdown as md\n",
        "\n",
        "#@title Secuencia de entrada (use \\ en vez de enter)\n",
        "\n",
        "text_input = \"supay uyariq \\\\ mana diosnillayta uyariq \\\\ allinta kawsay \\\\\" #@param {type:\"string\"}\n",
        "\n",
        "\n",
        "def generate_text(input):\n",
        "  \n",
        "  letras_generadas = []\n",
        "  # asignamos la muestra\n",
        "  # print(input)\n",
        "  text_input = input\n",
        "  # print('* '.join(text_input) )\n",
        "  secuencia = input\n",
        "  for i in range(100):\n",
        "    x_pred = np.zeros((1,SEQUENCE_LEN, len(words)))\n",
        "    for t,palabra in enumerate(secuencia):\n",
        "      x_pred[0, t,word_indices[palabra]] =1.\n",
        "    prediccion = model.predict(x_pred, verbose = 0)[0]\n",
        "    sgt_indice = sample(prediccion, 0.7)\n",
        "    sgt_palabra = indices_word[sgt_indice]\n",
        "    # agregamos la palabra\n",
        "    # letras_generadas.append(sgt_palabra)\n",
        "    secuencia = secuencia[1:]\n",
        "    secuencia.append(sgt_palabra)\n",
        "   #print(secuencia)\n",
        "  text_output = secuencia\n",
        "  return text_output\n",
        "\n",
        "# instanciar a la funcion generador \n",
        "\n",
        "input = text_input.split()\n",
        "input = [line.lower().replace('\\\\', '\\n') for line in input]\n",
        "\n",
        "# resaltado = ''.join(input)\n",
        "# md(f'**{resaltado}**')\n",
        "\n",
        "print(' '.join(input) )\n",
        "\n",
        "\n",
        "letras_generadas = generate_text(input) # en esta tambien se imprime\n",
        "\n",
        "print(' '.join(letras_generadas) )\n",
        "\n",
        "def generate_estrofas (letras_generadas, n_valor):\n",
        "  new_lyrics_generated = letras_generadas\n",
        "  for valor in range(n_valor):\n",
        "    letras_generadas = new_lyrics_generated\n",
        "    new_lyrics_generated = generate_text(letras_generadas)\n",
        "    print(' '.join(new_lyrics_generated))\n",
        "\n",
        "# funcion generadora masiva de  valor a cambiar n_valor = 4\n",
        "generate_estrofas(letras_generadas, 5)\n",
        "\n",
        "# # generar una segunda vez\n",
        "# text_input_2 = letras_generadas\n",
        "\n",
        "# # print(\"input2: \",text_input_2)\n",
        "# letras_generadas_2 = generate_text(text_input_2)\n",
        "\n",
        "# print(' '.join(letras_generadas_2) )\n",
        "\n",
        "\n",
        "# # generar una segunda vez\n",
        "# text_input_3 = letras_generadas_2\n",
        "\n",
        "# # print(\"input2: \",text_input_2)\n",
        "# letras_generadas_3 = generate_text(text_input_3)\n",
        "\n",
        "# print(' '.join(letras_generadas_3) )\n",
        "\n",
        "\n",
        "# letras_resaltadas = ''.join(letras_generadas_2)\n",
        "\n",
        "#\n",
        "\n",
        "# md(f'**{letras_resaltadas}**')"
      ],
      "metadata": {
        "colab": {
          "base_uri": "https://localhost:8080/"
        },
        "id": "TGsOdPBns47F",
        "outputId": "5adb4286-b14f-40f7-ca1d-a66d7fc6fb66"
      },
      "execution_count": null,
      "outputs": [
        {
          "output_type": "stream",
          "name": "stdout",
          "text": [
            "supay uyariq \n",
            " mana diosnillayta uyariq \n",
            " allinta kawsay \n",
            "\n",
            "nisqanta willamusunchis \n",
            " tukuy sonqo yuyay \n",
            " tukuy huchaymanta \n",
            "\n",
            "pampachawan \n",
            " manan qonqaymanchu \n",
            " sutillanta waqay \n",
            " campopi awqa\n",
            "\n",
            " tukuy kallpaywanmi \n",
            " señor diosta chaskikuy \n",
            " munasqay panay\n",
            "\n",
            " ripunaykipaq atiyta kachun \n",
            " munakuyninmanta \n",
            " \n",
            " \n",
            " pacha\n",
            "asuykusun \n",
            " yupaychasun diosninchista \n",
            " tukuy sonqonchiswan \n",
            " señor jesús\n",
            "huch'uy kaqtan \n",
            " iñikullay diosman atiyninmi ch'akiymanta \n",
            " sumaq atinmanchu\n"
          ]
        }
      ]
    }
  ]
}